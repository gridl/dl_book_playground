{
  "cells": [
    {
      "cell_type": "markdown",
      "metadata": {
        "pycharm": {}
      },
      "source": "## Comaprison of different Variational Methods \n\nIn this notebook, we evaluate the performance of different methods. It compares the methods descripbed in \n\n* https://arxiv.org/pdf/1502.05336.pdf (Probabilistic Backpropagation for Scalable\nLearning of Bayesian Neural Networks)\n* https://arxiv.org/abs/1506.02142 (Gal)\n\n* No Just Backprob:         (Lobato and Gal report the same error)\n* MC-Droput:                 (Gal)\n* Probabalistic Backprob:    (Lobato and Gal)\n"
    },
    {
      "cell_type": "code",
      "execution_count": 21,
      "outputs": [
        {
          "name": "stdout",
          "text": [
            "TFB Version 0.7.0-dev20190426\nTF  Version 2.0.0-alpha0\n"
          ],
          "output_type": "stream"
        }
      ],
      "source": "import matplotlib.pyplot as plt\nimport numpy as np\nimport seaborn as sns\nimport tensorflow as tf\nimport tensorflow_probability as tfp\n\nsns.reset_defaults()\n#sns.set_style(\u0027whitegrid\u0027)\n%matplotlib inline\n\ntfd \u003d tfp.distributions\nprint(\"TFB Version\", tfp.__version__)\nprint(\"TF  Version\",tf.__version__)",
      "metadata": {
        "pycharm": {
          "metadata": false,
          "name": "#%%\n",
          "is_executing": false
        }
      }
    },
    {
      "cell_type": "markdown",
      "source": "Loading the Data Set",
      "metadata": {
        "pycharm": {
          "metadata": false,
          "name": "#%% md\n",
          "is_executing": false
        }
      }
    },
    {
      "cell_type": "code",
      "execution_count": 22,
      "metadata": {
        "collapsed": true,
        "pycharm": {
          "is_executing": false
        }
      },
      "outputs": [
        {
          "name": "stdout",
          "text": [
            "StandardScaler(copy\u003dTrue, with_mean\u003dTrue, with_std\u003dTrue)\n"
          ],
          "output_type": "stream"
        },
        {
          "data": {
            "text/plain": "((41157, 9), (41157,), (41157,), (4573,), -3.337702, 50.907627)"
          },
          "metadata": {},
          "output_type": "execute_result",
          "execution_count": 22
        }
      ],
      "source": "import wget\nimport os\nif not os.path.isfile(\u0027CASP.csv\u0027):\n    wget.download(\"https://archive.ics.uci.edu/ml/machine-learning-databases/00265/CASP.csv\")\nD \u003d np.loadtxt(\u0027CASP.csv\u0027, skiprows\u003d1,delimiter\u003d\u0027,\u0027)\ny \u003d D[:,0]\nX \u003d D[:,1:10]\nfrom sklearn.preprocessing import StandardScaler\nscaler \u003d StandardScaler()\nprint(scaler.fit(X))\nX \u003d scaler.transform(X)\nX \u003d np.asarray(X, np.float32)\nfrom sklearn.model_selection import train_test_split\nX_train, X_test, y_train, y_test \u003d train_test_split(X, y, test_size\u003d0.1, random_state\u003d42)\nX \u003d X_train\ny \u003d y_train\nX.shape, y.shape, y_train.shape, y_test.shape, X.min(), X.max()\n"
    },
    {
      "cell_type": "markdown",
      "source": "### Global Settings",
      "metadata": {
        "pycharm": {
          "metadata": false,
          "name": "#%% md\n"
        }
      }
    },
    {
      "cell_type": "code",
      "execution_count": 23,
      "outputs": [],
      "source": "sgd \u003d tf.keras.optimizers.SGD(lr\u003d.01, momentum\u003d0.9, nesterov\u003dTrue)\nepochs \u003d 50\nbs \u003d 32\nloops \u003d 1",
      "metadata": {
        "pycharm": {
          "metadata": false,
          "name": "#%%\n",
          "is_executing": false
        }
      }
    },
    {
      "cell_type": "code",
      "execution_count": 26,
      "outputs": [],
      "source": "# \nfrom sklearn.model_selection import train_test_split\ndef check_performance(build_model, X, y, mc_loops\u003d-1):\n    accs \u003d np.zeros((loops))\n    hists \u003d list()\n    for r in range(loops):  \n        model \u003d build_model()  \n        X_train, X_test, y_train, y_test \u003d train_test_split(X, y, test_size\u003d0.1, random_state\u003d42)\n        X \u003d X_train\n        y \u003d y_train\n        hist \u003d model.fit(X_train, y_train, epochs\u003depochs, verbose\u003dFalse)\n        hists.append(hist)\n        if mc_loops \u003c 1:\n            accs[r] \u003d np.sqrt(np.mean((model.predict(X_test)[:,0] - y_test)**2))\n        else:\n            y_pres \u003d np.zeros((len(y_test), mc_loops))\n            for m in range(mc_loops):\n                y_pres[:,m] \u003d model.predict(X_test)[:,0]\n            y_m \u003d np.mean(y_pres,axis\u003d1)\n            accs[r] \u003d np.sqrt(np.mean((y_m - y_test)**2))\n    return accs, hists\n\ndef makeStats(accs):\n    return np.mean(accs), np.std(accs)/np.sqrt(len(accs))\n\n",
      "metadata": {
        "pycharm": {
          "metadata": false,
          "name": "#%%\n",
          "is_executing": false
        }
      }
    },
    {
      "cell_type": "markdown",
      "source": "Using sigmoid",
      "metadata": {
        "pycharm": {
          "metadata": false
        }
      }
    },
    {
      "cell_type": "code",
      "execution_count": 27,
      "outputs": [],
      "source": "\n#Lobato We use neural networks with 50 hidden units in all cases except in the two largest ones\ndef build_model(): \n    model \u003d tf.keras.Sequential()\n    model.add(tf.keras.layers.Dense(100, activation \u003d \u0027sigmoid\u0027, input_shape\u003d(X.shape[1],)))\n    model.add(tf.keras.layers.Dense(1,))\n    model.compile(loss\u003d\u0027mse\u0027, optimizer\u003dsgd, metrics\u003d[\u0027mse\u0027])\n    return model\naccs_noreg, hists_noreg \u003d check_performance(build_model, X,y)",
      "metadata": {
        "pycharm": {
          "metadata": false,
          "name": "#%% \n",
          "is_executing": false
        }
      }
    },
    {
      "cell_type": "code",
      "execution_count": 28,
      "outputs": [
        {
          "data": {
            "text/plain": "\u003cFigure size 432x288 with 1 Axes\u003e",
            "image/png": "[encoded data removed]"
          },
          "metadata": {
            "needs_background": "light"
          },
          "output_type": "display_data"
        },
        {
          "name": "stdout",
          "text": [
            "(4.3343128329978216, 0.0)\n"
          ],
          "output_type": "stream"
        }
      ],
      "source": "for i in range(loops):\n    plt.plot(hists_noreg[i].history[\u0027loss\u0027])\nplt.ylim(0,30)\nplt.title(\u0027Using Sigmoid\u0027)\nplt.show()\nprint(makeStats(accs_noreg))\n",
      "metadata": {
        "pycharm": {
          "metadata": false,
          "name": "#%%\n",
          "is_executing": false
        }
      }
    },
    {
      "cell_type": "code",
      "execution_count": 29,
      "outputs": [],
      "source": "def build_model(): \n    kernel_divergence_fn\u003dlambda q, p, _: tfp.distributions.kl_divergence(q, p) / (X_train.shape[0] * 1.0)\n    model \u003d tf.keras.Sequential()\n    model.add(tfp.layers.DenseReparameterization(100, activation \u003d \u0027sigmoid\u0027, kernel_divergence_fn\u003dkernel_divergence_fn,input_shape\u003d(X.shape[1],)))\n    model.add(tfp.layers.DenseReparameterization(1,kernel_divergence_fn\u003dkernel_divergence_fn))\n    model.compile(loss\u003d\u0027mse\u0027, optimizer\u003dsgd, metrics\u003d[\u0027mse\u0027])\n    return model\n\naccs_denserep_10, hists__denserep_10 \u003d check_performance(build_model, X,y, mc_loops\u003d10)",
      "metadata": {
        "pycharm": {
          "metadata": false,
          "name": "#%%\n",
          "is_executing": false
        }
      }
    },
    {
      "cell_type": "code",
      "execution_count": 30,
      "outputs": [
        {
          "data": {
            "text/plain": "\u003cFigure size 432x288 with 1 Axes\u003e",
            "image/png": "[encoded data removed]"
          },
          "metadata": {
            "needs_background": "light"
          },
          "output_type": "display_data"
        },
        {
          "name": "stdout",
          "text": [
            "(4.3343128329978216, 0.0)\n(4.3764986931874015, 0.0)\n"
          ],
          "output_type": "stream"
        }
      ],
      "source": "for i in range(loops):\n    plt.plot(hists__denserep_10[i].history[\u0027loss\u0027])\nplt.ylim(0,30)\nplt.title(\u0027Using DenseReparameterization\u0027)\nplt.show()\nprint(makeStats(accs_noreg))\nprint(makeStats(accs_denserep_10))\n",
      "metadata": {
        "pycharm": {
          "metadata": false,
          "name": "#%%\n",
          "is_executing": false
        }
      }
    },
    {
      "cell_type": "code",
      "execution_count": 31,
      "outputs": [],
      "source": "def build_model(): \n    kernel_divergence_fn\u003dlambda q, p, _: tfp.distributions.kl_divergence(q, p) / (X_train.shape[0] * 1.0)\n    model \u003d tf.keras.Sequential()\n    model.add(tfp.layers.DenseFlipout(100, activation \u003d \u0027sigmoid\u0027, kernel_divergence_fn\u003dkernel_divergence_fn,input_shape\u003d(X.shape[1],)))\n    model.add(tfp.layers.DenseFlipout(1,kernel_divergence_fn\u003dkernel_divergence_fn))\n    model.compile(loss\u003d\u0027mse\u0027, optimizer\u003dsgd, metrics\u003d[\u0027mse\u0027])\n    return model\n\naccs_denseflip_10, hists_denseflip_10 \u003d check_performance(build_model, X,y, mc_loops\u003d10)",
      "metadata": {
        "pycharm": {
          "metadata": false,
          "name": "#%%\n",
          "is_executing": false
        }
      }
    },
    {
      "cell_type": "code",
      "execution_count": 32,
      "outputs": [
        {
          "data": {
            "text/plain": "\u003cFigure size 432x288 with 1 Axes\u003e",
            "image/png": "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\u003d\n"
          },
          "metadata": {
            "needs_background": "light"
          },
          "output_type": "display_data"
        }
      ],
      "source": "for i in range(loops):\n    plt.plot(hists_denseflip_10[i].history[\u0027loss\u0027])\nplt.ylim(0,30)\nplt.title(\u0027Using DenseFlipout\u0027)\nplt.show()\n",
      "metadata": {
        "pycharm": {
          "metadata": false,
          "name": "#%%\n",
          "is_executing": false
        }
      }
    },
    {
      "cell_type": "code",
      "execution_count": 33,
      "outputs": [
        {
          "data": {
            "text/plain": "\u003cFigure size 432x288 with 1 Axes\u003e",
            "image/png": "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\u003d\u003d\n"
          },
          "metadata": {
            "needs_background": "light"
          },
          "output_type": "display_data"
        }
      ],
      "source": "plt.plot(hists__denserep_10[0].history[\u0027loss\u0027])\nplt.plot(hists_denseflip_10[0].history[\u0027loss\u0027])\nplt.ylim(0,30)\nplt.title(\u0027DenseFlipout vs DenseRep\u0027)\nplt.show()\n",
      "metadata": {
        "pycharm": {
          "metadata": false,
          "name": "#%%\n",
          "is_executing": false
        }
      }
    },
    {
      "cell_type": "code",
      "execution_count": 34,
      "outputs": [],
      "source": "def build_model(): \n    def MCDropout(rate):\n        return tf.keras.layers.Lambda(lambda x: tf.keras.backend.dropout(x, level\u003drate))\n    \n    model \u003d tf.keras.Sequential()\n    model.add(tf.keras.layers.Dense(100, activation \u003d \u0027sigmoid\u0027,input_shape\u003d(X.shape[1],)))\n    model.add(MCDropout(0.05))\n    model.add(tf.keras.layers.Dense(1))\n    model.compile(loss\u003d\u0027mse\u0027, optimizer\u003dsgd, metrics\u003d[\u0027mse\u0027])\n    return model\n\naccs_dense_mc, hists_dense_mc \u003d check_performance(build_model, X,y, mc_loops\u003d10)",
      "metadata": {
        "pycharm": {
          "metadata": false,
          "name": "#%%\n",
          "is_executing": false
        }
      }
    },
    {
      "cell_type": "code",
      "execution_count": 35,
      "outputs": [
        {
          "data": {
            "text/plain": "\u003cFigure size 432x288 with 1 Axes\u003e",
            "image/png": "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\u003d\n"
          },
          "metadata": {
            "needs_background": "light"
          },
          "output_type": "display_data"
        },
        {
          "name": "stdout",
          "text": [
            "(4.369965330678702, 0.0)\n"
          ],
          "output_type": "stream"
        }
      ],
      "source": "for i in range(loops):\n    plt.plot(hists_dense_mc[i].history[\u0027loss\u0027])\nplt.ylim(0,30)\nplt.title(\u0027Using MC-Dropout\u0027)\nplt.show()\nprint(makeStats(accs_dense_mc))\n",
      "metadata": {
        "pycharm": {
          "metadata": false,
          "name": "#%%\n",
          "is_executing": false
        }
      }
    },
    {
      "cell_type": "code",
      "execution_count": 36,
      "outputs": [
        {
          "name": "stdout",
          "text": [
            "Dense Rep (4.3764986931874015, 0.0)\nDense Flipout (4.374540258766019, 0.0)\nMC-Dropout (4.369965330678702, 0.0)\nBaseline (4.3343128329978216, 0.0)\n"
          ],
          "output_type": "stream"
        }
      ],
      "source": "print(\"Dense Rep\", makeStats(accs_denserep_10))\nprint(\"Dense Flipout\", makeStats(accs_denseflip_10))\nprint(\"MC-Dropout\", makeStats(accs_dense_mc))\nprint(\"Baseline\", makeStats(accs_noreg))\n\n",
      "metadata": {
        "pycharm": {
          "metadata": false,
          "name": "#%%\n",
          "is_executing": false
        }
      }
    }
  ],
  "metadata": {
    "kernelspec": {
      "name": "pycharm-617d8ce4",
      "language": "python",
      "display_name": "PyCharm (dl_book_playground)"
    },
    "language_info": {
      "codemirror_mode": {
        "name": "ipython",
        "version": 2
      },
      "file_extension": ".py",
      "mimetype": "text/x-python",
      "name": "python",
      "nbconvert_exporter": "python",
      "pygments_lexer": "ipython2",
      "version": "2.7.6"
    },
    "stem_cell": {
      "cell_type": "raw",
      "metadata": {
        "pycharm": {
          "metadata": false
        }
      },
      "source": ""
    }
  },
  "nbformat": 4,
  "nbformat_minor": 1
}