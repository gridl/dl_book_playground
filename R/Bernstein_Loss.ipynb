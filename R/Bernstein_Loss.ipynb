{
 "cells": [
  {
   "cell_type": "markdown",
   "metadata": {
    "colab_type": "text",
    "id": "c9cFDRkJIKlZ"
   },
   "source": [
    "# Implementation of the Berstein-Polynoms as Keras-Loss"
   ]
  },
  {
   "cell_type": "code",
   "execution_count": 1,
   "metadata": {
    "colab": {
     "base_uri": "https://localhost:8080/",
     "height": 34
    },
    "colab_type": "code",
    "id": "2HAB5EyxQ3jR",
    "outputId": "6018dc50-2af4-4e0f-b9a3-6cca912ff52d"
   },
   "outputs": [],
   "source": [
    "try: #If running in colab \n",
    "    import google.colab\n",
    "    IN_COLAB = True \n",
    "    %tensorflow_version 2.x\n",
    "except:\n",
    "    IN_COLAB = False"
   ]
  },
  {
   "cell_type": "code",
   "execution_count": 2,
   "metadata": {
    "colab": {
     "base_uri": "https://localhost:8080/",
     "height": 34
    },
    "colab_type": "code",
    "id": "nnI8dv6gQ5vz",
    "outputId": "883901bb-a8f5-4f1a-d6c5-c1b83f1023d5"
   },
   "outputs": [
    {
     "name": "stdout",
     "output_type": "stream",
     "text": [
      "Tensorflow version:  2.0.0  running in colab?:  False\n"
     ]
    }
   ],
   "source": [
    "import tensorflow as tf\n",
    "if (not tf.__version__.startswith('2')): #Checking if tf 2.0 is installed\n",
    "    print('Please install tensorflow 2.0 to run this notebook')\n",
    "print('Tensorflow version: ',tf.__version__, ' running in colab?: ', IN_COLAB)"
   ]
  },
  {
   "cell_type": "code",
   "execution_count": 3,
   "metadata": {
    "colab": {
     "base_uri": "https://localhost:8080/",
     "height": 119
    },
    "colab_type": "code",
    "id": "tt02wedmRC7o",
    "outputId": "6a8087ab-fad1-46b4-c38c-2ff5c5fc0ef6"
   },
   "outputs": [
    {
     "name": "stdout",
     "output_type": "stream",
     "text": [
      "Requirement already satisfied: tensorflow_probability==0.8.0 in /usr/local/lib/python3.6/dist-packages (0.8.0)\n",
      "Requirement already satisfied: cloudpickle==1.1.1 in /usr/local/lib/python3.6/dist-packages (from tensorflow_probability==0.8.0) (1.1.1)\n",
      "Requirement already satisfied: numpy>=1.13.3 in /tensorflow-2.1.0/python3.6 (from tensorflow_probability==0.8.0) (1.18.1)\n",
      "Requirement already satisfied: decorator in /usr/local/lib/python3.6/dist-packages (from tensorflow_probability==0.8.0) (4.4.1)\n",
      "Requirement already satisfied: six>=1.10.0 in /tensorflow-2.1.0/python3.6 (from tensorflow_probability==0.8.0) (1.13.0)\n",
      "Requirement already satisfied: gast<0.3,>=0.2 in /tensorflow-2.1.0/python3.6 (from tensorflow_probability==0.8.0) (0.2.2)\n"
     ]
    }
   ],
   "source": [
    "!pip install tensorflow_probability==0.8.0"
   ]
  },
  {
   "cell_type": "code",
   "execution_count": 3,
   "metadata": {
    "colab": {
     "base_uri": "https://localhost:8080/",
     "height": 51
    },
    "colab_type": "code",
    "id": "BgnJJoBIRE12",
    "outputId": "63338d7a-6d7b-48c7-e1e8-f7a0f04ea4b8"
   },
   "outputs": [
    {
     "name": "stdout",
     "output_type": "stream",
     "text": [
      "TFP Version 0.8.0\n",
      "TF  Version 2.0.0\n"
     ]
    }
   ],
   "source": [
    "import matplotlib.pyplot as plt\n",
    "import numpy as np\n",
    "from sklearn.model_selection import train_test_split\n",
    "import tensorflow_probability as tfp\n",
    "\n",
    "%matplotlib inline\n",
    "plt.style.use('default')\n",
    "\n",
    "tfd = tfp.distributions\n",
    "tfb = tfp.bijectors\n",
    "print(\"TFP Version\", tfp.__version__)\n",
    "print(\"TF  Version\",tf.__version__)\n",
    "np.random.seed(42)\n",
    "tf.random.set_seed(42)"
   ]
  },
  {
   "cell_type": "code",
   "execution_count": 4,
   "metadata": {
    "colab": {},
    "colab_type": "code",
    "id": "RjLcu5eIqRCZ"
   },
   "outputs": [],
   "source": [
    "def my_scale(y):\n",
    "  m = y.min()\n",
    "  mm = y.max()\n",
    "  return (y - m)/(mm - m)\n"
   ]
  },
  {
   "cell_type": "markdown",
   "metadata": {
    "colab_type": "text",
    "id": "6X9iuDJbphux"
   },
   "source": [
    "## Berstein-Poly\n",
    "\n",
    "$$\n",
    "f_Y(y_i)|_{x_i}=f_Z(z_i)|_{x_i} \\cdot h_y'(y_i)\n",
    "$$"
   ]
  },
  {
   "cell_type": "code",
   "execution_count": 11,
   "metadata": {
    "colab": {},
    "colab_type": "code",
    "id": "Kwf4rBPubULJ"
   },
   "outputs": [],
   "source": [
    "from tensorflow.keras.losses import Loss\n",
    "\n",
    "class Bernstein_Poly(Loss):\n",
    "\n",
    "  def __init__(self, len_theta, **kwargs):\n",
    "    \"\"\"\n",
    "\n",
    "    \"\"\"\n",
    "    self.len_theta = len_theta\n",
    "    self.M = len_theta - 1\n",
    "    self.beta_dist_h = tfd.Beta(range(1,self.len_theta+1),range(self.len_theta,0,-1))\n",
    "    self.beta_dist_h_dash = tfd.Beta(range(1,self.M+1),range(self.M,0,-1))\n",
    "    self.stdnorm = tfd.Normal(0,1) #The distribution of z\n",
    "    super(Bernstein_Poly, self).__init__(**kwargs)\n",
    "\n",
    "  def call(self, y_obs, out):\n",
    "    print('in loss', y_obs, out.shape)\n",
    "    theta = self.to_theta(out)\n",
    "    zz = self._eval_h(theta, y_obs)\n",
    "    return -tf.math.reduce_mean(self.stdnorm.log_prob(zz) + tf.math.log(self._eval_h_dash(theta, y_obs)))\n",
    "\n",
    "  def to_theta(self, out):\n",
    "    \"\"\" Translates the output of the network `out` to the theta parameters\n",
    "\n",
    "    Parameters\n",
    "    ----------\n",
    "    out : Tensor of shape (batch_size, len_theta)\n",
    "    \n",
    "    Returns\n",
    "    -------\n",
    "    theta parameters of shape (batch_size, len_theta)\n",
    "\n",
    "    \"\"\"\n",
    "    #Calclutes theta_1 = h_1, theta_k = theta_k-1 + exp(h_k)\n",
    "    bs = tf.shape(out)[0] \n",
    "    print('Estimated Batch Size:', bs)\n",
    "    d = tf.concat( (tf.zeros((bs,1)), out[:,0:1], tf.math.exp(out[:,1:out.shape[1]])),axis=1)\n",
    "    #Uncomment if you want softplus loss\n",
    "    #d = tf.concat( (tf.zeros((bs,1)), out[:,0:1], tf.math.softplus(out[:,1:out.shape[1]])),axis=1)\n",
    "    return tf.cumsum(d[:,1:], axis=1)\n",
    "\n",
    "  def prob_y(self, out, y):\n",
    "    \"\"\"\n",
    "      \n",
    "    \"\"\"\n",
    "    theta = self.to_theta(out)\n",
    "    zz = self._eval_h(theta, y)\n",
    "    return self.stdnorm.prob(zz) * self._eval_h_dash(theta, y)\n",
    "\n",
    "  def get_theta(out):\n",
    "    return self.to_theta(out)\n",
    "\n",
    "  def _eval_h(self, theta, y):\n",
    "    y = tf.clip_by_value(y,1E-5, 1.0-1E-5)\n",
    "    by = self.beta_dist_h.prob(y) \n",
    "    return tf.reduce_mean(by * theta, axis=1)\n",
    "\n",
    "  def _eval_h_dash(self, theta, y):\n",
    "    y = tf.clip_by_value(y,1E-5, 1.0-1E-5)\n",
    "    by = self.beta_dist_h_dash.prob(y) \n",
    "    dtheta = theta[:,1:] - theta[:,0:-1]\n",
    "    return tf.reduce_sum(by * dtheta, axis=1)"
   ]
  },
  {
   "cell_type": "markdown",
   "metadata": {
    "colab_type": "text",
    "id": "BdqGXrNM8RB6"
   },
   "source": [
    "### Test code\n",
    "\n",
    "* GPU Old Faithful 24.5 seconds for number of runs 10000\n",
    "* GPU Old Faithful 16.9 seconds for number of runs 10000"
   ]
  },
  {
   "cell_type": "code",
   "execution_count": 12,
   "metadata": {
    "colab": {
     "base_uri": "https://localhost:8080/",
     "height": 181
    },
    "colab_type": "code",
    "id": "6fpn0KA4Dy1F",
    "outputId": "a15ec4d2-816e-435c-82fe-4c99066a2d2e"
   },
   "outputs": [
    {
     "ename": "TypeError",
     "evalue": "to_theta() missing 1 required positional argument: 'out'",
     "output_type": "error",
     "traceback": [
      "\u001b[0;31m---------------------------------------------------------------------------\u001b[0m",
      "\u001b[0;31mTypeError\u001b[0m                                 Traceback (most recent call last)",
      "\u001b[0;32m<ipython-input-12-27d6e16cfcce>\u001b[0m in \u001b[0;36m<module>\u001b[0;34m\u001b[0m\n\u001b[1;32m      1\u001b[0m \u001b[0mb\u001b[0m \u001b[0;34m=\u001b[0m \u001b[0mBernstein_Poly\u001b[0m\u001b[0;34m(\u001b[0m\u001b[0;36m9\u001b[0m\u001b[0;34m)\u001b[0m\u001b[0;34m\u001b[0m\u001b[0;34m\u001b[0m\u001b[0m\n\u001b[0;32m----> 2\u001b[0;31m \u001b[0mb\u001b[0m\u001b[0;34m.\u001b[0m\u001b[0mto_theta\u001b[0m\u001b[0;34m(\u001b[0m\u001b[0;34m)\u001b[0m\u001b[0;34m\u001b[0m\u001b[0;34m\u001b[0m\u001b[0m\n\u001b[0m",
      "\u001b[0;31mTypeError\u001b[0m: to_theta() missing 1 required positional argument: 'out'"
     ]
    }
   ],
   "source": [
    "b = Bernstein_Poly(9)\n",
    "b.to_theta()"
   ]
  },
  {
   "cell_type": "code",
   "execution_count": 13,
   "metadata": {
    "colab": {},
    "colab_type": "code",
    "id": "cjo8KfCEtlpr"
   },
   "outputs": [],
   "source": [
    "dur = np.asarray(\n",
    "    (0.6694,0.3583,0.6667,0.6667,0.6667,0.3333,0.7306,0.7139,0.3389,0.8056,0.3056,0.9083,0.2694,0.8111,\n",
    "     0.7306,0.2944,0.7778,0.3333,0.7889,0.7028,0.3167,0.8278,0.3333,0.6667,0.3333,0.6667,0.4722,0.75,\n",
    "     0.6778,0.6194,0.5861,0.7444,0.3694,0.8139,0.4333,0.6917,0.3667,0.7944,0.3056,0.7667,0.3778,0.6889,\n",
    "     0.3333,0.6667,0.3333,0.6667,0.3139,0.7111,0.3472,0.7444,0.4167,0.6667,0.2944,0.7222,0.3639,0.7472,\n",
    "     0.6472,0.5556,0.6222,0.6667,0.325,0.8778,0.3333,0.6667,0.3333,0.6667,0.3333,0.6667,0.5889,0.3611,0.75,\n",
    "     0.3361,0.6917,0.7,0.7222,0.3222,0.775,0.6361,0.6722,0.6944,0.7778,0.3028,0.6667,0.5,0.6667,0.3333,0.7417,\n",
    "     0.3417,0.7083,0.3194,0.7778,0.2889,0.7306,0.2944,0.7667,0.3111,0.7417,0.2722,0.8389,0.3028,0.85,0.2722,0.7139,\n",
    "     0.3333,0.6667,0.3333,0.7556,0.3333,0.6667,0.4889,0.7889,0.65,0.325,0.6861,0.3,0.7778,0.3056,0.7833,0.3528,0.7972,\n",
    "     0.3028,0.6833,0.775,0.6667,0.3333,0.6667,0.6667,0.7028,0.6889,0.6556,0.625,0.7361,0.4111,0.6944,0.6333,0.7194,\n",
    "     0.6444,0.7806,0.2833,0.8278,0.7111,0.7639,0.6667,0.6667,0.6667,0.6667,0.3306,0.7667,0.1389,0.8194,0.2889,0.7639,\n",
    "     0.2833,0.7917,0.3056,0.75,0.3111,0.7417,0.7417,0.6667,0.8,0.6667,0.6667,0.3333,0.6667,0.3222,0.7639,0.3333,0.6167,\n",
    "     0.4778,0.8056,0.575,0.7306,0.3,0.7333,0.4139,0.7528,0.35,0.725,0.7278,0.2972,0.8194,0.3028,0.6667,0.6667,0.6667,0.6444,\n",
    "     0.3083,0.7833,0.3361,0.7444,0.3111,0.6944,0.3167,0.7083,0.5417,0.7028,0.3139,0.8306,0.3083,0.6667,0.3278,0.7944,0.6667,0.3333,\n",
    "     0.6667,0.6667,0.3972,0.7361,0.7028,0.7278,0.3333,0.7417,0.2917,0.75,0.2694,0.7833,0.4278,0.6167,0.7056,0.3222,0.725,0.6667,0.6667,\n",
    "     0.6667,0.7028,0.6667,0.6889,0.3139,0.7444,0.325,0.7028,0.2861,0.7417,0.7083,0.6611,0.7306,0.3278,0.7417,0.7111,0.3194,0.7361,0.5,\n",
    "     0.6667,0.3333,0.6667,0.5472,0.3056,0.7694,0.3056,0.7694,0.7667,0.7083,0.3222,0.8306,0.3278,0.7167,0.7,0.7556,0.7333,0.7694,0.3333,\n",
    "     0.6667,0.6667,0.6528,0.3333,0.75,0.3,0.6667,0.4583,0.7889,0.6611,0.325,0.8278,0.3083,0.8,0.6667,0.6667,0.6667,0.6667,0.6667,0.6667,\n",
    "     0.6667,0.3333,0.6667,0.3222,0.7222,0.2778,0.7944,0.325,0.7806,0.3222,0.7361,0.3556,0.6806,0.3444,0.6667,0.6667,0.3333),\n",
    "     np.float32\n",
    ")"
   ]
  },
  {
   "cell_type": "code",
   "execution_count": 20,
   "metadata": {
    "colab": {
     "base_uri": "https://localhost:8080/",
     "height": 340
    },
    "colab_type": "code",
    "id": "NVioO2jNufQD",
    "outputId": "db456f28-4fe0-496c-a3f7-177717ee7e78"
   },
   "outputs": [
    {
     "name": "stdout",
     "output_type": "stream",
     "text": [
      "Model: \"model_3\"\n",
      "_________________________________________________________________\n",
      "Layer (type)                 Output Shape              Param #   \n",
      "=================================================================\n",
      "input_4 (InputLayer)         [(None, 1)]               0         \n",
      "_________________________________________________________________\n",
      "dense_5 (Dense)              (None, 9)                 9         \n",
      "=================================================================\n",
      "Total params: 9\n",
      "Trainable params: 9\n",
      "Non-trainable params: 0\n",
      "_________________________________________________________________\n",
      "in loss Tensor(\"dense_5_target:0\", shape=(None, None), dtype=float32) (None, 9)\n",
      "Estimated Batch Size: Tensor(\"loss_3/dense_5_loss/strided_slice:0\", shape=(), dtype=int32)\n",
      "in loss Tensor(\"IteratorGetNext:1\", shape=(299, 1), dtype=float32) (299, 9)\n",
      "Estimated Batch Size: Tensor(\"loss/dense_5_loss/strided_slice:0\", shape=(), dtype=int32)\n",
      "in loss Tensor(\"IteratorGetNext:1\", shape=(299, 1), dtype=float32) (299, 9)\n",
      "Estimated Batch Size: Tensor(\"loss/dense_5_loss/strided_slice:0\", shape=(), dtype=int32)\n",
      "9.889384508132935 seconds for number of runs  5000\n"
     ]
    }
   ],
   "source": [
    "from tensorflow.keras import Sequential, Model\n",
    "from tensorflow.keras.layers import Dense, Input \n",
    "from tensorflow.keras.optimizers import Adam\n",
    "optimizer = tf.keras.optimizers.RMSprop()\n",
    "\n",
    "inputs = Input(shape=(1,))\n",
    "to_bs = Dense(9, activation='linear', use_bias=False)(inputs)\n",
    "model = Model(inputs, to_bs)\n",
    "model.summary()\n",
    "bern_poly = Bernstein_Poly(len_theta=9)\n",
    "model.compile(loss=bern_poly)\n",
    "x = np.ones((dur.shape[0],1))\n",
    "import time\n",
    "start = time.time()\n",
    "epochs = 5000\n",
    "history = model.fit(x,dur,epochs=epochs, batch_size=299, verbose=0)\n",
    "end = time.time()\n",
    "print(end - start, 'seconds for number of runs ', epochs)"
   ]
  },
  {
   "cell_type": "code",
   "execution_count": 21,
   "metadata": {
    "colab": {
     "base_uri": "https://localhost:8080/",
     "height": 452
    },
    "colab_type": "code",
    "id": "bb0DUw0K769u",
    "outputId": "194379cd-dc83-4809-aa05-dbbd92433e27"
   },
   "outputs": [
    {
     "data": {
      "text/plain": [
       "-0.5687499940395355"
      ]
     },
     "execution_count": 21,
     "metadata": {},
     "output_type": "execute_result"
    },
    {
     "data": {
      "image/png": "[encoded data removed]",
      "text/plain": [
       "<Figure size 432x288 with 1 Axes>"
      ]
     },
     "metadata": {
      "needs_background": "light"
     },
     "output_type": "display_data"
    }
   ],
   "source": [
    "plt.plot(history.history['loss'])\n",
    "plt.ylim(-1,0)\n",
    "np.mean(history.history['loss'][-10:])"
   ]
  },
  {
   "cell_type": "code",
   "execution_count": 22,
   "metadata": {
    "colab": {
     "base_uri": "https://localhost:8080/",
     "height": 566
    },
    "colab_type": "code",
    "id": "QSuY50gQ_bFs",
    "outputId": "dea980ef-fa5f-4c07-c3c6-e169663010d1"
   },
   "outputs": [
    {
     "name": "stdout",
     "output_type": "stream",
     "text": [
      "Estimated Batch Size: tf.Tensor(1000, shape=(), dtype=int32)\n",
      "Estimated Batch Size: tf.Tensor(2, shape=(), dtype=int32)\n"
     ]
    },
    {
     "data": {
      "text/plain": [
       "<tf.Tensor: id=64454, shape=(2, 9), dtype=float32, numpy=\n",
       "array([[-3.8118813 , -3.5543208 , -0.7157326 , -0.3089999 , -0.2600607 ,\n",
       "        -0.24124955, -0.21094358,  0.05961952,  9.632695  ],\n",
       "       [-3.8118813 , -3.5543208 , -0.7157326 , -0.3089999 , -0.2600607 ,\n",
       "        -0.24124955, -0.21094358,  0.05961952,  9.632695  ]],\n",
       "      dtype=float32)>"
      ]
     },
     "execution_count": 22,
     "metadata": {},
     "output_type": "execute_result"
    },
    {
     "data": {
      "image/png": "[encoded data removed]",
      "text/plain": [
       "<Figure size 432x288 with 1 Axes>"
      ]
     },
     "metadata": {
      "needs_background": "light"
     },
     "output_type": "display_data"
    }
   ],
   "source": [
    "out = model(np.ones((1000,1),dtype='float32'))\n",
    "yy = np.linspace(0,1,1000, dtype=np.float32).reshape((-1,1))\n",
    "dense_y = bern_poly.prob_y(out, yy)\n",
    "plt.plot(yy, dense_y)\n",
    "bern_poly.to_theta(out[0:2,:])"
   ]
  },
  {
   "cell_type": "code",
   "execution_count": 17,
   "metadata": {
    "colab": {
     "base_uri": "https://localhost:8080/",
     "height": 136
    },
    "colab_type": "code",
    "id": "6hZY4tfk-9F9",
    "outputId": "50ad978d-443f-4337-ccf1-18d31aeb6b59"
   },
   "outputs": [
    {
     "name": "stdout",
     "output_type": "stream",
     "text": [
      "in loss Tensor(\"dense_4_target:0\", shape=(None, None), dtype=float32) (None, 9)\n",
      "Estimated Batch Size: Tensor(\"loss_2/dense_4_loss/strided_slice:0\", shape=(), dtype=int32)\n",
      "in loss Tensor(\"IteratorGetNext:1\", shape=(299, 1), dtype=float32) (299, 9)\n",
      "Estimated Batch Size: Tensor(\"loss/dense_4_loss/strided_slice:0\", shape=(), dtype=int32)\n",
      "in loss Tensor(\"IteratorGetNext:1\", shape=(299, 1), dtype=float32) (299, 9)\n",
      "Estimated Batch Size: Tensor(\"loss/dense_4_loss/strided_slice:0\", shape=(), dtype=int32)\n",
      "48.92111420631409 seconds for number of runs  15000\n"
     ]
    }
   ],
   "source": [
    "inputs = Input(shape=(1,))\n",
    "x = np.ones((dur.shape[0],1)) #For unconditional we just input ones\n",
    "len_theta = 9 #Number of coefficients\n",
    "h = Dense(100, activation='tanh')(inputs)\n",
    "h = Dense(100, activation='tanh')(h)\n",
    "to_bs = Dense(len_theta, activation='linear')(h) #Last layer needs to be linear\n",
    "model = Model(inputs, to_bs)  #Compiling the model\n",
    "bern_poly = Bernstein_Poly(len_theta=len_theta) #Initalizing the loss with correct length \n",
    "model.compile(loss=bern_poly) #Adding the loss\n",
    "\n",
    "import time\n",
    "start = time.time()\n",
    "epochs = 15000\n",
    "history = model.fit(x,dur,epochs=epochs, batch_size=299, verbose=0)\n",
    "end = time.time()\n",
    "print(end - start, 'seconds for number of runs ', epochs)"
   ]
  },
  {
   "cell_type": "code",
   "execution_count": 18,
   "metadata": {
    "colab": {
     "base_uri": "https://localhost:8080/",
     "height": 452
    },
    "colab_type": "code",
    "id": "7TcNi12R_pdG",
    "outputId": "9e5c1f68-7847-433d-b590-493fb7793146"
   },
   "outputs": [
    {
     "data": {
      "text/plain": [
       "-0.6139916777610779"
      ]
     },
     "execution_count": 18,
     "metadata": {},
     "output_type": "execute_result"
    },
    {
     "data": {
      "image/png": "[encoded data removed]",
      "text/plain": [
       "<Figure size 432x288 with 1 Axes>"
      ]
     },
     "metadata": {
      "needs_background": "light"
     },
     "output_type": "display_data"
    }
   ],
   "source": [
    "plt.plot(history.history['loss'])\n",
    "plt.ylim(-1,0)\n",
    "np.mean(history.history['loss'][-10:])"
   ]
  },
  {
   "cell_type": "code",
   "execution_count": 19,
   "metadata": {
    "colab": {
     "base_uri": "https://localhost:8080/",
     "height": 583
    },
    "colab_type": "code",
    "id": "3pXgAY0o_une",
    "outputId": "387e6f9f-b868-46ad-bc78-41577439893f"
   },
   "outputs": [
    {
     "name": "stdout",
     "output_type": "stream",
     "text": [
      "Estimated Batch Size: tf.Tensor(1000, shape=(), dtype=int32)\n",
      "Estimated Batch Size: tf.Tensor(2, shape=(), dtype=int32)\n"
     ]
    },
    {
     "data": {
      "text/plain": [
       "<tf.Tensor: id=53427, shape=(2, 9), dtype=float32, numpy=\n",
       "array([[-9.211064  , -2.2873774 , -0.17426944, -0.1742694 , -0.17426938,\n",
       "        -0.17426936, -0.17426932,  0.13455972, 10.316385  ],\n",
       "       [-9.211064  , -2.2873774 , -0.17426944, -0.1742694 , -0.17426938,\n",
       "        -0.17426936, -0.17426932,  0.13455972, 10.316385  ]],\n",
       "      dtype=float32)>"
      ]
     },
     "execution_count": 19,
     "metadata": {},
     "output_type": "execute_result"
    },
    {
     "data": {
      "image/png": "[encoded data removed]",
      "text/plain": [
       "<Figure size 432x288 with 1 Axes>"
      ]
     },
     "metadata": {
      "needs_background": "light"
     },
     "output_type": "display_data"
    }
   ],
   "source": [
    "out = model(np.ones((1000,1),dtype='float32'))\n",
    "yy = np.linspace(0,1,1000, dtype=np.float32).reshape((-1,1))\n",
    "dense_y = bern_poly.prob_y(out, yy)\n",
    "plt.plot(yy, dense_y)\n",
    "bern_poly.to_theta(out[0:2,:])"
   ]
  },
  {
   "cell_type": "markdown",
   "metadata": {
    "colab_type": "text",
    "id": "FiXTbsAW9Rw6"
   },
   "source": [
    "### Junck Below"
   ]
  },
  {
   "cell_type": "code",
   "execution_count": 26,
   "metadata": {
    "colab": {
     "base_uri": "https://localhost:8080/",
     "height": 136
    },
    "colab_type": "code",
    "id": "SPNXGMTBP8bx",
    "outputId": "209dc432-e058-4fc1-8be2-b7539c2c0007"
   },
   "outputs": [
    {
     "name": "stdout",
     "output_type": "stream",
     "text": [
      "1 4\n",
      "2 3\n",
      "3 2\n",
      "4 1\n"
     ]
    },
    {
     "data": {
      "text/plain": [
       "<tf.Tensor: shape=(5,), dtype=float32, numpy=\n",
       "array([ 0.10003  ,  2.7500002,  7.5      , 12.250001 , 16.99997  ],\n",
       "      dtype=float32)>"
      ]
     },
     "execution_count": 26,
     "metadata": {
      "tags": []
     },
     "output_type": "execute_result"
    }
   ],
   "source": [
    "len_theta = 4\n",
    "\n",
    "def init(len_theta):\n",
    "  M = len_theta - 1\n",
    "  beta_shapes = np.zeros((len_theta, 2), dtype='float32')\n",
    "  for m in range(0,len_theta):\n",
    "      print(m+1, M-m+1)\n",
    "      beta_shapes[m,0] = m+1\n",
    "      beta_shapes[m,1] = M-m+1    \n",
    "  beta_dist = tfd.Beta(beta_shapes[:,0], beta_shapes[:,1])\n",
    "  return beta_dist\n",
    "\n",
    "def eval_h(theta, y):\n",
    "  y = tf.clip_by_value(y,1E-5, 1.0-1E-5)\n",
    "  by = beta_dist.prob(y) \n",
    "  return tf.reduce_mean(by * theta, axis=1)\n",
    "\n",
    "#### Testing h\n",
    "y = np.array((0.00,0.25,0.50,0.75,1.00), dtype='float32').reshape(-1,1)\n",
    "theta = np.array(\n",
    "    (\n",
    "        0.1,1.1,4,12,\n",
    "        2,3,4,5,\n",
    "        6,7,8,9,\n",
    "        10,11,12,13,\n",
    "        14,15,16,17\n",
    "    )\n",
    "    , dtype='float32').reshape(5,4)\n",
    "\n",
    "h_res_r = np.array((0.1,2.75,7.5,12.25,17))\n",
    "\n",
    "beta_dist = init(theta.shape[1])\n",
    "h_python = eval_h(theta,y)\n",
    "h_python"
   ]
  },
  {
   "cell_type": "code",
   "execution_count": 27,
   "metadata": {
    "colab": {
     "base_uri": "https://localhost:8080/",
     "height": 34
    },
    "colab_type": "code",
    "id": "iloV8robwMR6",
    "outputId": "4b7454b0-1533-454b-f4f5-bb23a23530b7"
   },
   "outputs": [
    {
     "data": {
      "text/plain": [
       "<tf.Tensor: shape=(), dtype=float32, numpy=nan>"
      ]
     },
     "execution_count": 27,
     "metadata": {
      "tags": []
     },
     "output_type": "execute_result"
    }
   ],
   "source": [
    "tfd.Beta(4,1, allow_nan_stats=False).prob(1)"
   ]
  },
  {
   "cell_type": "code",
   "execution_count": 28,
   "metadata": {
    "colab": {
     "base_uri": "https://localhost:8080/",
     "height": 198
    },
    "colab_type": "code",
    "id": "mCmc3b8vRixX",
    "outputId": "7708fe1a-0ab7-4aff-9410-610ba00a1680"
   },
   "outputs": [
    {
     "ename": "NameError",
     "evalue": "ignored",
     "output_type": "error",
     "traceback": [
      "\u001b[0;31m---------------------------------------------------------------------------\u001b[0m",
      "\u001b[0;31mNameError\u001b[0m                                 Traceback (most recent call last)",
      "\u001b[0;32m<ipython-input-28-1b4267cbc4a6>\u001b[0m in \u001b[0;36m<module>\u001b[0;34m()\u001b[0m\n\u001b[1;32m      1\u001b[0m \u001b[0;34m\u001b[0m\u001b[0m\n\u001b[1;32m      2\u001b[0m \u001b[0my\u001b[0m \u001b[0;34m=\u001b[0m \u001b[0mtf\u001b[0m\u001b[0;34m.\u001b[0m\u001b[0mclip_by_value\u001b[0m\u001b[0;34m(\u001b[0m\u001b[0my\u001b[0m\u001b[0;34m,\u001b[0m\u001b[0;36m1E-5\u001b[0m\u001b[0;34m,\u001b[0m \u001b[0;36m1.0\u001b[0m\u001b[0;34m-\u001b[0m\u001b[0;36m1E-5\u001b[0m\u001b[0;34m)\u001b[0m\u001b[0;34m\u001b[0m\u001b[0;34m\u001b[0m\u001b[0m\n\u001b[0;32m----> 3\u001b[0;31m \u001b[0mby\u001b[0m \u001b[0;34m=\u001b[0m \u001b[0mbeta\u001b[0m\u001b[0;34m.\u001b[0m\u001b[0mprob\u001b[0m\u001b[0;34m(\u001b[0m\u001b[0my\u001b[0m\u001b[0;34m)\u001b[0m\u001b[0;34m\u001b[0m\u001b[0;34m\u001b[0m\u001b[0m\n\u001b[0m",
      "\u001b[0;31mNameError\u001b[0m: name 'beta' is not defined"
     ]
    }
   ],
   "source": [
    "\n",
    "y = tf.clip_by_value(y,1E-5, 1.0-1E-5)\n",
    "by = beta.prob(y) "
   ]
  },
  {
   "cell_type": "code",
   "execution_count": 0,
   "metadata": {
    "colab": {
     "base_uri": "https://localhost:8080/",
     "height": 67
    },
    "colab_type": "code",
    "id": "wvsLWD0zw0tZ",
    "outputId": "66e89b43-ee6f-4197-d499-a410cb9e0028"
   },
   "outputs": [
    {
     "data": {
      "text/plain": [
       "<tf.Tensor: shape=(5,), dtype=float32, numpy=\n",
       "array([ 0.10003  ,  2.7500002,  7.5      , 12.25     , 16.99997  ],\n",
       "      dtype=float32)>"
      ]
     },
     "execution_count": 55,
     "metadata": {
      "tags": []
     },
     "output_type": "execute_result"
    }
   ],
   "source": [
    "tf.reduce_mean(by * theta, axis=1)"
   ]
  },
  {
   "cell_type": "code",
   "execution_count": 0,
   "metadata": {
    "colab": {
     "base_uri": "https://localhost:8080/",
     "height": 34
    },
    "colab_type": "code",
    "id": "ifFG4wDXtijP",
    "outputId": "2e776ec6-20a6-4eca-e821-b7e92c3bb5a8"
   },
   "outputs": [
    {
     "data": {
      "text/plain": [
       "<tf.Tensor: shape=(), dtype=float32, numpy=0.0>"
      ]
     },
     "execution_count": 36,
     "metadata": {
      "tags": []
     },
     "output_type": "execute_result"
    }
   ],
   "source": [
    "tfd.Beta(1, 4).prob(1.0)"
   ]
  },
  {
   "cell_type": "code",
   "execution_count": 0,
   "metadata": {
    "colab": {
     "base_uri": "https://localhost:8080/",
     "height": 34
    },
    "colab_type": "code",
    "id": "0V30W9EptFIk",
    "outputId": "faff274e-c2d1-402b-8d79-2f358af00fcf"
   },
   "outputs": [
    {
     "data": {
      "text/plain": [
       "<tf.Tensor: shape=(), dtype=float64, numpy=1.6875000000000004>"
      ]
     },
     "execution_count": 26,
     "metadata": {
      "tags": []
     },
     "output_type": "execute_result"
    }
   ],
   "source": [
    "tfd.Beta(beta_shapes[0,0], beta_shapes[0,1]).prob(0.25)"
   ]
  },
  {
   "cell_type": "code",
   "execution_count": 0,
   "metadata": {
    "colab": {
     "base_uri": "https://localhost:8080/",
     "height": 34
    },
    "colab_type": "code",
    "id": "CimwyJOISK9b",
    "outputId": "b58a664a-0558-441c-976a-f19cc2e43edf"
   },
   "outputs": [
    {
     "data": {
      "text/plain": [
       "<tf.Tensor: shape=(4,), dtype=float64, numpy=array([0., 0., 0., 0.])>"
      ]
     },
     "execution_count": 21,
     "metadata": {
      "tags": []
     },
     "output_type": "execute_result"
    }
   ],
   "source": [
    "beta.prob(0.25)"
   ]
  },
  {
   "cell_type": "code",
   "execution_count": 0,
   "metadata": {
    "colab": {
     "base_uri": "https://localhost:8080/",
     "height": 185
    },
    "colab_type": "code",
    "id": "I1LhsJEMNb0F",
    "outputId": "69aebe85-87f9-401a-cdb4-52ab5bfe68da"
   },
   "outputs": [
    {
     "name": "stdout",
     "output_type": "stream",
     "text": [
      "theta  [[ 0.1  1.1  4.  12. ]\n",
      " [ 2.   3.   4.   5. ]\n",
      " [ 6.   7.   8.   9. ]\n",
      " [10.  11.  12.  13. ]\n",
      " [14.  15.  16.  17. ]]\n",
      "y  [[0.  ]\n",
      " [0.25]\n",
      " [0.5 ]\n",
      " [0.75]\n",
      " [1.  ]]\n"
     ]
    }
   ],
   "source": [
    "\n",
    "\n",
    "# theta = np.repeat(np.array((0.1, 1.1, 4, 12)).reshape((1,4)),4, axis=0)\n",
    "print('theta ', theta)\n",
    "print('y ', y)\n",
    "#print('h_ok', h_ok(theta, y))\n",
    "#print('h', h(theta, y))"
   ]
  },
  {
   "cell_type": "code",
   "execution_count": 0,
   "metadata": {
    "colab": {},
    "colab_type": "code",
    "id": "3fJQ0NtwRRBO"
   },
   "outputs": [],
   "source": [
    "@tf.function\n",
    "def h(theta, y, l=None):\n",
    "  \n",
    "  #Hack Attack\n",
    "  #tfd.Beta(3,1).prob(1.0 - 1E-8) --> yields NaN \n",
    "  y = tf.clip_by_value(y,1E-5, 1.0-1E-5)\n",
    "  if (l == None):\n",
    "    M = len(theta) - 1\n",
    "  else:\n",
    "    M = l - 1\n",
    "  dd = tf.zeros_like(y)\n",
    "  for m in range(0,len(theta)):\n",
    "    t = theta[m]\n",
    "  #for m,t in enumerate(theta):\n",
    "    dd = dd + t * tfd.Beta(m+1,M-m+1).prob(y)   \n",
    "  return dd / (M + 1.0)"
   ]
  },
  {
   "cell_type": "code",
   "execution_count": 0,
   "metadata": {
    "colab": {},
    "colab_type": "code",
    "id": "iccSbiD7RXTW"
   },
   "outputs": [],
   "source": [
    "@tf.function\n",
    "def h_dash(theta, y, l=None):\n",
    "  #Hack Attack\n",
    "  #tfd.Beta(3,1).prob(1.0 - 1E-8) --> yields NaN \n",
    "  y = tf.clip_by_value(y,1E-5, 1.0-1E-5)\n",
    "  if (l == None):\n",
    "    M = len(theta) - 1\n",
    "  else:\n",
    "    M = l - 1\n",
    "  dd = tf.zeros_like(y)\n",
    "  for m in range(0,M):\n",
    "    dd = dd + (theta[m+1] - theta[m]) * tfd.Beta(m+1,M-m).prob(y)   \n",
    "  return dd #* M / (M + 1.0)"
   ]
  },
  {
   "cell_type": "code",
   "execution_count": 0,
   "metadata": {
    "colab": {},
    "colab_type": "code",
    "id": "ETUQHDMqPWRh"
   },
   "outputs": [],
   "source": []
  }
 ],
 "metadata": {
  "accelerator": "GPU",
  "colab": {
   "collapsed_sections": [],
   "name": "Bernstein_Loss.ipynb",
   "provenance": []
  },
  "kernelspec": {
   "display_name": "Python 3",
   "language": "python",
   "name": "python3"
  },
  "language_info": {
   "codemirror_mode": {
    "name": "ipython",
    "version": 3
   },
   "file_extension": ".py",
   "mimetype": "text/x-python",
   "name": "python",
   "nbconvert_exporter": "python",
   "pygments_lexer": "ipython3",
   "version": "3.6.8"
  }
 },
 "nbformat": 4,
 "nbformat_minor": 1
}
