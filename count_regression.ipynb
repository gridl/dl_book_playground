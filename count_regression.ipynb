{
 "cells": [
  {
   "cell_type": "markdown",
   "metadata": {},
   "source": [
    "### Count regression\n",
    "\n",
    "This notebook demonstrates the use of tfp for regression on count data. In good statistical tradition, we do not use a testset. We compare again the R-Code and use a standard dataset.\n",
    "\n",
    "* Poisson Regression\n",
    "* Zero Infated Poisson Regression\n",
    "* NB work in progress\n",
    "\n",
    "#### Links:\n",
    "Using plain TF\n",
    "https://github.com/gokceneraslan/neuralnet_countmodels/blob/master/Count%20models%20with%20neuralnets.ipynb\n",
    "\n",
    "\n",
    "."
   ]
  },
  {
   "cell_type": "code",
   "execution_count": 1,
   "metadata": {},
   "outputs": [
    {
     "name": "stdout",
     "output_type": "stream",
     "text": [
      "TFB Version 0.7.0-dev\n",
      "TF  Version 2.0.0-alpha0\n"
     ]
    }
   ],
   "source": [
    "import matplotlib.pyplot as plt\n",
    "import numpy as np\n",
    "import seaborn as sns\n",
    "\n",
    "import tensorflow as tf\n",
    "import tensorflow_probability as tfp\n",
    "\n",
    "sns.reset_defaults()\n",
    "#sns.set_style('whitegrid')\n",
    "sns.set_context(context='talk',font_scale=0.7)\n",
    "\n",
    "%matplotlib inline\n",
    "\n",
    "tfd = tfp.distributions\n",
    "print(\"TFB Version\", tfp.__version__)\n",
    "print(\"TF  Version\",tf.__version__)"
   ]
  },
  {
   "cell_type": "markdown",
   "metadata": {},
   "source": [
    "## Loading some count data\n",
    "\n",
    "We use some traditional count data from: https://stats.idre.ucla.edu/stat/stata/dae/nb_data.dta see also: https://stats.idre.ucla.edu/r/dae/negative-binomial-regression/ The data have been processed:\n",
    "\n",
    "\n",
    "```\n",
    "dat <- read.dta(\"https://stats.idre.ucla.edu/stat/stata/dae/nb_data.dta\")\n",
    "dat <- within(dat, {\n",
    "  prog <- factor(prog, levels = 1:3, labels = c(\"General\", \"Academic\", \"Vocational\"))\n",
    "  id <- factor(id)\n",
    "})\n",
    "summary(dat)\n",
    "m.p <- glm(daysabs ~ math + prog, data = dat,family = poisson)\n",
    "\n",
    "df = data.frame(model.matrix(m.p))\n",
    "df$daysabs = dat$daysabs\n",
    "df$X.Intercept. = NULL\n",
    "write.table(df, \n",
    "            file='~/Documents/workspace/dl_book_playground/nb_data.csv', \n",
    "            col.names =FALSE,row.names = FALSE)\n",
    "\n",
    "```\n"
   ]
  },
  {
   "cell_type": "code",
   "execution_count": 29,
   "metadata": {},
   "outputs": [],
   "source": [
    "d = np.loadtxt('nb_data.csv')\n",
    "X = d[...,0:3]\n",
    "y = d[...,4]"
   ]
  },
  {
   "cell_type": "code",
   "execution_count": 30,
   "metadata": {},
   "outputs": [
    {
     "data": {
      "text/plain": [
       "((314,), (314, 3), array([[63.,  1.,  0.],\n",
       "        [27.,  1.,  0.],\n",
       "        [20.,  1.,  0.],\n",
       "        [16.,  1.,  0.],\n",
       "        [ 2.,  1.,  0.]]))"
      ]
     },
     "execution_count": 30,
     "metadata": {},
     "output_type": "execute_result"
    }
   ],
   "source": [
    "y.shape, X.shape, X[0:5,]"
   ]
  },
  {
   "cell_type": "markdown",
   "metadata": {},
   "source": [
    "#### Definition of the Model\n",
    "\n",
    "$$\n",
    "    Y \\thicksim \\tt{Pois}(exp(w^{T} \\cdot x + b))\n",
    "$$"
   ]
  },
  {
   "cell_type": "code",
   "execution_count": 43,
   "metadata": {},
   "outputs": [],
   "source": [
    "## Definition of the custom parametrized distribution\n",
    "def my_poiss(t):\n",
    "    return tfd.Poisson(rate=t) #Equivalent to log_rate=t when using linear activation "
   ]
  },
  {
   "cell_type": "code",
   "execution_count": 44,
   "metadata": {},
   "outputs": [
    {
     "data": {
      "text/plain": [
       "(<tf.Tensor: id=72109, shape=(4,), dtype=float64, numpy=array([0., 1., 2., 3.])>,\n",
       " <tf.Tensor: id=72115, shape=(4,), dtype=float64, numpy=array([0., 1., 2., 3.])>)"
      ]
     },
     "execution_count": 44,
     "metadata": {},
     "output_type": "execute_result"
    }
   ],
   "source": [
    "my_poiss(np.array((0.0,1.0,2.0,3.0))).mean(), my_poiss(np.array((0.0,1.0,2.0,3.0))).stddev()**2"
   ]
  },
  {
   "cell_type": "code",
   "execution_count": 47,
   "metadata": {},
   "outputs": [],
   "source": [
    "## Definition of the model\n",
    "#Using the functional API for clarity\n",
    "inputs = tf.keras.layers.Input(shape=(3,)) #we need to estimate 3 (2 cat + 1 numerical) coeficient (excluding intercept) \n",
    "rate = tf.keras.layers.Dense(1, \n",
    "                             activation=tf.exp, #We use the exponential \n",
    "                             bias_initializer='zeros', \n",
    "                             kernel_initializer='zeros')(inputs)\n",
    "\n",
    "#p_y = tfp.layers.DistributionLambda(my_poiss)(rate) #<------- Here we hand-in the the custom distribution\n",
    "p_y = tfp.layers.DistributionLambda(tfd.Poisson)(rate) \n",
    "\n",
    "#Glueing input and output together. Note that output is a tf.distirbution \n",
    "model = tf.keras.models.Model(inputs=inputs, outputs=p_y)\n"
   ]
  },
  {
   "cell_type": "code",
   "execution_count": 51,
   "metadata": {},
   "outputs": [],
   "source": [
    "def negloglik(y_true, y_hat):\n",
    "  return -y_hat.log_prob(y_true)\n",
    "\n",
    "model.compile(optimizer=tf.optimizers.Adam(learning_rate=0.01), loss=negloglik)\n",
    "hist = model.fit(X, y, epochs=600, verbose=False, validation_split=0.0);"
   ]
  },
  {
   "cell_type": "code",
   "execution_count": 53,
   "metadata": {},
   "outputs": [
    {
     "data": {
      "text/plain": [
       "4.336182639209075"
      ]
     },
     "execution_count": 53,
     "metadata": {},
     "output_type": "execute_result"
    },
    {
     "data": {
      "image/png": "[encoded data removed]",
      "text/plain": [
       "<Figure size 432x288 with 1 Axes>"
      ]
     },
     "metadata": {
      "needs_background": "light"
     },
     "output_type": "display_data"
    }
   ],
   "source": [
    "plt.plot(hist.history['loss'])\n",
    "#plt.plot(hist.history['val_loss'])\n",
    "plt.xlabel('Epochs')\n",
    "np.mean(hist.history['loss'])"
   ]
  },
  {
   "cell_type": "code",
   "execution_count": 54,
   "metadata": {},
   "outputs": [
    {
     "data": {
      "text/plain": [
       "[<tf.Variable 'dense_7/kernel:0' shape=(3, 1) dtype=float32, numpy=\n",
       " array([[-0.00171923],\n",
       "        [-0.4328536 ],\n",
       "        [-1.2815503 ]], dtype=float32)>,\n",
       " <tf.Variable 'dense_7/bias:0' shape=(1,) dtype=float32, numpy=array([2.6618016], dtype=float32)>]"
      ]
     },
     "execution_count": 54,
     "metadata": {},
     "output_type": "execute_result"
    }
   ],
   "source": [
    "model.weights"
   ]
  },
  {
   "cell_type": "markdown",
   "metadata": {},
   "source": [
    "#### For comparison the results of the r-code?\n",
    "\n",
    "See also: https://stats.idre.ucla.edu/r/dae/negative-binomial-regression/\n",
    "\n",
    "* null deviance: only the intercept?\n",
    "* residual deviace all included\n",
    "\n",
    "```{r}\n",
    "> summary(m1 <- glm(daysabs ~ math + prog, data = dat,family = poisson))\n",
    "\n",
    "Call:\n",
    "glm(formula = daysabs ~ math + prog, family = poisson, data = dat)\n",
    "\n",
    "Deviance Residuals: \n",
    "    Min       1Q   Median       3Q      Max  \n",
    "-4.2597  -2.2038  -0.9193   0.6511   7.4233  \n",
    "\n",
    "Coefficients:\n",
    "                Estimate Std. Error z value Pr(>|z|)    \n",
    "(Intercept)     2.651974   0.060736  43.664  < 2e-16 ***\n",
    "math           -0.006808   0.000931  -7.313 2.62e-13 ***\n",
    "progAcademic   -0.439897   0.056672  -7.762 8.35e-15 ***\n",
    "progVocational -1.281364   0.077886 -16.452  < 2e-16 ***\n",
    "---\n",
    "Signif. codes:  0 ‘***’ 0.001 ‘**’ 0.01 ‘*’ 0.05 ‘.’ 0.1 ‘ ’ 1\n",
    "\n",
    "(Dispersion parameter for poisson family taken to be 1)\n",
    "\n",
    "    Null deviance: 2217.7  on 313  degrees of freedom\n",
    "Residual deviance: 1774.0  on 310  degrees of freedom\n",
    "AIC: 2665.3\n",
    "\n",
    "Number of Fisher Scoring iterations: 5\n",
    "\n",
    "> logLik(m1)/314\n",
    "'log Lik.' -4.231346 (df=4)\n",
    "\n",
    "```"
   ]
  },
  {
   "cell_type": "markdown",
   "metadata": {},
   "source": [
    "##### Fitting a glm using the convenions functions in TFP "
   ]
  },
  {
   "cell_type": "code",
   "execution_count": 55,
   "metadata": {},
   "outputs": [
    {
     "data": {
      "text/plain": [
       "<tf.Tensor: id=145657, shape=(4,), dtype=float64, numpy=array([ 2.65197378, -0.00680838, -0.43989746, -1.28136411])>"
      ]
     },
     "execution_count": 55,
     "metadata": {},
     "output_type": "execute_result"
    }
   ],
   "source": [
    "# First build the model matrix, appending an intercept term\n",
    "Xm = np.ones((np.shape(X)[0],np.shape(X)[1]+1))\n",
    "Xm[:,1:4] = X\n",
    "Xm[1:4,]\n",
    "# Doing the fit \n",
    "fit = tfp.glm.fit(\n",
    "    model_matrix=Xm,\n",
    "    response=y,\n",
    "    model=tfp.glm.Poisson()\n",
    ")\n",
    "fit[0]#2.65197378, -0.00680838, -0.43989746, -1.28136411"
   ]
  },
  {
   "cell_type": "markdown",
   "metadata": {},
   "source": [
    "## Other then Poisson\n",
    "\n",
    "Other than poisson cases.\n",
    "\n",
    "### Using zero inflated poisson\n",
    "\n",
    "We define a network with two outputs. One for the poisson mean, one for the prob that there is a zero. \n",
    "\n",
    "First, we define a function which produces the zero inflated poisson distribution. "
   ]
  },
  {
   "cell_type": "code",
   "execution_count": 57,
   "metadata": {},
   "outputs": [],
   "source": [
    "## Definition of the custom parametrized distribution\n",
    "def my_zero(t):\n",
    "    mean = tf.exp(t[:,0]) #Needed so that Poisson has batch_shape=(5,) \n",
    "    #print(mean)\n",
    "    s = tf.math.sigmoid(t[...,1:])\n",
    "    probs = tf.concat([s, 1-s], axis=1)\n",
    "    #print(probs)\n",
    "    return tfd.Mixture(\n",
    "          cat=tfd.Categorical(probs=probs),#batch_shape=(5,) event_shape=()\n",
    "          components=[\n",
    "            tfd.Poisson(rate=mean),   #batch_shape=(5,) event_shape=()\n",
    "            #tfd.Poisson(rate=0.00001*mean), #Hack to produce 0\n",
    "            tfd.Deterministic(loc=tf.zeros_like(mean))\n",
    "        ])"
   ]
  },
  {
   "cell_type": "code",
   "execution_count": 59,
   "metadata": {},
   "outputs": [
    {
     "name": "stdout",
     "output_type": "stream",
     "text": [
      "[[ 1.     1.   ]\n",
      " [ 1.     1.   ]\n",
      " [ 1.     1.   ]\n",
      " [ 1.     1.   ]\n",
      " [ 0.999 10.   ]]\n"
     ]
    },
    {
     "data": {
      "text/plain": [
       "(<tf.Tensor: id=145744, shape=(5,), dtype=float32, numpy=\n",
       " array([1.9872233, 1.9872233, 1.9872233, 1.9872233, 2.7154417],\n",
       "       dtype=float32)>,\n",
       " <tf.Tensor: id=145746, shape=(), dtype=float32, numpy=2.7182817>)"
      ]
     },
     "execution_count": 59,
     "metadata": {},
     "output_type": "execute_result"
    }
   ],
   "source": [
    "## Testing the distribution\n",
    "t = np.ones((5,2), dtype=np.float32)\n",
    "t[4,0]=0.999\n",
    "t[4,1]=10\n",
    "print(t)\n",
    "my_zero(t).mean(), tfd.Poisson(tf.exp(1.0)).mean()"
   ]
  },
  {
   "cell_type": "code",
   "execution_count": 60,
   "metadata": {},
   "outputs": [
    {
     "name": "stdout",
     "output_type": "stream",
     "text": [
      "Model: \"model_6\"\n",
      "__________________________________________________________________________________________________\n",
      "Layer (type)                    Output Shape         Param #     Connected to                     \n",
      "==================================================================================================\n",
      "input_9 (InputLayer)            [(None, 3)]          0                                            \n",
      "__________________________________________________________________________________________________\n",
      "dense_8 (Dense)                 (None, 1)            4           input_9[0][0]                    \n",
      "__________________________________________________________________________________________________\n",
      "dense_9 (Dense)                 (None, 1)            4           input_9[0][0]                    \n",
      "__________________________________________________________________________________________________\n",
      "concat (TensorFlowOpLayer)      [(None, 2)]          0           dense_8[0][0]                    \n",
      "                                                                 dense_9[0][0]                    \n",
      "__________________________________________________________________________________________________\n",
      "distribution_lambda_7 (Distribu ((None,), (None,))   0           concat[0][0]                     \n",
      "==================================================================================================\n",
      "Total params: 8\n",
      "Trainable params: 8\n",
      "Non-trainable params: 0\n",
      "__________________________________________________________________________________________________\n"
     ]
    }
   ],
   "source": [
    "## Definition of the model\n",
    "inputs = tf.keras.layers.Input(shape=(3,))\n",
    "mean_logit = tf.keras.layers.Dense(1,bias_initializer='zeros', kernel_initializer='zeros')(inputs)\n",
    "p_zero_logit = tf.keras.layers.Dense(1,bias_initializer='zeros', kernel_initializer='zeros')(inputs)\n",
    "\n",
    "# Combining the path\n",
    "tt = tf.concat([mean_logit, p_zero_logit], axis=1)\n",
    "p_y_nb = tfp.layers.DistributionLambda(my_zero)(tt)\n",
    "\n",
    "#Glueing input and output together. Note that output is a tf.distirbution \n",
    "model = tf.keras.models.Model(inputs=inputs, outputs=p_y_nb)\n",
    "model.summary()"
   ]
  },
  {
   "cell_type": "code",
   "execution_count": 61,
   "metadata": {},
   "outputs": [],
   "source": [
    "def negloglik2(y_true, y_hat):\n",
    "    # return -tf.reduce_mean(y_hat.log_prob(y_true))\n",
    "    return -tf.reduce_mean(y_hat.log_prob(tf.reshape(y_true,(-1,))))\n",
    "\n",
    "model.compile(optimizer=tf.optimizers.Adam(), loss=negloglik2)\n",
    "hist = model.fit(X, y, epochs=1200, verbose=False);"
   ]
  },
  {
   "cell_type": "code",
   "execution_count": 62,
   "metadata": {},
   "outputs": [
    {
     "data": {
      "text/plain": [
       "3.8227529569264425"
      ]
     },
     "execution_count": 62,
     "metadata": {},
     "output_type": "execute_result"
    },
    {
     "data": {
      "image/png": "[encoded data removed]",
      "text/plain": [
       "<Figure size 432x288 with 1 Axes>"
      ]
     },
     "metadata": {
      "needs_background": "light"
     },
     "output_type": "display_data"
    }
   ],
   "source": [
    "plt.plot(hist.history['loss'][200:])\n",
    "plt.xlabel('Epochs')\n",
    "np.mean(hist.history['loss'][1000:]) "
   ]
  },
  {
   "cell_type": "markdown",
   "metadata": {},
   "source": [
    "Comparing with R\n",
    "\n",
    "```\n",
    "m1.zi = zeroinfl(daysabs ~ math + prog | math + prog, data = dat)\n",
    "summary(m1.zi)\n",
    "logLik(m1.zi)/314\n",
    "Call:\n",
    "zeroinfl(formula = daysabs ~ math + prog | math + prog, data = dat)\n",
    "\n",
    "Pearson residuals:\n",
    "    Min      1Q  Median      3Q     Max \n",
    "-2.3410 -1.1702 -0.6026  0.5864  7.3907 \n",
    "\n",
    "Count model coefficients (poisson with log link):\n",
    "                 Estimate Std. Error z value Pr(>|z|)    \n",
    "(Intercept)     2.5879178  0.0614173  42.137  < 2e-16 ***\n",
    "math           -0.0052060  0.0009291  -5.603 2.10e-08 ***\n",
    "progAcademic   -0.3040946  0.0567438  -5.359 8.36e-08 ***\n",
    "progVocational -0.9397286  0.0794916 -11.822  < 2e-16 ***\n",
    "\n",
    "Zero-inflation model coefficients (binomial with logit link):\n",
    "                 Estimate Std. Error z value Pr(>|z|)  \n",
    "(Intercept)    -1.920e+01  1.706e+03  -0.011    0.991  \n",
    "math            1.264e-02  6.926e-03   1.825    0.068 .\n",
    "progAcademic    1.674e+01  1.706e+03   0.010    0.992  \n",
    "progVocational  1.766e+01  1.706e+03   0.010    0.992  \n",
    "---\n",
    "Signif. codes:  0 '***' 0.001 '**' 0.01 '*' 0.05 '.' 0.1 ' ' 1 \n",
    "\n",
    "Number of iterations in BFGS optimization: 13 \n",
    "Log-likelihood: -1192 on 8 Df\n",
    "> logLik(m1.zi)/314\n",
    "'log Lik.' -3.797503 (df=8)\n",
    "```"
   ]
  },
  {
   "cell_type": "code",
   "execution_count": 83,
   "metadata": {},
   "outputs": [
    {
     "data": {
      "text/plain": [
       "[array([[-0.00402888],\n",
       "        [-0.2868381 ],\n",
       "        [-0.9262798 ]], dtype=float32),\n",
       " array([2.5721228], dtype=float32),\n",
       " array([[-0.00892866],\n",
       "        [-0.3054964 ],\n",
       "        [-1.2860293 ]], dtype=float32),\n",
       " array([2.6343427], dtype=float32)]"
      ]
     },
     "execution_count": 83,
     "metadata": {},
     "output_type": "execute_result"
    }
   ],
   "source": [
    "model.get_weights()"
   ]
  },
  {
   "cell_type": "markdown",
   "metadata": {},
   "source": [
    "## Using negative binomial (Under construction)\n",
    "\n",
    "* Problema in TF only has the default parametrization of the NB. Which is not suited. Therefore we stack to distributions (using the gamma-poisson case). Much time has been wasted to construct a single NB distribution from scratch. \n",
    "\n",
    "* Question. It seems that in NB there is a globa parameters $\\Theta$ it's not modelled depending on data. "
   ]
  },
  {
   "cell_type": "code",
   "execution_count": 220,
   "metadata": {},
   "outputs": [],
   "source": [
    "def my_gamma(t):\n",
    "    mean = t[...,:1] #First column mu\n",
    "    #disp = 1e-3 + tf.math.softplus(0.05 * t[...,1:]) #Second column sigma\n",
    "    disp = t[...,1:]\n",
    "    disp=1.03\n",
    "    eps = 1e-10\n",
    "    # translate these into gamma parameters\n",
    "    gamma_shape = 1. / (disp+eps)\n",
    "    gamma_scale = (mean / (gamma_shape+eps))+eps\n",
    "    return tfp.distributions.Gamma(gamma_shape, gamma_scale)"
   ]
  },
  {
   "cell_type": "code",
   "execution_count": 221,
   "metadata": {},
   "outputs": [
    {
     "data": {
      "image/png": "[encoded data removed]",
      "text/plain": [
       "<Figure size 432x288 with 1 Axes>"
      ]
     },
     "metadata": {
      "needs_background": "light"
     },
     "output_type": "display_data"
    }
   ],
   "source": [
    "my_gamma(np.ones((1,2))).sample(1000)\n",
    "plt.hist(my_poiss(my_gamma(np.ones((1,2))).sample(1000)).mean().numpy().reshape((1000,1)),100);"
   ]
  },
  {
   "cell_type": "code",
   "execution_count": 223,
   "metadata": {},
   "outputs": [],
   "source": [
    "## Definition of the model\n",
    "#Using the functional API for clarity\n",
    "inputs   = tf.keras.layers.Input(shape=(3,))\n",
    "t        = tf.keras.layers.Dense(2, \n",
    "                             activation=tf.exp, \n",
    "                             bias_initializer='zeros', \n",
    "                             #bias_initializer=tf.keras.initializers.Constant(value=2.61),\n",
    "                             kernel_initializer='zeros')(inputs)\n",
    "gamma    = tfp.layers.DistributionLambda(my_gamma)(t)  \n",
    "p_y      = tfp.layers.DistributionLambda(my_poiss)(gamma) \n",
    "#Glueing input and output together. Note that output is a tf.distirbution \n",
    "model_nb = tf.keras.models.Model(inputs=inputs, outputs=p_y)"
   ]
  },
  {
   "cell_type": "code",
   "execution_count": 224,
   "metadata": {},
   "outputs": [],
   "source": [
    "model_nb.compile(optimizer=tf.optimizers.Adam(learning_rate=0.001), loss=negloglik)\n",
    "#model_nb.predict(X)"
   ]
  },
  {
   "cell_type": "code",
   "execution_count": 225,
   "metadata": {},
   "outputs": [],
   "source": [
    "hist = model_nb.fit(X, y, epochs=400, verbose=False);\n"
   ]
  },
  {
   "cell_type": "code",
   "execution_count": 226,
   "metadata": {},
   "outputs": [
    {
     "data": {
      "text/plain": [
       "8.912700449239676"
      ]
     },
     "execution_count": 226,
     "metadata": {},
     "output_type": "execute_result"
    },
    {
     "data": {
      "image/png": "[encoded data removed]",
      "text/plain": [
       "<Figure size 432x288 with 1 Axes>"
      ]
     },
     "metadata": {
      "needs_background": "light"
     },
     "output_type": "display_data"
    }
   ],
   "source": [
    "plt.plot(hist.history['loss'])\n",
    "plt.xlabel('Epochs')\n",
    "np.mean(hist.history['loss'][0:]) "
   ]
  },
  {
   "cell_type": "code",
   "execution_count": 227,
   "metadata": {},
   "outputs": [
    {
     "data": {
      "text/plain": [
       "[<tf.Variable 'dense_31/kernel:0' shape=(3, 2) dtype=float32, numpy=\n",
       " array([[ 0.00079479,  0.        ],\n",
       "        [-0.37138182,  0.        ],\n",
       "        [ 0.5108788 ,  0.        ]], dtype=float32)>,\n",
       " <tf.Variable 'dense_31/bias:0' shape=(2,) dtype=float32, numpy=array([-1.7670381,  0.       ], dtype=float32)>]"
      ]
     },
     "execution_count": 227,
     "metadata": {},
     "output_type": "execute_result"
    }
   ],
   "source": [
    "model_nb.weights"
   ]
  },
  {
   "cell_type": "code",
   "execution_count": 228,
   "metadata": {},
   "outputs": [
    {
     "data": {
      "text/plain": [
       "1.0"
      ]
     },
     "execution_count": 228,
     "metadata": {},
     "output_type": "execute_result"
    }
   ],
   "source": [
    "W = model_nb.weights[0].numpy()\n",
    "b = model_nb.weights[1].numpy()\n",
    "W,b\n",
    "mean_disp = np.matmul(X,W) + b\n",
    "np.mean(np.exp(mean_disp[:,1]))"
   ]
  },
  {
   "cell_type": "markdown",
   "metadata": {},
   "source": []
  },
  {
   "cell_type": "code",
   "execution_count": null,
   "metadata": {},
   "outputs": [],
   "source": []
  }
 ],
 "metadata": {
  "kernelspec": {
   "display_name": "Python 3",
   "language": "python",
   "name": "python3"
  },
  "language_info": {
   "codemirror_mode": {
    "name": "ipython",
    "version": 3
   },
   "file_extension": ".py",
   "mimetype": "text/x-python",
   "name": "python",
   "nbconvert_exporter": "python",
   "pygments_lexer": "ipython3",
   "version": "3.5.2"
  }
 },
 "nbformat": 4,
 "nbformat_minor": 2
}
