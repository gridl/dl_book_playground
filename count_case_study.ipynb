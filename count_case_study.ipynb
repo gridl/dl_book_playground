{
  "nbformat": 4,
  "nbformat_minor": 0,
  "metadata": {
    "colab": {
      "name": "Copy of count_case_study.ipynb",
      "version": "0.3.2",
      "provenance": [],
      "collapsed_sections": []
    },
    "language_info": {
      "codemirror_mode": {
        "name": "ipython",
        "version": 3
      },
      "file_extension": ".py",
      "mimetype": "text/x-python",
      "name": "python",
      "nbconvert_exporter": "python",
      "pygments_lexer": "ipython3",
      "version": "3.5.2"
    },
    "kernelspec": {
      "name": "python3",
      "display_name": "Python 3"
    },
    "accelerator": "GPU"
  },
  "cells": [
    {
      "metadata": {
        "id": "uZcY6IqTAGFX",
        "colab_type": "text"
      },
      "cell_type": "markdown",
      "source": [
        "### Case Study number of blogposts\n",
        "\n",
        "\n",
        "\n",
        "#### Results Hits@10 mean and stdderr\n",
        "\n",
        "##### On hidden layer with 10 nodes\n",
        "LR                 4.900 0.1690\n",
        "\n",
        "Poisson       5.483 0.1878\n",
        "\n",
        "ZI Poisson  5.566 0.1515\n",
        "\n",
        "##### Two hidden layer with 100, 10 nodes\n",
        "LR               5.166666666666667 0.15664\n",
        "\n",
        "Poisson     5.85 0.1868\n",
        "\n",
        "Zi Poisson 5.666666666666667 0.18358568490"
      ]
    },
    {
      "metadata": {
        "id": "OGzTTCQbAGFZ",
        "colab_type": "code",
        "outputId": "6f37b511-93b8-48b2-c2ea-bafcde8852fe",
        "colab": {
          "base_uri": "https://localhost:8080/",
          "height": 34
        }
      },
      "cell_type": "code",
      "source": [
        "import os\n",
        "if not os.path.isfile('blogdata/BlogFeedback.zip'):\n",
        "    !mkdir blogdata\n",
        "    print(\"Installing wget\")\n",
        "    !pip install wget\n",
        "    import wget\n",
        "    print(\"Downloading file\")\n",
        "    wget.download('http://archive.ics.uci.edu/ml/machine-learning-databases/00304/BlogFeedback.zip', 'blogdata/BlogFeedback.zip')\n",
        "    print(\"Unzipping content\")\n",
        "    !unzip blogdata/BlogFeedback.zip -d blogdata\n",
        "else:\n",
        "    print(\"File exists\")"
      ],
      "execution_count": 110,
      "outputs": [
        {
          "output_type": "stream",
          "text": [
            "File exists\n"
          ],
          "name": "stdout"
        }
      ]
    },
    {
      "metadata": {
        "id": "Isl0cZVMAZ51",
        "colab_type": "code",
        "outputId": "f7d70510-af95-4c91-ee5e-84b810a2373e",
        "colab": {
          "base_uri": "https://localhost:8080/",
          "height": 34
        }
      },
      "cell_type": "code",
      "source": [
        "!pip install -q --upgrade tensorflow-gpu==2.0.0-alpha0\n",
        "print('Installation of `tensorflow-gpu==2.0.0-alpha0` complete.')"
      ],
      "execution_count": 111,
      "outputs": [
        {
          "output_type": "stream",
          "text": [
            "Installation of `tensorflow-gpu==2.0.0-alpha0` complete.\n"
          ],
          "name": "stdout"
        }
      ]
    },
    {
      "metadata": {
        "id": "Gmzlk_KDArVF",
        "colab_type": "code",
        "outputId": "c30929f3-51a6-4873-b008-9bb61ccdbf44",
        "colab": {
          "base_uri": "https://localhost:8080/",
          "height": 34
        }
      },
      "cell_type": "code",
      "source": [
        " !pip install -q tfp-nightly\n",
        " print(\"Installation of `tfp-nightly` complete.\")"
      ],
      "execution_count": 112,
      "outputs": [
        {
          "output_type": "stream",
          "text": [
            "Installation of `tfp-nightly` complete.\n"
          ],
          "name": "stdout"
        }
      ]
    },
    {
      "metadata": {
        "id": "hXvLxJKsAGFd",
        "colab_type": "code",
        "outputId": "0cb14049-2632-40b8-ff3b-0f2ce40f28e7",
        "colab": {
          "base_uri": "https://localhost:8080/",
          "height": 51
        }
      },
      "cell_type": "code",
      "source": [
        "import matplotlib.pyplot as plt\n",
        "import numpy as np\n",
        "import seaborn as sns\n",
        "\n",
        "import tensorflow as tf\n",
        "import tensorflow_probability as tfp\n",
        "\n",
        "sns.reset_defaults()\n",
        "#sns.set_style('whitegrid')\n",
        "sns.set_context(context='talk',font_scale=0.7)\n",
        "\n",
        "%matplotlib inline\n",
        "\n",
        "tfd = tfp.distributions\n",
        "print(\"TFB Version\", tfp.__version__)\n",
        "print(\"TF  Version\",tf.__version__)"
      ],
      "execution_count": 7,
      "outputs": [
        {
          "output_type": "stream",
          "text": [
            "TFB Version 0.7.0-dev20190422\n",
            "TF  Version 2.0.0-alpha0\n"
          ],
          "name": "stdout"
        }
      ]
    },
    {
      "metadata": {
        "id": "t_1OiqVSBAp1",
        "colab_type": "code",
        "outputId": "b8daeebf-729e-4e26-bba6-87ded9665ab6",
        "colab": {
          "base_uri": "https://localhost:8080/",
          "height": 34
        }
      },
      "cell_type": "code",
      "source": [
        "if tf.test.gpu_device_name() != '/device:GPU:0':\n",
        "  print('WARNING: GPU device not found.')\n",
        "else:\n",
        "  print('SUCCESS: Found GPU: {}'.format(tf.test.gpu_device_name()))"
      ],
      "execution_count": 8,
      "outputs": [
        {
          "output_type": "stream",
          "text": [
            "SUCCESS: Found GPU: /device:GPU:0\n"
          ],
          "name": "stdout"
        }
      ]
    },
    {
      "metadata": {
        "id": "QE660pTmAGFf",
        "colab_type": "code",
        "outputId": "d9e5b1ef-10cd-46ae-cab3-c13f29b3f828",
        "colab": {
          "base_uri": "https://localhost:8080/",
          "height": 34
        }
      },
      "cell_type": "code",
      "source": [
        "# Loading to the data\n",
        "d = np.loadtxt(\"blogdata/blogData_train.csv\", delimiter=',', dtype=np.float32)\n",
        "Xu = d[:,0:279]\n",
        "y = d[:,280]\n",
        "d.shape, Xu.shape, y.shape"
      ],
      "execution_count": 9,
      "outputs": [
        {
          "output_type": "execute_result",
          "data": {
            "text/plain": [
              "((52397, 281), (52397, 279), (52397,))"
            ]
          },
          "metadata": {
            "tags": []
          },
          "execution_count": 9
        }
      ]
    },
    {
      "metadata": {
        "id": "m5Nb64B_AGFh",
        "colab_type": "code",
        "colab": {}
      },
      "cell_type": "code",
      "source": [
        "Xmean = np.mean(Xu,axis=0)\n",
        "Xsd = np.std(Xu,axis=0)\n",
        "X = (Xu-Xmean)/(Xsd+1e-10)"
      ],
      "execution_count": 0,
      "outputs": []
    },
    {
      "metadata": {
        "id": "FoI1J29DAGFj",
        "colab_type": "text"
      },
      "cell_type": "markdown",
      "source": [
        "### Definition of a Poisson Model"
      ]
    },
    {
      "metadata": {
        "id": "qVqQkbNoAGFj",
        "colab_type": "code",
        "colab": {}
      },
      "cell_type": "code",
      "source": [
        "## Definition of the custom parametrized distribution\n",
        "def my_poiss(t):\n",
        "    return tfd.Poisson(rate=t) #Equivalent to log_rate=t when using linear activation "
      ],
      "execution_count": 0,
      "outputs": []
    },
    {
      "metadata": {
        "id": "8KUdmQmgAGFl",
        "colab_type": "code",
        "outputId": "ee113aef-f467-47f9-e48e-7d4ff79b9706",
        "colab": {
          "base_uri": "https://localhost:8080/",
          "height": 34
        }
      },
      "cell_type": "code",
      "source": [
        "t = np.ones((3,1), dtype=np.float32)\n",
        "t\n",
        "my_poiss(t)"
      ],
      "execution_count": 79,
      "outputs": [
        {
          "output_type": "execute_result",
          "data": {
            "text/plain": [
              "<tfp.distributions.Poisson 'Poisson/' batch_shape=(3, 1) event_shape=() dtype=float32>"
            ]
          },
          "metadata": {
            "tags": []
          },
          "execution_count": 79
        }
      ]
    },
    {
      "metadata": {
        "id": "pS84-SbJEtYP",
        "colab_type": "code",
        "colab": {}
      },
      "cell_type": "code",
      "source": [
        "IS_GAUSSIAN = False\n",
        "IS_ZI = False"
      ],
      "execution_count": 0,
      "outputs": []
    },
    {
      "metadata": {
        "id": "MaswVJslAGFn",
        "colab_type": "code",
        "colab": {}
      },
      "cell_type": "code",
      "source": [
        "## Definition of the model\n",
        "#Using the functional API for clarity\n",
        "inputs = tf.keras.layers.Input(shape=(279,))\n",
        "rate = tf.keras.layers.Dense(100, activation='sigmoid')(inputs)\n",
        "rate = tf.keras.layers.Dense(10, activation='sigmoid')(rate)\n",
        "rate = tf.keras.layers.Dense(1, \n",
        "                             activation=tf.exp, \n",
        "                             bias_initializer='zeros', \n",
        "                             kernel_initializer='zeros')(rate)\n",
        "p_y = tfp.layers.DistributionLambda(my_poiss)(rate) #<------- Here we hand-in the the custom distribution\n",
        "#Glueing input and output together. Note that output is a tf.distirbution \n",
        "model = tf.keras.models.Model(inputs=inputs, outputs=p_y)"
      ],
      "execution_count": 0,
      "outputs": []
    },
    {
      "metadata": {
        "id": "4kc6PT87AGFp",
        "colab_type": "code",
        "colab": {}
      },
      "cell_type": "code",
      "source": [
        "def negloglik(y_true, y_hat):\n",
        "  return -y_hat.log_prob(y_true)"
      ],
      "execution_count": 0,
      "outputs": []
    },
    {
      "metadata": {
        "id": "10dk7v36AGFr",
        "colab_type": "text"
      },
      "cell_type": "markdown",
      "source": [
        "### Definition of a Gaussian Model"
      ]
    },
    {
      "metadata": {
        "id": "sZbGjaYTAGFs",
        "colab_type": "code",
        "colab": {
          "base_uri": "https://localhost:8080/",
          "height": 861
        },
        "outputId": "cd99b7fc-eadf-4fca-8529-89643ce17385"
      },
      "cell_type": "code",
      "source": [
        "if IS_GAUSSIAN: #Using MSE\n",
        "  model = tf.keras.models.Model(inputs=inputs, outputs=rate)\n",
        "  model.compile(optimizer=tf.optimizers.Adam(), loss='mse')\n",
        "  print(\"Using Gaussian\")\n",
        "else:\n",
        "  print(\"Using Poisson\")\n",
        "  model.compile(optimizer=tf.optimizers.Adam(), loss=negloglik)\n",
        "hist = model.fit(X, y, epochs=15, verbose=1, validation_split=0.1);\n",
        "plt.plot(hist.history['loss'])\n",
        "plt.plot(hist.history['val_loss'])\n",
        "plt.xlabel('Epochs')\n",
        "np.mean(hist.history['loss'])"
      ],
      "execution_count": 117,
      "outputs": [
        {
          "output_type": "stream",
          "text": [
            "Using Poisson\n",
            "Train on 47157 samples, validate on 5240 samples\n",
            "Epoch 1/15\n",
            "47157/47157 [==============================] - 4s 88us/sample - loss: 13.1408 - val_loss: 4.1305\n",
            "Epoch 2/15\n",
            "47157/47157 [==============================] - 5s 101us/sample - loss: 7.4543 - val_loss: 4.0487\n",
            "Epoch 3/15\n",
            "47157/47157 [==============================] - 5s 98us/sample - loss: 6.6641 - val_loss: 3.9168\n",
            "Epoch 4/15\n",
            "47157/47157 [==============================] - 4s 88us/sample - loss: 6.2235 - val_loss: 3.9193\n",
            "Epoch 5/15\n",
            "47157/47157 [==============================] - 4s 84us/sample - loss: 5.7971 - val_loss: 3.8750\n",
            "Epoch 6/15\n",
            "47157/47157 [==============================] - 4s 84us/sample - loss: 5.4743 - val_loss: 3.7755\n",
            "Epoch 7/15\n",
            "47157/47157 [==============================] - 4s 84us/sample - loss: 5.2765 - val_loss: 3.5840\n",
            "Epoch 8/15\n",
            "47157/47157 [==============================] - 4s 85us/sample - loss: 4.9542 - val_loss: 3.6434\n",
            "Epoch 9/15\n",
            "47157/47157 [==============================] - 4s 85us/sample - loss: 4.7411 - val_loss: 3.5542\n",
            "Epoch 10/15\n",
            "47157/47157 [==============================] - 4s 85us/sample - loss: 4.6137 - val_loss: 3.5794\n",
            "Epoch 11/15\n",
            "47157/47157 [==============================] - 4s 84us/sample - loss: 4.3708 - val_loss: 3.4495\n",
            "Epoch 12/15\n",
            "47157/47157 [==============================] - 4s 84us/sample - loss: 4.1973 - val_loss: 3.5049\n",
            "Epoch 13/15\n",
            "47157/47157 [==============================] - 4s 84us/sample - loss: 4.0508 - val_loss: 3.5155\n",
            "Epoch 14/15\n",
            "47157/47157 [==============================] - 4s 84us/sample - loss: 3.8681 - val_loss: 3.3591\n",
            "Epoch 15/15\n",
            "47157/47157 [==============================] - 4s 84us/sample - loss: 3.8208 - val_loss: 3.4075\n"
          ],
          "name": "stdout"
        },
        {
          "output_type": "execute_result",
          "data": {
            "text/plain": [
              "5.64314628768753"
            ]
          },
          "metadata": {
            "tags": []
          },
          "execution_count": 117
        },
        {
          "output_type": "display_data",
          "data": {
            "image/png": "[encoded data removed]",
            "text/plain": [
              "<Figure size 432x288 with 1 Axes>"
            ]
          },
          "metadata": {
            "tags": []
          }
        }
      ]
    },
    {
      "metadata": {
        "id": "1z1w_TnjAGFu",
        "colab_type": "text"
      },
      "cell_type": "markdown",
      "source": [
        "### Definition of a zero inflated  Model"
      ]
    },
    {
      "metadata": {
        "id": "jE4qoo62AGFu",
        "colab_type": "code",
        "colab": {}
      },
      "cell_type": "code",
      "source": [
        "## Definition of the custom parametrized distribution\n",
        "def my_zero(t):\n",
        "    mean = tf.exp(t[:,0]) #Needed so that Poisson has batch_shape=(5,) \n",
        "    #print(mean)\n",
        "    s = tf.math.sigmoid(t[...,1:])\n",
        "    probs = tf.concat([s, 1-s], axis=1)\n",
        "    #print(probs)\n",
        "    return tfd.Mixture(\n",
        "          cat=tfd.Categorical(probs=probs),#batch_shape=(5,) event_shape=()\n",
        "          components=[\n",
        "            tfd.Poisson(rate=mean),   #batch_shape=(5,) event_shape=()\n",
        "            #tfd.Poisson(rate=0.00001*mean), #Hack to produce 0\n",
        "            tfd.Deterministic(loc=tf.zeros_like(mean))\n",
        "        ])"
      ],
      "execution_count": 0,
      "outputs": []
    },
    {
      "metadata": {
        "id": "7UYCROWnAGF0",
        "colab_type": "code",
        "outputId": "517549df-3616-4f08-ae8f-940fc1715709",
        "colab": {
          "base_uri": "https://localhost:8080/",
          "height": 476
        }
      },
      "cell_type": "code",
      "source": [
        "## Definition of the model\n",
        "#Using the functional API for clarity\n",
        "inputs = tf.keras.layers.Input(shape=(279,))\n",
        "\n",
        "# The mean path\n",
        "m_h1 = tf.keras.layers.Dense(100, activation='sigmoid')(inputs)\n",
        "m_h2 = tf.keras.layers.Dense(10, activation='sigmoid')(m_h1)\n",
        "mean = tf.keras.layers.Dense(1,bias_initializer='zeros', kernel_initializer='zeros')(m_h2)\n",
        "\n",
        "# The zero path\n",
        "z_h1 = tf.keras.layers.Dense(100, activation='sigmoid')(inputs)\n",
        "z_h2 = tf.keras.layers.Dense(10, activation='sigmoid')(z_h1)\n",
        "z = tf.keras.layers.Dense(1,bias_initializer='zeros', kernel_initializer='zeros')(z_h2)\n",
        "\n",
        "tt = tf.concat([mean, z], axis=1)\n",
        "p_y_zi = tfp.layers.DistributionLambda(my_zero)(tt)\n",
        "\n",
        "#Glueing input and output together. Note that output is a tf.distirbution \n",
        "model = tf.keras.models.Model(inputs=inputs, outputs=p_y_zi)\n",
        "model.summary()"
      ],
      "execution_count": 102,
      "outputs": [
        {
          "output_type": "stream",
          "text": [
            "Model: \"model_22\"\n",
            "__________________________________________________________________________________________________\n",
            "Layer (type)                    Output Shape         Param #     Connected to                     \n",
            "==================================================================================================\n",
            "input_13 (InputLayer)           [(None, 279)]        0                                            \n",
            "__________________________________________________________________________________________________\n",
            "dense_29 (Dense)                (None, 100)          28000       input_13[0][0]                   \n",
            "__________________________________________________________________________________________________\n",
            "dense_32 (Dense)                (None, 100)          28000       input_13[0][0]                   \n",
            "__________________________________________________________________________________________________\n",
            "dense_30 (Dense)                (None, 10)           1010        dense_29[0][0]                   \n",
            "__________________________________________________________________________________________________\n",
            "dense_33 (Dense)                (None, 10)           1010        dense_32[0][0]                   \n",
            "__________________________________________________________________________________________________\n",
            "dense_31 (Dense)                (None, 1)            11          dense_30[0][0]                   \n",
            "__________________________________________________________________________________________________\n",
            "dense_34 (Dense)                (None, 1)            11          dense_33[0][0]                   \n",
            "__________________________________________________________________________________________________\n",
            "concat_1 (TensorFlowOpLayer)    [(None, 2)]          0           dense_31[0][0]                   \n",
            "                                                                 dense_34[0][0]                   \n",
            "__________________________________________________________________________________________________\n",
            "distribution_lambda_10 (Distrib ((None,), (None,))   0           concat_1[0][0]                   \n",
            "==================================================================================================\n",
            "Total params: 58,042\n",
            "Trainable params: 58,042\n",
            "Non-trainable params: 0\n",
            "__________________________________________________________________________________________________\n"
          ],
          "name": "stdout"
        }
      ]
    },
    {
      "metadata": {
        "id": "IRx-EDawAGF2",
        "colab_type": "code",
        "outputId": "915d07a8-c9c4-4313-b2ad-5b0573ec653b",
        "colab": {
          "base_uri": "https://localhost:8080/",
          "height": 544
        }
      },
      "cell_type": "code",
      "source": [
        "def negloglik2(y_true, y_hat):\n",
        "    # return -tf.reduce_mean(y_hat.log_prob(y_true))\n",
        "    return -tf.reduce_mean(y_hat.log_prob(tf.reshape(y_true,(-1,))))\n",
        "  \n",
        "  \n",
        "model.compile(optimizer=tf.optimizers.Adam(), loss=negloglik2)\n",
        "hist = model.fit(X, y, epochs=15, verbose=1, validation_split=0.1);"
      ],
      "execution_count": 103,
      "outputs": [
        {
          "output_type": "stream",
          "text": [
            "Train on 47157 samples, validate on 5240 samples\n",
            "Epoch 1/15\n",
            "47157/47157 [==============================] - 6s 131us/sample - loss: 11.3721 - val_loss: 2.7360\n",
            "Epoch 2/15\n",
            "47157/47157 [==============================] - 6s 122us/sample - loss: 6.2122 - val_loss: 2.7095\n",
            "Epoch 3/15\n",
            "47157/47157 [==============================] - 6s 122us/sample - loss: 5.6048 - val_loss: 2.6373\n",
            "Epoch 4/15\n",
            "47157/47157 [==============================] - 6s 121us/sample - loss: 5.2500 - val_loss: 2.6721\n",
            "Epoch 5/15\n",
            "47157/47157 [==============================] - 6s 136us/sample - loss: 4.9442 - val_loss: 2.5585\n",
            "Epoch 6/15\n",
            "47157/47157 [==============================] - 7s 149us/sample - loss: 4.6394 - val_loss: 2.6092\n",
            "Epoch 7/15\n",
            "47157/47157 [==============================] - 6s 121us/sample - loss: 4.3879 - val_loss: 2.6005\n",
            "Epoch 8/15\n",
            "47157/47157 [==============================] - 6s 121us/sample - loss: 4.1695 - val_loss: 2.7264\n",
            "Epoch 9/15\n",
            "47157/47157 [==============================] - 6s 121us/sample - loss: 4.0248 - val_loss: 2.7061\n",
            "Epoch 10/15\n",
            "47157/47157 [==============================] - 6s 122us/sample - loss: 3.8116 - val_loss: 2.6595\n",
            "Epoch 11/15\n",
            "47157/47157 [==============================] - 6s 121us/sample - loss: 3.6582 - val_loss: 2.7877\n",
            "Epoch 12/15\n",
            "47157/47157 [==============================] - 6s 127us/sample - loss: 3.5227 - val_loss: 2.5480\n",
            "Epoch 13/15\n",
            "47157/47157 [==============================] - 6s 125us/sample - loss: 3.3876 - val_loss: 2.6966\n",
            "Epoch 14/15\n",
            "47157/47157 [==============================] - 6s 126us/sample - loss: 3.2409 - val_loss: 2.5553\n",
            "Epoch 15/15\n",
            "47157/47157 [==============================] - 6s 126us/sample - loss: 3.1672 - val_loss: 2.7499\n"
          ],
          "name": "stdout"
        }
      ]
    },
    {
      "metadata": {
        "id": "J_5ep80ZPMdG",
        "colab_type": "code",
        "colab": {}
      },
      "cell_type": "code",
      "source": [
        "#model.get_weights()"
      ],
      "execution_count": 0,
      "outputs": []
    },
    {
      "metadata": {
        "id": "O7jxwAnkAGF4",
        "colab_type": "code",
        "outputId": "3310613b-db02-4117-97dc-e935d18b57a5",
        "colab": {
          "base_uri": "https://localhost:8080/",
          "height": 317
        }
      },
      "cell_type": "code",
      "source": [
        "plt.plot(hist.history['loss'])\n",
        "plt.plot(hist.history['val_loss'])\n",
        "plt.xlabel('Epochs')\n",
        "np.mean(hist.history['loss'])"
      ],
      "execution_count": 118,
      "outputs": [
        {
          "output_type": "execute_result",
          "data": {
            "text/plain": [
              "5.64314628768753"
            ]
          },
          "metadata": {
            "tags": []
          },
          "execution_count": 118
        },
        {
          "output_type": "display_data",
          "data": {
            "image/png": "[encoded data removed]",
            "text/plain": [
              "<Figure size 432x288 with 1 Axes>"
            ]
          },
          "metadata": {
            "tags": []
          }
        }
      ]
    },
    {
      "metadata": {
        "id": "46JSl6hnAGGD",
        "colab_type": "code",
        "outputId": "4a413f11-267f-403e-9f04-4a3c3dda8b9d",
        "colab": {
          "base_uri": "https://localhost:8080/",
          "height": 34
        }
      },
      "cell_type": "code",
      "source": [
        "if IS_GAUSSIAN:\n",
        "  model_mean = model\n",
        "else:\n",
        "  #Glueing input and output together. Note that output is a tf.distirbution \n",
        "  if IS_ZI:\n",
        "     model_mean = tf.keras.models.Model(inputs=inputs, outputs=p_y_zi.mean())\n",
        "  else:\n",
        "    model_mean = tf.keras.models.Model(inputs=inputs, outputs=p_y.mean())\n",
        "    \n",
        "def check_performance(model_mean):\n",
        "    files = [f for f in os.listdir('blogdata/') if f.startswith('blogData_test')]\n",
        "    hits_at10 = np.zeros(len(files))\n",
        "    for i,f in enumerate(files):\n",
        "        d = np.loadtxt(\"blogdata/\"+f, delimiter=',', dtype=np.float32)\n",
        "        #print(\"{}\".format(i))\n",
        "        Xtu = d[:,0:279]\n",
        "        yt = d[:,280]\n",
        "        Xt = (Xtu-Xmean) / (Xsd+1e-10)\n",
        "        d.shape, Xtu.shape, yt.shape\n",
        "        y_pred = model_mean.predict(Xt).flatten()\n",
        "        idx_true = np.argsort(yt)[-10:]\n",
        "        idx_pred = np.argsort(y_pred)[-10:] #The 10 higest\n",
        "        hits_at10[i]=len(np.intersect1d(idx_true, idx_pred))\n",
        "    print(np.mean(hits_at10), np.std(hits_at10)/np.sqrt(len(files)))\n",
        "    return hits_at10\n",
        "\n",
        "check_performance(model_mean);"
      ],
      "execution_count": 119,
      "outputs": [
        {
          "output_type": "stream",
          "text": [
            "5.85 0.18682285132653817\n"
          ],
          "name": "stdout"
        }
      ]
    },
    {
      "metadata": {
        "id": "33xy6Fc4AGGF",
        "colab_type": "code",
        "colab": {
          "base_uri": "https://localhost:8080/",
          "height": 323
        },
        "outputId": "9cc44c87-8dd6-48ef-8cee-d923f0f60b93"
      },
      "cell_type": "code",
      "source": [
        "model_mean.summary()"
      ],
      "execution_count": 87,
      "outputs": [
        {
          "output_type": "stream",
          "text": [
            "Model: \"model_17\"\n",
            "_________________________________________________________________\n",
            "Layer (type)                 Output Shape              Param #   \n",
            "=================================================================\n",
            "input_9 (InputLayer)         [(None, 279)]             0         \n",
            "_________________________________________________________________\n",
            "dense_20 (Dense)             (None, 10)                2800      \n",
            "_________________________________________________________________\n",
            "dense_21 (Dense)             (None, 1)                 11        \n",
            "_________________________________________________________________\n",
            "distribution_lambda_7/Poisso [(None, 1)]               0         \n",
            "_________________________________________________________________\n",
            "Identity_14 (TensorFlowOpLay [(None, 1)]               0         \n",
            "=================================================================\n",
            "Total params: 2,811\n",
            "Trainable params: 2,811\n",
            "Non-trainable params: 0\n",
            "_________________________________________________________________\n"
          ],
          "name": "stdout"
        }
      ]
    },
    {
      "metadata": {
        "id": "Mw8lOKHlGG0V",
        "colab_type": "code",
        "colab": {}
      },
      "cell_type": "code",
      "source": [
        ""
      ],
      "execution_count": 0,
      "outputs": []
    }
  ]
}