{
 "cells": [
  {
   "cell_type": "markdown",
   "metadata": {
    "colab_type": "text",
    "id": "uZcY6IqTAGFX"
   },
   "source": [
    "### Case Study number of blogposts\n",
    "\n",
    "See: \n",
    "http://archive.ics.uci.edu/ml/datasets/BlogFeedback\n",
    "\n",
    "As suggested in the paper and acomaning [talk](http://archive.ics.uci.edu/ml/datasets/BlogFeedback), we use only the base features\n",
    "\n",
    "#### Results Hits@10 mean and stdderr\n",
    "\n",
    "\n",
    "##### 20,5 with only base features\n",
    "LR   5.483   0.181799  #<--- In the paper they had 5.450 +- 1.322 (whatever +- is)\n",
    "\n",
    "Poisson 5.966 0.1763\n",
    "\n",
    "ZI Poisson 6.0 0.15\n",
    "\n",
    "##### 100,10 with only base features\n",
    "\n",
    "LR               5.71 0.170\n",
    "\n",
    "Poisson      6.10 0.179 \n",
    "\n",
    "ZI Poisson 6.15 0.163\n",
    "\n",
    "##### No Hidden with only base features\n",
    "LR               4.45 0.15\n",
    "\n",
    "Poisson     5.133 0.167442\n",
    "\n",
    "ZI Poisson got NaNs\n",
    "\n",
    "\n",
    "##### Some results using all features\n",
    "\n",
    "##### On hidden layer with 10 nodes (all features)\n",
    "LR                 4.900 0.1690\n",
    "\n",
    "Poisson       5.483 0.1878\n",
    "\n",
    "ZI Poisson  5.566 0.1515\n",
    "\n",
    "##### Two hidden layer with 100, 10 nodes (all features)\n",
    "LR               5.166666666666667 0.15664\n",
    "\n",
    "Poisson     5.85 0.1868\n",
    "\n",
    "Zi Poisson 5.666666666666667 0.18358568490"
   ]
  },
  {
   "cell_type": "code",
   "execution_count": 1,
   "metadata": {
    "colab": {},
    "colab_type": "code",
    "id": "OGzTTCQbAGFZ"
   },
   "outputs": [
    {
     "name": "stdout",
     "output_type": "stream",
     "text": [
      "File exists\n"
     ]
    }
   ],
   "source": [
    "import os\n",
    "if not os.path.isfile('blogdata/BlogFeedback.zip'):\n",
    "    !mkdir blogdata\n",
    "    print(\"Installing wget\")\n",
    "    !pip install wget\n",
    "    import wget\n",
    "    print(\"Downloading file\")\n",
    "    wget.download('http://archive.ics.uci.edu/ml/machine-learning-databases/00304/BlogFeedback.zip', 'blogdata/BlogFeedback.zip')\n",
    "    print(\"Unzipping content\")\n",
    "    !unzip blogdata/BlogFeedback.zip -d blogdata\n",
    "else:\n",
    "    print(\"File exists\")"
   ]
  },
  {
   "cell_type": "code",
   "execution_count": 0,
   "metadata": {
    "colab": {},
    "colab_type": "code",
    "id": "Isl0cZVMAZ51"
   },
   "outputs": [],
   "source": [
    "!pip install -q --upgrade tensorflow-gpu==2.0.0-alpha0\n",
    "print('Installation of `tensorflow-gpu==2.0.0-alpha0` complete.')"
   ]
  },
  {
   "cell_type": "code",
   "execution_count": 3,
   "metadata": {
    "colab": {
     "base_uri": "https://localhost:8080/",
     "height": 34
    },
    "colab_type": "code",
    "id": "Gmzlk_KDArVF",
    "outputId": "b6a2f1d0-bf80-4496-ca5c-7e4d144fb57e"
   },
   "outputs": [
    {
     "name": "stdout",
     "output_type": "stream",
     "text": [
      "Installation of `tfp-nightly` complete.\n"
     ]
    }
   ],
   "source": [
    " !pip install -q tfp-nightly\n",
    " print(\"Installation of `tfp-nightly` complete.\")"
   ]
  },
  {
   "cell_type": "code",
   "execution_count": 2,
   "metadata": {
    "colab": {
     "base_uri": "https://localhost:8080/",
     "height": 511
    },
    "colab_type": "code",
    "id": "hXvLxJKsAGFd",
    "outputId": "8c16a9aa-8d1c-4d42-e7ca-f56454df8a58"
   },
   "outputs": [
    {
     "name": "stdout",
     "output_type": "stream",
     "text": [
      "TFB Version 0.7.0-dev\n",
      "TF  Version 2.0.0-alpha0\n"
     ]
    }
   ],
   "source": [
    "import matplotlib.pyplot as plt\n",
    "import numpy as np\n",
    "import seaborn as sns\n",
    "\n",
    "import tensorflow as tf\n",
    "import tensorflow_probability as tfp\n",
    "\n",
    "sns.reset_defaults()\n",
    "#sns.set_style('whitegrid')\n",
    "sns.set_context(context='talk',font_scale=0.7)\n",
    "\n",
    "%matplotlib inline\n",
    "\n",
    "tfd = tfp.distributions\n",
    "print(\"TFB Version\", tfp.__version__)\n",
    "print(\"TF  Version\",tf.__version__)"
   ]
  },
  {
   "cell_type": "code",
   "execution_count": 3,
   "metadata": {
    "colab": {},
    "colab_type": "code",
    "id": "t_1OiqVSBAp1"
   },
   "outputs": [
    {
     "name": "stdout",
     "output_type": "stream",
     "text": [
      "WARNING: GPU device not found.\n"
     ]
    }
   ],
   "source": [
    "if tf.test.gpu_device_name() != '/device:GPU:0':\n",
    "  print('WARNING: GPU device not found.')\n",
    "else:\n",
    "  print('SUCCESS: Found GPU: {}'.format(tf.test.gpu_device_name()))"
   ]
  },
  {
   "cell_type": "code",
   "execution_count": 5,
   "metadata": {
    "colab": {},
    "colab_type": "code",
    "id": "MOj0hNbqinCG"
   },
   "outputs": [],
   "source": [
    "IS_GAUSSIAN = False\n",
    "IS_ZI = False\n",
    "USE_BASE = True #Use only the Basic features (successfully in paper)"
   ]
  },
  {
   "cell_type": "code",
   "execution_count": 6,
   "metadata": {
    "colab": {
     "base_uri": "https://localhost:8080/",
     "height": 34
    },
    "colab_type": "code",
    "id": "QE660pTmAGFf",
    "outputId": "647adeef-18c7-44ef-e05c-749121c29e96"
   },
   "outputs": [
    {
     "data": {
      "text/plain": [
       "((52397, 281), (52397, 63), (52397,))"
      ]
     },
     "execution_count": 6,
     "metadata": {},
     "output_type": "execute_result"
    }
   ],
   "source": [
    "# Loading to the data\n",
    "d = np.loadtxt(\"blogdata/blogData_train.csv\", delimiter=',', dtype=np.float32)\n",
    "if USE_BASE:\n",
    "  Xu = d[:,0:63]\n",
    "else:\n",
    "  Xu = d[:,0:279]\n",
    "\n",
    "y = d[:,280]\n",
    "d.shape, Xu.shape, y.shape"
   ]
  },
  {
   "cell_type": "code",
   "execution_count": 7,
   "metadata": {
    "colab": {},
    "colab_type": "code",
    "id": "m5Nb64B_AGFh"
   },
   "outputs": [],
   "source": [
    "Xmean = np.mean(Xu,axis=0)\n",
    "Xsd = np.std(Xu,axis=0)\n",
    "X = (Xu-Xmean)/(Xsd+1e-10)"
   ]
  },
  {
   "cell_type": "code",
   "execution_count": 8,
   "metadata": {
    "colab": {},
    "colab_type": "code",
    "id": "-gqqHX4xqu_K"
   },
   "outputs": [],
   "source": [
    "# Xm = np.concatenate([np.ones((np.shape(X)[0],1), dtype=np.float32), X], axis=1)\n",
    "# Xm.shape\n",
    "# # Doing the fit \n",
    "# fit = tfp.glm.fit(\n",
    "#     model_matrix=Xm,\n",
    "#     response=y,\n",
    "#     model=tfp.glm.Normal()\n",
    "# )\n",
    "# Not working due to problems with cholesky "
   ]
  },
  {
   "cell_type": "code",
   "execution_count": 9,
   "metadata": {
    "colab": {},
    "colab_type": "code",
    "id": "lst2_XBNv8w6"
   },
   "outputs": [],
   "source": [
    "def check_performance(model):\n",
    "  if IS_GAUSSIAN:\n",
    "    model_mean = model\n",
    "  else: \n",
    "    if IS_ZI:\n",
    "      model_mean = tf.keras.models.Model(inputs=inputs, outputs=p_y_zi.mean())\n",
    "    else:\n",
    "      model_mean = tf.keras.models.Model(inputs=inputs, outputs=p_y.mean())\n",
    "  files = [f for f in os.listdir('blogdata/') if f.startswith('blogData_test')]\n",
    "  hits_at10 = np.zeros(len(files))\n",
    "  for i,f in enumerate(files):\n",
    "      d = np.loadtxt(\"blogdata/\"+f, delimiter=',', dtype=np.float32)\n",
    "      #print(\"{}\".format(i))\n",
    "      Xtu = d[:,0:X.shape[1]]\n",
    "      yt = d[:,280]\n",
    "      Xt = (Xtu-Xmean) / (Xsd+1e-10)\n",
    "      d.shape, Xtu.shape, yt.shape\n",
    "      y_pred = model_mean.predict(Xt).flatten()\n",
    "      idx_true = np.argsort(yt)[-10:]\n",
    "      idx_pred = np.argsort(y_pred)[-10:] #The 10 higest\n",
    "      hits_at10[i]=len(np.intersect1d(idx_true, idx_pred))\n",
    "  print(np.mean(hits_at10), np.std(hits_at10)/np.sqrt(len(files)))\n",
    "  return hits_at10\n"
   ]
  },
  {
   "cell_type": "markdown",
   "metadata": {
    "colab_type": "text",
    "id": "FoI1J29DAGFj"
   },
   "source": [
    "### Definition of a Poisson Model"
   ]
  },
  {
   "cell_type": "code",
   "execution_count": 10,
   "metadata": {
    "colab": {},
    "colab_type": "code",
    "id": "MaswVJslAGFn"
   },
   "outputs": [],
   "source": [
    "# Definition of the custom parametrized distribution\n",
    "def my_poiss(t):\n",
    "    return tfd.Poisson(rate=t) #Equivalent to log_rate=t when using linear activation \n",
    "  \n",
    "## Definition of the model\n",
    "#Using the functional API for clarity\n",
    "inputs = tf.keras.layers.Input(shape=(X.shape[1],))\n",
    "rate = tf.keras.layers.Dense(100, activation='sigmoid')(inputs)\n",
    "rate = tf.keras.layers.Dense(10, activation='sigmoid')(rate)\n",
    "rate = tf.keras.layers.Dense(1, \n",
    "                             activation=tf.exp, \n",
    "                             bias_initializer='zeros', \n",
    "                             kernel_initializer='zeros')(rate)\n",
    "p_y = tfp.layers.DistributionLambda(my_poiss)(rate) #<------- Here we hand-in the the custom distribution\n",
    "#Glueing input and output together. Note that output is a tf.distirbution \n",
    "model = tf.keras.models.Model(inputs=inputs, outputs=p_y)"
   ]
  },
  {
   "cell_type": "markdown",
   "metadata": {
    "colab_type": "text",
    "id": "10dk7v36AGFr"
   },
   "source": [
    "### Definition of a Gaussian Model"
   ]
  },
  {
   "cell_type": "code",
   "execution_count": 11,
   "metadata": {
    "colab": {
     "base_uri": "https://localhost:8080/",
     "height": 864
    },
    "colab_type": "code",
    "id": "sZbGjaYTAGFs",
    "outputId": "36b89a61-8737-40e1-be34-8d31d20286b9"
   },
   "outputs": [
    {
     "name": "stdout",
     "output_type": "stream",
     "text": [
      "Using Poisson\n",
      "Train on 47157 samples, validate on 5240 samples\n",
      "Epoch 1/15\n",
      "47157/47157 [==============================] - 2s 35us/sample - loss: 12.2278 - val_loss: 4.0224\n",
      "Epoch 2/15\n",
      "47157/47157 [==============================] - 1s 31us/sample - loss: 7.2314 - val_loss: 3.7967\n",
      "Epoch 3/15\n",
      "47157/47157 [==============================] - 1s 30us/sample - loss: 6.7398 - val_loss: 3.6832\n",
      "Epoch 4/15\n",
      "47157/47157 [==============================] - 1s 31us/sample - loss: 6.4533 - val_loss: 3.6235\n",
      "Epoch 5/15\n",
      "47157/47157 [==============================] - 1s 30us/sample - loss: 6.2701 - val_loss: 3.5859\n",
      "Epoch 6/15\n",
      "47157/47157 [==============================] - 1s 31us/sample - loss: 6.1389 - val_loss: 3.5362\n",
      "Epoch 7/15\n",
      "47157/47157 [==============================] - 1s 31us/sample - loss: 5.9799 - val_loss: 3.4974\n",
      "Epoch 8/15\n",
      "47157/47157 [==============================] - 1s 31us/sample - loss: 5.9405 - val_loss: 3.3824\n",
      "Epoch 9/15\n",
      "47157/47157 [==============================] - 2s 33us/sample - loss: 5.8399 - val_loss: 3.4634\n",
      "Epoch 10/15\n",
      "47157/47157 [==============================] - 2s 32us/sample - loss: 5.7928 - val_loss: 3.4010\n",
      "Epoch 11/15\n",
      "47157/47157 [==============================] - 2s 33us/sample - loss: 5.6964 - val_loss: 3.3466\n",
      "Epoch 12/15\n",
      "47157/47157 [==============================] - 2s 33us/sample - loss: 5.6108 - val_loss: 3.4068\n",
      "Epoch 13/15\n",
      "47157/47157 [==============================] - 2s 33us/sample - loss: 5.6260 - val_loss: 3.2784\n",
      "Epoch 14/15\n",
      "47157/47157 [==============================] - 1s 31us/sample - loss: 5.5524 - val_loss: 3.2964\n",
      "Epoch 15/15\n",
      "47157/47157 [==============================] - 2s 33us/sample - loss: 5.4932 - val_loss: 3.3067\n"
     ]
    },
    {
     "data": {
      "image/png": "[encoded data removed]",
      "text/plain": [
       "<Figure size 432x288 with 1 Axes>"
      ]
     },
     "metadata": {
      "needs_background": "light"
     },
     "output_type": "display_data"
    }
   ],
   "source": [
    "def negloglik(y_true, y_hat):\n",
    "  return -y_hat.log_prob(y_true)\n",
    "\n",
    "if IS_GAUSSIAN: #Using MSE\n",
    "  model = tf.keras.models.Model(inputs=inputs, outputs=rate)\n",
    "  model.compile(optimizer=tf.optimizers.Adam(), loss='mse')\n",
    "  print(\"Using Gaussian\")\n",
    "else:\n",
    "  print(\"Using Poisson\")\n",
    "  model.compile(optimizer=tf.optimizers.Adam(), loss=negloglik)\n",
    "\n",
    "if not IS_ZI:  \n",
    "  hist = model.fit(X, y, epochs=15, verbose=1, validation_split=0.1);\n",
    "  plt.plot(hist.history['loss'])\n",
    "  plt.plot(hist.history['val_loss'])\n",
    "  plt.xlabel('Epochs')\n",
    "  np.mean(hist.history['loss'])"
   ]
  },
  {
   "cell_type": "code",
   "execution_count": 12,
   "metadata": {
    "colab": {
     "base_uri": "https://localhost:8080/",
     "height": 306
    },
    "colab_type": "code",
    "id": "Qhm3wQuJwFED",
    "outputId": "d2e72c3e-6076-49e5-e0ef-0f199eab2d06"
   },
   "outputs": [
    {
     "name": "stdout",
     "output_type": "stream",
     "text": [
      "6.016666666666667 0.16913450706902328\n",
      "Model: \"model\"\n",
      "_________________________________________________________________\n",
      "Layer (type)                 Output Shape              Param #   \n",
      "=================================================================\n",
      "input_1 (InputLayer)         [(None, 63)]              0         \n",
      "_________________________________________________________________\n",
      "dense (Dense)                (None, 100)               6400      \n",
      "_________________________________________________________________\n",
      "dense_1 (Dense)              (None, 10)                1010      \n",
      "_________________________________________________________________\n",
      "dense_2 (Dense)              (None, 1)                 11        \n",
      "_________________________________________________________________\n",
      "distribution_lambda (Distrib ((None, 1), (None, 1))    0         \n",
      "=================================================================\n",
      "Total params: 7,421\n",
      "Trainable params: 7,421\n",
      "Non-trainable params: 0\n",
      "_________________________________________________________________\n"
     ]
    }
   ],
   "source": [
    "check_performance(model);\n",
    "IS_ZI, IS_GAUSSIAN\n",
    "model.summary()"
   ]
  },
  {
   "cell_type": "markdown",
   "metadata": {
    "colab_type": "text",
    "id": "1z1w_TnjAGFu"
   },
   "source": [
    "### Definition of a zero inflated  Model"
   ]
  },
  {
   "cell_type": "code",
   "execution_count": 0,
   "metadata": {
    "colab": {
     "base_uri": "https://localhost:8080/",
     "height": 496
    },
    "colab_type": "code",
    "id": "7UYCROWnAGF0",
    "outputId": "caba4a33-2c62-4083-eb91-a1bfc1125c19"
   },
   "outputs": [
    {
     "name": "stdout",
     "output_type": "stream",
     "text": [
      "Model: \"model_3\"\n",
      "__________________________________________________________________________________________________\n",
      "Layer (type)                    Output Shape         Param #     Connected to                     \n",
      "==================================================================================================\n",
      "input_3 (InputLayer)            [(None, 63)]         0                                            \n",
      "__________________________________________________________________________________________________\n",
      "dense_9 (Dense)                 (None, 100)          6400        input_3[0][0]                    \n",
      "__________________________________________________________________________________________________\n",
      "dense_12 (Dense)                (None, 100)          6400        input_3[0][0]                    \n",
      "__________________________________________________________________________________________________\n",
      "dense_10 (Dense)                (None, 10)           1010        dense_9[0][0]                    \n",
      "__________________________________________________________________________________________________\n",
      "dense_13 (Dense)                (None, 10)           1010        dense_12[0][0]                   \n",
      "__________________________________________________________________________________________________\n",
      "dense_11 (Dense)                (None, 1)            11          dense_10[0][0]                   \n",
      "__________________________________________________________________________________________________\n",
      "dense_14 (Dense)                (None, 1)            11          dense_13[0][0]                   \n",
      "__________________________________________________________________________________________________\n",
      "concat_1 (TensorFlowOpLayer)    [(None, 2)]          0           dense_11[0][0]                   \n",
      "                                                                 dense_14[0][0]                   \n",
      "__________________________________________________________________________________________________\n",
      "distribution_lambda_2 (Distribu ((None,), (None,))   0           concat_1[0][0]                   \n",
      "==================================================================================================\n",
      "Total params: 14,842\n",
      "Trainable params: 14,842\n",
      "Non-trainable params: 0\n",
      "__________________________________________________________________________________________________\n"
     ]
    }
   ],
   "source": [
    "## Definition of the custom parametrized distribution\n",
    "def my_zero(t):\n",
    "    mean = tf.exp(t[:,0]) #Needed so that Poisson has batch_shape=(5,) \n",
    "    #print(mean)\n",
    "    s = tf.math.sigmoid(t[...,1:])\n",
    "    probs = tf.concat([s, 1-s], axis=1)\n",
    "    #print(probs)\n",
    "    return tfd.Mixture(\n",
    "          cat=tfd.Categorical(probs=probs),#batch_shape=(5,) event_shape=()\n",
    "          components=[\n",
    "            tfd.Poisson(rate=mean),   #batch_shape=(5,) event_shape=()\n",
    "            tfd.Deterministic(loc=tf.zeros_like(mean))\n",
    "        ])\n",
    "\n",
    "\n",
    "## Definition of the model\n",
    "#Using the functional API for clarity\n",
    "inputs = tf.keras.layers.Input(shape=(X.shape[1],))\n",
    "\n",
    "# The mean path\n",
    "m_h1 = tf.keras.layers.Dense(100, activation='sigmoid')(inputs)\n",
    "m_h2 = tf.keras.layers.Dense(10, activation='sigmoid')(m_h1)\n",
    "mean = tf.keras.layers.Dense(1,bias_initializer='zeros', kernel_initializer='zeros')(m_h2)\n",
    "\n",
    "# The zero path\n",
    "z_h1 = tf.keras.layers.Dense(100, activation='sigmoid')(inputs)\n",
    "z_h2 = tf.keras.layers.Dense(10, activation='sigmoid')(z_h1)\n",
    "z = tf.keras.layers.Dense(1,bias_initializer='zeros', kernel_initializer='zeros')(z_h2)\n",
    "\n",
    "tt = tf.concat([mean, z], axis=1)\n",
    "p_y_zi = tfp.layers.DistributionLambda(my_zero)(tt)\n",
    "\n",
    "#Glueing input and output together. Note that output is a tf.distirbution \n",
    "model = tf.keras.models.Model(inputs=inputs, outputs=p_y_zi)\n",
    "model.summary()"
   ]
  },
  {
   "cell_type": "code",
   "execution_count": 0,
   "metadata": {
    "colab": {
     "base_uri": "https://localhost:8080/",
     "height": 844
    },
    "colab_type": "code",
    "id": "IRx-EDawAGF2",
    "outputId": "8168414c-5c52-4811-d665-49e3de52f46e"
   },
   "outputs": [
    {
     "name": "stdout",
     "output_type": "stream",
     "text": [
      "Train on 47157 samples, validate on 5240 samples\n",
      "Epoch 1/15\n",
      "47157/47157 [==============================] - 6s 126us/sample - loss: 10.4758 - val_loss: 2.4773\n",
      "Epoch 2/15\n",
      "47157/47157 [==============================] - 6s 118us/sample - loss: 5.8699 - val_loss: 2.3869\n",
      "Epoch 3/15\n",
      "47157/47157 [==============================] - 6s 119us/sample - loss: 5.5113 - val_loss: 2.2247\n",
      "Epoch 4/15\n",
      "47157/47157 [==============================] - 6s 119us/sample - loss: 5.3284 - val_loss: 2.3180\n",
      "Epoch 5/15\n",
      "47157/47157 [==============================] - 6s 118us/sample - loss: 5.2414 - val_loss: 2.3293\n",
      "Epoch 6/15\n",
      "47157/47157 [==============================] - 7s 142us/sample - loss: 5.1443 - val_loss: 2.1886\n",
      "Epoch 7/15\n",
      "47157/47157 [==============================] - 7s 139us/sample - loss: 5.0717 - val_loss: 2.2796\n",
      "Epoch 8/15\n",
      "47157/47157 [==============================] - 6s 119us/sample - loss: 5.0346 - val_loss: 2.3517\n",
      "Epoch 9/15\n",
      "47157/47157 [==============================] - 6s 119us/sample - loss: 4.9808 - val_loss: 2.2978\n",
      "Epoch 10/15\n",
      "47157/47157 [==============================] - 6s 118us/sample - loss: 4.9348 - val_loss: 2.2719\n",
      "Epoch 11/15\n",
      "47157/47157 [==============================] - 6s 118us/sample - loss: 4.9560 - val_loss: 2.1891\n",
      "Epoch 12/15\n",
      "47157/47157 [==============================] - 6s 117us/sample - loss: 4.8501 - val_loss: 2.2214\n",
      "Epoch 13/15\n",
      "47157/47157 [==============================] - 6s 118us/sample - loss: 4.8234 - val_loss: 2.3895\n",
      "Epoch 14/15\n",
      "47157/47157 [==============================] - 6s 118us/sample - loss: 4.7866 - val_loss: 2.4121\n",
      "Epoch 15/15\n",
      "47157/47157 [==============================] - 6s 119us/sample - loss: 4.7915 - val_loss: 2.3299\n"
     ]
    },
    {
     "data": {
      "text/plain": [
       "5.453362395166454"
      ]
     },
     "execution_count": 17,
     "metadata": {
      "tags": []
     },
     "output_type": "execute_result"
    },
    {
     "data": {
      "image/png": "[encoded data removed]",
      "text/plain": [
       "<Figure size 432x288 with 1 Axes>"
      ]
     },
     "metadata": {
      "tags": []
     },
     "output_type": "display_data"
    }
   ],
   "source": [
    "def negloglik2(y_true, y_hat):\n",
    "    # return -tf.reduce_mean(y_hat.log_prob(y_true))\n",
    "    return -tf.reduce_mean(y_hat.log_prob(tf.reshape(y_true,(-1,))))\n",
    "  \n",
    "  \n",
    "model.compile(optimizer=tf.optimizers.Adam(), loss=negloglik2)\n",
    "hist = model.fit(X, y, epochs=15, verbose=1, validation_split=0.1);\n",
    "\n",
    "plt.plot(hist.history['loss'])\n",
    "plt.plot(hist.history['val_loss'])\n",
    "plt.xlabel('Epochs')\n",
    "np.mean(hist.history['loss'])"
   ]
  },
  {
   "cell_type": "code",
   "execution_count": 0,
   "metadata": {
    "colab": {
     "base_uri": "https://localhost:8080/",
     "height": 374
    },
    "colab_type": "code",
    "id": "46JSl6hnAGGD",
    "outputId": "1a0bd8c1-b330-4ef0-b24e-191b408207c5"
   },
   "outputs": [
    {
     "name": "stdout",
     "output_type": "stream",
     "text": [
      "5.9 0.16782927833565472\n",
      "Model: \"model_8\"\n",
      "_________________________________________________________________\n",
      "Layer (type)                 Output Shape              Param #   \n",
      "=================================================================\n",
      "input_4 (InputLayer)         [(None, 63)]              0         \n",
      "_________________________________________________________________\n",
      "dense_15 (Dense)             (None, 100)               6400      \n",
      "_________________________________________________________________\n",
      "dense_16 (Dense)             (None, 10)                1010      \n",
      "_________________________________________________________________\n",
      "dense_17 (Dense)             (None, 1)                 11        \n",
      "_________________________________________________________________\n",
      "distribution_lambda_3/Poisso [(None, 1)]               0         \n",
      "_________________________________________________________________\n",
      "Identity_8 (TensorFlowOpLaye [(None, 1)]               0         \n",
      "=================================================================\n",
      "Total params: 7,421\n",
      "Trainable params: 7,421\n",
      "Non-trainable params: 0\n",
      "_________________________________________________________________\n"
     ]
    }
   ],
   "source": [
    "check_performance(model_mean);\n",
    "IS_ZI, IS_GAUSSIAN\n",
    "model_mean.summary()"
   ]
  },
  {
   "cell_type": "code",
   "execution_count": 0,
   "metadata": {
    "colab": {},
    "colab_type": "code",
    "id": "Mw8lOKHlGG0V"
   },
   "outputs": [],
   "source": []
  }
 ],
 "metadata": {
  "accelerator": "GPU",
  "colab": {
   "collapsed_sections": [],
   "name": "count_case_study.ipynb",
   "provenance": [],
   "version": "0.3.2"
  },
  "kernelspec": {
   "display_name": "Python 3",
   "language": "python",
   "name": "python3"
  },
  "language_info": {
   "codemirror_mode": {
    "name": "ipython",
    "version": 3
   },
   "file_extension": ".py",
   "mimetype": "text/x-python",
   "name": "python",
   "nbconvert_exporter": "python",
   "pygments_lexer": "ipython3",
   "version": "3.5.2"
  }
 },
 "nbformat": 4,
 "nbformat_minor": 1
}
