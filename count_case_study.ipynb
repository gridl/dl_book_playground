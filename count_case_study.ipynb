{
 "cells": [
  {
   "cell_type": "markdown",
   "metadata": {
    "colab_type": "text",
    "id": "uZcY6IqTAGFX"
   },
   "source": [
    "### Case Study number of blogposts\n",
    "\n",
    "See: \n",
    "http://archive.ics.uci.edu/ml/datasets/BlogFeedback\n",
    "\n",
    "As suggested in the [paper](http://www.cs.bme.hu/~buza/pdfs/gfkl2012_blogs.pdf) and acomaning [talk](http://archive.ics.uci.edu/ml/datasets/BlogFeedback), we use only the base features\n",
    "\n",
    "#### Results Hits@10 mean and stdderr\n",
    "\n",
    "\n",
    "##### 20,5 with only base features\n",
    "LR   5.483   0.181799  #<--- In the paper they had 5.450 +- 1.322 (whatever +- is)\n",
    "\n",
    "Poisson 5.966 0.1763\n",
    "\n",
    "ZI Poisson 6.0 0.15"
   ]
  },
  {
   "cell_type": "code",
   "execution_count": 1,
   "metadata": {
    "colab": {},
    "colab_type": "code",
    "id": "OGzTTCQbAGFZ"
   },
   "outputs": [
    {
     "name": "stdout",
     "output_type": "stream",
     "text": [
      "File exists\n"
     ]
    }
   ],
   "source": [
    "import os\n",
    "if not os.path.isfile('blogdata/BlogFeedback.zip'):\n",
    "    !mkdir blogdata\n",
    "    print(\"Installing wget\")\n",
    "    !pip install wget\n",
    "    import wget\n",
    "    print(\"Downloading file\")\n",
    "    wget.download('http://archive.ics.uci.edu/ml/machine-learning-databases/00304/BlogFeedback.zip', 'blogdata/BlogFeedback.zip')\n",
    "    print(\"Unzipping content\")\n",
    "    !unzip blogdata/BlogFeedback.zip -d blogdata\n",
    "else:\n",
    "    print(\"File exists\")"
   ]
  },
  {
   "cell_type": "code",
   "execution_count": 2,
   "metadata": {},
   "outputs": [
    {
     "name": "stdout",
     "output_type": "stream",
     "text": [
      "Tensorflow version:  2.0.0-alpha0  running in colab?:  False\n"
     ]
    }
   ],
   "source": [
    "import tensorflow as tf\n",
    "try: #If running in colab \n",
    "    import google.colab\n",
    "    IN_COLAB = True \n",
    "except:\n",
    "    IN_COLAB = False\n",
    "if (not tf.__version__.startswith('2')): #Checking if tf 2.0 is installed\n",
    "    if IN_COLAB: #If running in colab install tf 2.0\n",
    "        !pip install tensorflow==2.0.0-alpha0\n",
    "        !pip install pip install tfp-nightly==0.7.0-dev20190511\n",
    "    print('Please install tensorflow 2.0 to run this notebook')\n",
    "print('Tensorflow version: ',tf.__version__, ' running in colab?: ', IN_COLAB)"
   ]
  },
  {
   "cell_type": "code",
   "execution_count": 3,
   "metadata": {
    "colab": {
     "base_uri": "https://localhost:8080/",
     "height": 511
    },
    "colab_type": "code",
    "id": "hXvLxJKsAGFd",
    "outputId": "8c16a9aa-8d1c-4d42-e7ca-f56454df8a58"
   },
   "outputs": [
    {
     "name": "stdout",
     "output_type": "stream",
     "text": [
      "TFP Version 0.7.0-dev20190511\n",
      "TF  Version 2.0.0-alpha0\n"
     ]
    }
   ],
   "source": [
    "import matplotlib.pyplot as plt\n",
    "import numpy as np\n",
    "from sklearn.model_selection import train_test_split\n",
    "from sklearn.metrics import mean_absolute_error, mean_squared_error\n",
    "import seaborn as sns\n",
    "import tensorflow_probability as tfp\n",
    "\n",
    "sns.reset_defaults()\n",
    "#sns.set_style('whitegrid')\n",
    "sns.set_context(context='talk',font_scale=0.7)\n",
    "\n",
    "\n",
    "%matplotlib inline\n",
    "plt.style.use('default')\n",
    "\n",
    "tfd = tfp.distributions\n",
    "tfb = tfp.bijectors\n",
    "from tensorflow.keras.models import Model\n",
    "from tensorflow.keras.layers import Dense\n",
    "print(\"TFP Version\", tfp.__version__)\n",
    "print(\"TF  Version\",tf.__version__)\n",
    "np.random.seed(42)\n",
    "tf.random.set_seed(42)\n"
   ]
  },
  {
   "cell_type": "code",
   "execution_count": 4,
   "metadata": {
    "colab": {},
    "colab_type": "code",
    "id": "MOj0hNbqinCG"
   },
   "outputs": [],
   "source": [
    "USE_BASE = True #Use only the Basic features (successfully in paper)\n"
   ]
  },
  {
   "cell_type": "code",
   "execution_count": 5,
   "metadata": {
    "colab": {
     "base_uri": "https://localhost:8080/",
     "height": 34
    },
    "colab_type": "code",
    "id": "QE660pTmAGFf",
    "outputId": "647adeef-18c7-44ef-e05c-749121c29e96"
   },
   "outputs": [
    {
     "data": {
      "text/plain": [
       "((52397, 281), (52397, 63), (52397,))"
      ]
     },
     "execution_count": 5,
     "metadata": {},
     "output_type": "execute_result"
    }
   ],
   "source": [
    "# Loading to the data\n",
    "d = np.loadtxt(\"blogdata/blogData_train.csv\", delimiter=',', dtype=np.float32)\n",
    "if USE_BASE:\n",
    "  Xu = d[:,0:63]\n",
    "else:\n",
    "  Xu = d[:,0:279]\n",
    "\n",
    "y = d[:,280]\n",
    "d.shape, Xu.shape, y.shape\n",
    "\n"
   ]
  },
  {
   "cell_type": "code",
   "execution_count": 6,
   "metadata": {
    "colab": {},
    "colab_type": "code",
    "id": "m5Nb64B_AGFh"
   },
   "outputs": [
    {
     "data": {
      "text/plain": [
       "(5.0, -5.0)"
      ]
     },
     "execution_count": 6,
     "metadata": {},
     "output_type": "execute_result"
    }
   ],
   "source": [
    "Xmean = np.mean(Xu,axis=0)\n",
    "Xsd = np.std(Xu,axis=0)\n",
    "X = (Xu-Xmean)/(Xsd+1e-10)\n",
    "X = np.clip(X,-5,5)\n",
    "np.max(X),np.min(X)\n",
    "\n"
   ]
  },
  {
   "cell_type": "code",
   "execution_count": 7,
   "metadata": {
    "colab": {},
    "colab_type": "code",
    "id": "lst2_XBNv8w6"
   },
   "outputs": [],
   "source": [
    "from scipy.stats import spearmanr\n",
    "def check_performance(model_mean):\n",
    "  files = [f for f in os.listdir('blogdata/') if f.startswith('blogData_test')]\n",
    "  hits_at10 = np.zeros(len(files))\n",
    "  cors = np.zeros(len(files))\n",
    "  for i,f in enumerate(files):\n",
    "      d = np.loadtxt(\"blogdata/\"+f, delimiter=',', dtype=np.float32)\n",
    "      #print(\"{}\".format(i))\n",
    "      Xtu = d[:,0:X.shape[1]]\n",
    "      yt = d[:,280]\n",
    "      Xt = (Xtu-Xmean) / (Xsd+1e-10)\n",
    "      d.shape, Xtu.shape, yt.shape\n",
    "      y_pred = model_mean.predict(Xt).flatten()\n",
    "      idx_true = np.argsort(yt)[-10:]\n",
    "      idx_pred = np.argsort(y_pred)[-10:] #The 10 higest\n",
    "      hits_at10[i]=len(np.intersect1d(idx_true, idx_pred))\n",
    "      cors[i] = spearmanr(yt, y_pred)[0]\n",
    "  return (np.mean(hits_at10), np.std(hits_at10)/np.sqrt(len(files)),np.mean(cors), np.std(cors)/np.sqrt(len(files)))"
   ]
  },
  {
   "cell_type": "code",
   "execution_count": 8,
   "metadata": {},
   "outputs": [
    {
     "data": {
      "text/plain": [
       "0.8660254037844387"
      ]
     },
     "execution_count": 8,
     "metadata": {},
     "output_type": "execute_result"
    }
   ],
   "source": [
    "spearmanr([1,2,2], [1,2,4])[0]"
   ]
  },
  {
   "cell_type": "markdown",
   "metadata": {
    "colab_type": "text",
    "id": "FoI1J29DAGFj"
   },
   "source": [
    "### Definition of a base model "
   ]
  },
  {
   "cell_type": "code",
   "execution_count": 9,
   "metadata": {
    "colab": {},
    "colab_type": "code",
    "id": "MaswVJslAGFn"
   },
   "outputs": [],
   "source": [
    "## Definition of the base model\n",
    "from tensorflow.keras.regularizers import l2\n",
    "def make_base(inputs):\n",
    "    rate = tf.keras.layers.Dense(20,  kernel_regularizer=l2(1e-2),  bias_regularizer=l2(1e-4),activation='sigmoid')(inputs)\n",
    "    return tf.keras.layers.Dense(5,  kernel_regularizer=l2(1e-2),  bias_regularizer=l2(1e-4),activation='sigmoid')(rate)\n",
    "\n",
    "epochs = 50\n"
   ]
  },
  {
   "cell_type": "markdown",
   "metadata": {},
   "source": [
    "### Fitting Normal"
   ]
  },
  {
   "cell_type": "code",
   "execution_count": 10,
   "metadata": {},
   "outputs": [
    {
     "name": "stdout",
     "output_type": "stream",
     "text": [
      "Train on 47157 samples, validate on 5240 samples\n",
      "Epoch 1/50\n",
      "47157/47157 [==============================] - 2s 37us/sample - loss: 1571.3136 - val_loss: 236.2781\n",
      "Epoch 2/50\n",
      "47157/47157 [==============================] - 2s 32us/sample - loss: 1530.0945 - val_loss: 231.7477\n",
      "Epoch 3/50\n",
      "47157/47157 [==============================] - 2s 34us/sample - loss: 1496.4708 - val_loss: 226.7006\n",
      "Epoch 4/50\n",
      "47157/47157 [==============================] - 2s 33us/sample - loss: 1467.8049 - val_loss: 223.7113\n",
      "Epoch 5/50\n",
      "47157/47157 [==============================] - 2s 33us/sample - loss: 1443.6617 - val_loss: 221.6954\n",
      "Epoch 6/50\n",
      "47157/47157 [==============================] - 2s 32us/sample - loss: 1422.4355 - val_loss: 219.0939\n",
      "Epoch 7/50\n",
      "47157/47157 [==============================] - 2s 32us/sample - loss: 1403.7238 - val_loss: 216.9653\n",
      "Epoch 8/50\n",
      "47157/47157 [==============================] - 2s 33us/sample - loss: 1386.8299 - val_loss: 216.4647\n",
      "Epoch 9/50\n",
      "47157/47157 [==============================] - 2s 34us/sample - loss: 1371.5775 - val_loss: 214.7540\n",
      "Epoch 10/50\n",
      "47157/47157 [==============================] - 2s 34us/sample - loss: 1357.1391 - val_loss: 213.3881\n",
      "Epoch 11/50\n",
      "47157/47157 [==============================] - 2s 32us/sample - loss: 1343.4980 - val_loss: 214.8857\n",
      "Epoch 12/50\n",
      "47157/47157 [==============================] - 2s 33us/sample - loss: 1330.2140 - val_loss: 212.4623\n",
      "Epoch 13/50\n",
      "47157/47157 [==============================] - 2s 33us/sample - loss: 1317.7065 - val_loss: 211.6947\n",
      "Epoch 14/50\n",
      "47157/47157 [==============================] - 2s 33us/sample - loss: 1306.1324 - val_loss: 211.7365\n",
      "Epoch 15/50\n",
      "47157/47157 [==============================] - 2s 35us/sample - loss: 1294.1546 - val_loss: 209.6735\n",
      "Epoch 16/50\n",
      "47157/47157 [==============================] - 2s 33us/sample - loss: 1282.9486 - val_loss: 210.0665\n",
      "Epoch 17/50\n",
      "47157/47157 [==============================] - 2s 34us/sample - loss: 1272.7001 - val_loss: 208.3277\n",
      "Epoch 18/50\n",
      "47157/47157 [==============================] - 2s 37us/sample - loss: 1259.1050 - val_loss: 207.8225\n",
      "Epoch 19/50\n",
      "47157/47157 [==============================] - 2s 39us/sample - loss: 1246.0237 - val_loss: 207.6303\n",
      "Epoch 20/50\n",
      "47157/47157 [==============================] - 2s 35us/sample - loss: 1233.9164 - val_loss: 207.5981\n",
      "Epoch 21/50\n",
      "47157/47157 [==============================] - 2s 35us/sample - loss: 1222.5629 - val_loss: 206.0931\n",
      "Epoch 22/50\n",
      "47157/47157 [==============================] - 2s 33us/sample - loss: 1211.4499 - val_loss: 205.4245\n",
      "Epoch 23/50\n",
      "47157/47157 [==============================] - 2s 35us/sample - loss: 1201.9087 - val_loss: 204.8195\n",
      "Epoch 24/50\n",
      "47157/47157 [==============================] - 2s 35us/sample - loss: 1190.6298 - val_loss: 203.6788\n",
      "Epoch 25/50\n",
      "47157/47157 [==============================] - 2s 33us/sample - loss: 1180.9212 - val_loss: 202.1717\n",
      "Epoch 26/50\n",
      "47157/47157 [==============================] - 2s 33us/sample - loss: 1171.1559 - val_loss: 201.6942\n",
      "Epoch 27/50\n",
      "47157/47157 [==============================] - 2s 35us/sample - loss: 1162.4736 - val_loss: 201.4480\n",
      "Epoch 28/50\n",
      "47157/47157 [==============================] - 2s 35us/sample - loss: 1151.7209 - val_loss: 205.4895\n",
      "Epoch 29/50\n",
      "47157/47157 [==============================] - 2s 35us/sample - loss: 1144.5919 - val_loss: 199.1715\n",
      "Epoch 30/50\n",
      "47157/47157 [==============================] - 2s 33us/sample - loss: 1135.6560 - val_loss: 199.1353\n",
      "Epoch 31/50\n",
      "47157/47157 [==============================] - 2s 33us/sample - loss: 1127.2659 - val_loss: 198.2855\n",
      "Epoch 32/50\n",
      "47157/47157 [==============================] - 2s 34us/sample - loss: 1119.3110 - val_loss: 198.7593\n",
      "Epoch 33/50\n",
      "47157/47157 [==============================] - 2s 33us/sample - loss: 1110.8441 - val_loss: 196.9287\n",
      "Epoch 34/50\n",
      "47157/47157 [==============================] - 2s 34us/sample - loss: 1103.1651 - val_loss: 197.3949\n",
      "Epoch 35/50\n",
      "47157/47157 [==============================] - 2s 33us/sample - loss: 1095.4616 - val_loss: 196.1557\n",
      "Epoch 36/50\n",
      "47157/47157 [==============================] - 2s 33us/sample - loss: 1088.8747 - val_loss: 196.4057\n",
      "Epoch 37/50\n",
      "47157/47157 [==============================] - 1s 32us/sample - loss: 1080.0463 - val_loss: 197.6728\n",
      "Epoch 38/50\n",
      "47157/47157 [==============================] - 2s 33us/sample - loss: 1072.1766 - val_loss: 195.1150\n",
      "Epoch 39/50\n",
      "47157/47157 [==============================] - 2s 33us/sample - loss: 1065.8522 - val_loss: 198.1344\n",
      "Epoch 40/50\n",
      "47157/47157 [==============================] - 2s 33us/sample - loss: 1059.8202 - val_loss: 194.6841\n",
      "Epoch 41/50\n",
      "47157/47157 [==============================] - 2s 34us/sample - loss: 1052.3163 - val_loss: 196.9594\n",
      "Epoch 42/50\n",
      "47157/47157 [==============================] - 2s 35us/sample - loss: 1047.5310 - val_loss: 193.8509\n",
      "Epoch 43/50\n",
      "47157/47157 [==============================] - 2s 36us/sample - loss: 1039.2211 - val_loss: 192.9416\n",
      "Epoch 44/50\n",
      "47157/47157 [==============================] - 2s 37us/sample - loss: 1033.6295 - val_loss: 195.1064\n",
      "Epoch 45/50\n",
      "47157/47157 [==============================] - 2s 34us/sample - loss: 1028.3595 - val_loss: 191.3348\n",
      "Epoch 46/50\n",
      "47157/47157 [==============================] - 2s 35us/sample - loss: 1021.5459 - val_loss: 194.2525\n",
      "Epoch 47/50\n",
      "47157/47157 [==============================] - 2s 37us/sample - loss: 1016.6665 - val_loss: 193.4317\n",
      "Epoch 48/50\n",
      "47157/47157 [==============================] - 2s 36us/sample - loss: 1010.3911 - val_loss: 192.7284\n",
      "Epoch 49/50\n",
      "47157/47157 [==============================] - 2s 33us/sample - loss: 1005.7346 - val_loss: 194.5411\n",
      "Epoch 50/50\n",
      "47157/47157 [==============================] - 2s 34us/sample - loss: 999.3999 - val_loss: 194.3261\n"
     ]
    }
   ],
   "source": [
    "inputs = tf.keras.layers.Input(shape=(X.shape[1],))\n",
    "out = tf.keras.layers.Dense(1)(make_base(inputs))\n",
    "model = tf.keras.models.Model(inputs=inputs, outputs=out)\n",
    "model.compile(optimizer=tf.optimizers.Adam(), loss='mse')\n",
    "hist = model.fit(X, y, epochs=epochs, verbose=1, validation_split=0.1);"
   ]
  },
  {
   "cell_type": "code",
   "execution_count": 11,
   "metadata": {},
   "outputs": [
    {
     "data": {
      "text/html": [
       "<div>\n",
       "<style scoped>\n",
       "    .dataframe tbody tr th:only-of-type {\n",
       "        vertical-align: middle;\n",
       "    }\n",
       "\n",
       "    .dataframe tbody tr th {\n",
       "        vertical-align: top;\n",
       "    }\n",
       "\n",
       "    .dataframe thead th {\n",
       "        text-align: right;\n",
       "    }\n",
       "</style>\n",
       "<table border=\"1\" class=\"dataframe\">\n",
       "  <thead>\n",
       "    <tr style=\"text-align: right;\">\n",
       "      <th></th>\n",
       "      <th>hits@10 [mean]</th>\n",
       "      <th>hits@10 [std]</th>\n",
       "      <th>loss_val [mean]</th>\n",
       "      <th>loss_val [std]</th>\n",
       "      <th>rank_corr [mean]</th>\n",
       "      <th>rank_corr [std]</th>\n",
       "    </tr>\n",
       "  </thead>\n",
       "  <tbody>\n",
       "    <tr>\n",
       "      <th>normal</th>\n",
       "      <td>5.9</td>\n",
       "      <td>0.157586</td>\n",
       "      <td>193.947293</td>\n",
       "      <td>1.43538</td>\n",
       "      <td>0.490388</td>\n",
       "      <td>0.010817</td>\n",
       "    </tr>\n",
       "  </tbody>\n",
       "</table>\n",
       "</div>"
      ],
      "text/plain": [
       "        hits@10 [mean]  hits@10 [std]  loss_val [mean]  loss_val [std]  \\\n",
       "normal             5.9       0.157586       193.947293         1.43538   \n",
       "\n",
       "        rank_corr [mean]  rank_corr [std]  \n",
       "normal          0.490388         0.010817  "
      ]
     },
     "execution_count": 11,
     "metadata": {},
     "output_type": "execute_result"
    },
    {
     "data": {
      "image/png": "[encoded data removed]",
      "text/plain": [
       "<Figure size 432x288 with 1 Axes>"
      ]
     },
     "metadata": {
      "needs_background": "light"
     },
     "output_type": "display_data"
    }
   ],
   "source": [
    "plt.plot(hist.history['loss'])\n",
    "plt.plot(hist.history['val_loss'])\n",
    "plt.legend(['loss','val_loss'])\n",
    "plt.xlabel('Epochs')\n",
    "plt.title('Training for Normal Model')\n",
    "np.mean(hist.history['loss'])\n",
    "\n",
    "d = check_performance(model)\n",
    "\n",
    "if (epochs > 10):\n",
    "    dd = np.mean(hist.history['val_loss'][-10:])\n",
    "    ddd = np.std(hist.history['val_loss'][-10:])\n",
    "else:\n",
    "    dd = ddd = -1.\n",
    "import pandas as pd\n",
    "df = pd.DataFrame(\n",
    "    {'hits@10 [mean]' : d[0], 'hits@10 [std]' : d[1],\n",
    "    'rank_corr [mean]' : d[2], 'rank_corr [std]' : d[3],\n",
    "    'loss_val [mean]' : dd, 'loss_val [std]' : ddd},\n",
    "    index=['normal'])\n",
    "df"
   ]
  },
  {
   "cell_type": "code",
   "execution_count": 12,
   "metadata": {},
   "outputs": [
    {
     "data": {
      "text/plain": [
       "193.94729346733965"
      ]
     },
     "execution_count": 12,
     "metadata": {},
     "output_type": "execute_result"
    }
   ],
   "source": [
    "np.mean(hist.history['val_loss'][-10:])"
   ]
  },
  {
   "cell_type": "markdown",
   "metadata": {},
   "source": [
    "### Fitting a poisson"
   ]
  },
  {
   "cell_type": "code",
   "execution_count": 13,
   "metadata": {},
   "outputs": [],
   "source": [
    "def negloglik(y_true, y_hat):\n",
    "  return -y_hat.log_prob(y_true)"
   ]
  },
  {
   "cell_type": "code",
   "execution_count": 14,
   "metadata": {},
   "outputs": [],
   "source": [
    "inputs = tf.keras.layers.Input(shape=(X.shape[1],))\n",
    "rate = tf.keras.layers.Dense(1, \n",
    "                                 activation=tf.exp, \n",
    "                                 bias_initializer='zeros', \n",
    "                                 kernel_initializer='zeros')(make_base(inputs))\n",
    "\n",
    "p_y = tfp.layers.DistributionLambda(tfd.Poisson)(rate) \n",
    "model = tf.keras.models.Model(inputs=inputs, outputs=p_y)\n",
    "model_mean = tf.keras.models.Model(inputs=inputs, outputs=p_y.mean()) #For evaluation we need the mean\n",
    "model.compile(optimizer=tf.optimizers.Adam(), loss=negloglik)"
   ]
  },
  {
   "cell_type": "code",
   "execution_count": 15,
   "metadata": {},
   "outputs": [
    {
     "name": "stdout",
     "output_type": "stream",
     "text": [
      "Train on 47157 samples, validate on 5240 samples\n",
      "Epoch 1/50\n",
      "47157/47157 [==============================] - 2s 43us/sample - loss: 16.2430 - val_loss: 5.1886\n",
      "Epoch 2/50\n",
      "47157/47157 [==============================] - 2s 35us/sample - loss: 9.2214 - val_loss: 4.7846\n",
      "Epoch 3/50\n",
      "47157/47157 [==============================] - 2s 36us/sample - loss: 8.1366 - val_loss: 4.6346\n",
      "Epoch 4/50\n",
      "47157/47157 [==============================] - 2s 38us/sample - loss: 7.7659 - val_loss: 4.4646\n",
      "Epoch 5/50\n",
      "47157/47157 [==============================] - 2s 41us/sample - loss: 7.5419 - val_loss: 4.3356\n",
      "Epoch 6/50\n",
      "47157/47157 [==============================] - 2s 35us/sample - loss: 7.3671 - val_loss: 4.2711\n",
      "Epoch 7/50\n",
      "47157/47157 [==============================] - 2s 44us/sample - loss: 7.2701 - val_loss: 4.1970\n",
      "Epoch 8/50\n",
      "47157/47157 [==============================] - 2s 39us/sample - loss: 7.1648 - val_loss: 4.1973\n",
      "Epoch 9/50\n",
      "47157/47157 [==============================] - 2s 36us/sample - loss: 7.0953 - val_loss: 4.1382\n",
      "Epoch 10/50\n",
      "47157/47157 [==============================] - 2s 34us/sample - loss: 7.0149 - val_loss: 4.0921\n",
      "Epoch 11/50\n",
      "47157/47157 [==============================] - 2s 34us/sample - loss: 6.9848 - val_loss: 4.0768\n",
      "Epoch 12/50\n",
      "47157/47157 [==============================] - 2s 34us/sample - loss: 6.9557 - val_loss: 4.0121\n",
      "Epoch 13/50\n",
      "47157/47157 [==============================] - 2s 36us/sample - loss: 6.9026 - val_loss: 3.9833\n",
      "Epoch 14/50\n",
      "47157/47157 [==============================] - 2s 34us/sample - loss: 6.8583 - val_loss: 4.0098\n",
      "Epoch 15/50\n",
      "47157/47157 [==============================] - 2s 35us/sample - loss: 6.8507 - val_loss: 3.9509\n",
      "Epoch 16/50\n",
      "47157/47157 [==============================] - 2s 35us/sample - loss: 6.8247 - val_loss: 3.9575\n",
      "Epoch 17/50\n",
      "47157/47157 [==============================] - 2s 35us/sample - loss: 6.7953 - val_loss: 3.9319\n",
      "Epoch 18/50\n",
      "47157/47157 [==============================] - 2s 36us/sample - loss: 6.7708 - val_loss: 3.9615\n",
      "Epoch 19/50\n",
      "47157/47157 [==============================] - 2s 43us/sample - loss: 6.7691 - val_loss: 3.9130\n",
      "Epoch 20/50\n",
      "47157/47157 [==============================] - 2s 37us/sample - loss: 6.7717 - val_loss: 3.8547\n",
      "Epoch 21/50\n",
      "47157/47157 [==============================] - 2s 35us/sample - loss: 6.7282 - val_loss: 3.8852\n",
      "Epoch 22/50\n",
      "47157/47157 [==============================] - 2s 34us/sample - loss: 6.7010 - val_loss: 3.8298\n",
      "Epoch 23/50\n",
      "47157/47157 [==============================] - 2s 36us/sample - loss: 6.6959 - val_loss: 3.8644\n",
      "Epoch 24/50\n",
      "47157/47157 [==============================] - 2s 37us/sample - loss: 6.6795 - val_loss: 3.8288\n",
      "Epoch 25/50\n",
      "47157/47157 [==============================] - 2s 47us/sample - loss: 6.6624 - val_loss: 3.8240\n",
      "Epoch 26/50\n",
      "47157/47157 [==============================] - 2s 49us/sample - loss: 6.6202 - val_loss: 3.8811\n",
      "Epoch 27/50\n",
      "47157/47157 [==============================] - 2s 44us/sample - loss: 6.6186 - val_loss: 3.7835\n",
      "Epoch 28/50\n",
      "47157/47157 [==============================] - 2s 48us/sample - loss: 6.5968 - val_loss: 3.7782\n",
      "Epoch 29/50\n",
      "47157/47157 [==============================] - 2s 39us/sample - loss: 6.6121 - val_loss: 3.7324\n",
      "Epoch 30/50\n",
      "47157/47157 [==============================] - 2s 42us/sample - loss: 6.6216 - val_loss: 3.7372\n",
      "Epoch 31/50\n",
      "47157/47157 [==============================] - 2s 33us/sample - loss: 6.6012 - val_loss: 3.7580\n",
      "Epoch 32/50\n",
      "47157/47157 [==============================] - 2s 34us/sample - loss: 6.6014 - val_loss: 3.7292\n",
      "Epoch 33/50\n",
      "47157/47157 [==============================] - 2s 34us/sample - loss: 6.5645 - val_loss: 3.7168\n",
      "Epoch 34/50\n",
      "47157/47157 [==============================] - 2s 35us/sample - loss: 6.5469 - val_loss: 3.6996\n",
      "Epoch 35/50\n",
      "47157/47157 [==============================] - 2s 34us/sample - loss: 6.5698 - val_loss: 3.7744\n",
      "Epoch 36/50\n",
      "47157/47157 [==============================] - 2s 37us/sample - loss: 6.5258 - val_loss: 3.7202\n",
      "Epoch 37/50\n",
      "47157/47157 [==============================] - 2s 34us/sample - loss: 6.5396 - val_loss: 3.7356\n",
      "Epoch 38/50\n",
      "47157/47157 [==============================] - 2s 39us/sample - loss: 6.5345 - val_loss: 3.6849\n",
      "Epoch 39/50\n",
      "47157/47157 [==============================] - 2s 35us/sample - loss: 6.5196 - val_loss: 3.6935\n",
      "Epoch 40/50\n",
      "47157/47157 [==============================] - 2s 35us/sample - loss: 6.4811 - val_loss: 3.6642\n",
      "Epoch 41/50\n",
      "47157/47157 [==============================] - 2s 34us/sample - loss: 6.5426 - val_loss: 3.6514\n",
      "Epoch 42/50\n",
      "47157/47157 [==============================] - 2s 35us/sample - loss: 6.4926 - val_loss: 3.6560\n",
      "Epoch 43/50\n",
      "47157/47157 [==============================] - 2s 35us/sample - loss: 6.5220 - val_loss: 3.6707\n",
      "Epoch 44/50\n",
      "47157/47157 [==============================] - 2s 33us/sample - loss: 6.4950 - val_loss: 3.7266\n",
      "Epoch 45/50\n",
      "47157/47157 [==============================] - 2s 34us/sample - loss: 6.4701 - val_loss: 3.6618\n",
      "Epoch 46/50\n",
      "47157/47157 [==============================] - 2s 34us/sample - loss: 6.5039 - val_loss: 3.6758\n",
      "Epoch 47/50\n",
      "47157/47157 [==============================] - 2s 34us/sample - loss: 6.4599 - val_loss: 3.6273\n",
      "Epoch 48/50\n",
      "47157/47157 [==============================] - 2s 33us/sample - loss: 6.4595 - val_loss: 3.6642\n",
      "Epoch 49/50\n",
      "47157/47157 [==============================] - 2s 34us/sample - loss: 6.4555 - val_loss: 3.6265\n",
      "Epoch 50/50\n",
      "47157/47157 [==============================] - 2s 34us/sample - loss: 6.4183 - val_loss: 3.6192ETA: \n"
     ]
    }
   ],
   "source": [
    "hist = model.fit(X, y, epochs=epochs, verbose=1, validation_split=0.1);"
   ]
  },
  {
   "cell_type": "code",
   "execution_count": 16,
   "metadata": {},
   "outputs": [
    {
     "data": {
      "text/html": [
       "<div>\n",
       "<style scoped>\n",
       "    .dataframe tbody tr th:only-of-type {\n",
       "        vertical-align: middle;\n",
       "    }\n",
       "\n",
       "    .dataframe tbody tr th {\n",
       "        vertical-align: top;\n",
       "    }\n",
       "\n",
       "    .dataframe thead th {\n",
       "        text-align: right;\n",
       "    }\n",
       "</style>\n",
       "<table border=\"1\" class=\"dataframe\">\n",
       "  <thead>\n",
       "    <tr style=\"text-align: right;\">\n",
       "      <th></th>\n",
       "      <th>hits@10 [mean]</th>\n",
       "      <th>hits@10 [std]</th>\n",
       "      <th>loss_val [mean]</th>\n",
       "      <th>loss_val [std]</th>\n",
       "      <th>rank_corr [mean]</th>\n",
       "      <th>rank_corr [std]</th>\n",
       "    </tr>\n",
       "  </thead>\n",
       "  <tbody>\n",
       "    <tr>\n",
       "      <th>normal</th>\n",
       "      <td>5.9</td>\n",
       "      <td>0.157586</td>\n",
       "      <td>193.947293</td>\n",
       "      <td>1.435380</td>\n",
       "      <td>0.490388</td>\n",
       "      <td>0.010817</td>\n",
       "    </tr>\n",
       "    <tr>\n",
       "      <th>Poisson</th>\n",
       "      <td>5.7</td>\n",
       "      <td>0.153297</td>\n",
       "      <td>3.657933</td>\n",
       "      <td>0.029557</td>\n",
       "      <td>0.524589</td>\n",
       "      <td>0.009509</td>\n",
       "    </tr>\n",
       "  </tbody>\n",
       "</table>\n",
       "</div>"
      ],
      "text/plain": [
       "         hits@10 [mean]  hits@10 [std]  loss_val [mean]  loss_val [std]  \\\n",
       "normal              5.9       0.157586       193.947293        1.435380   \n",
       "Poisson             5.7       0.153297         3.657933        0.029557   \n",
       "\n",
       "         rank_corr [mean]  rank_corr [std]  \n",
       "normal           0.490388         0.010817  \n",
       "Poisson          0.524589         0.009509  "
      ]
     },
     "execution_count": 16,
     "metadata": {},
     "output_type": "execute_result"
    },
    {
     "data": {
      "image/png": "[encoded data removed]",
      "text/plain": [
       "<Figure size 432x288 with 1 Axes>"
      ]
     },
     "metadata": {
      "needs_background": "light"
     },
     "output_type": "display_data"
    }
   ],
   "source": [
    "plt.plot(hist.history['loss'])\n",
    "plt.plot(hist.history['val_loss'])\n",
    "plt.legend(['loss','val_loss'])\n",
    "plt.xlabel('Epochs')\n",
    "plt.title('Training for Poisson Distribution')\n",
    "np.mean(hist.history['loss'])\n",
    "\n",
    "d = check_performance(model_mean)\n",
    "\n",
    "if (epochs > 10):\n",
    "    dd = np.mean(hist.history['val_loss'][-10:])\n",
    "    ddd = np.std(hist.history['val_loss'][-10:])\n",
    "else:\n",
    "    dd = ddd = -1.\n",
    "import pandas as pd\n",
    "df1 = pd.DataFrame(\n",
    "    {'hits@10 [mean]' : d[0], 'hits@10 [std]' : d[1],\n",
    "     'rank_corr [mean]' : d[2], 'rank_corr [std]' : d[3],\n",
    "    'loss_val [mean]' : dd, 'loss_val [std]' : ddd},\n",
    "    index=['Poisson'])\n",
    "df = df.append(df1)\n",
    "df"
   ]
  },
  {
   "cell_type": "markdown",
   "metadata": {},
   "source": [
    "### Fitting ZIP"
   ]
  },
  {
   "cell_type": "code",
   "execution_count": 17,
   "metadata": {},
   "outputs": [],
   "source": [
    "def zero_inf(out): \n",
    "    rate = tf.math.exp(out[:,0]) #A \n",
    "    #rate = tf.math.softplus(out[:,0]) #A \n",
    "    s = tf.math.sigmoid(out[:,1:]) #B  \n",
    "    probs = tf.concat([s, 1-s], axis=1) #C \n",
    "    print(np.min(rate), \" \", np.max(rate), \" \", np.min(s), np.max(s),\"  \",np.min(out[:,1:]), np.max(out[:,1:]))\n",
    "    return tfd.Mixture(\n",
    "          cat=tfd.Categorical(probs=probs),#D\n",
    "          components=[\n",
    "            tfd.Deterministic(loc=tf.zeros_like(rate)), #E\n",
    "            tfd.Poisson(rate=rate), #F \n",
    "        ])"
   ]
  },
  {
   "cell_type": "code",
   "execution_count": 18,
   "metadata": {},
   "outputs": [],
   "source": [
    "def negloglik2(y_true, y_hat):\n",
    "    # return -tf.reduce_mean(y_hat.log_prob(y_true))\n",
    "    return -tf.reduce_mean(y_hat.log_prob(tf.reshape(y_true,(-1,))))"
   ]
  },
  {
   "cell_type": "code",
   "execution_count": 19,
   "metadata": {},
   "outputs": [],
   "source": [
    "#   One pah for all\n",
    "# from tensorflow.keras.regularizers import l2\n",
    "# inputs = tf.keras.layers.Input(shape=(X.shape[1],))\n",
    "# rate = tf.keras.layers.Dense(2,  kernel_regularizer=l2(0.01))(make_base(inputs))\n",
    "\n",
    "# p_y = tfp.layers.DistributionLambda(zero_inf)(rate) \n",
    "# model = tf.keras.models.Model(inputs=inputs, outputs=p_y)\n",
    "# model_mean = tf.keras.models.Model(inputs=inputs, outputs=p_y.mean()) #For evaluation we need the mean\n",
    "# model.compile(optimizer=tf.optimizers.Adam(), loss=negloglik2)\n",
    "# model.summary()"
   ]
  },
  {
   "cell_type": "code",
   "execution_count": 20,
   "metadata": {},
   "outputs": [
    {
     "name": "stderr",
     "output_type": "stream",
     "text": [
      "WARNING: Logging before flag parsing goes to stderr.\n",
      "W0617 11:26:37.125426 140694252660480 deprecation.py:323] From /usr/local/lib/python3.5/dist-packages/tensorflow_probability/python/distributions/mixture.py:154: Categorical.event_size (from tensorflow_probability.python.distributions.categorical) is deprecated and will be removed after 2019-05-19.\n",
      "Instructions for updating:\n",
      "The `event_size` property is deprecated.  Use `num_categories` instead.  They have the same value, but `event_size` is misnamed.\n"
     ]
    },
    {
     "name": "stdout",
     "output_type": "stream",
     "text": [
      "Tensor(\"distribution_lambda_1/Exp:0\", shape=(None,), dtype=float32)   Tensor(\"distribution_lambda_1/Exp:0\", shape=(None,), dtype=float32)   Tensor(\"distribution_lambda_1/Sigmoid:0\", shape=(None, 1), dtype=float32) Tensor(\"distribution_lambda_1/Sigmoid:0\", shape=(None, 1), dtype=float32)    Tensor(\"distribution_lambda_1/strided_slice_2:0\", shape=(None, 1), dtype=float32) Tensor(\"distribution_lambda_1/strided_slice_3:0\", shape=(None, 1), dtype=float32)\n",
      "Model: \"model_3\"\n",
      "__________________________________________________________________________________________________\n",
      "Layer (type)                    Output Shape         Param #     Connected to                     \n",
      "==================================================================================================\n",
      "input_3 (InputLayer)            [(None, 63)]         0                                            \n",
      "__________________________________________________________________________________________________\n",
      "dense_7 (Dense)                 (None, 20)           1280        input_3[0][0]                    \n",
      "__________________________________________________________________________________________________\n",
      "dense_10 (Dense)                (None, 20)           1280        input_3[0][0]                    \n",
      "__________________________________________________________________________________________________\n",
      "dense_8 (Dense)                 (None, 5)            105         dense_7[0][0]                    \n",
      "__________________________________________________________________________________________________\n",
      "dense_11 (Dense)                (None, 5)            105         dense_10[0][0]                   \n",
      "__________________________________________________________________________________________________\n",
      "dense_6 (Dense)                 (None, 1)            6           dense_8[0][0]                    \n",
      "__________________________________________________________________________________________________\n",
      "dense_9 (Dense)                 (None, 1)            6           dense_11[0][0]                   \n",
      "__________________________________________________________________________________________________\n",
      "concat (TensorFlowOpLayer)      [(None, 2)]          0           dense_6[0][0]                    \n",
      "                                                                 dense_9[0][0]                    \n",
      "__________________________________________________________________________________________________\n",
      "distribution_lambda_1 (Distribu ((None,), (None,))   0           concat[0][0]                     \n",
      "==================================================================================================\n",
      "Total params: 2,782\n",
      "Trainable params: 2,782\n",
      "Non-trainable params: 0\n",
      "__________________________________________________________________________________________________\n"
     ]
    }
   ],
   "source": [
    "from tensorflow.keras.regularizers import l2\n",
    "inputs = tf.keras.layers.Input(shape=(X.shape[1],))\n",
    "mean = tf.keras.layers.Dense(1,  kernel_regularizer=l2(0.01))(make_base(inputs))\n",
    "z = tf.keras.layers.Dense(1,  kernel_regularizer=l2(0.01))(make_base(inputs))\n",
    "tt = tf.concat([mean, z], axis=1)\n",
    "p_y = tfp.layers.DistributionLambda(zero_inf)(tt) \n",
    "model = tf.keras.models.Model(inputs=inputs, outputs=p_y)\n",
    "model_mean = tf.keras.models.Model(inputs=inputs, outputs=p_y.mean()) #For evaluation we need the mean\n",
    "model.compile(optimizer=tf.optimizers.Adam(), loss=negloglik2)\n",
    "model.summary()"
   ]
  },
  {
   "cell_type": "code",
   "execution_count": 21,
   "metadata": {},
   "outputs": [
    {
     "name": "stdout",
     "output_type": "stream",
     "text": [
      "Train on 47157 samples, validate on 5240 samples\n",
      "Epoch 1/50\n",
      "47157/47157 [==============================] - 2s 48us/sample - loss: 16.6700 - val_loss: 3.1925\n",
      "Epoch 2/50\n",
      "47157/47157 [==============================] - 2s 41us/sample - loss: 8.6228 - val_loss: 2.8891\n",
      "Epoch 3/50\n",
      "47157/47157 [==============================] - 2s 42us/sample - loss: 6.8038 - val_loss: 2.8395\n",
      "Epoch 4/50\n",
      "47157/47157 [==============================] - 2s 41us/sample - loss: 6.4141 - val_loss: 2.8774\n",
      "Epoch 5/50\n",
      "47157/47157 [==============================] - 2s 42us/sample - loss: 6.2696 - val_loss: 2.8866\n",
      "Epoch 6/50\n",
      "47157/47157 [==============================] - 2s 42us/sample - loss: 6.1797 - val_loss: 2.7942\n",
      "Epoch 7/50\n",
      "47157/47157 [==============================] - 2s 41us/sample - loss: 6.1190 - val_loss: 2.9237\n",
      "Epoch 8/50\n",
      "47157/47157 [==============================] - 2s 41us/sample - loss: 6.1023 - val_loss: 2.8229\n",
      "Epoch 9/50\n",
      "47157/47157 [==============================] - 2s 41us/sample - loss: 6.0877 - val_loss: 2.8095\n",
      "Epoch 10/50\n",
      "47157/47157 [==============================] - 2s 42us/sample - loss: 6.0068 - val_loss: 2.8091\n",
      "Epoch 11/50\n",
      "47157/47157 [==============================] - 2s 42us/sample - loss: 5.9969 - val_loss: 2.9055\n",
      "Epoch 12/50\n",
      "47157/47157 [==============================] - 2s 43us/sample - loss: 6.0049 - val_loss: 2.8434\n",
      "Epoch 13/50\n",
      "47157/47157 [==============================] - 2s 41us/sample - loss: 5.9578 - val_loss: 2.8627\n",
      "Epoch 14/50\n",
      "47157/47157 [==============================] - 2s 41us/sample - loss: 5.9260 - val_loss: 2.8592\n",
      "Epoch 15/50\n",
      "47157/47157 [==============================] - 2s 43us/sample - loss: 5.9438 - val_loss: 2.8762\n",
      "Epoch 16/50\n",
      "47157/47157 [==============================] - 2s 42us/sample - loss: 5.9356 - val_loss: 2.8594\n",
      "Epoch 17/50\n",
      "47157/47157 [==============================] - 2s 41us/sample - loss: 5.9042 - val_loss: 2.9095\n",
      "Epoch 18/50\n",
      "47157/47157 [==============================] - 2s 41us/sample - loss: 5.9255 - val_loss: 2.9085\n",
      "Epoch 19/50\n",
      "47157/47157 [==============================] - 2s 44us/sample - loss: 5.8868 - val_loss: 2.9258\n",
      "Epoch 20/50\n",
      "47157/47157 [==============================] - 2s 42us/sample - loss: 5.9034 - val_loss: 2.8947\n",
      "Epoch 21/50\n",
      "47157/47157 [==============================] - 2s 43us/sample - loss: 5.9083 - val_loss: 2.8241\n",
      "Epoch 22/50\n",
      "47157/47157 [==============================] - 2s 43us/sample - loss: 5.8658 - val_loss: 2.9084\n",
      "Epoch 23/50\n",
      "47157/47157 [==============================] - 2s 43us/sample - loss: 5.8672 - val_loss: 2.9870\n",
      "Epoch 24/50\n",
      "47157/47157 [==============================] - 2s 43us/sample - loss: 5.8678 - val_loss: 2.8458\n",
      "Epoch 25/50\n",
      "47157/47157 [==============================] - 2s 42us/sample - loss: 5.8665 - val_loss: 2.8602\n",
      "Epoch 26/50\n",
      "47157/47157 [==============================] - 2s 42us/sample - loss: 5.8353 - val_loss: 2.9652\n",
      "Epoch 27/50\n",
      "47157/47157 [==============================] - 2s 43us/sample - loss: 5.8687 - val_loss: 2.8719\n",
      "Epoch 28/50\n",
      "47157/47157 [==============================] - 2s 41us/sample - loss: 5.8677 - val_loss: 2.8944\n",
      "Epoch 29/50\n",
      "47157/47157 [==============================] - 2s 43us/sample - loss: 5.8131 - val_loss: 2.8921\n",
      "Epoch 30/50\n",
      "47157/47157 [==============================] - 2s 42us/sample - loss: 5.8462 - val_loss: 2.8669\n",
      "Epoch 31/50\n",
      "47157/47157 [==============================] - 2s 42us/sample - loss: 5.8346 - val_loss: 2.8795\n",
      "Epoch 32/50\n",
      "47157/47157 [==============================] - 2s 42us/sample - loss: 5.8363 - val_loss: 2.9539\n",
      "Epoch 33/50\n",
      "47157/47157 [==============================] - 2s 42us/sample - loss: 5.8288 - val_loss: 2.9529\n",
      "Epoch 34/50\n",
      "47157/47157 [==============================] - 2s 43us/sample - loss: 5.8270 - val_loss: 2.8870\n",
      "Epoch 35/50\n",
      "47157/47157 [==============================] - 2s 42us/sample - loss: 5.8070 - val_loss: 2.8653\n",
      "Epoch 36/50\n",
      "47157/47157 [==============================] - 2s 42us/sample - loss: 5.8035 - val_loss: 2.8134\n",
      "Epoch 37/50\n",
      "47157/47157 [==============================] - 2s 47us/sample - loss: 5.8405 - val_loss: 2.8942\n",
      "Epoch 38/50\n",
      "47157/47157 [==============================] - 3s 54us/sample - loss: 5.7971 - val_loss: 2.9036\n",
      "Epoch 39/50\n",
      "47157/47157 [==============================] - 3s 55us/sample - loss: 5.7856 - val_loss: 2.9533\n",
      "Epoch 40/50\n",
      "47157/47157 [==============================] - 2s 52us/sample - loss: 5.7620 - val_loss: 2.8898\n",
      "Epoch 41/50\n",
      "47157/47157 [==============================] - 2s 46us/sample - loss: 5.7966 - val_loss: 2.9885\n",
      "Epoch 42/50\n",
      "47157/47157 [==============================] - 2s 45us/sample - loss: 5.8102 - val_loss: 2.9141\n",
      "Epoch 43/50\n",
      "47157/47157 [==============================] - 2s 44us/sample - loss: 5.7636 - val_loss: 2.9152\n",
      "Epoch 44/50\n",
      "47157/47157 [==============================] - 2s 46us/sample - loss: 5.8005 - val_loss: 2.9390\n",
      "Epoch 45/50\n",
      "47157/47157 [==============================] - 2s 44us/sample - loss: 5.7795 - val_loss: 2.8870\n",
      "Epoch 46/50\n",
      "47157/47157 [==============================] - 2s 44us/sample - loss: 5.7963 - val_loss: 2.9046\n",
      "Epoch 47/50\n",
      "47157/47157 [==============================] - 2s 48us/sample - loss: 5.7847 - val_loss: 2.8734\n",
      "Epoch 48/50\n",
      "47157/47157 [==============================] - 2s 42us/sample - loss: 5.7706 - val_loss: 2.9325\n",
      "Epoch 49/50\n",
      "47157/47157 [==============================] - 2s 43us/sample - loss: 5.7625 - val_loss: 2.8378\n",
      "Epoch 50/50\n",
      "47157/47157 [==============================] - 2s 42us/sample - loss: 5.7669 - val_loss: 2.8636\n"
     ]
    }
   ],
   "source": [
    "hist = model.fit(X, y, epochs=epochs, verbose=1, validation_split=0.1);"
   ]
  },
  {
   "cell_type": "code",
   "execution_count": null,
   "metadata": {},
   "outputs": [],
   "source": []
  },
  {
   "cell_type": "code",
   "execution_count": 22,
   "metadata": {},
   "outputs": [
    {
     "data": {
      "text/html": [
       "<div>\n",
       "<style scoped>\n",
       "    .dataframe tbody tr th:only-of-type {\n",
       "        vertical-align: middle;\n",
       "    }\n",
       "\n",
       "    .dataframe tbody tr th {\n",
       "        vertical-align: top;\n",
       "    }\n",
       "\n",
       "    .dataframe thead th {\n",
       "        text-align: right;\n",
       "    }\n",
       "</style>\n",
       "<table border=\"1\" class=\"dataframe\">\n",
       "  <thead>\n",
       "    <tr style=\"text-align: right;\">\n",
       "      <th></th>\n",
       "      <th>hits@10 [mean]</th>\n",
       "      <th>hits@10 [std]</th>\n",
       "      <th>loss_val [mean]</th>\n",
       "      <th>loss_val [std]</th>\n",
       "      <th>rank_corr [mean]</th>\n",
       "      <th>rank_corr [std]</th>\n",
       "    </tr>\n",
       "  </thead>\n",
       "  <tbody>\n",
       "    <tr>\n",
       "      <th>normal</th>\n",
       "      <td>5.900000</td>\n",
       "      <td>0.157586</td>\n",
       "      <td>193.947293</td>\n",
       "      <td>1.435380</td>\n",
       "      <td>0.490388</td>\n",
       "      <td>0.010817</td>\n",
       "    </tr>\n",
       "    <tr>\n",
       "      <th>Poisson</th>\n",
       "      <td>5.700000</td>\n",
       "      <td>0.153297</td>\n",
       "      <td>3.657933</td>\n",
       "      <td>0.029557</td>\n",
       "      <td>0.524589</td>\n",
       "      <td>0.009509</td>\n",
       "    </tr>\n",
       "    <tr>\n",
       "      <th>ZIP</th>\n",
       "      <td>5.533333</td>\n",
       "      <td>0.164091</td>\n",
       "      <td>2.905566</td>\n",
       "      <td>0.040754</td>\n",
       "      <td>0.491178</td>\n",
       "      <td>0.009784</td>\n",
       "    </tr>\n",
       "  </tbody>\n",
       "</table>\n",
       "</div>"
      ],
      "text/plain": [
       "         hits@10 [mean]  hits@10 [std]  loss_val [mean]  loss_val [std]  \\\n",
       "normal         5.900000       0.157586       193.947293        1.435380   \n",
       "Poisson        5.700000       0.153297         3.657933        0.029557   \n",
       "ZIP            5.533333       0.164091         2.905566        0.040754   \n",
       "\n",
       "         rank_corr [mean]  rank_corr [std]  \n",
       "normal           0.490388         0.010817  \n",
       "Poisson          0.524589         0.009509  \n",
       "ZIP              0.491178         0.009784  "
      ]
     },
     "execution_count": 22,
     "metadata": {},
     "output_type": "execute_result"
    },
    {
     "data": {
      "image/png": "[encoded data removed]",
      "text/plain": [
       "<Figure size 432x288 with 1 Axes>"
      ]
     },
     "metadata": {
      "needs_background": "light"
     },
     "output_type": "display_data"
    }
   ],
   "source": [
    "plt.plot(hist.history['loss'])\n",
    "plt.plot(hist.history['val_loss'])\n",
    "plt.legend(['loss','val_loss'])\n",
    "plt.xlabel('Epochs')\n",
    "plt.title('Training for ZIP')\n",
    "np.mean(hist.history['loss'])\n",
    "\n",
    "d = check_performance(model_mean)\n",
    "if (epochs > 10):\n",
    "    dd = np.mean(hist.history['val_loss'][-10:])\n",
    "    ddd = np.std(hist.history['val_loss'][-10:])\n",
    "else:\n",
    "    dd = ddd = -1.\n",
    "import pandas as pd\n",
    "df1 = pd.DataFrame(\n",
    "    {'hits@10 [mean]' : d[0], 'hits@10 [std]' : d[1],\n",
    "     'rank_corr [mean]' : d[2], 'rank_corr [std]' : d[3],\n",
    "    'loss_val [mean]' : dd, 'loss_val [std]' : ddd},\n",
    "    index=['ZIP'])\n",
    "df = df.append(df1)\n",
    "df"
   ]
  },
  {
   "cell_type": "markdown",
   "metadata": {},
   "source": [
    "### Definition of a Mixture Model"
   ]
  },
  {
   "cell_type": "code",
   "execution_count": 23,
   "metadata": {},
   "outputs": [],
   "source": [
    "# 10          20       30        40       50         55\n",
    "#123456789012345678901234567890123456789012345678901234\n",
    "#See https://www.tensorflow.org/probability/api_docs/python/tfp/distributions/QuantizedDistribution\n",
    "def mixture_logistic(out, num=3): \n",
    "    loc, un_scale, logits = tf.split(out,\n",
    "                                     num_or_size_splits=num,\n",
    "                                     axis=-1)\n",
    "    scale = tf.nn.softplus(un_scale)\n",
    "\n",
    "    discretized_logistic_dist=tfd.TransformedDistribution(\n",
    "        distribution=tfd.Logistic(loc=loc, scale=scale),\n",
    "        bijector=tfb.AffineScalar(shift=-0.5))\n",
    "    \n",
    "    #print(\"mix_logi \", np.min(logits), \" \", np.max(logits), \" \", np.min(scale), np.max(scale),\"  \",np.min(loc), np.max(loc))\n",
    "    mixture_dist = tfd.MixtureSameFamily(\n",
    "        mixture_distribution=tfd.Categorical(logits=logits), #logits will be normalized to one\n",
    "        components_distribution=discretized_logistic_dist)\n",
    "    return mixture_dist"
   ]
  },
  {
   "cell_type": "code",
   "execution_count": 24,
   "metadata": {},
   "outputs": [
    {
     "name": "stdout",
     "output_type": "stream",
     "text": [
      "Model: \"model_5\"\n",
      "__________________________________________________________________________________________________\n",
      "Layer (type)                    Output Shape         Param #     Connected to                     \n",
      "==================================================================================================\n",
      "input_4 (InputLayer)            [(None, 63)]         0                                            \n",
      "__________________________________________________________________________________________________\n",
      "dense_13 (Dense)                (None, 20)           1280        input_4[0][0]                    \n",
      "__________________________________________________________________________________________________\n",
      "dense_16 (Dense)                (None, 20)           1280        input_4[0][0]                    \n",
      "__________________________________________________________________________________________________\n",
      "dense_19 (Dense)                (None, 20)           1280        input_4[0][0]                    \n",
      "__________________________________________________________________________________________________\n",
      "dense_14 (Dense)                (None, 5)            105         dense_13[0][0]                   \n",
      "__________________________________________________________________________________________________\n",
      "dense_17 (Dense)                (None, 5)            105         dense_16[0][0]                   \n",
      "__________________________________________________________________________________________________\n",
      "dense_20 (Dense)                (None, 5)            105         dense_19[0][0]                   \n",
      "__________________________________________________________________________________________________\n",
      "dense_12 (Dense)                (None, 3)            18          dense_14[0][0]                   \n",
      "__________________________________________________________________________________________________\n",
      "dense_15 (Dense)                (None, 3)            18          dense_17[0][0]                   \n",
      "__________________________________________________________________________________________________\n",
      "dense_18 (Dense)                (None, 3)            18          dense_20[0][0]                   \n",
      "__________________________________________________________________________________________________\n",
      "concat_1 (TensorFlowOpLayer)    [(None, 9)]          0           dense_12[0][0]                   \n",
      "                                                                 dense_15[0][0]                   \n",
      "                                                                 dense_18[0][0]                   \n",
      "__________________________________________________________________________________________________\n",
      "distribution_lambda_2 (Distribu ((None,), (None,))   0           concat_1[0][0]                   \n",
      "==================================================================================================\n",
      "Total params: 4,209\n",
      "Trainable params: 4,209\n",
      "Non-trainable params: 0\n",
      "__________________________________________________________________________________________________\n"
     ]
    }
   ],
   "source": [
    "from tensorflow.keras.regularizers import l2\n",
    "inputs = tf.keras.layers.Input(shape=(X.shape[1],))\n",
    "\n",
    "loc1    = tf.keras.layers.Dense(3,  kernel_regularizer=l2(0.01))(make_base(inputs))\n",
    "scales1 = tf.keras.layers.Dense(3,  kernel_regularizer=l2(0.01))(make_base(inputs))\n",
    "logits  = tf.keras.layers.Dense(3,  kernel_regularizer=l2(0.01))(make_base(inputs))\n",
    "\n",
    "tt = tf.concat([loc1, scales1, logits], axis=1)\n",
    "p_y = tfp.layers.DistributionLambda(mixture_logistic)(tt) \n",
    "model = tf.keras.models.Model(inputs=inputs, outputs=p_y)\n",
    "model_mean = tf.keras.models.Model(inputs=inputs, outputs=p_y.mean()) #For evaluation we need the mean\n",
    "model.compile(optimizer=tf.optimizers.Adam(), loss=negloglik2)\n",
    "model.summary()\n"
   ]
  },
  {
   "cell_type": "code",
   "execution_count": 25,
   "metadata": {},
   "outputs": [
    {
     "name": "stdout",
     "output_type": "stream",
     "text": [
      "Train on 47157 samples, validate on 5240 samples\n",
      "Epoch 1/50\n",
      "47157/47157 [==============================] - 3s 57us/sample - loss: 1.5502 - val_loss: -3.4428\n",
      "Epoch 2/50\n",
      "47157/47157 [==============================] - 2s 44us/sample - loss: -0.9659 - val_loss: -3.7970\n",
      "Epoch 3/50\n",
      "47157/47157 [==============================] - 2s 46us/sample - loss: -1.1905 - val_loss: -4.1924\n",
      "Epoch 4/50\n",
      "47157/47157 [==============================] - 2s 45us/sample - loss: -1.3994 - val_loss: -4.0766\n",
      "Epoch 5/50\n",
      "47157/47157 [==============================] - 2s 45us/sample - loss: -1.4512 - val_loss: -4.2742\n",
      "Epoch 6/50\n",
      "47157/47157 [==============================] - 2s 46us/sample - loss: -1.5215 - val_loss: -4.3297\n",
      "Epoch 7/50\n",
      "47157/47157 [==============================] - 2s 46us/sample - loss: -1.5806 - val_loss: -4.2906\n",
      "Epoch 8/50\n",
      "47157/47157 [==============================] - 2s 47us/sample - loss: -1.5899 - val_loss: -4.3913\n",
      "Epoch 9/50\n",
      "47157/47157 [==============================] - 2s 47us/sample - loss: -1.6681 - val_loss: -4.3110\n",
      "Epoch 10/50\n",
      "47157/47157 [==============================] - 2s 47us/sample - loss: -1.6179 - val_loss: -4.2638\n",
      "Epoch 11/50\n",
      "47157/47157 [==============================] - 2s 46us/sample - loss: -1.5735 - val_loss: -3.3743\n",
      "Epoch 12/50\n",
      "47157/47157 [==============================] - 2s 44us/sample - loss: -1.6785 - val_loss: -4.5629\n",
      "Epoch 13/50\n",
      "47157/47157 [==============================] - 2s 44us/sample - loss: -1.6198 - val_loss: -4.2465\n",
      "Epoch 14/50\n",
      "47157/47157 [==============================] - 2s 45us/sample - loss: -1.6912 - val_loss: -4.3971\n",
      "Epoch 15/50\n",
      "47157/47157 [==============================] - 2s 46us/sample - loss: -1.7523 - val_loss: -4.4569\n",
      "Epoch 16/50\n",
      "47157/47157 [==============================] - 2s 46us/sample - loss: -1.7453 - val_loss: -4.4447\n",
      "Epoch 17/50\n",
      "47157/47157 [==============================] - 2s 44us/sample - loss: 0.4435 - val_loss: 3.8912\n",
      "Epoch 18/50\n",
      "47157/47157 [==============================] - 2s 43us/sample - loss: 2.7182 - val_loss: -4.4790\n",
      "Epoch 19/50\n",
      "47157/47157 [==============================] - 2s 44us/sample - loss: -1.6815 - val_loss: -4.6424\n",
      "Epoch 20/50\n",
      "47157/47157 [==============================] - 2s 44us/sample - loss: -1.8034 - val_loss: -4.7390\n",
      "Epoch 21/50\n",
      "47157/47157 [==============================] - 2s 48us/sample - loss: -1.7932 - val_loss: -4.5703\n",
      "Epoch 22/50\n",
      "47157/47157 [==============================] - 2s 50us/sample - loss: -1.8150 - val_loss: -3.6772\n",
      "Epoch 23/50\n",
      "47157/47157 [==============================] - 2s 50us/sample - loss: -1.8731 - val_loss: -4.1101\n",
      "Epoch 24/50\n",
      "47157/47157 [==============================] - 2s 51us/sample - loss: -0.9450 - val_loss: 3.9666\n",
      "Epoch 25/50\n",
      "47157/47157 [==============================] - 2s 53us/sample - loss: 3.8430 - val_loss: 3.6483\n",
      "Epoch 26/50\n",
      "47157/47157 [==============================] - 2s 50us/sample - loss: 3.7727 - val_loss: 3.5321\n",
      "Epoch 27/50\n",
      "47157/47157 [==============================] - 2s 48us/sample - loss: 1.6366 - val_loss: -3.9240\n",
      "Epoch 28/50\n",
      "47157/47157 [==============================] - 2s 47us/sample - loss: -1.6268 - val_loss: -1.4463\n",
      "Epoch 29/50\n",
      "47157/47157 [==============================] - 2s 48us/sample - loss: -0.5338 - val_loss: 3.8344\n",
      "Epoch 30/50\n",
      "47157/47157 [==============================] - 2s 46us/sample - loss: 3.7787 - val_loss: 3.5938\n",
      "Epoch 31/50\n",
      "47157/47157 [==============================] - 2s 45us/sample - loss: 3.7166 - val_loss: 3.4628\n",
      "Epoch 32/50\n",
      "47157/47157 [==============================] - 2s 45us/sample - loss: 0.2386 - val_loss: -4.4190\n",
      "Epoch 33/50\n",
      "47157/47157 [==============================] - 2s 45us/sample - loss: -1.7278 - val_loss: -3.0314\n",
      "Epoch 34/50\n",
      "47157/47157 [==============================] - 2s 46us/sample - loss: 0.4568 - val_loss: 3.7714\n",
      "Epoch 35/50\n",
      "47157/47157 [==============================] - 2s 45us/sample - loss: 3.7272 - val_loss: 3.4877\n",
      "Epoch 36/50\n",
      "47157/47157 [==============================] - 2s 45us/sample - loss: 2.8538 - val_loss: -3.9997\n",
      "Epoch 37/50\n",
      "47157/47157 [==============================] - 2s 46us/sample - loss: 1.0479 - val_loss: 3.6056\n",
      "Epoch 38/50\n",
      "47157/47157 [==============================] - 2s 45us/sample - loss: 0.5709 - val_loss: -3.5331\n",
      "Epoch 39/50\n",
      "47157/47157 [==============================] - 2s 46us/sample - loss: 0.9102 - val_loss: 3.6267\n",
      "Epoch 40/50\n",
      "47157/47157 [==============================] - 2s 46us/sample - loss: 3.7043 - val_loss: 3.4280\n",
      "Epoch 41/50\n",
      "47157/47157 [==============================] - 2s 47us/sample - loss: 3.6712 - val_loss: 3.4319\n",
      "Epoch 42/50\n",
      "47157/47157 [==============================] - 2s 49us/sample - loss: 2.5741 - val_loss: 3.5697\n",
      "Epoch 43/50\n",
      "47157/47157 [==============================] - 2s 52us/sample - loss: 3.7043 - val_loss: 3.4489\n",
      "Epoch 44/50\n",
      "47157/47157 [==============================] - 2s 52us/sample - loss: 3.6728 - val_loss: 3.4148\n",
      "Epoch 45/50\n",
      "47157/47157 [==============================] - 2s 46us/sample - loss: -0.5470 - val_loss: -4.5044\n",
      "Epoch 46/50\n",
      "47157/47157 [==============================] - 2s 46us/sample - loss: -1.7198 - val_loss: -4.3091\n",
      "Epoch 47/50\n",
      "47157/47157 [==============================] - 2s 45us/sample - loss: -1.9020 - val_loss: -4.2289\n",
      "Epoch 48/50\n",
      "47157/47157 [==============================] - 2s 46us/sample - loss: 2.6222 - val_loss: 3.5656\n",
      "Epoch 49/50\n",
      "47157/47157 [==============================] - 2s 46us/sample - loss: 3.6771 - val_loss: 3.4203\n",
      "Epoch 50/50\n",
      "47157/47157 [==============================] - 2s 46us/sample - loss: 2.5983 - val_loss: -2.7942\n"
     ]
    }
   ],
   "source": [
    "hist = model.fit(X, y, epochs=epochs, verbose=1, validation_split=0.1);"
   ]
  },
  {
   "cell_type": "code",
   "execution_count": 26,
   "metadata": {},
   "outputs": [
    {
     "data": {
      "text/html": [
       "<div>\n",
       "<style scoped>\n",
       "    .dataframe tbody tr th:only-of-type {\n",
       "        vertical-align: middle;\n",
       "    }\n",
       "\n",
       "    .dataframe tbody tr th {\n",
       "        vertical-align: top;\n",
       "    }\n",
       "\n",
       "    .dataframe thead th {\n",
       "        text-align: right;\n",
       "    }\n",
       "</style>\n",
       "<table border=\"1\" class=\"dataframe\">\n",
       "  <thead>\n",
       "    <tr style=\"text-align: right;\">\n",
       "      <th></th>\n",
       "      <th>hits@10 [mean]</th>\n",
       "      <th>hits@10 [std]</th>\n",
       "      <th>loss_val [mean]</th>\n",
       "      <th>loss_val [std]</th>\n",
       "      <th>rank_corr [mean]</th>\n",
       "      <th>rank_corr [std]</th>\n",
       "    </tr>\n",
       "  </thead>\n",
       "  <tbody>\n",
       "    <tr>\n",
       "      <th>normal</th>\n",
       "      <td>5.900000</td>\n",
       "      <td>0.157586</td>\n",
       "      <td>193.947293</td>\n",
       "      <td>1.435380</td>\n",
       "      <td>0.490388</td>\n",
       "      <td>0.010817</td>\n",
       "    </tr>\n",
       "    <tr>\n",
       "      <th>Poisson</th>\n",
       "      <td>5.700000</td>\n",
       "      <td>0.153297</td>\n",
       "      <td>3.657933</td>\n",
       "      <td>0.029557</td>\n",
       "      <td>0.524589</td>\n",
       "      <td>0.009509</td>\n",
       "    </tr>\n",
       "    <tr>\n",
       "      <th>ZIP</th>\n",
       "      <td>5.533333</td>\n",
       "      <td>0.164091</td>\n",
       "      <td>2.905566</td>\n",
       "      <td>0.040754</td>\n",
       "      <td>0.491178</td>\n",
       "      <td>0.009784</td>\n",
       "    </tr>\n",
       "    <tr>\n",
       "      <th>Mixture</th>\n",
       "      <td>4.583333</td>\n",
       "      <td>0.165482</td>\n",
       "      <td>0.501475</td>\n",
       "      <td>3.667726</td>\n",
       "      <td>0.495124</td>\n",
       "      <td>0.010254</td>\n",
       "    </tr>\n",
       "  </tbody>\n",
       "</table>\n",
       "</div>"
      ],
      "text/plain": [
       "         hits@10 [mean]  hits@10 [std]  loss_val [mean]  loss_val [std]  \\\n",
       "normal         5.900000       0.157586       193.947293        1.435380   \n",
       "Poisson        5.700000       0.153297         3.657933        0.029557   \n",
       "ZIP            5.533333       0.164091         2.905566        0.040754   \n",
       "Mixture        4.583333       0.165482         0.501475        3.667726   \n",
       "\n",
       "         rank_corr [mean]  rank_corr [std]  \n",
       "normal           0.490388         0.010817  \n",
       "Poisson          0.524589         0.009509  \n",
       "ZIP              0.491178         0.009784  \n",
       "Mixture          0.495124         0.010254  "
      ]
     },
     "execution_count": 26,
     "metadata": {},
     "output_type": "execute_result"
    },
    {
     "data": {
      "image/png": "[encoded data removed]",
      "text/plain": [
       "<Figure size 432x288 with 1 Axes>"
      ]
     },
     "metadata": {
      "needs_background": "light"
     },
     "output_type": "display_data"
    }
   ],
   "source": [
    "plt.plot(hist.history['loss'])\n",
    "plt.plot(hist.history['val_loss'])\n",
    "plt.legend(['loss','val_loss'])\n",
    "plt.xlabel('Epochs')\n",
    "plt.title('Training for Mixture Model')\n",
    "np.mean(hist.history['loss'])\n",
    "\n",
    "d = check_performance(model_mean)\n",
    "if (epochs > 10):\n",
    "    dd = np.mean(hist.history['val_loss'][-10:])\n",
    "    ddd = np.std(hist.history['val_loss'][-10:])\n",
    "else:\n",
    "    dd = ddd = -1.\n",
    "import pandas as pd\n",
    "df1 = pd.DataFrame(\n",
    "    {'hits@10 [mean]' : d[0], 'hits@10 [std]' : d[1],\n",
    "     'rank_corr [mean]' : d[2], 'rank_corr [std]' : d[3],\n",
    "    'loss_val [mean]' : dd, 'loss_val [std]' : ddd},\n",
    "    index=['Mixture'])\n",
    "df = df.append(df1)\n",
    "df"
   ]
  },
  {
   "cell_type": "code",
   "execution_count": 27,
   "metadata": {
    "colab": {},
    "colab_type": "code",
    "id": "Mw8lOKHlGG0V"
   },
   "outputs": [
    {
     "data": {
      "text/html": [
       "<div>\n",
       "<style scoped>\n",
       "    .dataframe tbody tr th:only-of-type {\n",
       "        vertical-align: middle;\n",
       "    }\n",
       "\n",
       "    .dataframe tbody tr th {\n",
       "        vertical-align: top;\n",
       "    }\n",
       "\n",
       "    .dataframe thead th {\n",
       "        text-align: right;\n",
       "    }\n",
       "</style>\n",
       "<table border=\"1\" class=\"dataframe\">\n",
       "  <thead>\n",
       "    <tr style=\"text-align: right;\">\n",
       "      <th></th>\n",
       "      <th>hits@10 [mean]</th>\n",
       "      <th>hits@10 [std]</th>\n",
       "      <th>loss_val [mean]</th>\n",
       "      <th>loss_val [std]</th>\n",
       "      <th>rank_corr [mean]</th>\n",
       "      <th>rank_corr [std]</th>\n",
       "    </tr>\n",
       "  </thead>\n",
       "  <tbody>\n",
       "    <tr>\n",
       "      <th>normal</th>\n",
       "      <td>5.900000</td>\n",
       "      <td>0.157586</td>\n",
       "      <td>193.947293</td>\n",
       "      <td>1.435380</td>\n",
       "      <td>0.490388</td>\n",
       "      <td>0.010817</td>\n",
       "    </tr>\n",
       "    <tr>\n",
       "      <th>Poisson</th>\n",
       "      <td>5.700000</td>\n",
       "      <td>0.153297</td>\n",
       "      <td>3.657933</td>\n",
       "      <td>0.029557</td>\n",
       "      <td>0.524589</td>\n",
       "      <td>0.009509</td>\n",
       "    </tr>\n",
       "    <tr>\n",
       "      <th>ZIP</th>\n",
       "      <td>5.533333</td>\n",
       "      <td>0.164091</td>\n",
       "      <td>2.905566</td>\n",
       "      <td>0.040754</td>\n",
       "      <td>0.491178</td>\n",
       "      <td>0.009784</td>\n",
       "    </tr>\n",
       "    <tr>\n",
       "      <th>Mixture</th>\n",
       "      <td>4.583333</td>\n",
       "      <td>0.165482</td>\n",
       "      <td>0.501475</td>\n",
       "      <td>3.667726</td>\n",
       "      <td>0.495124</td>\n",
       "      <td>0.010254</td>\n",
       "    </tr>\n",
       "  </tbody>\n",
       "</table>\n",
       "</div>"
      ],
      "text/plain": [
       "         hits@10 [mean]  hits@10 [std]  loss_val [mean]  loss_val [std]  \\\n",
       "normal         5.900000       0.157586       193.947293        1.435380   \n",
       "Poisson        5.700000       0.153297         3.657933        0.029557   \n",
       "ZIP            5.533333       0.164091         2.905566        0.040754   \n",
       "Mixture        4.583333       0.165482         0.501475        3.667726   \n",
       "\n",
       "         rank_corr [mean]  rank_corr [std]  \n",
       "normal           0.490388         0.010817  \n",
       "Poisson          0.524589         0.009509  \n",
       "ZIP              0.491178         0.009784  \n",
       "Mixture          0.495124         0.010254  "
      ]
     },
     "execution_count": 27,
     "metadata": {},
     "output_type": "execute_result"
    }
   ],
   "source": [
    "df"
   ]
  },
  {
   "cell_type": "code",
   "execution_count": null,
   "metadata": {},
   "outputs": [],
   "source": []
  }
 ],
 "metadata": {
  "accelerator": "GPU",
  "colab": {
   "collapsed_sections": [],
   "name": "count_case_study.ipynb",
   "provenance": [],
   "version": "0.3.2"
  },
  "kernelspec": {
   "display_name": "Python 3",
   "language": "python",
   "name": "python3"
  },
  "language_info": {
   "codemirror_mode": {
    "name": "ipython",
    "version": 3
   },
   "file_extension": ".py",
   "mimetype": "text/x-python",
   "name": "python",
   "nbconvert_exporter": "python",
   "pygments_lexer": "ipython3",
   "version": "3.5.2"
  }
 },
 "nbformat": 4,
 "nbformat_minor": 1
}
