{
 "cells": [
  {
   "cell_type": "markdown",
   "metadata": {},
   "source": [
    "### Case Study number of blogposts"
   ]
  },
  {
   "cell_type": "code",
   "execution_count": 27,
   "metadata": {},
   "outputs": [
    {
     "name": "stdout",
     "output_type": "stream",
     "text": [
      "File exists\n"
     ]
    }
   ],
   "source": [
    "import os\n",
    "if not os.path.isfile('blogdata/BlogFeedback.zip'):\n",
    "    !mkdir blogdata\n",
    "    print(\"Installing wget\")\n",
    "    !pip install wget\n",
    "    import wget\n",
    "    print(\"Downloading file\")\n",
    "    wget.download('http://archive.ics.uci.edu/ml/machine-learning-databases/00304/BlogFeedback.zip', 'blogdata/BlogFeedback.zip')\n",
    "    print(\"Unzipping content\")\n",
    "    !unzip blogdata/BlogFeedback.zip -d blogdata\n",
    "else:\n",
    "    print(\"File exists\")"
   ]
  },
  {
   "cell_type": "code",
   "execution_count": 28,
   "metadata": {},
   "outputs": [
    {
     "name": "stdout",
     "output_type": "stream",
     "text": [
      "TFB Version 0.7.0-dev\n",
      "TF  Version 2.0.0-alpha0\n"
     ]
    }
   ],
   "source": [
    "import matplotlib.pyplot as plt\n",
    "import numpy as np\n",
    "import seaborn as sns\n",
    "\n",
    "import tensorflow as tf\n",
    "import tensorflow_probability as tfp\n",
    "\n",
    "sns.reset_defaults()\n",
    "#sns.set_style('whitegrid')\n",
    "sns.set_context(context='talk',font_scale=0.7)\n",
    "\n",
    "%matplotlib inline\n",
    "\n",
    "tfd = tfp.distributions\n",
    "print(\"TFB Version\", tfp.__version__)\n",
    "print(\"TF  Version\",tf.__version__)"
   ]
  },
  {
   "cell_type": "code",
   "execution_count": 60,
   "metadata": {},
   "outputs": [
    {
     "data": {
      "text/plain": [
       "((52397, 281), (52397, 279), (52397,))"
      ]
     },
     "execution_count": 60,
     "metadata": {},
     "output_type": "execute_result"
    }
   ],
   "source": [
    "# Loading to the data\n",
    "d = np.loadtxt(\"blogdata/blogData_train.csv\", delimiter=',', dtype=np.float32)\n",
    "Xu = d[:,0:279]\n",
    "y = d[:,280]\n",
    "d.shape, Xu.shape, y.shape"
   ]
  },
  {
   "cell_type": "code",
   "execution_count": 62,
   "metadata": {},
   "outputs": [],
   "source": [
    "Xmean = np.mean(Xu,axis=0)\n",
    "Xsd = np.std(Xu,axis=0)\n",
    "X = (Xu-Xmean)/(Xsd+1e-10)"
   ]
  },
  {
   "cell_type": "code",
   "execution_count": 63,
   "metadata": {},
   "outputs": [],
   "source": [
    "## Definition of the custom parametrized distribution\n",
    "def my_poiss(t):\n",
    "    return tfd.Poisson(rate=t) #Equivalent to log_rate=t when using linear activation "
   ]
  },
  {
   "cell_type": "code",
   "execution_count": 160,
   "metadata": {},
   "outputs": [],
   "source": [
    "## Definition of the model\n",
    "#Using the functional API for clarity\n",
    "inputs = tf.keras.layers.Input(shape=(279,))\n",
    "rate = tf.keras.layers.Dense(1000, activation='sigmoid')(inputs)\n",
    "rate = tf.keras.layers.Dense(100, activation='sigmoid')(inputs)\n",
    "rate = tf.keras.layers.Dense(100, activation='sigmoid')(inputs)\n",
    "rate = tf.keras.layers.Dense(1, \n",
    "                             activation=tf.exp, \n",
    "                             bias_initializer='zeros', \n",
    "                             kernel_initializer='zeros')(rate)\n",
    "p_y = tfp.layers.DistributionLambda(my_poiss)(rate) #<------- Here we hand-in the the custom distribution\n",
    "\n",
    "#Glueing input and output together. Note that output is a tf.distirbution \n",
    "model = tf.keras.models.Model(inputs=inputs, outputs=p_y)"
   ]
  },
  {
   "cell_type": "code",
   "execution_count": 161,
   "metadata": {},
   "outputs": [],
   "source": [
    "def negloglik(y_true, y_hat):\n",
    "  return -y_hat.log_prob(y_true)\n",
    "\n",
    "model.compile(optimizer=tf.optimizers.Adam(learning_rate=0.01), loss=negloglik)"
   ]
  },
  {
   "cell_type": "code",
   "execution_count": 162,
   "metadata": {},
   "outputs": [
    {
     "name": "stdout",
     "output_type": "stream",
     "text": [
      "Train on 47157 samples, validate on 5240 samples\n",
      "Epoch 1/30\n",
      "47157/47157 [==============================] - 2s 41us/sample - loss: 9.2042 - val_loss: 3.8120\n",
      "Epoch 2/30\n",
      "47157/47157 [==============================] - 2s 39us/sample - loss: 7.7384 - val_loss: 3.7715\n",
      "Epoch 3/30\n",
      "47157/47157 [==============================] - 2s 38us/sample - loss: 7.4375 - val_loss: 4.8550\n",
      "Epoch 4/30\n",
      "47157/47157 [==============================] - 2s 40us/sample - loss: 7.0045 - val_loss: 3.8313\n",
      "Epoch 5/30\n",
      "47157/47157 [==============================] - 2s 39us/sample - loss: 6.7611 - val_loss: 4.2046\n",
      "Epoch 6/30\n",
      "47157/47157 [==============================] - 2s 39us/sample - loss: 6.6786 - val_loss: 3.6040\n",
      "Epoch 7/30\n",
      "47157/47157 [==============================] - 2s 39us/sample - loss: 6.4796 - val_loss: 3.5932\n",
      "Epoch 8/30\n",
      "47157/47157 [==============================] - 2s 39us/sample - loss: 6.2094 - val_loss: 3.5470\n",
      "Epoch 9/30\n",
      "47157/47157 [==============================] - 2s 39us/sample - loss: 5.9084 - val_loss: 3.5048\n",
      "Epoch 10/30\n",
      "47157/47157 [==============================] - 2s 40us/sample - loss: 5.9778 - val_loss: 3.5634\n",
      "Epoch 11/30\n",
      "47157/47157 [==============================] - 2s 40us/sample - loss: 5.8214 - val_loss: 4.0188\n",
      "Epoch 12/30\n",
      "47157/47157 [==============================] - 2s 40us/sample - loss: 5.9215 - val_loss: 4.0387\n",
      "Epoch 13/30\n",
      "47157/47157 [==============================] - 2s 40us/sample - loss: 5.6164 - val_loss: 3.5779\n",
      "Epoch 14/30\n",
      "47157/47157 [==============================] - 2s 41us/sample - loss: 5.5258 - val_loss: 3.6479\n",
      "Epoch 15/30\n",
      "47157/47157 [==============================] - 2s 41us/sample - loss: 5.5161 - val_loss: 4.0833\n",
      "Epoch 16/30\n",
      "47157/47157 [==============================] - 2s 39us/sample - loss: 5.4920 - val_loss: 3.7303\n",
      "Epoch 17/30\n",
      "47157/47157 [==============================] - 2s 40us/sample - loss: 5.5286 - val_loss: 3.9908\n",
      "Epoch 18/30\n",
      "47157/47157 [==============================] - 2s 39us/sample - loss: 5.2353 - val_loss: 4.2855\n",
      "Epoch 19/30\n",
      "47157/47157 [==============================] - 2s 42us/sample - loss: 5.3728 - val_loss: 3.9827\n",
      "Epoch 20/30\n",
      "47157/47157 [==============================] - 2s 41us/sample - loss: 5.2477 - val_loss: 3.9192\n",
      "Epoch 21/30\n",
      "47157/47157 [==============================] - 2s 41us/sample - loss: 4.9725 - val_loss: 3.8238\n",
      "Epoch 22/30\n",
      "47157/47157 [==============================] - 2s 38us/sample - loss: 5.1176 - val_loss: 3.8975\n",
      "Epoch 23/30\n",
      "47157/47157 [==============================] - 2s 40us/sample - loss: 5.0456 - val_loss: 4.0129\n",
      "Epoch 24/30\n",
      "47157/47157 [==============================] - 2s 41us/sample - loss: 5.2290 - val_loss: 3.8460\n",
      "Epoch 25/30\n",
      "47157/47157 [==============================] - 2s 40us/sample - loss: 5.0736 - val_loss: 3.8824\n",
      "Epoch 26/30\n",
      "47157/47157 [==============================] - 2s 40us/sample - loss: 4.8688 - val_loss: 4.0083\n",
      "Epoch 27/30\n",
      "47157/47157 [==============================] - 2s 39us/sample - loss: 5.0125 - val_loss: 4.5274\n",
      "Epoch 28/30\n",
      "47157/47157 [==============================] - 2s 41us/sample - loss: 4.9370 - val_loss: 3.9477\n",
      "Epoch 29/30\n",
      "47157/47157 [==============================] - 2s 40us/sample - loss: 5.0141 - val_loss: 4.1980\n",
      "Epoch 30/30\n",
      "47157/47157 [==============================] - 2s 40us/sample - loss: 4.9204 - val_loss: 3.8514\n"
     ]
    }
   ],
   "source": [
    "hist = model.fit(X, y, epochs=30, verbose=True, validation_split=0.1);"
   ]
  },
  {
   "cell_type": "code",
   "execution_count": 163,
   "metadata": {},
   "outputs": [
    {
     "data": {
      "text/plain": [
       "5.828936302719364"
      ]
     },
     "execution_count": 163,
     "metadata": {},
     "output_type": "execute_result"
    },
    {
     "data": {
      "image/png": "[encoded data removed]",
      "text/plain": [
       "<Figure size 432x288 with 1 Axes>"
      ]
     },
     "metadata": {
      "needs_background": "light"
     },
     "output_type": "display_data"
    }
   ],
   "source": [
    "plt.plot(hist.history['loss'])\n",
    "plt.xlabel('Epochs')\n",
    "np.mean(hist.history['loss'])"
   ]
  },
  {
   "cell_type": "code",
   "execution_count": 164,
   "metadata": {},
   "outputs": [
    {
     "data": {
      "text/plain": [
       "((206, 281), (206, 279), (206,))"
      ]
     },
     "execution_count": 164,
     "metadata": {},
     "output_type": "execute_result"
    }
   ],
   "source": [
    "d = np.loadtxt(\"blogdata/blogData_test-2012.03.22.00_00.csv\", delimiter=',', dtype=np.float32)\n",
    "Xtu = d[:,0:279]\n",
    "yt = d[:,280]\n",
    "Xt = (Xtu-Xmean) / (Xsd+1e-10)\n",
    "d.shape, Xtu.shape, yt.shape"
   ]
  },
  {
   "cell_type": "code",
   "execution_count": 165,
   "metadata": {},
   "outputs": [],
   "source": [
    "#Glueing input and output together. Note that output is a tf.distirbution \n",
    "model_mean = tf.keras.models.Model(inputs=inputs, outputs=p_y.mean())"
   ]
  },
  {
   "cell_type": "code",
   "execution_count": 166,
   "metadata": {},
   "outputs": [],
   "source": [
    "y_pred = model_mean.predict(Xt).flatten()"
   ]
  },
  {
   "cell_type": "code",
   "execution_count": 167,
   "metadata": {},
   "outputs": [
    {
     "data": {
      "text/plain": [
       "(206,)"
      ]
     },
     "execution_count": 167,
     "metadata": {},
     "output_type": "execute_result"
    }
   ],
   "source": [
    "y_pred.shape"
   ]
  },
  {
   "cell_type": "code",
   "execution_count": 168,
   "metadata": {},
   "outputs": [
    {
     "data": {
      "text/plain": [
       "422.72278"
      ]
     },
     "execution_count": 168,
     "metadata": {},
     "output_type": "execute_result"
    }
   ],
   "source": [
    "np.mean((y_pred - yt)**2)"
   ]
  },
  {
   "cell_type": "code",
   "execution_count": 169,
   "metadata": {},
   "outputs": [
    {
     "data": {
      "text/plain": [
       "<matplotlib.collections.PathCollection at 0x7f63e53ad6a0>"
      ]
     },
     "execution_count": 169,
     "metadata": {},
     "output_type": "execute_result"
    },
    {
     "data": {
      "image/png": "[encoded data removed]",
      "text/plain": [
       "<Figure size 432x288 with 1 Axes>"
      ]
     },
     "metadata": {
      "needs_background": "light"
     },
     "output_type": "display_data"
    }
   ],
   "source": [
    "plt.scatter(y_pred, yt)"
   ]
  },
  {
   "cell_type": "code",
   "execution_count": 170,
   "metadata": {},
   "outputs": [],
   "source": [
    "files = [f for f in os.listdir('blogdata/') if f.startswith('blogData_test')]\n",
    "hits_at10 = np.zeros(len(files))\n",
    "for i,f in enumerate(files):\n",
    "    d = np.loadtxt(\"blogdata/\"+f, delimiter=',', dtype=np.float32)\n",
    "    #print(\"{}\".format(i))\n",
    "    Xtu = d[:,0:279]\n",
    "    yt = d[:,280]\n",
    "    Xt = (Xtu-Xmean) / (Xsd+1e-10)\n",
    "    d.shape, Xtu.shape, yt.shape\n",
    "    y_pred = model_mean.predict(Xt).flatten()\n",
    "    idx_true = np.argsort(yt)[-10:]\n",
    "    idx_pred = np.argsort(y_pred)[-10:] #The 10 higest\n",
    "    hits_at10[i]=len(np.intersect1d(idx_true, idx_pred))"
   ]
  },
  {
   "cell_type": "code",
   "execution_count": 171,
   "metadata": {},
   "outputs": [
    {
     "data": {
      "text/plain": [
       "(4.966666666666667, 0.14900907255500823)"
      ]
     },
     "execution_count": 171,
     "metadata": {},
     "output_type": "execute_result"
    }
   ],
   "source": [
    "np.mean(hits_at10), np.std(hits_at10)/np.sqrt(len(files))"
   ]
  },
  {
   "cell_type": "code",
   "execution_count": null,
   "metadata": {},
   "outputs": [],
   "source": []
  }
 ],
 "metadata": {
  "kernelspec": {
   "display_name": "Python 3",
   "language": "python",
   "name": "python3"
  },
  "language_info": {
   "codemirror_mode": {
    "name": "ipython",
    "version": 3
   },
   "file_extension": ".py",
   "mimetype": "text/x-python",
   "name": "python",
   "nbconvert_exporter": "python",
   "pygments_lexer": "ipython3",
   "version": "3.5.2"
  }
 },
 "nbformat": 4,
 "nbformat_minor": 2
}
