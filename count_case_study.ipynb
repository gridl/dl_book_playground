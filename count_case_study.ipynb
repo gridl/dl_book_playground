{
 "cells": [
  {
   "cell_type": "markdown",
   "metadata": {
    "colab_type": "text",
    "id": "uZcY6IqTAGFX"
   },
   "source": [
    "### Case Study number of blogposts\n",
    "\n",
    "See: \n",
    "http://archive.ics.uci.edu/ml/datasets/BlogFeedback\n",
    "\n",
    "As suggested in the [paper](http://www.cs.bme.hu/~buza/pdfs/gfkl2012_blogs.pdf) and acomaning [talk](http://archive.ics.uci.edu/ml/datasets/BlogFeedback), we use only the base features\n",
    "\n",
    "#### Results Hits@10 mean and stdderr\n",
    "\n",
    "\n",
    "##### 20,5 with only base features\n",
    "LR   5.483   0.181799  #<--- In the paper they had 5.450 +- 1.322 (whatever +- is)\n",
    "\n",
    "Poisson 5.966 0.1763\n",
    "\n",
    "ZI Poisson 6.0 0.15"
   ]
  },
  {
   "cell_type": "code",
   "execution_count": 1,
   "metadata": {
    "colab": {},
    "colab_type": "code",
    "id": "OGzTTCQbAGFZ"
   },
   "outputs": [
    {
     "name": "stdout",
     "output_type": "stream",
     "text": [
      "File exists\n"
     ]
    }
   ],
   "source": [
    "import os\n",
    "if not os.path.isfile('blogdata/BlogFeedback.zip'):\n",
    "    !mkdir blogdata\n",
    "    print(\"Installing wget\")\n",
    "    !pip install wget\n",
    "    import wget\n",
    "    print(\"Downloading file\")\n",
    "    wget.download('http://archive.ics.uci.edu/ml/machine-learning-databases/00304/BlogFeedback.zip', 'blogdata/BlogFeedback.zip')\n",
    "    print(\"Unzipping content\")\n",
    "    !unzip blogdata/BlogFeedback.zip -d blogdata\n",
    "else:\n",
    "    print(\"File exists\")"
   ]
  },
  {
   "cell_type": "code",
   "execution_count": 2,
   "metadata": {},
   "outputs": [
    {
     "name": "stdout",
     "output_type": "stream",
     "text": [
      "Tensorflow version:  2.0.0-alpha0  running in colab?:  False\n"
     ]
    }
   ],
   "source": [
    "import tensorflow as tf\n",
    "try: #If running in colab \n",
    "    import google.colab\n",
    "    IN_COLAB = True \n",
    "except:\n",
    "    IN_COLAB = False\n",
    "if (not tf.__version__.startswith('2')): #Checking if tf 2.0 is installed\n",
    "    if IN_COLAB: #If running in colab install tf 2.0\n",
    "        !pip install tensorflow==2.0.0-alpha0\n",
    "        !pip install pip install tfp-nightly==0.7.0-dev20190511\n",
    "    print('Please install tensorflow 2.0 to run this notebook')\n",
    "print('Tensorflow version: ',tf.__version__, ' running in colab?: ', IN_COLAB)"
   ]
  },
  {
   "cell_type": "code",
   "execution_count": 3,
   "metadata": {
    "colab": {
     "base_uri": "https://localhost:8080/",
     "height": 511
    },
    "colab_type": "code",
    "id": "hXvLxJKsAGFd",
    "outputId": "8c16a9aa-8d1c-4d42-e7ca-f56454df8a58"
   },
   "outputs": [
    {
     "name": "stdout",
     "output_type": "stream",
     "text": [
      "TFP Version 0.7.0-dev20190511\n",
      "TF  Version 2.0.0-alpha0\n"
     ]
    }
   ],
   "source": [
    "import matplotlib.pyplot as plt\n",
    "import numpy as np\n",
    "from sklearn.model_selection import train_test_split\n",
    "from sklearn.metrics import mean_absolute_error, mean_squared_error\n",
    "import seaborn as sns\n",
    "import tensorflow_probability as tfp\n",
    "\n",
    "sns.reset_defaults()\n",
    "#sns.set_style('whitegrid')\n",
    "sns.set_context(context='talk',font_scale=0.7)\n",
    "\n",
    "\n",
    "%matplotlib inline\n",
    "plt.style.use('default')\n",
    "\n",
    "tfd = tfp.distributions\n",
    "tfb = tfp.bijectors\n",
    "from tensorflow.keras.models import Model\n",
    "from tensorflow.keras.layers import Dense\n",
    "print(\"TFP Version\", tfp.__version__)\n",
    "print(\"TF  Version\",tf.__version__)\n",
    "np.random.seed(42)\n",
    "tf.random.set_seed(42)\n"
   ]
  },
  {
   "cell_type": "code",
   "execution_count": 4,
   "metadata": {
    "colab": {},
    "colab_type": "code",
    "id": "MOj0hNbqinCG"
   },
   "outputs": [],
   "source": [
    "USE_BASE = True #Use only the Basic features (successfully in paper)\n"
   ]
  },
  {
   "cell_type": "code",
   "execution_count": 5,
   "metadata": {
    "colab": {
     "base_uri": "https://localhost:8080/",
     "height": 34
    },
    "colab_type": "code",
    "id": "QE660pTmAGFf",
    "outputId": "647adeef-18c7-44ef-e05c-749121c29e96"
   },
   "outputs": [
    {
     "data": {
      "text/plain": [
       "((52397, 281), (52397, 63), (52397,))"
      ]
     },
     "execution_count": 5,
     "metadata": {},
     "output_type": "execute_result"
    }
   ],
   "source": [
    "# Loading to the data\n",
    "d = np.loadtxt(\"blogdata/blogData_train.csv\", delimiter=',', dtype=np.float32)\n",
    "if USE_BASE:\n",
    "  Xu = d[:,0:63]\n",
    "else:\n",
    "  Xu = d[:,0:279]\n",
    "\n",
    "y = d[:,280]\n",
    "d.shape, Xu.shape, y.shape\n",
    "\n"
   ]
  },
  {
   "cell_type": "code",
   "execution_count": 6,
   "metadata": {
    "colab": {},
    "colab_type": "code",
    "id": "m5Nb64B_AGFh"
   },
   "outputs": [
    {
     "data": {
      "text/plain": [
       "(5.0, -5.0)"
      ]
     },
     "execution_count": 6,
     "metadata": {},
     "output_type": "execute_result"
    }
   ],
   "source": [
    "Xmean = np.mean(Xu,axis=0)\n",
    "Xsd = np.std(Xu,axis=0)\n",
    "X = (Xu-Xmean)/(Xsd+1e-10)\n",
    "X = np.clip(X,-5,5)\n",
    "np.max(X),np.min(X)\n",
    "\n"
   ]
  },
  {
   "cell_type": "code",
   "execution_count": 7,
   "metadata": {
    "colab": {},
    "colab_type": "code",
    "id": "lst2_XBNv8w6"
   },
   "outputs": [],
   "source": [
    "def check_performance(model_mean):\n",
    "  files = [f for f in os.listdir('blogdata/') if f.startswith('blogData_test')]\n",
    "  hits_at10 = np.zeros(len(files))\n",
    "  for i,f in enumerate(files):\n",
    "      d = np.loadtxt(\"blogdata/\"+f, delimiter=',', dtype=np.float32)\n",
    "      #print(\"{}\".format(i))\n",
    "      Xtu = d[:,0:X.shape[1]]\n",
    "      yt = d[:,280]\n",
    "      Xt = (Xtu-Xmean) / (Xsd+1e-10)\n",
    "      d.shape, Xtu.shape, yt.shape\n",
    "      y_pred = model_mean.predict(Xt).flatten()\n",
    "      idx_true = np.argsort(yt)[-10:]\n",
    "      idx_pred = np.argsort(y_pred)[-10:] #The 10 higest\n",
    "      hits_at10[i]=len(np.intersect1d(idx_true, idx_pred))\n",
    "  return (np.mean(hits_at10), np.std(hits_at10)/np.sqrt(len(files)))\n"
   ]
  },
  {
   "cell_type": "markdown",
   "metadata": {
    "colab_type": "text",
    "id": "FoI1J29DAGFj"
   },
   "source": [
    "### Definition of a base model "
   ]
  },
  {
   "cell_type": "code",
   "execution_count": 8,
   "metadata": {
    "colab": {},
    "colab_type": "code",
    "id": "MaswVJslAGFn"
   },
   "outputs": [],
   "source": [
    "## Definition of the base model\n",
    "from tensorflow.keras.regularizers import l2\n",
    "def make_base(inputs):\n",
    "    rate = tf.keras.layers.Dense(20,  kernel_regularizer=l2(1e-2),  bias_regularizer=l2(1e-4),activation='sigmoid')(inputs)\n",
    "    return tf.keras.layers.Dense(5,  kernel_regularizer=l2(1e-2),  bias_regularizer=l2(1e-4),activation='sigmoid')(rate)\n",
    "\n",
    "epochs = 30\n"
   ]
  },
  {
   "cell_type": "markdown",
   "metadata": {},
   "source": [
    "### Fitting Normal"
   ]
  },
  {
   "cell_type": "code",
   "execution_count": 9,
   "metadata": {},
   "outputs": [
    {
     "name": "stdout",
     "output_type": "stream",
     "text": [
      "Train on 47157 samples, validate on 5240 samples\n",
      "Epoch 1/30\n",
      "47157/47157 [==============================] - 2s 37us/sample - loss: 1571.3136 - val_loss: 236.2781\n",
      "Epoch 2/30\n",
      "47157/47157 [==============================] - 2s 33us/sample - loss: 1530.0945 - val_loss: 231.7477\n",
      "Epoch 3/30\n",
      "47157/47157 [==============================] - 2s 33us/sample - loss: 1496.4708 - val_loss: 226.7006\n",
      "Epoch 4/30\n",
      "47157/47157 [==============================] - 2s 32us/sample - loss: 1467.8049 - val_loss: 223.7113\n",
      "Epoch 5/30\n",
      "47157/47157 [==============================] - 2s 33us/sample - loss: 1443.6617 - val_loss: 221.6954\n",
      "Epoch 6/30\n",
      "47157/47157 [==============================] - 2s 32us/sample - loss: 1422.4355 - val_loss: 219.0939\n",
      "Epoch 7/30\n",
      "47157/47157 [==============================] - 2s 35us/sample - loss: 1403.7238 - val_loss: 216.9653\n",
      "Epoch 8/30\n",
      "47157/47157 [==============================] - 2s 35us/sample - loss: 1386.8299 - val_loss: 216.4647\n",
      "Epoch 9/30\n",
      "47157/47157 [==============================] - 2s 35us/sample - loss: 1371.5775 - val_loss: 214.7540\n",
      "Epoch 10/30\n",
      "47157/47157 [==============================] - 2s 44us/sample - loss: 1357.1391 - val_loss: 213.3881\n",
      "Epoch 11/30\n",
      "47157/47157 [==============================] - 2s 38us/sample - loss: 1343.4980 - val_loss: 214.8857\n",
      "Epoch 12/30\n",
      "47157/47157 [==============================] - 2s 34us/sample - loss: 1330.2140 - val_loss: 212.4623\n",
      "Epoch 13/30\n",
      "47157/47157 [==============================] - 2s 32us/sample - loss: 1317.7065 - val_loss: 211.6947\n",
      "Epoch 14/30\n",
      "47157/47157 [==============================] - 2s 33us/sample - loss: 1306.1324 - val_loss: 211.7365\n",
      "Epoch 15/30\n",
      "47157/47157 [==============================] - 2s 33us/sample - loss: 1294.1546 - val_loss: 209.6735\n",
      "Epoch 16/30\n",
      "47157/47157 [==============================] - 2s 34us/sample - loss: 1282.9486 - val_loss: 210.0665\n",
      "Epoch 17/30\n",
      "47157/47157 [==============================] - 2s 36us/sample - loss: 1272.7001 - val_loss: 208.3277\n",
      "Epoch 18/30\n",
      "47157/47157 [==============================] - 2s 40us/sample - loss: 1259.1050 - val_loss: 207.8225\n",
      "Epoch 19/30\n",
      "47157/47157 [==============================] - 2s 35us/sample - loss: 1246.0237 - val_loss: 207.6303\n",
      "Epoch 20/30\n",
      "47157/47157 [==============================] - 2s 33us/sample - loss: 1233.9164 - val_loss: 207.5981\n",
      "Epoch 21/30\n",
      "47157/47157 [==============================] - 2s 32us/sample - loss: 1222.5629 - val_loss: 206.0931\n",
      "Epoch 22/30\n",
      "47157/47157 [==============================] - 2s 33us/sample - loss: 1211.4499 - val_loss: 205.4245\n",
      "Epoch 23/30\n",
      "47157/47157 [==============================] - 2s 32us/sample - loss: 1201.9087 - val_loss: 204.8195\n",
      "Epoch 24/30\n",
      "47157/47157 [==============================] - 2s 34us/sample - loss: 1190.6298 - val_loss: 203.6788\n",
      "Epoch 25/30\n",
      "47157/47157 [==============================] - 2s 33us/sample - loss: 1180.9212 - val_loss: 202.1717\n",
      "Epoch 26/30\n",
      "47157/47157 [==============================] - 2s 33us/sample - loss: 1171.1559 - val_loss: 201.6942\n",
      "Epoch 27/30\n",
      "47157/47157 [==============================] - 2s 32us/sample - loss: 1162.4736 - val_loss: 201.4480\n",
      "Epoch 28/30\n",
      "47157/47157 [==============================] - 2s 33us/sample - loss: 1151.7209 - val_loss: 205.4895\n",
      "Epoch 29/30\n",
      "47157/47157 [==============================] - 2s 34us/sample - loss: 1144.5919 - val_loss: 199.1715\n",
      "Epoch 30/30\n",
      "47157/47157 [==============================] - 2s 37us/sample - loss: 1135.6560 - val_loss: 199.1353\n"
     ]
    }
   ],
   "source": [
    "inputs = tf.keras.layers.Input(shape=(X.shape[1],))\n",
    "out = tf.keras.layers.Dense(1)(make_base(inputs))\n",
    "model = tf.keras.models.Model(inputs=inputs, outputs=out)\n",
    "model.compile(optimizer=tf.optimizers.Adam(), loss='mse')\n",
    "hist = model.fit(X, y, epochs=epochs, verbose=1, validation_split=0.1);"
   ]
  },
  {
   "cell_type": "code",
   "execution_count": 10,
   "metadata": {},
   "outputs": [
    {
     "data": {
      "text/html": [
       "<div>\n",
       "<style scoped>\n",
       "    .dataframe tbody tr th:only-of-type {\n",
       "        vertical-align: middle;\n",
       "    }\n",
       "\n",
       "    .dataframe tbody tr th {\n",
       "        vertical-align: top;\n",
       "    }\n",
       "\n",
       "    .dataframe thead th {\n",
       "        text-align: right;\n",
       "    }\n",
       "</style>\n",
       "<table border=\"1\" class=\"dataframe\">\n",
       "  <thead>\n",
       "    <tr style=\"text-align: right;\">\n",
       "      <th></th>\n",
       "      <th>hits@10 [mean]</th>\n",
       "      <th>hits@10 [std]</th>\n",
       "    </tr>\n",
       "  </thead>\n",
       "  <tbody>\n",
       "    <tr>\n",
       "      <th>normal</th>\n",
       "      <td>5.866667</td>\n",
       "      <td>0.157174</td>\n",
       "    </tr>\n",
       "  </tbody>\n",
       "</table>\n",
       "</div>"
      ],
      "text/plain": [
       "        hits@10 [mean]  hits@10 [std]\n",
       "normal        5.866667       0.157174"
      ]
     },
     "execution_count": 10,
     "metadata": {},
     "output_type": "execute_result"
    },
    {
     "data": {
      "image/png": "[encoded data removed]",
      "text/plain": [
       "<Figure size 432x288 with 1 Axes>"
      ]
     },
     "metadata": {
      "needs_background": "light"
     },
     "output_type": "display_data"
    }
   ],
   "source": [
    "plt.plot(hist.history['loss'])\n",
    "plt.plot(hist.history['val_loss'])\n",
    "plt.legend(['loss','val_loss'])\n",
    "plt.xlabel('Epochs')\n",
    "plt.title('Training for Normal Model')\n",
    "np.mean(hist.history['loss'])\n",
    "\n",
    "d = check_performance(model)\n",
    "import pandas as pd\n",
    "df = pd.DataFrame({'hits@10 [mean]' : d[0], 'hits@10 [std]' : d[1]},index=['normal'])\n",
    "df"
   ]
  },
  {
   "cell_type": "markdown",
   "metadata": {},
   "source": [
    "### Fitting a poisson"
   ]
  },
  {
   "cell_type": "code",
   "execution_count": 11,
   "metadata": {},
   "outputs": [],
   "source": [
    "def negloglik(y_true, y_hat):\n",
    "  return -y_hat.log_prob(y_true)"
   ]
  },
  {
   "cell_type": "code",
   "execution_count": 12,
   "metadata": {},
   "outputs": [],
   "source": [
    "inputs = tf.keras.layers.Input(shape=(X.shape[1],))\n",
    "rate = tf.keras.layers.Dense(1, \n",
    "                                 activation=tf.exp, \n",
    "                                 bias_initializer='zeros', \n",
    "                                 kernel_initializer='zeros')(make_base(inputs))\n",
    "\n",
    "p_y = tfp.layers.DistributionLambda(tfd.Poisson)(rate) \n",
    "model = tf.keras.models.Model(inputs=inputs, outputs=p_y)\n",
    "model_mean = tf.keras.models.Model(inputs=inputs, outputs=p_y.mean()) #For evaluation we need the mean\n",
    "model.compile(optimizer=tf.optimizers.Adam(), loss=negloglik)"
   ]
  },
  {
   "cell_type": "code",
   "execution_count": 13,
   "metadata": {},
   "outputs": [
    {
     "name": "stdout",
     "output_type": "stream",
     "text": [
      "Train on 47157 samples, validate on 5240 samples\n",
      "Epoch 1/30\n",
      "47157/47157 [==============================] - 2s 40us/sample - loss: 16.3863 - val_loss: 5.0832\n",
      "Epoch 2/30\n",
      "47157/47157 [==============================] - 2s 36us/sample - loss: 9.1366 - val_loss: 4.7522\n",
      "Epoch 3/30\n",
      "47157/47157 [==============================] - 2s 35us/sample - loss: 8.0396 - val_loss: 4.5491\n",
      "Epoch 4/30\n",
      "47157/47157 [==============================] - 2s 35us/sample - loss: 7.6609 - val_loss: 4.3988\n",
      "Epoch 5/30\n",
      "47157/47157 [==============================] - 2s 35us/sample - loss: 7.4592 - val_loss: 4.2827\n",
      "Epoch 6/30\n",
      "47157/47157 [==============================] - 2s 33us/sample - loss: 7.3126 - val_loss: 4.2124\n",
      "Epoch 7/30\n",
      "47157/47157 [==============================] - 2s 37us/sample - loss: 7.1924 - val_loss: 4.1656\n",
      "Epoch 8/30\n",
      "47157/47157 [==============================] - 2s 35us/sample - loss: 7.0852 - val_loss: 4.1360\n",
      "Epoch 9/30\n",
      "47157/47157 [==============================] - 2s 34us/sample - loss: 7.0019 - val_loss: 4.1149\n",
      "Epoch 10/30\n",
      "47157/47157 [==============================] - 2s 34us/sample - loss: 6.9816 - val_loss: 4.0725\n",
      "Epoch 11/30\n",
      "47157/47157 [==============================] - 2s 34us/sample - loss: 6.9001 - val_loss: 4.0266\n",
      "Epoch 12/30\n",
      "47157/47157 [==============================] - 2s 34us/sample - loss: 6.9290 - val_loss: 4.0445\n",
      "Epoch 13/30\n",
      "47157/47157 [==============================] - 2s 34us/sample - loss: 6.8658 - val_loss: 3.9955\n",
      "Epoch 14/30\n",
      "47157/47157 [==============================] - 2s 35us/sample - loss: 6.8582 - val_loss: 4.0293\n",
      "Epoch 15/30\n",
      "47157/47157 [==============================] - 2s 34us/sample - loss: 6.8025 - val_loss: 3.9279\n",
      "Epoch 16/30\n",
      "47157/47157 [==============================] - 2s 35us/sample - loss: 6.7852 - val_loss: 3.9416\n",
      "Epoch 17/30\n",
      "47157/47157 [==============================] - 2s 34us/sample - loss: 6.7368 - val_loss: 3.9025\n",
      "Epoch 18/30\n",
      "47157/47157 [==============================] - 2s 34us/sample - loss: 6.7453 - val_loss: 3.8641\n",
      "Epoch 19/30\n",
      "47157/47157 [==============================] - 2s 33us/sample - loss: 6.7065 - val_loss: 3.8574\n",
      "Epoch 20/30\n",
      "47157/47157 [==============================] - 2s 34us/sample - loss: 6.7422 - val_loss: 3.8805\n",
      "Epoch 21/30\n",
      "47157/47157 [==============================] - 2s 34us/sample - loss: 6.6904 - val_loss: 3.8708\n",
      "Epoch 22/30\n",
      "47157/47157 [==============================] - 2s 33us/sample - loss: 6.7016 - val_loss: 3.8496\n",
      "Epoch 23/30\n",
      "47157/47157 [==============================] - 2s 36us/sample - loss: 6.6858 - val_loss: 3.8488\n",
      "Epoch 24/30\n",
      "47157/47157 [==============================] - 2s 34us/sample - loss: 6.6923 - val_loss: 3.8207\n",
      "Epoch 25/30\n",
      "47157/47157 [==============================] - 2s 35us/sample - loss: 6.6652 - val_loss: 3.8107\n",
      "Epoch 26/30\n",
      "47157/47157 [==============================] - 2s 34us/sample - loss: 6.6262 - val_loss: 3.8038\n",
      "Epoch 27/30\n",
      "47157/47157 [==============================] - 2s 34us/sample - loss: 6.6465 - val_loss: 3.8222\n",
      "Epoch 28/30\n",
      "47157/47157 [==============================] - 2s 35us/sample - loss: 6.6274 - val_loss: 3.8222\n",
      "Epoch 29/30\n",
      "47157/47157 [==============================] - 2s 34us/sample - loss: 6.6312 - val_loss: 3.7887\n",
      "Epoch 30/30\n",
      "47157/47157 [==============================] - 2s 35us/sample - loss: 6.5918 - val_loss: 3.7727\n"
     ]
    }
   ],
   "source": [
    "hist = model.fit(X, y, epochs=epochs, verbose=1, validation_split=0.1);"
   ]
  },
  {
   "cell_type": "code",
   "execution_count": 14,
   "metadata": {},
   "outputs": [
    {
     "data": {
      "text/html": [
       "<div>\n",
       "<style scoped>\n",
       "    .dataframe tbody tr th:only-of-type {\n",
       "        vertical-align: middle;\n",
       "    }\n",
       "\n",
       "    .dataframe tbody tr th {\n",
       "        vertical-align: top;\n",
       "    }\n",
       "\n",
       "    .dataframe thead th {\n",
       "        text-align: right;\n",
       "    }\n",
       "</style>\n",
       "<table border=\"1\" class=\"dataframe\">\n",
       "  <thead>\n",
       "    <tr style=\"text-align: right;\">\n",
       "      <th></th>\n",
       "      <th>hits@10 [mean]</th>\n",
       "      <th>hits@10 [std]</th>\n",
       "    </tr>\n",
       "  </thead>\n",
       "  <tbody>\n",
       "    <tr>\n",
       "      <th>normal</th>\n",
       "      <td>5.866667</td>\n",
       "      <td>0.157174</td>\n",
       "    </tr>\n",
       "    <tr>\n",
       "      <th>Poisson</th>\n",
       "      <td>5.800000</td>\n",
       "      <td>0.180739</td>\n",
       "    </tr>\n",
       "  </tbody>\n",
       "</table>\n",
       "</div>"
      ],
      "text/plain": [
       "         hits@10 [mean]  hits@10 [std]\n",
       "normal         5.866667       0.157174\n",
       "Poisson        5.800000       0.180739"
      ]
     },
     "execution_count": 14,
     "metadata": {},
     "output_type": "execute_result"
    },
    {
     "data": {
      "image/png": "[encoded data removed]",
      "text/plain": [
       "<Figure size 432x288 with 1 Axes>"
      ]
     },
     "metadata": {
      "needs_background": "light"
     },
     "output_type": "display_data"
    }
   ],
   "source": [
    "plt.plot(hist.history['loss'])\n",
    "plt.plot(hist.history['val_loss'])\n",
    "plt.legend(['loss','val_loss'])\n",
    "plt.xlabel('Epochs')\n",
    "plt.title('Training for Poisson Distribution')\n",
    "np.mean(hist.history['loss'])\n",
    "\n",
    "d = check_performance(model_mean)\n",
    "df = df.append(pd.DataFrame({'hits@10 [mean]' : d[0], 'hits@10 [std]' : d[1]},index=['Poisson']))\n",
    "df"
   ]
  },
  {
   "cell_type": "markdown",
   "metadata": {},
   "source": [
    "### Fitting ZIP"
   ]
  },
  {
   "cell_type": "code",
   "execution_count": 15,
   "metadata": {},
   "outputs": [],
   "source": [
    "def zero_inf(out): \n",
    "    rate = tf.math.exp(out[:,0]) #A \n",
    "    #rate = tf.math.softplus(out[:,0]) #A \n",
    "    s = tf.math.sigmoid(out[:,1:]) #B  \n",
    "    probs = tf.concat([s, 1-s], axis=1) #C \n",
    "    print(np.min(rate), \" \", np.max(rate), \" \", np.min(s), np.max(s),\"  \",np.min(out[:,1:]), np.max(out[:,1:]))\n",
    "    return tfd.Mixture(\n",
    "          cat=tfd.Categorical(probs=probs),#D\n",
    "          components=[\n",
    "            tfd.Deterministic(loc=tf.zeros_like(rate)), #E\n",
    "            tfd.Poisson(rate=rate), #F \n",
    "        ])"
   ]
  },
  {
   "cell_type": "code",
   "execution_count": 16,
   "metadata": {},
   "outputs": [],
   "source": [
    "def negloglik2(y_true, y_hat):\n",
    "    # return -tf.reduce_mean(y_hat.log_prob(y_true))\n",
    "    return -tf.reduce_mean(y_hat.log_prob(tf.reshape(y_true,(-1,))))"
   ]
  },
  {
   "cell_type": "code",
   "execution_count": 17,
   "metadata": {},
   "outputs": [],
   "source": [
    "#   One pah for all\n",
    "# from tensorflow.keras.regularizers import l2\n",
    "# inputs = tf.keras.layers.Input(shape=(X.shape[1],))\n",
    "# rate = tf.keras.layers.Dense(2,  kernel_regularizer=l2(0.01))(make_base(inputs))\n",
    "\n",
    "# p_y = tfp.layers.DistributionLambda(zero_inf)(rate) \n",
    "# model = tf.keras.models.Model(inputs=inputs, outputs=p_y)\n",
    "# model_mean = tf.keras.models.Model(inputs=inputs, outputs=p_y.mean()) #For evaluation we need the mean\n",
    "# model.compile(optimizer=tf.optimizers.Adam(), loss=negloglik2)\n",
    "# model.summary()"
   ]
  },
  {
   "cell_type": "code",
   "execution_count": 18,
   "metadata": {},
   "outputs": [
    {
     "name": "stderr",
     "output_type": "stream",
     "text": [
      "WARNING: Logging before flag parsing goes to stderr.\n",
      "W0616 12:49:21.182576 140144165918464 deprecation.py:323] From /usr/local/lib/python3.5/dist-packages/tensorflow_probability/python/distributions/mixture.py:154: Categorical.event_size (from tensorflow_probability.python.distributions.categorical) is deprecated and will be removed after 2019-05-19.\n",
      "Instructions for updating:\n",
      "The `event_size` property is deprecated.  Use `num_categories` instead.  They have the same value, but `event_size` is misnamed.\n"
     ]
    },
    {
     "name": "stdout",
     "output_type": "stream",
     "text": [
      "Tensor(\"distribution_lambda_1/Exp:0\", shape=(None,), dtype=float32)   Tensor(\"distribution_lambda_1/Exp:0\", shape=(None,), dtype=float32)   Tensor(\"distribution_lambda_1/Sigmoid:0\", shape=(None, 1), dtype=float32) Tensor(\"distribution_lambda_1/Sigmoid:0\", shape=(None, 1), dtype=float32)    Tensor(\"distribution_lambda_1/strided_slice_2:0\", shape=(None, 1), dtype=float32) Tensor(\"distribution_lambda_1/strided_slice_3:0\", shape=(None, 1), dtype=float32)\n",
      "Model: \"model_3\"\n",
      "__________________________________________________________________________________________________\n",
      "Layer (type)                    Output Shape         Param #     Connected to                     \n",
      "==================================================================================================\n",
      "input_3 (InputLayer)            [(None, 63)]         0                                            \n",
      "__________________________________________________________________________________________________\n",
      "dense_7 (Dense)                 (None, 20)           1280        input_3[0][0]                    \n",
      "__________________________________________________________________________________________________\n",
      "dense_10 (Dense)                (None, 20)           1280        input_3[0][0]                    \n",
      "__________________________________________________________________________________________________\n",
      "dense_8 (Dense)                 (None, 5)            105         dense_7[0][0]                    \n",
      "__________________________________________________________________________________________________\n",
      "dense_11 (Dense)                (None, 5)            105         dense_10[0][0]                   \n",
      "__________________________________________________________________________________________________\n",
      "dense_6 (Dense)                 (None, 1)            6           dense_8[0][0]                    \n",
      "__________________________________________________________________________________________________\n",
      "dense_9 (Dense)                 (None, 1)            6           dense_11[0][0]                   \n",
      "__________________________________________________________________________________________________\n",
      "concat (TensorFlowOpLayer)      [(None, 2)]          0           dense_6[0][0]                    \n",
      "                                                                 dense_9[0][0]                    \n",
      "__________________________________________________________________________________________________\n",
      "distribution_lambda_1 (Distribu ((None,), (None,))   0           concat[0][0]                     \n",
      "==================================================================================================\n",
      "Total params: 2,782\n",
      "Trainable params: 2,782\n",
      "Non-trainable params: 0\n",
      "__________________________________________________________________________________________________\n"
     ]
    }
   ],
   "source": [
    "from tensorflow.keras.regularizers import l2\n",
    "inputs = tf.keras.layers.Input(shape=(X.shape[1],))\n",
    "mean = tf.keras.layers.Dense(1,  kernel_regularizer=l2(0.01))(make_base(inputs))\n",
    "z = tf.keras.layers.Dense(1,  kernel_regularizer=l2(0.01))(make_base(inputs))\n",
    "tt = tf.concat([mean, z], axis=1)\n",
    "p_y = tfp.layers.DistributionLambda(zero_inf)(tt) \n",
    "model = tf.keras.models.Model(inputs=inputs, outputs=p_y)\n",
    "model_mean = tf.keras.models.Model(inputs=inputs, outputs=p_y.mean()) #For evaluation we need the mean\n",
    "model.compile(optimizer=tf.optimizers.Adam(), loss=negloglik2)\n",
    "model.summary()"
   ]
  },
  {
   "cell_type": "code",
   "execution_count": 19,
   "metadata": {},
   "outputs": [
    {
     "name": "stdout",
     "output_type": "stream",
     "text": [
      "Train on 47157 samples, validate on 5240 samples\n",
      "Epoch 1/30\n",
      "47157/47157 [==============================] - 2s 52us/sample - loss: 16.7776 - val_loss: 3.1990\n",
      "Epoch 2/30\n",
      "47157/47157 [==============================] - 2s 46us/sample - loss: 8.6297 - val_loss: 2.8389\n",
      "Epoch 3/30\n",
      "47157/47157 [==============================] - 2s 46us/sample - loss: 6.8041 - val_loss: 2.7794\n",
      "Epoch 4/30\n",
      "47157/47157 [==============================] - 2s 46us/sample - loss: 6.4357 - val_loss: 2.7722\n",
      "Epoch 5/30\n",
      "47157/47157 [==============================] - 2s 47us/sample - loss: 6.3063 - val_loss: 2.7451\n",
      "Epoch 6/30\n",
      "47157/47157 [==============================] - 2s 46us/sample - loss: 6.2321 - val_loss: 2.7345\n",
      "Epoch 7/30\n",
      "47157/47157 [==============================] - 2s 46us/sample - loss: 6.1666 - val_loss: 2.7353\n",
      "Epoch 8/30\n",
      "47157/47157 [==============================] - 2s 46us/sample - loss: 6.0986 - val_loss: 2.8335\n",
      "Epoch 9/30\n",
      "47157/47157 [==============================] - 2s 47us/sample - loss: 6.0562 - val_loss: 2.7721\n",
      "Epoch 10/30\n",
      "47157/47157 [==============================] - 2s 46us/sample - loss: 6.0456 - val_loss: 2.7746\n",
      "Epoch 11/30\n",
      "47157/47157 [==============================] - 2s 47us/sample - loss: 5.9904 - val_loss: 2.8470\n",
      "Epoch 12/30\n",
      "47157/47157 [==============================] - 2s 46us/sample - loss: 5.9577 - val_loss: 2.8799\n",
      "Epoch 13/30\n",
      "47157/47157 [==============================] - 2s 48us/sample - loss: 5.9412 - val_loss: 2.8943\n",
      "Epoch 14/30\n",
      "47157/47157 [==============================] - 2s 46us/sample - loss: 5.9365 - val_loss: 2.8753\n",
      "Epoch 15/30\n",
      "47157/47157 [==============================] - 2s 48us/sample - loss: 5.9167 - val_loss: 2.8545\n",
      "Epoch 16/30\n",
      "47157/47157 [==============================] - 2s 47us/sample - loss: 5.8881 - val_loss: 2.8869\n",
      "Epoch 17/30\n",
      "47157/47157 [==============================] - 2s 47us/sample - loss: 5.8810 - val_loss: 2.8530\n",
      "Epoch 18/30\n",
      "47157/47157 [==============================] - 2s 45us/sample - loss: 5.8759 - val_loss: 2.8142\n",
      "Epoch 19/30\n",
      "47157/47157 [==============================] - 2s 48us/sample - loss: 5.8762 - val_loss: 2.8538\n",
      "Epoch 20/30\n",
      "47157/47157 [==============================] - 2s 47us/sample - loss: 5.8864 - val_loss: 2.8770\n",
      "Epoch 21/30\n",
      "47157/47157 [==============================] - 2s 46us/sample - loss: 5.8590 - val_loss: 2.8831\n",
      "Epoch 22/30\n",
      "47157/47157 [==============================] - 2s 45us/sample - loss: 5.8678 - val_loss: 2.8738\n",
      "Epoch 23/30\n",
      "47157/47157 [==============================] - 2s 46us/sample - loss: 5.8525 - val_loss: 2.8684\n",
      "Epoch 24/30\n",
      "47157/47157 [==============================] - 2s 47us/sample - loss: 5.8602 - val_loss: 2.8596\n",
      "Epoch 25/30\n",
      "47157/47157 [==============================] - 2s 46us/sample - loss: 5.8634 - val_loss: 2.9846ETA: 0s - l\n",
      "Epoch 26/30\n",
      "47157/47157 [==============================] - 2s 47us/sample - loss: 5.8079 - val_loss: 2.8268\n",
      "Epoch 27/30\n",
      "47157/47157 [==============================] - 2s 47us/sample - loss: 5.8349 - val_loss: 2.9269\n",
      "Epoch 28/30\n",
      "47157/47157 [==============================] - 2s 47us/sample - loss: 5.8145 - val_loss: 2.9082\n",
      "Epoch 29/30\n",
      "47157/47157 [==============================] - 2s 47us/sample - loss: 5.8091 - val_loss: 2.8996\n",
      "Epoch 30/30\n",
      "47157/47157 [==============================] - 2s 48us/sample - loss: 5.7867 - val_loss: 2.9517\n"
     ]
    }
   ],
   "source": [
    "hist = model.fit(X, y, epochs=epochs, verbose=1, validation_split=0.1);"
   ]
  },
  {
   "cell_type": "code",
   "execution_count": null,
   "metadata": {},
   "outputs": [],
   "source": []
  },
  {
   "cell_type": "code",
   "execution_count": 20,
   "metadata": {},
   "outputs": [
    {
     "data": {
      "text/html": [
       "<div>\n",
       "<style scoped>\n",
       "    .dataframe tbody tr th:only-of-type {\n",
       "        vertical-align: middle;\n",
       "    }\n",
       "\n",
       "    .dataframe tbody tr th {\n",
       "        vertical-align: top;\n",
       "    }\n",
       "\n",
       "    .dataframe thead th {\n",
       "        text-align: right;\n",
       "    }\n",
       "</style>\n",
       "<table border=\"1\" class=\"dataframe\">\n",
       "  <thead>\n",
       "    <tr style=\"text-align: right;\">\n",
       "      <th></th>\n",
       "      <th>hits@10 [mean]</th>\n",
       "      <th>hits@10 [std]</th>\n",
       "    </tr>\n",
       "  </thead>\n",
       "  <tbody>\n",
       "    <tr>\n",
       "      <th>normal</th>\n",
       "      <td>5.866667</td>\n",
       "      <td>0.157174</td>\n",
       "    </tr>\n",
       "    <tr>\n",
       "      <th>Poisson</th>\n",
       "      <td>5.800000</td>\n",
       "      <td>0.180739</td>\n",
       "    </tr>\n",
       "    <tr>\n",
       "      <th>ZIP</th>\n",
       "      <td>5.633333</td>\n",
       "      <td>0.177899</td>\n",
       "    </tr>\n",
       "  </tbody>\n",
       "</table>\n",
       "</div>"
      ],
      "text/plain": [
       "         hits@10 [mean]  hits@10 [std]\n",
       "normal         5.866667       0.157174\n",
       "Poisson        5.800000       0.180739\n",
       "ZIP            5.633333       0.177899"
      ]
     },
     "execution_count": 20,
     "metadata": {},
     "output_type": "execute_result"
    },
    {
     "data": {
      "image/png": "[encoded data removed]",
      "text/plain": [
       "<Figure size 432x288 with 1 Axes>"
      ]
     },
     "metadata": {
      "needs_background": "light"
     },
     "output_type": "display_data"
    }
   ],
   "source": [
    "plt.plot(hist.history['loss'])\n",
    "plt.plot(hist.history['val_loss'])\n",
    "plt.legend(['loss','val_loss'])\n",
    "plt.xlabel('Epochs')\n",
    "plt.title('Training for ZIP')\n",
    "np.mean(hist.history['loss'])\n",
    "\n",
    "d = check_performance(model_mean)\n",
    "df = df.append(pd.DataFrame({'hits@10 [mean]' : d[0], 'hits@10 [std]' : d[1]},index=['ZIP']))\n",
    "df"
   ]
  },
  {
   "cell_type": "markdown",
   "metadata": {},
   "source": [
    "### Definition of a Mixture Model"
   ]
  },
  {
   "cell_type": "code",
   "execution_count": 21,
   "metadata": {},
   "outputs": [],
   "source": [
    "# 10          20       30        40       50         55\n",
    "#123456789012345678901234567890123456789012345678901234\n",
    "#See https://www.tensorflow.org/probability/api_docs/python/tfp/distributions/QuantizedDistribution\n",
    "def mixture_logistic(out, num=3): \n",
    "    loc, un_scale, logits = tf.split(out,\n",
    "                                     num_or_size_splits=num,\n",
    "                                     axis=-1)\n",
    "    scale = tf.nn.softplus(un_scale)\n",
    "\n",
    "    discretized_logistic_dist=tfd.TransformedDistribution(\n",
    "        distribution=tfd.Logistic(loc=loc, scale=scale),\n",
    "        bijector=tfb.AffineScalar(shift=-0.5))\n",
    "    \n",
    "    #print(\"mix_logi \", np.min(logits), \" \", np.max(logits), \" \", np.min(scale), np.max(scale),\"  \",np.min(loc), np.max(loc))\n",
    "    mixture_dist = tfd.MixtureSameFamily(\n",
    "        mixture_distribution=tfd.Categorical(logits=logits), #logits will be normalized to one\n",
    "        components_distribution=discretized_logistic_dist)\n",
    "    return mixture_dist"
   ]
  },
  {
   "cell_type": "code",
   "execution_count": 22,
   "metadata": {},
   "outputs": [
    {
     "name": "stdout",
     "output_type": "stream",
     "text": [
      "Model: \"model_5\"\n",
      "__________________________________________________________________________________________________\n",
      "Layer (type)                    Output Shape         Param #     Connected to                     \n",
      "==================================================================================================\n",
      "input_4 (InputLayer)            [(None, 63)]         0                                            \n",
      "__________________________________________________________________________________________________\n",
      "dense_13 (Dense)                (None, 20)           1280        input_4[0][0]                    \n",
      "__________________________________________________________________________________________________\n",
      "dense_16 (Dense)                (None, 20)           1280        input_4[0][0]                    \n",
      "__________________________________________________________________________________________________\n",
      "dense_19 (Dense)                (None, 20)           1280        input_4[0][0]                    \n",
      "__________________________________________________________________________________________________\n",
      "dense_14 (Dense)                (None, 5)            105         dense_13[0][0]                   \n",
      "__________________________________________________________________________________________________\n",
      "dense_17 (Dense)                (None, 5)            105         dense_16[0][0]                   \n",
      "__________________________________________________________________________________________________\n",
      "dense_20 (Dense)                (None, 5)            105         dense_19[0][0]                   \n",
      "__________________________________________________________________________________________________\n",
      "dense_12 (Dense)                (None, 3)            18          dense_14[0][0]                   \n",
      "__________________________________________________________________________________________________\n",
      "dense_15 (Dense)                (None, 3)            18          dense_17[0][0]                   \n",
      "__________________________________________________________________________________________________\n",
      "dense_18 (Dense)                (None, 3)            18          dense_20[0][0]                   \n",
      "__________________________________________________________________________________________________\n",
      "concat_1 (TensorFlowOpLayer)    [(None, 9)]          0           dense_12[0][0]                   \n",
      "                                                                 dense_15[0][0]                   \n",
      "                                                                 dense_18[0][0]                   \n",
      "__________________________________________________________________________________________________\n",
      "distribution_lambda_2 (Distribu ((None,), (None,))   0           concat_1[0][0]                   \n",
      "==================================================================================================\n",
      "Total params: 4,209\n",
      "Trainable params: 4,209\n",
      "Non-trainable params: 0\n",
      "__________________________________________________________________________________________________\n"
     ]
    }
   ],
   "source": [
    "from tensorflow.keras.regularizers import l2\n",
    "inputs = tf.keras.layers.Input(shape=(X.shape[1],))\n",
    "\n",
    "loc1    = tf.keras.layers.Dense(3,  kernel_regularizer=l2(0.01))(make_base(inputs))\n",
    "scales1 = tf.keras.layers.Dense(3,  kernel_regularizer=l2(0.01))(make_base(inputs))\n",
    "logits  = tf.keras.layers.Dense(3,  kernel_regularizer=l2(0.01))(make_base(inputs))\n",
    "\n",
    "tt = tf.concat([loc1, scales1, logits], axis=1)\n",
    "p_y = tfp.layers.DistributionLambda(mixture_logistic)(tt) \n",
    "model = tf.keras.models.Model(inputs=inputs, outputs=p_y)\n",
    "model_mean = tf.keras.models.Model(inputs=inputs, outputs=p_y.mean()) #For evaluation we need the mean\n",
    "model.compile(optimizer=tf.optimizers.Adam(), loss=negloglik2)\n",
    "model.summary()\n"
   ]
  },
  {
   "cell_type": "code",
   "execution_count": 23,
   "metadata": {},
   "outputs": [
    {
     "name": "stdout",
     "output_type": "stream",
     "text": [
      "Train on 47157 samples, validate on 5240 samples\n",
      "Epoch 1/30\n",
      "47157/47157 [==============================] - 3s 64us/sample - loss: 1.5945 - val_loss: -3.6160\n",
      "Epoch 2/30\n",
      "47157/47157 [==============================] - 2s 50us/sample - loss: -0.9471 - val_loss: -3.8019\n",
      "Epoch 3/30\n",
      "47157/47157 [==============================] - 2s 52us/sample - loss: -1.2058 - val_loss: -3.9714\n",
      "Epoch 4/30\n",
      "47157/47157 [==============================] - 2s 51us/sample - loss: -1.3360 - val_loss: -4.3577\n",
      "Epoch 5/30\n",
      "47157/47157 [==============================] - 2s 50us/sample - loss: -1.3913 - val_loss: -4.1330\n",
      "Epoch 6/30\n",
      "47157/47157 [==============================] - 2s 50us/sample - loss: -1.4596 - val_loss: -4.3353\n",
      "Epoch 7/30\n",
      "47157/47157 [==============================] - 2s 51us/sample - loss: -1.4557 - val_loss: -4.1020\n",
      "Epoch 8/30\n",
      "47157/47157 [==============================] - 2s 51us/sample - loss: 0.5856 - val_loss: -4.3305\n",
      "Epoch 9/30\n",
      "47157/47157 [==============================] - 2s 51us/sample - loss: -0.0173 - val_loss: 3.7342\n",
      "Epoch 10/30\n",
      "47157/47157 [==============================] - 2s 50us/sample - loss: 3.8356 - val_loss: 3.4695\n",
      "Epoch 11/30\n",
      "47157/47157 [==============================] - 2s 49us/sample - loss: 2.5525 - val_loss: -3.9496\n",
      "Epoch 12/30\n",
      "47157/47157 [==============================] - 2s 52us/sample - loss: -1.2800 - val_loss: -3.9186\n",
      "Epoch 13/30\n",
      "47157/47157 [==============================] - 3s 54us/sample - loss: -1.6103 - val_loss: -4.3473\n",
      "Epoch 14/30\n",
      "47157/47157 [==============================] - 2s 52us/sample - loss: -1.4817 - val_loss: -3.8230\n",
      "Epoch 15/30\n",
      "47157/47157 [==============================] - 2s 50us/sample - loss: -1.7035 - val_loss: -4.2970\n",
      "Epoch 16/30\n",
      "47157/47157 [==============================] - 2s 49us/sample - loss: -1.7298 - val_loss: -4.5333\n",
      "Epoch 17/30\n",
      "47157/47157 [==============================] - 2s 50us/sample - loss: -1.7509 - val_loss: -4.5381\n",
      "Epoch 18/30\n",
      "47157/47157 [==============================] - 2s 51us/sample - loss: -1.8394 - val_loss: -4.8006\n",
      "Epoch 19/30\n",
      "47157/47157 [==============================] - 2s 52us/sample - loss: -1.8135 - val_loss: -4.6332\n",
      "Epoch 20/30\n",
      "47157/47157 [==============================] - 2s 51us/sample - loss: 1.3415 - val_loss: 3.7351\n",
      "Epoch 21/30\n",
      "47157/47157 [==============================] - 2s 51us/sample - loss: 3.8004 - val_loss: 3.5738\n",
      "Epoch 22/30\n",
      "47157/47157 [==============================] - 2s 51us/sample - loss: 1.2828 - val_loss: -4.0857\n",
      "Epoch 23/30\n",
      "47157/47157 [==============================] - 2s 52us/sample - loss: -1.5898 - val_loss: -4.4924\n",
      "Epoch 24/30\n",
      "47157/47157 [==============================] - 2s 50us/sample - loss: -1.7643 - val_loss: -3.8449\n",
      "Epoch 25/30\n",
      "47157/47157 [==============================] - 2s 51us/sample - loss: -1.8177 - val_loss: -2.7708\n",
      "Epoch 26/30\n",
      "47157/47157 [==============================] - 2s 51us/sample - loss: -1.8436 - val_loss: -4.4108\n",
      "Epoch 27/30\n",
      "47157/47157 [==============================] - 2s 53us/sample - loss: -1.8700 - val_loss: -4.2586\n",
      "Epoch 28/30\n",
      "47157/47157 [==============================] - 2s 52us/sample - loss: -1.8883 - val_loss: -4.5015\n",
      "Epoch 29/30\n",
      "47157/47157 [==============================] - 2s 51us/sample - loss: -1.9024 - val_loss: -4.5319\n",
      "Epoch 30/30\n",
      "47157/47157 [==============================] - 2s 50us/sample - loss: 1.6454 - val_loss: 3.7696\n"
     ]
    }
   ],
   "source": [
    "hist = model.fit(X, y, epochs=epochs, verbose=1, validation_split=0.1);"
   ]
  },
  {
   "cell_type": "code",
   "execution_count": 24,
   "metadata": {},
   "outputs": [
    {
     "data": {
      "text/html": [
       "<div>\n",
       "<style scoped>\n",
       "    .dataframe tbody tr th:only-of-type {\n",
       "        vertical-align: middle;\n",
       "    }\n",
       "\n",
       "    .dataframe tbody tr th {\n",
       "        vertical-align: top;\n",
       "    }\n",
       "\n",
       "    .dataframe thead th {\n",
       "        text-align: right;\n",
       "    }\n",
       "</style>\n",
       "<table border=\"1\" class=\"dataframe\">\n",
       "  <thead>\n",
       "    <tr style=\"text-align: right;\">\n",
       "      <th></th>\n",
       "      <th>hits@10 [mean]</th>\n",
       "      <th>hits@10 [std]</th>\n",
       "    </tr>\n",
       "  </thead>\n",
       "  <tbody>\n",
       "    <tr>\n",
       "      <th>normal</th>\n",
       "      <td>5.866667</td>\n",
       "      <td>0.157174</td>\n",
       "    </tr>\n",
       "    <tr>\n",
       "      <th>Poisson</th>\n",
       "      <td>5.800000</td>\n",
       "      <td>0.180739</td>\n",
       "    </tr>\n",
       "    <tr>\n",
       "      <th>ZIP</th>\n",
       "      <td>5.633333</td>\n",
       "      <td>0.177899</td>\n",
       "    </tr>\n",
       "    <tr>\n",
       "      <th>Mixture Model</th>\n",
       "      <td>0.216667</td>\n",
       "      <td>0.071070</td>\n",
       "    </tr>\n",
       "  </tbody>\n",
       "</table>\n",
       "</div>"
      ],
      "text/plain": [
       "               hits@10 [mean]  hits@10 [std]\n",
       "normal               5.866667       0.157174\n",
       "Poisson              5.800000       0.180739\n",
       "ZIP                  5.633333       0.177899\n",
       "Mixture Model        0.216667       0.071070"
      ]
     },
     "execution_count": 24,
     "metadata": {},
     "output_type": "execute_result"
    },
    {
     "data": {
      "image/png": "[encoded data removed]",
      "text/plain": [
       "<Figure size 432x288 with 1 Axes>"
      ]
     },
     "metadata": {
      "needs_background": "light"
     },
     "output_type": "display_data"
    }
   ],
   "source": [
    "plt.plot(hist.history['loss'])\n",
    "plt.plot(hist.history['val_loss'])\n",
    "plt.legend(['loss','val_loss'])\n",
    "plt.xlabel('Epochs')\n",
    "plt.title('Training for Mixture Model')\n",
    "np.mean(hist.history['loss'])\n",
    "\n",
    "d = check_performance(model_mean)\n",
    "df = df.append(pd.DataFrame({'hits@10 [mean]' : d[0], 'hits@10 [std]' : d[1]},index=['Mixture Model']))\n",
    "df"
   ]
  },
  {
   "cell_type": "code",
   "execution_count": null,
   "metadata": {
    "colab": {},
    "colab_type": "code",
    "id": "Mw8lOKHlGG0V"
   },
   "outputs": [],
   "source": []
  },
  {
   "cell_type": "code",
   "execution_count": null,
   "metadata": {},
   "outputs": [],
   "source": []
  }
 ],
 "metadata": {
  "accelerator": "GPU",
  "colab": {
   "collapsed_sections": [],
   "name": "count_case_study.ipynb",
   "provenance": [],
   "version": "0.3.2"
  },
  "kernelspec": {
   "display_name": "Python 3",
   "language": "python",
   "name": "python3"
  },
  "language_info": {
   "codemirror_mode": {
    "name": "ipython",
    "version": 3
   },
   "file_extension": ".py",
   "mimetype": "text/x-python",
   "name": "python",
   "nbconvert_exporter": "python",
   "pygments_lexer": "ipython3",
   "version": "3.5.2"
  }
 },
 "nbformat": 4,
 "nbformat_minor": 1
}
