{
 "cells": [
  {
   "cell_type": "markdown",
   "metadata": {},
   "source": [
    "### Case Study number of blogposts"
   ]
  },
  {
   "cell_type": "code",
   "execution_count": 1,
   "metadata": {},
   "outputs": [
    {
     "name": "stdout",
     "output_type": "stream",
     "text": [
      "File exists\n"
     ]
    }
   ],
   "source": [
    "import os\n",
    "if not os.path.isfile('blogdata/BlogFeedback.zip'):\n",
    "    !mkdir blogdata\n",
    "    print(\"Installing wget\")\n",
    "    !pip install wget\n",
    "    import wget\n",
    "    print(\"Downloading file\")\n",
    "    wget.download('http://archive.ics.uci.edu/ml/machine-learning-databases/00304/BlogFeedback.zip', 'blogdata/BlogFeedback.zip')\n",
    "    print(\"Unzipping content\")\n",
    "    !unzip blogdata/BlogFeedback.zip -d blogdata\n",
    "else:\n",
    "    print(\"File exists\")"
   ]
  },
  {
   "cell_type": "code",
   "execution_count": 2,
   "metadata": {},
   "outputs": [
    {
     "name": "stdout",
     "output_type": "stream",
     "text": [
      "TFB Version 0.7.0-dev\n",
      "TF  Version 2.0.0-alpha0\n"
     ]
    }
   ],
   "source": [
    "import matplotlib.pyplot as plt\n",
    "import numpy as np\n",
    "import seaborn as sns\n",
    "\n",
    "import tensorflow as tf\n",
    "import tensorflow_probability as tfp\n",
    "\n",
    "sns.reset_defaults()\n",
    "#sns.set_style('whitegrid')\n",
    "sns.set_context(context='talk',font_scale=0.7)\n",
    "\n",
    "%matplotlib inline\n",
    "\n",
    "tfd = tfp.distributions\n",
    "print(\"TFB Version\", tfp.__version__)\n",
    "print(\"TF  Version\",tf.__version__)"
   ]
  },
  {
   "cell_type": "code",
   "execution_count": 3,
   "metadata": {},
   "outputs": [
    {
     "data": {
      "text/plain": [
       "((52397, 281), (52397, 279), (52397,))"
      ]
     },
     "execution_count": 3,
     "metadata": {},
     "output_type": "execute_result"
    }
   ],
   "source": [
    "# Loading to the data\n",
    "d = np.loadtxt(\"blogdata/blogData_train.csv\", delimiter=',', dtype=np.float32)\n",
    "Xu = d[:,0:279]\n",
    "y = d[:,280]\n",
    "d.shape, Xu.shape, y.shape"
   ]
  },
  {
   "cell_type": "code",
   "execution_count": 4,
   "metadata": {},
   "outputs": [],
   "source": [
    "Xmean = np.mean(Xu,axis=0)\n",
    "Xsd = np.std(Xu,axis=0)\n",
    "X = (Xu-Xmean)/(Xsd+1e-10)"
   ]
  },
  {
   "cell_type": "markdown",
   "metadata": {},
   "source": [
    "### Definition of a Poisson Model"
   ]
  },
  {
   "cell_type": "code",
   "execution_count": 5,
   "metadata": {},
   "outputs": [],
   "source": [
    "## Definition of the custom parametrized distribution\n",
    "def my_poiss(t):\n",
    "    return tfd.Poisson(rate=t) #Equivalent to log_rate=t when using linear activation "
   ]
  },
  {
   "cell_type": "code",
   "execution_count": 6,
   "metadata": {},
   "outputs": [
    {
     "data": {
      "text/plain": [
       "<tfp.distributions.Poisson 'Poisson/' batch_shape=(3, 1) event_shape=() dtype=float32>"
      ]
     },
     "execution_count": 6,
     "metadata": {},
     "output_type": "execute_result"
    }
   ],
   "source": [
    "t = np.ones((3,1), dtype=np.float32)\n",
    "t\n",
    "my_poiss(t)"
   ]
  },
  {
   "cell_type": "code",
   "execution_count": 272,
   "metadata": {},
   "outputs": [],
   "source": [
    "## Definition of the model\n",
    "#Using the functional API for clarity\n",
    "inputs = tf.keras.layers.Input(shape=(279,))\n",
    "rate = tf.keras.layers.Dense(1000, activation='sigmoid')(inputs)\n",
    "rate = tf.keras.layers.Dense(100, activation='sigmoid')(rate)\n",
    "rate = tf.keras.layers.Dense(10, activation='sigmoid')(rate)\n",
    "rate = tf.keras.layers.Dense(1, \n",
    "                             activation=tf.exp, \n",
    "                             bias_initializer='zeros', \n",
    "                             kernel_initializer='zeros')(rate)\n",
    "p_y = tfp.layers.DistributionLambda(my_poiss)(rate) #<------- Here we hand-in the the custom distribution\n",
    "\n",
    "#Glueing input and output together. Note that output is a tf.distirbution \n",
    "model = tf.keras.models.Model(inputs=inputs, outputs=p_y)"
   ]
  },
  {
   "cell_type": "code",
   "execution_count": 273,
   "metadata": {},
   "outputs": [],
   "source": [
    "def negloglik(y_true, y_hat):\n",
    "  return -y_hat.log_prob(y_true)\n",
    "\n",
    "model.compile(optimizer=tf.optimizers.Adam(), loss=negloglik)"
   ]
  },
  {
   "cell_type": "markdown",
   "metadata": {},
   "source": [
    "### Definition of a Gaussian Model"
   ]
  },
  {
   "cell_type": "code",
   "execution_count": 274,
   "metadata": {},
   "outputs": [],
   "source": [
    "if False: #Using MSE\n",
    "    model = tf.keras.models.Model(inputs=inputs, outputs=rate)\n",
    "    model.compile(optimizer=tf.optimizers.Adam(), loss='mse')"
   ]
  },
  {
   "cell_type": "markdown",
   "metadata": {},
   "source": [
    "### Definition of a zero inflated  Model"
   ]
  },
  {
   "cell_type": "code",
   "execution_count": 7,
   "metadata": {},
   "outputs": [],
   "source": [
    "## Definition of the custom parametrized distribution\n",
    "def my_zero(t):\n",
    "    mean = tf.exp(t[:,0]) #Needed so that Poisson has batch_shape=(5,) \n",
    "    #print(mean)\n",
    "    probs = tf.math.softmax(t[...,1:])\n",
    "    #print(probs)\n",
    "    return tfd.Mixture(\n",
    "          cat=tfd.Categorical(probs=probs),#batch_shape=(5,) event_shape=()\n",
    "          components=[\n",
    "            tfd.Poisson(rate=mean),   #batch_shape=(5,) event_shape=()\n",
    "            tfd.Poisson(rate=0.00001*mean), #Hack to produce 0\n",
    "        ])"
   ]
  },
  {
   "cell_type": "code",
   "execution_count": 8,
   "metadata": {},
   "outputs": [
    {
     "name": "stderr",
     "output_type": "stream",
     "text": [
      "WARNING: Logging before flag parsing goes to stderr.\n",
      "W0421 17:36:16.486644 140090688468736 deprecation.py:323] From /usr/local/lib/python3.5/dist-packages/tensorflow_probability/python/distributions/mixture.py:154: Categorical.event_size (from tensorflow_probability.python.distributions.categorical) is deprecated and will be removed after 2019-05-19.\n",
      "Instructions for updating:\n",
      "The `event_size` property is deprecated.  Use `num_categories` instead.  They have the same value, but `event_size` is misnamed.\n"
     ]
    },
    {
     "name": "stdout",
     "output_type": "stream",
     "text": [
      "[[ 1.     1.     1.   ]\n",
      " [ 1.     1.     1.   ]\n",
      " [ 1.     1.     1.   ]\n",
      " [ 1.     1.     1.   ]\n",
      " [ 0.999 10.     0.   ]]\n"
     ]
    },
    {
     "data": {
      "text/plain": [
       "(<tf.Tensor: id=23, shape=(5,), dtype=float32, numpy=\n",
       " array([1.3591545, 1.3591545, 1.3591545, 1.3591545, 2.7154417],\n",
       "       dtype=float32)>,\n",
       " <tf.Tensor: id=25, shape=(), dtype=float32, numpy=2.7182817>)"
      ]
     },
     "execution_count": 8,
     "metadata": {},
     "output_type": "execute_result"
    }
   ],
   "source": [
    "## Testing the distribution\n",
    "t = np.ones((5,3), dtype=np.float32)\n",
    "t[4,0]=0.999\n",
    "t[4,1]=10\n",
    "t[4,2]=0\n",
    "print(t)\n",
    "my_zero(t).mean(), tfd.Poisson(tf.exp(1.0)).mean()"
   ]
  },
  {
   "cell_type": "code",
   "execution_count": 38,
   "metadata": {},
   "outputs": [
    {
     "name": "stdout",
     "output_type": "stream",
     "text": [
      "Model: \"model_5\"\n",
      "_________________________________________________________________\n",
      "Layer (type)                 Output Shape              Param #   \n",
      "=================================================================\n",
      "input_2 (InputLayer)         [(None, 279)]             0         \n",
      "_________________________________________________________________\n",
      "dense_4 (Dense)              (None, 100)               28000     \n",
      "_________________________________________________________________\n",
      "dense_5 (Dense)              (None, 50)                5050      \n",
      "_________________________________________________________________\n",
      "dropout_2 (Dropout)          (None, 50)                0         \n",
      "_________________________________________________________________\n",
      "dense_6 (Dense)              (None, 10)                510       \n",
      "_________________________________________________________________\n",
      "dropout_3 (Dropout)          (None, 10)                0         \n",
      "_________________________________________________________________\n",
      "dense_7 (Dense)              (None, 3)                 33        \n",
      "_________________________________________________________________\n",
      "distribution_lambda_1 (Distr ((None,), (None,))        0         \n",
      "=================================================================\n",
      "Total params: 33,593\n",
      "Trainable params: 33,593\n",
      "Non-trainable params: 0\n",
      "_________________________________________________________________\n"
     ]
    }
   ],
   "source": [
    "## Definition of the model\n",
    "#Using the functional API for clarity\n",
    "inputs = tf.keras.layers.Input(shape=(279,))\n",
    "\n",
    "rate = tf.keras.layers.Dense(1000, activation='sigmoid')(inputs)\n",
    "rate = tf.keras.layers.Dropout(0.3)(rate)\n",
    "rate = tf.keras.layers.Dense(100, activation='sigmoid')(rate)\n",
    "rate = tf.keras.layers.Dropout(0.3)(rate)\n",
    "rate = tf.keras.layers.Dense(10, activation='sigmoid')(rate)\n",
    "rate = tf.keras.layers.Dropout(0.3)(rate)\n",
    "tt = tf.keras.layers.Dense(3,bias_initializer='ones', kernel_initializer='ones')(rate)\n",
    "\n",
    "p_y_nb = tfp.layers.DistributionLambda(my_zero)(tt)\n",
    "\n",
    "#Glueing input and output together. Note that output is a tf.distirbution \n",
    "model = tf.keras.models.Model(inputs=inputs, outputs=p_y_nb)\n",
    "model.summary()"
   ]
  },
  {
   "cell_type": "code",
   "execution_count": 39,
   "metadata": {},
   "outputs": [
    {
     "name": "stdout",
     "output_type": "stream",
     "text": [
      "Train on 47157 samples, validate on 5240 samples\n",
      "Epoch 1/30\n",
      "47157/47157 [==============================] - 3s 53us/sample - loss: 8.5074 - val_loss: 2.8832\n",
      "Epoch 2/30\n",
      "47157/47157 [==============================] - 2s 49us/sample - loss: 6.8704 - val_loss: 2.5710\n",
      "Epoch 3/30\n",
      "47157/47157 [==============================] - 2s 49us/sample - loss: 6.5630 - val_loss: 2.4510\n",
      "Epoch 4/30\n",
      "47157/47157 [==============================] - 2s 49us/sample - loss: 6.1540 - val_loss: 2.4421\n",
      "Epoch 5/30\n",
      "47157/47157 [==============================] - 2s 49us/sample - loss: 6.0932 - val_loss: 2.4325\n",
      "Epoch 6/30\n",
      "47157/47157 [==============================] - 2s 50us/sample - loss: 5.9613 - val_loss: 2.4429\n",
      "Epoch 7/30\n",
      "47157/47157 [==============================] - 2s 49us/sample - loss: 5.5819 - val_loss: 2.4045\n",
      "Epoch 8/30\n",
      "47157/47157 [==============================] - 2s 48us/sample - loss: 5.4933 - val_loss: 2.4287\n",
      "Epoch 9/30\n",
      "47157/47157 [==============================] - 2s 52us/sample - loss: 5.3831 - val_loss: 2.4215\n",
      "Epoch 10/30\n",
      "47157/47157 [==============================] - 2s 50us/sample - loss: 5.2145 - val_loss: 2.4511\n",
      "Epoch 11/30\n",
      "47157/47157 [==============================] - 2s 49us/sample - loss: 5.2295 - val_loss: 2.3488\n",
      "Epoch 12/30\n",
      "47157/47157 [==============================] - 2s 51us/sample - loss: 5.0395 - val_loss: 2.4687\n",
      "Epoch 13/30\n",
      "47157/47157 [==============================] - 2s 51us/sample - loss: 5.1550 - val_loss: 2.5854\n",
      "Epoch 14/30\n",
      "47157/47157 [==============================] - 2s 51us/sample - loss: 5.0508 - val_loss: 2.6480\n",
      "Epoch 15/30\n",
      "47157/47157 [==============================] - 2s 53us/sample - loss: 4.8839 - val_loss: 2.6218\n",
      "Epoch 16/30\n",
      "47157/47157 [==============================] - 2s 50us/sample - loss: 4.8658 - val_loss: 2.6129\n",
      "Epoch 17/30\n",
      "47157/47157 [==============================] - 2s 49us/sample - loss: 4.8000 - val_loss: 2.6073\n",
      "Epoch 18/30\n",
      "47157/47157 [==============================] - 2s 50us/sample - loss: 4.7085 - val_loss: 2.7670\n",
      "Epoch 19/30\n",
      "47157/47157 [==============================] - 2s 52us/sample - loss: 4.7905 - val_loss: 2.6387\n",
      "Epoch 20/30\n",
      "47157/47157 [==============================] - 2s 49us/sample - loss: 4.8221 - val_loss: 2.7982\n",
      "Epoch 21/30\n",
      "47157/47157 [==============================] - 2s 49us/sample - loss: 4.6736 - val_loss: 2.8511\n",
      "Epoch 22/30\n",
      "47157/47157 [==============================] - 2s 52us/sample - loss: 4.5608 - val_loss: 2.7574\n",
      "Epoch 23/30\n",
      "47157/47157 [==============================] - 3s 53us/sample - loss: 4.6141 - val_loss: 2.7224\n",
      "Epoch 24/30\n",
      "47157/47157 [==============================] - 2s 49us/sample - loss: 4.5016 - val_loss: 2.7717\n",
      "Epoch 25/30\n",
      "47157/47157 [==============================] - 2s 50us/sample - loss: 4.6490 - val_loss: 2.6933\n",
      "Epoch 26/30\n",
      "47157/47157 [==============================] - 2s 50us/sample - loss: 4.4034 - val_loss: 2.9328\n",
      "Epoch 27/30\n",
      "47157/47157 [==============================] - 2s 49us/sample - loss: 4.4556 - val_loss: 2.7924\n",
      "Epoch 28/30\n",
      "47157/47157 [==============================] - 2s 50us/sample - loss: 4.5272 - val_loss: 2.8789\n",
      "Epoch 29/30\n",
      "47157/47157 [==============================] - 2s 51us/sample - loss: 4.6196 - val_loss: 2.8469\n",
      "Epoch 30/30\n",
      "47157/47157 [==============================] - 2s 51us/sample - loss: 4.3020 - val_loss: 2.8916\n"
     ]
    }
   ],
   "source": [
    "def negloglik2(y_true, y_hat):\n",
    "    # return -tf.reduce_mean(y_hat.log_prob(y_true))\n",
    "    return -tf.reduce_mean(y_hat.log_prob(tf.reshape(y_true,(-1,))))\n",
    "  \n",
    "\n",
    "model.compile(optimizer=tf.optimizers.Adam(), loss=negloglik2)\n",
    "hist = model.fit(X, y, epochs=30, verbose=1, validation_split=0.1);"
   ]
  },
  {
   "cell_type": "code",
   "execution_count": 40,
   "metadata": {},
   "outputs": [
    {
     "data": {
      "text/plain": [
       "5.215815359132193"
      ]
     },
     "execution_count": 40,
     "metadata": {},
     "output_type": "execute_result"
    },
    {
     "data": {
      "image/png": "[encoded data removed]",
      "text/plain": [
       "<Figure size 432x288 with 1 Axes>"
      ]
     },
     "metadata": {
      "needs_background": "light"
     },
     "output_type": "display_data"
    }
   ],
   "source": [
    "plt.plot(hist.history['loss'])\n",
    "plt.plot(hist.history['val_loss'])\n",
    "plt.xlabel('Epochs')\n",
    "np.mean(hist.history['loss'])"
   ]
  },
  {
   "cell_type": "code",
   "execution_count": 41,
   "metadata": {},
   "outputs": [
    {
     "data": {
      "text/plain": [
       "((206, 281), (206, 279), (206,))"
      ]
     },
     "execution_count": 41,
     "metadata": {},
     "output_type": "execute_result"
    }
   ],
   "source": [
    "d = np.loadtxt(\"blogdata/blogData_test-2012.03.22.00_00.csv\", delimiter=',', dtype=np.float32)\n",
    "Xtu = d[:,0:279]\n",
    "yt = d[:,280]\n",
    "Xt = (Xtu-Xmean) / (Xsd+1e-10)\n",
    "d.shape, Xtu.shape, yt.shape"
   ]
  },
  {
   "cell_type": "code",
   "execution_count": 42,
   "metadata": {},
   "outputs": [],
   "source": [
    "#Glueing input and output together. Note that output is a tf.distirbution \n",
    "#model_mean = tf.keras.models.Model(inputs=inputs, outputs=p_y.mean())\n",
    "model_mean = tf.keras.models.Model(inputs=inputs, outputs=p_y_nb.mean())"
   ]
  },
  {
   "cell_type": "code",
   "execution_count": 43,
   "metadata": {},
   "outputs": [],
   "source": [
    "if False:\n",
    "    model_mean = model"
   ]
  },
  {
   "cell_type": "code",
   "execution_count": 44,
   "metadata": {},
   "outputs": [],
   "source": [
    "y_pred = model_mean.predict(Xt).flatten()"
   ]
  },
  {
   "cell_type": "code",
   "execution_count": 45,
   "metadata": {},
   "outputs": [
    {
     "name": "stdout",
     "output_type": "stream",
     "text": [
      "5.133333333333334 0.18328282132429266\n"
     ]
    }
   ],
   "source": [
    "def check_performance(model_mean):\n",
    "    files = [f for f in os.listdir('blogdata/') if f.startswith('blogData_test')]\n",
    "    hits_at10 = np.zeros(len(files))\n",
    "    for i,f in enumerate(files):\n",
    "        d = np.loadtxt(\"blogdata/\"+f, delimiter=',', dtype=np.float32)\n",
    "        #print(\"{}\".format(i))\n",
    "        Xtu = d[:,0:279]\n",
    "        yt = d[:,280]\n",
    "        Xt = (Xtu-Xmean) / (Xsd+1e-10)\n",
    "        d.shape, Xtu.shape, yt.shape\n",
    "        y_pred = model_mean.predict(Xt).flatten()\n",
    "        idx_true = np.argsort(yt)[-10:]\n",
    "        idx_pred = np.argsort(y_pred)[-10:] #The 10 higest\n",
    "        hits_at10[i]=len(np.intersect1d(idx_true, idx_pred))\n",
    "    print(np.mean(hits_at10), np.std(hits_at10)/np.sqrt(len(files)))\n",
    "    return hits_at10\n",
    "\n",
    "check_performance(model_mean);"
   ]
  },
  {
   "cell_type": "code",
   "execution_count": null,
   "metadata": {},
   "outputs": [],
   "source": []
  }
 ],
 "metadata": {
  "kernelspec": {
   "display_name": "Python 3",
   "language": "python",
   "name": "python3"
  },
  "language_info": {
   "codemirror_mode": {
    "name": "ipython",
    "version": 3
   },
   "file_extension": ".py",
   "mimetype": "text/x-python",
   "name": "python",
   "nbconvert_exporter": "python",
   "pygments_lexer": "ipython3",
   "version": "3.5.2"
  }
 },
 "nbformat": 4,
 "nbformat_minor": 2
}
