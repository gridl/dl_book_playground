{
 "cells": [
  {
   "cell_type": "markdown",
   "metadata": {
    "colab_type": "text",
    "id": "uZcY6IqTAGFX"
   },
   "source": [
    "### Case Study number of blogposts\n",
    "\n",
    "See: \n",
    "http://archive.ics.uci.edu/ml/datasets/BlogFeedback\n",
    "\n",
    "Status: Under construction. The likelihood of the LR and the mixture model needs checking.\n",
    "\n",
    "\n",
    "As suggested in the [paper](http://www.cs.bme.hu/~buza/pdfs/gfkl2012_blogs.pdf) and acomaning [talk](http://archive.ics.uci.edu/ml/datasets/BlogFeedback), we use only the base features\n",
    "\n",
    "#### Results Hits@10 mean and stdderr\n",
    "\n",
    "\n",
    "##### 20,5 with only base features\n",
    "LR   5.483   0.181799  #<--- In the paper they had 5.450 +- 1.322 (whatever +- is)\n",
    "\n",
    "Poisson 5.966 0.1763\n",
    "\n",
    "ZI Poisson 6.0 0.15"
   ]
  },
  {
   "cell_type": "code",
   "execution_count": 1,
   "metadata": {
    "colab": {},
    "colab_type": "code",
    "id": "OGzTTCQbAGFZ"
   },
   "outputs": [
    {
     "name": "stdout",
     "output_type": "stream",
     "text": [
      "File exists\n"
     ]
    }
   ],
   "source": [
    "import os\n",
    "if not os.path.isfile('blogdata/BlogFeedback.zip'):\n",
    "    !mkdir blogdata\n",
    "    print(\"Installing wget\")\n",
    "    !pip install wget\n",
    "    import wget\n",
    "    print(\"Downloading file\")\n",
    "    wget.download('http://archive.ics.uci.edu/ml/machine-learning-databases/00304/BlogFeedback.zip', 'blogdata/BlogFeedback.zip')\n",
    "    print(\"Unzipping content\")\n",
    "    !unzip blogdata/BlogFeedback.zip -d blogdata\n",
    "else:\n",
    "    print(\"File exists\")"
   ]
  },
  {
   "cell_type": "code",
   "execution_count": 2,
   "metadata": {},
   "outputs": [
    {
     "name": "stdout",
     "output_type": "stream",
     "text": [
      "Tensorflow version:  2.0.0-alpha0  running in colab?:  False\n"
     ]
    }
   ],
   "source": [
    "import tensorflow as tf\n",
    "try: #If running in colab \n",
    "    import google.colab\n",
    "    IN_COLAB = True \n",
    "except:\n",
    "    IN_COLAB = False\n",
    "if (not tf.__version__.startswith('2')): #Checking if tf 2.0 is installed\n",
    "    if IN_COLAB: #If running in colab install tf 2.0\n",
    "        !pip install tensorflow==2.0.0-alpha0\n",
    "        !pip install pip install tfp-nightly==0.7.0-dev20190511\n",
    "    print('Please install tensorflow 2.0 to run this notebook')\n",
    "print('Tensorflow version: ',tf.__version__, ' running in colab?: ', IN_COLAB)"
   ]
  },
  {
   "cell_type": "code",
   "execution_count": 3,
   "metadata": {
    "colab": {
     "base_uri": "https://localhost:8080/",
     "height": 511
    },
    "colab_type": "code",
    "id": "hXvLxJKsAGFd",
    "outputId": "8c16a9aa-8d1c-4d42-e7ca-f56454df8a58"
   },
   "outputs": [
    {
     "name": "stdout",
     "output_type": "stream",
     "text": [
      "TFP Version 0.7.0-dev20190511\n",
      "TF  Version 2.0.0-alpha0\n"
     ]
    }
   ],
   "source": [
    "import matplotlib.pyplot as plt\n",
    "import numpy as np\n",
    "from sklearn.model_selection import train_test_split\n",
    "from sklearn.metrics import mean_absolute_error, mean_squared_error\n",
    "import seaborn as sns\n",
    "import tensorflow_probability as tfp\n",
    "\n",
    "sns.reset_defaults()\n",
    "#sns.set_style('whitegrid')\n",
    "sns.set_context(context='talk',font_scale=0.7)\n",
    "\n",
    "\n",
    "%matplotlib inline\n",
    "plt.style.use('default')\n",
    "\n",
    "tfd = tfp.distributions\n",
    "tfb = tfp.bijectors\n",
    "from tensorflow.keras.models import Model\n",
    "from tensorflow.keras.layers import Dense\n",
    "print(\"TFP Version\", tfp.__version__)\n",
    "print(\"TF  Version\",tf.__version__)\n",
    "np.random.seed(42)\n",
    "tf.random.set_seed(42)"
   ]
  },
  {
   "cell_type": "code",
   "execution_count": 4,
   "metadata": {
    "colab": {},
    "colab_type": "code",
    "id": "MOj0hNbqinCG"
   },
   "outputs": [],
   "source": [
    "USE_BASE = True #Use only the Basic features (successfully in paper)"
   ]
  },
  {
   "cell_type": "code",
   "execution_count": 5,
   "metadata": {
    "colab": {
     "base_uri": "https://localhost:8080/",
     "height": 34
    },
    "colab_type": "code",
    "id": "QE660pTmAGFf",
    "outputId": "647adeef-18c7-44ef-e05c-749121c29e96"
   },
   "outputs": [
    {
     "data": {
      "text/plain": [
       "((52397, 281), (52397, 63), (52397,))"
      ]
     },
     "execution_count": 5,
     "metadata": {},
     "output_type": "execute_result"
    }
   ],
   "source": [
    "# Loading to the data\n",
    "d = np.loadtxt(\"blogdata/blogData_train.csv\", delimiter=',', dtype=np.float32)\n",
    "if USE_BASE:\n",
    "  Xu = d[:,0:63]\n",
    "else:\n",
    "  Xu = d[:,0:279]\n",
    "\n",
    "y = d[:,280]\n",
    "d.shape, Xu.shape, y.shape"
   ]
  },
  {
   "cell_type": "code",
   "execution_count": 6,
   "metadata": {
    "colab": {},
    "colab_type": "code",
    "id": "m5Nb64B_AGFh"
   },
   "outputs": [],
   "source": [
    "Xmean = np.mean(Xu,axis=0)\n",
    "Xsd = np.std(Xu,axis=0)\n",
    "X = (Xu-Xmean)/(Xsd+1e-10)\n",
    "X = np.clip(X,-5,5)\n",
    "np.max(X),np.min(X)\n",
    "\n",
    "X_tr, X_te, y_tr, y_te = train_test_split(X, y, test_size=0.1, random_state=42)"
   ]
  },
  {
   "cell_type": "code",
   "execution_count": 7,
   "metadata": {
    "colab": {},
    "colab_type": "code",
    "id": "lst2_XBNv8w6"
   },
   "outputs": [],
   "source": [
    "from scipy.stats import spearmanr\n",
    "def check_performance(model_mean):\n",
    "  files = [f for f in os.listdir('blogdata/') if f.startswith('blogData_test')]\n",
    "  hits_at10 = np.zeros(len(files))\n",
    "  cors = np.zeros(len(files))\n",
    "  for i,f in enumerate(files):\n",
    "      d = np.loadtxt(\"blogdata/\"+f, delimiter=',', dtype=np.float32)\n",
    "      #print(\"{}\".format(i))\n",
    "      Xtu = d[:,0:X.shape[1]]\n",
    "      yt = d[:,280]\n",
    "      Xt = (Xtu-Xmean) / (Xsd+1e-10)\n",
    "      d.shape, Xtu.shape, yt.shape\n",
    "      y_pred = model_mean.predict(Xt).flatten()\n",
    "      idx_true = np.argsort(yt)[-10:]\n",
    "      idx_pred = np.argsort(y_pred)[-10:] #The 10 higest\n",
    "      hits_at10[i]=len(np.intersect1d(idx_true, idx_pred))\n",
    "      cors[i] = spearmanr(yt, y_pred)[0]\n",
    "  return (np.mean(hits_at10), np.std(hits_at10)/np.sqrt(len(files)),np.mean(cors), np.std(cors)/np.sqrt(len(files)))"
   ]
  },
  {
   "cell_type": "code",
   "execution_count": 8,
   "metadata": {},
   "outputs": [
    {
     "data": {
      "text/plain": [
       "0.8660254037844387"
      ]
     },
     "execution_count": 8,
     "metadata": {},
     "output_type": "execute_result"
    }
   ],
   "source": [
    "spearmanr([1,2,2], [1,2,4])[0]"
   ]
  },
  {
   "cell_type": "markdown",
   "metadata": {
    "colab_type": "text",
    "id": "FoI1J29DAGFj"
   },
   "source": [
    "### Definition of a base model "
   ]
  },
  {
   "cell_type": "code",
   "execution_count": 9,
   "metadata": {
    "colab": {},
    "colab_type": "code",
    "id": "MaswVJslAGFn"
   },
   "outputs": [],
   "source": [
    "## Definition of the base model\n",
    "from tensorflow.keras.regularizers import l2\n",
    "# def make_base(inputs):\n",
    "#     rate = tf.keras.layers.Dense(20,  kernel_regularizer=l2(1e-2),  bias_regularizer=l2(1e-4),activation='sigmoid')(inputs)\n",
    "#     return tf.keras.layers.Dense(5,  kernel_regularizer=l2(1e-2),  bias_regularizer=l2(1e-4),activation='sigmoid')(rate)\n",
    "\n",
    "def make_base(inputs):\n",
    "    return  tf.keras.layers.Dense(3,  kernel_regularizer=l2(1e-2),  bias_regularizer=l2(1e-4),activation='sigmoid')(inputs)\n",
    "    \n",
    "\n",
    "epochs = 30\n",
    "\n"
   ]
  },
  {
   "cell_type": "markdown",
   "metadata": {},
   "source": [
    "### Fitting Normal"
   ]
  },
  {
   "cell_type": "code",
   "execution_count": 10,
   "metadata": {},
   "outputs": [
    {
     "name": "stdout",
     "output_type": "stream",
     "text": [
      "Train on 47157 samples, validate on 5240 samples\n",
      "Epoch 1/30\n",
      "47157/47157 [==============================] - 1s 31us/sample - loss: 1394.4046 - val_loss: 1737.6228\n",
      "Epoch 2/30\n",
      "47157/47157 [==============================] - 1s 30us/sample - loss: 1362.7034 - val_loss: 1709.1299\n",
      "Epoch 3/30\n",
      "47157/47157 [==============================] - 1s 27us/sample - loss: 1337.6541 - val_loss: 1685.0708\n",
      "Epoch 4/30\n",
      "47157/47157 [==============================] - 1s 27us/sample - loss: 1316.1596 - val_loss: 1663.9462\n",
      "Epoch 5/30\n",
      "47157/47157 [==============================] - 1s 26us/sample - loss: 1297.7649 - val_loss: 1645.9506\n",
      "Epoch 6/30\n",
      "47157/47157 [==============================] - 1s 26us/sample - loss: 1281.8272 - val_loss: 1629.7474\n",
      "Epoch 7/30\n",
      "47157/47157 [==============================] - 1s 26us/sample - loss: 1267.8074 - val_loss: 1615.4919\n",
      "Epoch 8/30\n",
      "47157/47157 [==============================] - 1s 27us/sample - loss: 1255.4863 - val_loss: 1603.2084\n",
      "Epoch 9/30\n",
      "47157/47157 [==============================] - 1s 27us/sample - loss: 1244.5004 - val_loss: 1591.7353\n",
      "Epoch 10/30\n",
      "47157/47157 [==============================] - 1s 27us/sample - loss: 1234.3129 - val_loss: 1581.0903\n",
      "Epoch 11/30\n",
      "47157/47157 [==============================] - 1s 27us/sample - loss: 1225.0666 - val_loss: 1572.0764\n",
      "Epoch 12/30\n",
      "47157/47157 [==============================] - 1s 30us/sample - loss: 1216.2172 - val_loss: 1562.0980\n",
      "Epoch 13/30\n",
      "47157/47157 [==============================] - 1s 26us/sample - loss: 1208.1035 - val_loss: 1553.3486\n",
      "Epoch 14/30\n",
      "47157/47157 [==============================] - 1s 27us/sample - loss: 1200.3324 - val_loss: 1544.7536\n",
      "Epoch 15/30\n",
      "47157/47157 [==============================] - 1s 26us/sample - loss: 1192.2444 - val_loss: 1537.2787\n",
      "Epoch 16/30\n",
      "47157/47157 [==============================] - 1s 26us/sample - loss: 1184.2169 - val_loss: 1529.5056\n",
      "Epoch 17/30\n",
      "47157/47157 [==============================] - 1s 27us/sample - loss: 1176.5302 - val_loss: 1522.5088\n",
      "Epoch 18/30\n",
      "47157/47157 [==============================] - 1s 26us/sample - loss: 1169.5835 - val_loss: 1513.2966\n",
      "Epoch 19/30\n",
      "47157/47157 [==============================] - 1s 27us/sample - loss: 1162.8255 - val_loss: 1505.1617\n",
      "Epoch 20/30\n",
      "47157/47157 [==============================] - 1s 27us/sample - loss: 1156.0712 - val_loss: 1498.3726\n",
      "Epoch 21/30\n",
      "47157/47157 [==============================] - 1s 26us/sample - loss: 1149.1845 - val_loss: 1491.6054\n",
      "Epoch 22/30\n",
      "47157/47157 [==============================] - 1s 26us/sample - loss: 1143.3789 - val_loss: 1484.5886\n",
      "Epoch 23/30\n",
      "47157/47157 [==============================] - 1s 27us/sample - loss: 1137.3417 - val_loss: 1478.6313\n",
      "Epoch 24/30\n",
      "47157/47157 [==============================] - ETA: 0s - loss: 1134.36 - 1s 28us/sample - loss: 1131.7169 - val_loss: 1473.1070\n",
      "Epoch 25/30\n",
      "47157/47157 [==============================] - 1s 27us/sample - loss: 1126.2632 - val_loss: 1466.6480\n",
      "Epoch 26/30\n",
      "47157/47157 [==============================] - 1s 27us/sample - loss: 1121.2010 - val_loss: 1461.5057\n",
      "Epoch 27/30\n",
      "47157/47157 [==============================] - 1s 27us/sample - loss: 1115.9082 - val_loss: 1456.4387\n",
      "Epoch 28/30\n",
      "47157/47157 [==============================] - 1s 27us/sample - loss: 1110.7576 - val_loss: 1451.4500\n",
      "Epoch 29/30\n",
      "47157/47157 [==============================] - 1s 30us/sample - loss: 1105.8810 - val_loss: 1446.6720\n",
      "Epoch 30/30\n",
      "47157/47157 [==============================] - 2s 33us/sample - loss: 1101.4739 - val_loss: 1442.1770\n"
     ]
    }
   ],
   "source": [
    "inputs = tf.keras.layers.Input(shape=(X.shape[1],))\n",
    "out = tf.keras.layers.Dense(1)(make_base(inputs))\n",
    "model = tf.keras.models.Model(inputs=inputs, outputs=out)\n",
    "model.compile(optimizer=tf.optimizers.Adam(), loss='mse')\n",
    "hist = model.fit(X_tr, y_tr, epochs=epochs, verbose=1, validation_data=(X_te, y_te))"
   ]
  },
  {
   "cell_type": "code",
   "execution_count": 11,
   "metadata": {},
   "outputs": [],
   "source": [
    "y_hat_tr = model.predict(X_tr) #Trainingset\n",
    "y_hat_te = model.predict(X_te) #Testset"
   ]
  },
  {
   "cell_type": "code",
   "execution_count": 12,
   "metadata": {},
   "outputs": [],
   "source": [
    "sigma_hat_2 = np.var(y_hat_tr.flatten() - y_tr) #We estimate sigma from the training set"
   ]
  },
  {
   "cell_type": "markdown",
   "metadata": {},
   "source": [
    "$$\n",
    "   NLL/n =  0.5 \\cdot \\ln (2 \\cdot \\pi \\cdot \\sigma^2) + 0.5 * \\frac{1}{n} \\sum \\frac{(y_i-\\hat{y_i})^2}{ \\sigma^2 }\n",
    "$$"
   ]
  },
  {
   "cell_type": "code",
   "execution_count": 13,
   "metadata": {},
   "outputs": [
    {
     "data": {
      "text/html": [
       "<div>\n",
       "<style scoped>\n",
       "    .dataframe tbody tr th:only-of-type {\n",
       "        vertical-align: middle;\n",
       "    }\n",
       "\n",
       "    .dataframe tbody tr th {\n",
       "        vertical-align: top;\n",
       "    }\n",
       "\n",
       "    .dataframe thead th {\n",
       "        text-align: right;\n",
       "    }\n",
       "</style>\n",
       "<table border=\"1\" class=\"dataframe\">\n",
       "  <thead>\n",
       "    <tr style=\"text-align: right;\">\n",
       "      <th></th>\n",
       "      <th>hits@10 [mean]</th>\n",
       "      <th>hits@10 [std]</th>\n",
       "      <th>loss_val [mean]</th>\n",
       "      <th>loss_val [std]</th>\n",
       "      <th>rank_corr [mean]</th>\n",
       "      <th>rank_corr [std]</th>\n",
       "    </tr>\n",
       "  </thead>\n",
       "  <tbody>\n",
       "    <tr>\n",
       "      <th>normal</th>\n",
       "      <td>5.516667</td>\n",
       "      <td>0.162432</td>\n",
       "      <td>5.269432</td>\n",
       "      <td>-1</td>\n",
       "      <td>0.461417</td>\n",
       "      <td>0.011046</td>\n",
       "    </tr>\n",
       "  </tbody>\n",
       "</table>\n",
       "</div>"
      ],
      "text/plain": [
       "        hits@10 [mean]  hits@10 [std]  loss_val [mean]  loss_val [std]  \\\n",
       "normal        5.516667       0.162432         5.269432              -1   \n",
       "\n",
       "        rank_corr [mean]  rank_corr [std]  \n",
       "normal          0.461417         0.011046  "
      ]
     },
     "execution_count": 13,
     "metadata": {},
     "output_type": "execute_result"
    },
    {
     "data": {
      "image/png": "[encoded data removed]",
      "text/plain": [
       "<Figure size 432x288 with 1 Axes>"
      ]
     },
     "metadata": {
      "needs_background": "light"
     },
     "output_type": "display_data"
    }
   ],
   "source": [
    "plt.plot(hist.history['loss'])\n",
    "plt.plot(hist.history['val_loss'])\n",
    "plt.legend(['loss','val_loss'])\n",
    "plt.xlabel('Epochs')\n",
    "plt.title('Training for Normal Model')\n",
    "np.mean(hist.history['loss'])\n",
    "\n",
    "d = check_performance(model)\n",
    "\n",
    "dd =  0.5*np.log(2 * np.pi * sigma_hat_2) + 0.5*np.mean((y_hat_te - y_te)**2)/sigma_hat_2\n",
    "\n",
    "import pandas as pd\n",
    "df = pd.DataFrame(\n",
    "    {'hits@10 [mean]' : d[0], 'hits@10 [std]' : d[1],\n",
    "    'rank_corr [mean]' : d[2], 'rank_corr [std]' : d[3],\n",
    "    'loss_val [mean]' : dd, 'loss_val [std]' : -1},\n",
    "    index=['normal'])\n",
    "df"
   ]
  },
  {
   "cell_type": "code",
   "execution_count": 14,
   "metadata": {},
   "outputs": [
    {
     "data": {
      "text/plain": [
       "1465.2823760179708"
      ]
     },
     "execution_count": 14,
     "metadata": {},
     "output_type": "execute_result"
    }
   ],
   "source": [
    "np.mean(hist.history['val_loss'][-10:])"
   ]
  },
  {
   "cell_type": "markdown",
   "metadata": {},
   "source": [
    "### Fitting a poisson"
   ]
  },
  {
   "cell_type": "code",
   "execution_count": 15,
   "metadata": {},
   "outputs": [],
   "source": [
    "def negloglik(y_true, y_hat):\n",
    "  return -y_hat.log_prob(y_true)"
   ]
  },
  {
   "cell_type": "code",
   "execution_count": 16,
   "metadata": {},
   "outputs": [],
   "source": [
    "inputs = tf.keras.layers.Input(shape=(X.shape[1],))\n",
    "rate = tf.keras.layers.Dense(1, \n",
    "                                 activation=tf.exp, \n",
    "                                 bias_initializer='zeros', \n",
    "                                 kernel_initializer='zeros')(make_base(inputs))\n",
    "\n",
    "p_y = tfp.layers.DistributionLambda(tfd.Poisson)(rate) \n",
    "model = tf.keras.models.Model(inputs=inputs, outputs=p_y)\n",
    "model_mean = tf.keras.models.Model(inputs=inputs, outputs=p_y.mean()) #For evaluation we need the mean\n",
    "model.compile(optimizer=tf.optimizers.Adam(), loss=negloglik)"
   ]
  },
  {
   "cell_type": "code",
   "execution_count": 17,
   "metadata": {},
   "outputs": [
    {
     "name": "stdout",
     "output_type": "stream",
     "text": [
      "Train on 47157 samples, validate on 5240 samples\n",
      "Epoch 1/30\n",
      "47157/47157 [==============================] - 2s 39us/sample - loss: 17.1105 - val_loss: 13.0660\n",
      "Epoch 2/30\n",
      "47157/47157 [==============================] - 2s 34us/sample - loss: 10.3284 - val_loss: 10.3721\n",
      "Epoch 3/30\n",
      "47157/47157 [==============================] - 1s 29us/sample - loss: 8.9881 - val_loss: 9.5987\n",
      "Epoch 4/30\n",
      "47157/47157 [==============================] - 1s 29us/sample - loss: 8.3664 - val_loss: 9.1287\n",
      "Epoch 5/30\n",
      "47157/47157 [==============================] - 1s 29us/sample - loss: 7.9386 - val_loss: 8.4994\n",
      "Epoch 6/30\n",
      "47157/47157 [==============================] - 1s 28us/sample - loss: 7.2443 - val_loss: 8.1440\n",
      "Epoch 7/30\n",
      "47157/47157 [==============================] - 1s 27us/sample - loss: 6.9343 - val_loss: 7.9682\n",
      "Epoch 8/30\n",
      "47157/47157 [==============================] - 1s 27us/sample - loss: 6.7483 - val_loss: 7.8526\n",
      "Epoch 9/30\n",
      "47157/47157 [==============================] - 1s 28us/sample - loss: 6.6451 - val_loss: 7.7976\n",
      "Epoch 10/30\n",
      "47157/47157 [==============================] - 1s 28us/sample - loss: 6.5764 - val_loss: 7.7822\n",
      "Epoch 11/30\n",
      "47157/47157 [==============================] - 1s 30us/sample - loss: 6.5173 - val_loss: 7.7770\n",
      "Epoch 12/30\n",
      "47157/47157 [==============================] - 1s 29us/sample - loss: 6.4851 - val_loss: 7.6990\n",
      "Epoch 13/30\n",
      "47157/47157 [==============================] - 1s 28us/sample - loss: 6.4571 - val_loss: 7.7844\n",
      "Epoch 14/30\n",
      "47157/47157 [==============================] - 1s 28us/sample - loss: 6.4287 - val_loss: 7.6493\n",
      "Epoch 15/30\n",
      "47157/47157 [==============================] - 1s 28us/sample - loss: 6.3845 - val_loss: 7.6673\n",
      "Epoch 16/30\n",
      "47157/47157 [==============================] - 1s 29us/sample - loss: 6.3697 - val_loss: 7.6543\n",
      "Epoch 17/30\n",
      "47157/47157 [==============================] - 1s 29us/sample - loss: 6.3571 - val_loss: 7.5781\n",
      "Epoch 18/30\n",
      "47157/47157 [==============================] - 1s 28us/sample - loss: 6.3007 - val_loss: 7.6051\n",
      "Epoch 19/30\n",
      "47157/47157 [==============================] - 1s 28us/sample - loss: 6.2895 - val_loss: 7.7777\n",
      "Epoch 20/30\n",
      "47157/47157 [==============================] - 1s 28us/sample - loss: 6.2783 - val_loss: 7.7125\n",
      "Epoch 21/30\n",
      "47157/47157 [==============================] - 1s 28us/sample - loss: 6.2747 - val_loss: 7.5683\n",
      "Epoch 22/30\n",
      "47157/47157 [==============================] - 1s 30us/sample - loss: 6.2503 - val_loss: 7.5266\n",
      "Epoch 23/30\n",
      "47157/47157 [==============================] - 1s 28us/sample - loss: 6.2614 - val_loss: 7.4430\n",
      "Epoch 24/30\n",
      "47157/47157 [==============================] - 1s 28us/sample - loss: 6.2258 - val_loss: 7.4581\n",
      "Epoch 25/30\n",
      "47157/47157 [==============================] - 1s 30us/sample - loss: 6.2208 - val_loss: 7.4432\n",
      "Epoch 26/30\n",
      "47157/47157 [==============================] - 1s 28us/sample - loss: 6.2056 - val_loss: 7.5590\n",
      "Epoch 27/30\n",
      "47157/47157 [==============================] - 1s 28us/sample - loss: 6.1985 - val_loss: 7.4515\n",
      "Epoch 28/30\n",
      "47157/47157 [==============================] - 1s 29us/sample - loss: 6.1837 - val_loss: 7.5030\n",
      "Epoch 29/30\n",
      "47157/47157 [==============================] - 1s 29us/sample - loss: 6.1725 - val_loss: 7.3980\n",
      "Epoch 30/30\n",
      "47157/47157 [==============================] - 1s 29us/sample - loss: 6.1933 - val_loss: 7.4132\n"
     ]
    }
   ],
   "source": [
    "hist = model.fit(X_tr, y_tr, epochs=epochs, verbose=1, validation_data=(X_te, y_te))"
   ]
  },
  {
   "cell_type": "code",
   "execution_count": 18,
   "metadata": {},
   "outputs": [
    {
     "data": {
      "text/html": [
       "<div>\n",
       "<style scoped>\n",
       "    .dataframe tbody tr th:only-of-type {\n",
       "        vertical-align: middle;\n",
       "    }\n",
       "\n",
       "    .dataframe tbody tr th {\n",
       "        vertical-align: top;\n",
       "    }\n",
       "\n",
       "    .dataframe thead th {\n",
       "        text-align: right;\n",
       "    }\n",
       "</style>\n",
       "<table border=\"1\" class=\"dataframe\">\n",
       "  <thead>\n",
       "    <tr style=\"text-align: right;\">\n",
       "      <th></th>\n",
       "      <th>hits@10 [mean]</th>\n",
       "      <th>hits@10 [std]</th>\n",
       "      <th>loss_val [mean]</th>\n",
       "      <th>loss_val [std]</th>\n",
       "      <th>rank_corr [mean]</th>\n",
       "      <th>rank_corr [std]</th>\n",
       "    </tr>\n",
       "  </thead>\n",
       "  <tbody>\n",
       "    <tr>\n",
       "      <th>normal</th>\n",
       "      <td>5.516667</td>\n",
       "      <td>0.162432</td>\n",
       "      <td>5.269432</td>\n",
       "      <td>-1.000000</td>\n",
       "      <td>0.461417</td>\n",
       "      <td>0.011046</td>\n",
       "    </tr>\n",
       "    <tr>\n",
       "      <th>Poisson</th>\n",
       "      <td>5.716667</td>\n",
       "      <td>0.179647</td>\n",
       "      <td>7.476394</td>\n",
       "      <td>0.056384</td>\n",
       "      <td>0.495745</td>\n",
       "      <td>0.010436</td>\n",
       "    </tr>\n",
       "  </tbody>\n",
       "</table>\n",
       "</div>"
      ],
      "text/plain": [
       "         hits@10 [mean]  hits@10 [std]  loss_val [mean]  loss_val [std]  \\\n",
       "normal         5.516667       0.162432         5.269432       -1.000000   \n",
       "Poisson        5.716667       0.179647         7.476394        0.056384   \n",
       "\n",
       "         rank_corr [mean]  rank_corr [std]  \n",
       "normal           0.461417         0.011046  \n",
       "Poisson          0.495745         0.010436  "
      ]
     },
     "execution_count": 18,
     "metadata": {},
     "output_type": "execute_result"
    },
    {
     "data": {
      "image/png": "[encoded data removed]",
      "text/plain": [
       "<Figure size 432x288 with 1 Axes>"
      ]
     },
     "metadata": {
      "needs_background": "light"
     },
     "output_type": "display_data"
    }
   ],
   "source": [
    "plt.plot(hist.history['loss'])\n",
    "plt.plot(hist.history['val_loss'])\n",
    "plt.legend(['loss','val_loss'])\n",
    "plt.xlabel('Epochs')\n",
    "plt.title('Training for Poisson Distribution')\n",
    "np.mean(hist.history['loss'])\n",
    "\n",
    "d = check_performance(model_mean)\n",
    "\n",
    "if (epochs > 10):\n",
    "    dd = np.mean(hist.history['val_loss'][-10:])\n",
    "    ddd = np.std(hist.history['val_loss'][-10:])\n",
    "else:\n",
    "    dd = ddd = -1.\n",
    "import pandas as pd\n",
    "df1 = pd.DataFrame(\n",
    "    {'hits@10 [mean]' : d[0], 'hits@10 [std]' : d[1],\n",
    "     'rank_corr [mean]' : d[2], 'rank_corr [std]' : d[3],\n",
    "    'loss_val [mean]' : dd, 'loss_val [std]' : ddd},\n",
    "    index=['Poisson'])\n",
    "df = df.append(df1)\n",
    "df"
   ]
  },
  {
   "cell_type": "markdown",
   "metadata": {},
   "source": [
    "### Fitting ZIP"
   ]
  },
  {
   "cell_type": "code",
   "execution_count": 19,
   "metadata": {},
   "outputs": [],
   "source": [
    "def zero_inf(out): \n",
    "    rate = tf.math.exp(out[:,0]) #A \n",
    "    #rate = tf.math.softplus(out[:,0]) #A \n",
    "    s = tf.math.sigmoid(out[:,1:]) #B  \n",
    "    probs = tf.concat([s, 1-s], axis=1) #C \n",
    "    print(np.min(rate), \" \", np.max(rate), \" \", np.min(s), np.max(s),\"  \",np.min(out[:,1:]), np.max(out[:,1:]))\n",
    "    return tfd.Mixture(\n",
    "          cat=tfd.Categorical(probs=probs),#D\n",
    "          components=[\n",
    "            tfd.Deterministic(loc=tf.zeros_like(rate)), #E\n",
    "            tfd.Poisson(rate=rate), #F \n",
    "        ])"
   ]
  },
  {
   "cell_type": "code",
   "execution_count": 20,
   "metadata": {},
   "outputs": [],
   "source": [
    "def negloglik2(y_true, y_hat):\n",
    "    # return -tf.reduce_mean(y_hat.log_prob(y_true))\n",
    "    return -tf.reduce_mean(y_hat.log_prob(tf.reshape(y_true,(-1,))))"
   ]
  },
  {
   "cell_type": "code",
   "execution_count": 21,
   "metadata": {},
   "outputs": [],
   "source": [
    "#   One pah for all\n",
    "# from tensorflow.keras.regularizers import l2\n",
    "# inputs = tf.keras.layers.Input(shape=(X.shape[1],))\n",
    "# rate = tf.keras.layers.Dense(2,  kernel_regularizer=l2(0.01))(make_base(inputs))\n",
    "\n",
    "# p_y = tfp.layers.DistributionLambda(zero_inf)(rate) \n",
    "# model = tf.keras.models.Model(inputs=inputs, outputs=p_y)\n",
    "# model_mean = tf.keras.models.Model(inputs=inputs, outputs=p_y.mean()) #For evaluation we need the mean\n",
    "# model.compile(optimizer=tf.optimizers.Adam(), loss=negloglik2)\n",
    "# model.summary()"
   ]
  },
  {
   "cell_type": "code",
   "execution_count": 22,
   "metadata": {},
   "outputs": [
    {
     "name": "stderr",
     "output_type": "stream",
     "text": [
      "WARNING: Logging before flag parsing goes to stderr.\n",
      "W0618 20:53:20.159106 139629362722560 deprecation.py:323] From /usr/local/lib/python3.5/dist-packages/tensorflow_probability/python/distributions/mixture.py:154: Categorical.event_size (from tensorflow_probability.python.distributions.categorical) is deprecated and will be removed after 2019-05-19.\n",
      "Instructions for updating:\n",
      "The `event_size` property is deprecated.  Use `num_categories` instead.  They have the same value, but `event_size` is misnamed.\n"
     ]
    },
    {
     "name": "stdout",
     "output_type": "stream",
     "text": [
      "Tensor(\"distribution_lambda_1/Exp:0\", shape=(None,), dtype=float32)   Tensor(\"distribution_lambda_1/Exp:0\", shape=(None,), dtype=float32)   Tensor(\"distribution_lambda_1/Sigmoid:0\", shape=(None, 1), dtype=float32) Tensor(\"distribution_lambda_1/Sigmoid:0\", shape=(None, 1), dtype=float32)    Tensor(\"distribution_lambda_1/strided_slice_2:0\", shape=(None, 1), dtype=float32) Tensor(\"distribution_lambda_1/strided_slice_3:0\", shape=(None, 1), dtype=float32)\n",
      "Model: \"model_3\"\n",
      "__________________________________________________________________________________________________\n",
      "Layer (type)                    Output Shape         Param #     Connected to                     \n",
      "==================================================================================================\n",
      "input_3 (InputLayer)            [(None, 63)]         0                                            \n",
      "__________________________________________________________________________________________________\n",
      "dense_5 (Dense)                 (None, 3)            192         input_3[0][0]                    \n",
      "__________________________________________________________________________________________________\n",
      "dense_7 (Dense)                 (None, 3)            192         input_3[0][0]                    \n",
      "__________________________________________________________________________________________________\n",
      "dense_4 (Dense)                 (None, 1)            4           dense_5[0][0]                    \n",
      "__________________________________________________________________________________________________\n",
      "dense_6 (Dense)                 (None, 1)            4           dense_7[0][0]                    \n",
      "__________________________________________________________________________________________________\n",
      "concat (TensorFlowOpLayer)      [(None, 2)]          0           dense_4[0][0]                    \n",
      "                                                                 dense_6[0][0]                    \n",
      "__________________________________________________________________________________________________\n",
      "distribution_lambda_1 (Distribu ((None,), (None,))   0           concat[0][0]                     \n",
      "==================================================================================================\n",
      "Total params: 392\n",
      "Trainable params: 392\n",
      "Non-trainable params: 0\n",
      "__________________________________________________________________________________________________\n"
     ]
    }
   ],
   "source": [
    "from tensorflow.keras.regularizers import l2\n",
    "inputs = tf.keras.layers.Input(shape=(X.shape[1],))\n",
    "mean = tf.keras.layers.Dense(1,  kernel_regularizer=l2(0.01))(make_base(inputs))\n",
    "z = tf.keras.layers.Dense(1,  kernel_regularizer=l2(0.01))(make_base(inputs))\n",
    "tt = tf.concat([mean, z], axis=1)\n",
    "p_y = tfp.layers.DistributionLambda(zero_inf)(tt) \n",
    "model = tf.keras.models.Model(inputs=inputs, outputs=p_y)\n",
    "model_mean = tf.keras.models.Model(inputs=inputs, outputs=p_y.mean()) #For evaluation we need the mean\n",
    "model.compile(optimizer=tf.optimizers.Adam(), loss=negloglik2)\n",
    "model.summary()"
   ]
  },
  {
   "cell_type": "code",
   "execution_count": 23,
   "metadata": {},
   "outputs": [
    {
     "name": "stdout",
     "output_type": "stream",
     "text": [
      "Train on 47157 samples, validate on 5240 samples\n",
      "Epoch 1/30\n",
      "47157/47157 [==============================] - 2s 44us/sample - loss: 13.9619 - val_loss: 9.8183\n",
      "Epoch 2/30\n",
      "47157/47157 [==============================] - 2s 35us/sample - loss: 7.6936 - val_loss: 7.7355\n",
      "Epoch 3/30\n",
      "47157/47157 [==============================] - 2s 34us/sample - loss: 6.5247 - val_loss: 7.0010\n",
      "Epoch 4/30\n",
      "47157/47157 [==============================] - 2s 34us/sample - loss: 6.0315 - val_loss: 6.7262\n",
      "Epoch 5/30\n",
      "47157/47157 [==============================] - 2s 34us/sample - loss: 5.8260 - val_loss: 6.6972\n",
      "Epoch 6/30\n",
      "47157/47157 [==============================] - 2s 35us/sample - loss: 5.7079 - val_loss: 6.5443\n",
      "Epoch 7/30\n",
      "47157/47157 [==============================] - 2s 38us/sample - loss: 5.6316 - val_loss: 6.5693\n",
      "Epoch 8/30\n",
      "47157/47157 [==============================] - 2s 35us/sample - loss: 5.5877 - val_loss: 6.4839\n",
      "Epoch 9/30\n",
      "47157/47157 [==============================] - 2s 35us/sample - loss: 5.5706 - val_loss: 6.4615\n",
      "Epoch 10/30\n",
      "47157/47157 [==============================] - 2s 34us/sample - loss: 5.5371 - val_loss: 6.4283\n",
      "Epoch 11/30\n",
      "47157/47157 [==============================] - 2s 35us/sample - loss: 5.5154 - val_loss: 6.4394\n",
      "Epoch 12/30\n",
      "47157/47157 [==============================] - 2s 39us/sample - loss: 5.5003 - val_loss: 6.4812\n",
      "Epoch 13/30\n",
      "47157/47157 [==============================] - 2s 37us/sample - loss: 5.4710 - val_loss: 6.5058\n",
      "Epoch 14/30\n",
      "47157/47157 [==============================] - 2s 37us/sample - loss: 5.4709 - val_loss: 6.3642\n",
      "Epoch 15/30\n",
      "47157/47157 [==============================] - ETA: 0s - loss: 5.4568- E - 2s 38us/sample - loss: 5.4544 - val_loss: 6.3732\n",
      "Epoch 16/30\n",
      "47157/47157 [==============================] - 2s 35us/sample - loss: 5.4367 - val_loss: 6.4466\n",
      "Epoch 17/30\n",
      "47157/47157 [==============================] - 2s 34us/sample - loss: 5.4107 - val_loss: 6.3717\n",
      "Epoch 18/30\n",
      "47157/47157 [==============================] - 2s 36us/sample - loss: 5.3991 - val_loss: 6.3438\n",
      "Epoch 19/30\n",
      "47157/47157 [==============================] - 2s 35us/sample - loss: 5.4004 - val_loss: 6.3330\n",
      "Epoch 20/30\n",
      "47157/47157 [==============================] - 2s 34us/sample - loss: 5.4021 - val_loss: 6.2836\n",
      "Epoch 21/30\n",
      "47157/47157 [==============================] - 2s 34us/sample - loss: 5.3906 - val_loss: 6.2458\n",
      "Epoch 22/30\n",
      "47157/47157 [==============================] - 2s 34us/sample - loss: 5.3768 - val_loss: 6.3114\n",
      "Epoch 23/30\n",
      "47157/47157 [==============================] - 2s 34us/sample - loss: 5.3444 - val_loss: 6.2942\n",
      "Epoch 24/30\n",
      "47157/47157 [==============================] - 2s 34us/sample - loss: 5.3415 - val_loss: 6.3408\n",
      "Epoch 25/30\n",
      "47157/47157 [==============================] - 2s 34us/sample - loss: 5.3429 - val_loss: 6.2870\n",
      "Epoch 26/30\n",
      "47157/47157 [==============================] - 2s 34us/sample - loss: 5.3416 - val_loss: 6.2245\n",
      "Epoch 27/30\n",
      "47157/47157 [==============================] - 2s 34us/sample - loss: 5.3299 - val_loss: 6.2474\n",
      "Epoch 28/30\n",
      "47157/47157 [==============================] - 2s 33us/sample - loss: 5.3064 - val_loss: 6.3356\n",
      "Epoch 29/30\n",
      "47157/47157 [==============================] - 2s 34us/sample - loss: 5.3021 - val_loss: 6.2371\n",
      "Epoch 30/30\n",
      "47157/47157 [==============================] - 2s 35us/sample - loss: 5.3122 - val_loss: 6.2492\n"
     ]
    }
   ],
   "source": [
    "hist = model.fit(X_tr, y_tr, epochs=epochs, verbose=1, validation_data=(X_te, y_te))"
   ]
  },
  {
   "cell_type": "code",
   "execution_count": null,
   "metadata": {},
   "outputs": [],
   "source": []
  },
  {
   "cell_type": "code",
   "execution_count": 24,
   "metadata": {},
   "outputs": [
    {
     "data": {
      "text/html": [
       "<div>\n",
       "<style scoped>\n",
       "    .dataframe tbody tr th:only-of-type {\n",
       "        vertical-align: middle;\n",
       "    }\n",
       "\n",
       "    .dataframe tbody tr th {\n",
       "        vertical-align: top;\n",
       "    }\n",
       "\n",
       "    .dataframe thead th {\n",
       "        text-align: right;\n",
       "    }\n",
       "</style>\n",
       "<table border=\"1\" class=\"dataframe\">\n",
       "  <thead>\n",
       "    <tr style=\"text-align: right;\">\n",
       "      <th></th>\n",
       "      <th>hits@10 [mean]</th>\n",
       "      <th>hits@10 [std]</th>\n",
       "      <th>loss_val [mean]</th>\n",
       "      <th>loss_val [std]</th>\n",
       "      <th>rank_corr [mean]</th>\n",
       "      <th>rank_corr [std]</th>\n",
       "    </tr>\n",
       "  </thead>\n",
       "  <tbody>\n",
       "    <tr>\n",
       "      <th>normal</th>\n",
       "      <td>5.516667</td>\n",
       "      <td>0.162432</td>\n",
       "      <td>5.269432</td>\n",
       "      <td>-1.000000</td>\n",
       "      <td>0.461417</td>\n",
       "      <td>0.011046</td>\n",
       "    </tr>\n",
       "    <tr>\n",
       "      <th>Poisson</th>\n",
       "      <td>5.716667</td>\n",
       "      <td>0.179647</td>\n",
       "      <td>7.476394</td>\n",
       "      <td>0.056384</td>\n",
       "      <td>0.495745</td>\n",
       "      <td>0.010436</td>\n",
       "    </tr>\n",
       "    <tr>\n",
       "      <th>ZIP</th>\n",
       "      <td>5.416667</td>\n",
       "      <td>0.173672</td>\n",
       "      <td>6.277303</td>\n",
       "      <td>0.040061</td>\n",
       "      <td>0.493976</td>\n",
       "      <td>0.009645</td>\n",
       "    </tr>\n",
       "  </tbody>\n",
       "</table>\n",
       "</div>"
      ],
      "text/plain": [
       "         hits@10 [mean]  hits@10 [std]  loss_val [mean]  loss_val [std]  \\\n",
       "normal         5.516667       0.162432         5.269432       -1.000000   \n",
       "Poisson        5.716667       0.179647         7.476394        0.056384   \n",
       "ZIP            5.416667       0.173672         6.277303        0.040061   \n",
       "\n",
       "         rank_corr [mean]  rank_corr [std]  \n",
       "normal           0.461417         0.011046  \n",
       "Poisson          0.495745         0.010436  \n",
       "ZIP              0.493976         0.009645  "
      ]
     },
     "execution_count": 24,
     "metadata": {},
     "output_type": "execute_result"
    },
    {
     "data": {
      "image/png": "[encoded data removed]",
      "text/plain": [
       "<Figure size 432x288 with 1 Axes>"
      ]
     },
     "metadata": {
      "needs_background": "light"
     },
     "output_type": "display_data"
    }
   ],
   "source": [
    "plt.plot(hist.history['loss'])\n",
    "plt.plot(hist.history['val_loss'])\n",
    "plt.legend(['loss','val_loss'])\n",
    "plt.xlabel('Epochs')\n",
    "plt.title('Training for ZIP')\n",
    "np.mean(hist.history['loss'])\n",
    "\n",
    "d = check_performance(model_mean)\n",
    "if (epochs > 10):\n",
    "    dd = np.mean(hist.history['val_loss'][-10:])\n",
    "    ddd = np.std(hist.history['val_loss'][-10:])\n",
    "else:\n",
    "    dd = ddd = -1.\n",
    "import pandas as pd\n",
    "df1 = pd.DataFrame(\n",
    "    {'hits@10 [mean]' : d[0], 'hits@10 [std]' : d[1],\n",
    "     'rank_corr [mean]' : d[2], 'rank_corr [std]' : d[3],\n",
    "    'loss_val [mean]' : dd, 'loss_val [std]' : ddd},\n",
    "    index=['ZIP'])\n",
    "df = df.append(df1)\n",
    "df"
   ]
  },
  {
   "cell_type": "markdown",
   "metadata": {},
   "source": [
    "### Definition of a Mixture Model"
   ]
  },
  {
   "cell_type": "code",
   "execution_count": 25,
   "metadata": {},
   "outputs": [],
   "source": [
    "# 10          20       30        40       50         55\n",
    "#123456789012345678901234567890123456789012345678901234\n",
    "#See https://www.tensorflow.org/probability/api_docs/python/tfp/distributions/QuantizedDistribution\n",
    "def mixture_logistic(out, num=3): \n",
    "    loc, un_scale, logits = tf.split(out,\n",
    "                                     num_or_size_splits=num,\n",
    "                                     axis=-1)\n",
    "    scale = tf.nn.softplus(un_scale)\n",
    "\n",
    "    discretized_logistic_dist=tfd.TransformedDistribution(\n",
    "        distribution=tfd.Logistic(loc=loc, scale=scale),\n",
    "        bijector=tfb.AffineScalar(shift=-0.5))\n",
    "    \n",
    "    #print(\"mix_logi \", np.min(logits), \" \", np.max(logits), \" \", np.min(scale), np.max(scale),\"  \",np.min(loc), np.max(loc))\n",
    "    mixture_dist = tfd.MixtureSameFamily(\n",
    "        mixture_distribution=tfd.Categorical(logits=logits), #logits will be normalized to one\n",
    "        components_distribution=discretized_logistic_dist)\n",
    "    return mixture_dist"
   ]
  },
  {
   "cell_type": "code",
   "execution_count": 26,
   "metadata": {},
   "outputs": [
    {
     "name": "stdout",
     "output_type": "stream",
     "text": [
      "Model: \"model_5\"\n",
      "__________________________________________________________________________________________________\n",
      "Layer (type)                    Output Shape         Param #     Connected to                     \n",
      "==================================================================================================\n",
      "input_4 (InputLayer)            [(None, 63)]         0                                            \n",
      "__________________________________________________________________________________________________\n",
      "dense_9 (Dense)                 (None, 3)            192         input_4[0][0]                    \n",
      "__________________________________________________________________________________________________\n",
      "dense_11 (Dense)                (None, 3)            192         input_4[0][0]                    \n",
      "__________________________________________________________________________________________________\n",
      "dense_13 (Dense)                (None, 3)            192         input_4[0][0]                    \n",
      "__________________________________________________________________________________________________\n",
      "dense_8 (Dense)                 (None, 3)            12          dense_9[0][0]                    \n",
      "__________________________________________________________________________________________________\n",
      "dense_10 (Dense)                (None, 3)            12          dense_11[0][0]                   \n",
      "__________________________________________________________________________________________________\n",
      "dense_12 (Dense)                (None, 3)            12          dense_13[0][0]                   \n",
      "__________________________________________________________________________________________________\n",
      "concat_1 (TensorFlowOpLayer)    [(None, 9)]          0           dense_8[0][0]                    \n",
      "                                                                 dense_10[0][0]                   \n",
      "                                                                 dense_12[0][0]                   \n",
      "__________________________________________________________________________________________________\n",
      "distribution_lambda_2 (Distribu ((None,), (None,))   0           concat_1[0][0]                   \n",
      "==================================================================================================\n",
      "Total params: 612\n",
      "Trainable params: 612\n",
      "Non-trainable params: 0\n",
      "__________________________________________________________________________________________________\n"
     ]
    }
   ],
   "source": [
    "from tensorflow.keras.regularizers import l2\n",
    "inputs = tf.keras.layers.Input(shape=(X.shape[1],))\n",
    "\n",
    "loc1    = tf.keras.layers.Dense(3,  kernel_regularizer=l2(0.01))(make_base(inputs))\n",
    "scales1 = tf.keras.layers.Dense(3,  kernel_regularizer=l2(0.01))(make_base(inputs))\n",
    "logits  = tf.keras.layers.Dense(3,  kernel_regularizer=l2(0.01))(make_base(inputs))\n",
    "\n",
    "tt = tf.concat([loc1, scales1, logits], axis=1)\n",
    "p_y = tfp.layers.DistributionLambda(mixture_logistic)(tt) \n",
    "model = tf.keras.models.Model(inputs=inputs, outputs=p_y)\n",
    "model_mean = tf.keras.models.Model(inputs=inputs, outputs=p_y.mean()) #For evaluation we need the mean\n",
    "model.compile(optimizer=tf.optimizers.Adam(), loss=negloglik2)\n",
    "model.summary()\n"
   ]
  },
  {
   "cell_type": "code",
   "execution_count": 27,
   "metadata": {},
   "outputs": [
    {
     "name": "stdout",
     "output_type": "stream",
     "text": [
      "Train on 47157 samples, validate on 5240 samples\n",
      "Epoch 1/30\n",
      "47157/47157 [==============================] - 2s 43us/sample - loss: 2.9366 - val_loss: 0.2450\n",
      "Epoch 2/30\n",
      "47157/47157 [==============================] - 2s 37us/sample - loss: -0.7506 - val_loss: -1.2050\n",
      "Epoch 3/30\n",
      "47157/47157 [==============================] - 2s 37us/sample - loss: -1.3668 - val_loss: -1.6207\n",
      "Epoch 4/30\n",
      "47157/47157 [==============================] - 2s 37us/sample - loss: -1.6390 - val_loss: -1.7949\n",
      "Epoch 5/30\n",
      "47157/47157 [==============================] - 2s 37us/sample - loss: -1.8440 - val_loss: -2.0301\n",
      "Epoch 6/30\n",
      "47157/47157 [==============================] - 2s 37us/sample - loss: -1.8815 - val_loss: -1.2176\n",
      "Epoch 7/30\n",
      "47157/47157 [==============================] - 2s 36us/sample - loss: -1.9556 - val_loss: -2.0476\n",
      "Epoch 8/30\n",
      "47157/47157 [==============================] - 2s 36us/sample - loss: -2.0291 - val_loss: -1.9332\n",
      "Epoch 9/30\n",
      "47157/47157 [==============================] - 2s 36us/sample - loss: -2.1169 - val_loss: -2.2735\n",
      "Epoch 10/30\n",
      "47157/47157 [==============================] - 2s 36us/sample - loss: -2.1025 - val_loss: -2.2982\n",
      "Epoch 11/30\n",
      "47157/47157 [==============================] - 2s 36us/sample - loss: -2.1605 - val_loss: -1.7488\n",
      "Epoch 12/30\n",
      "47157/47157 [==============================] - 2s 37us/sample - loss: -2.2033 - val_loss: -2.3306\n",
      "Epoch 13/30\n",
      "47157/47157 [==============================] - 2s 36us/sample - loss: -2.2028 - val_loss: -2.3834\n",
      "Epoch 14/30\n",
      "47157/47157 [==============================] - 2s 36us/sample - loss: -2.2160 - val_loss: -2.4449\n",
      "Epoch 15/30\n",
      "47157/47157 [==============================] - 2s 38us/sample - loss: -2.2715 - val_loss: -2.4891\n",
      "Epoch 16/30\n",
      "47157/47157 [==============================] - 2s 39us/sample - loss: -2.3058 - val_loss: -2.0489\n",
      "Epoch 17/30\n",
      "47157/47157 [==============================] - 2s 36us/sample - loss: -2.3050 - val_loss: -2.0817\n",
      "Epoch 18/30\n",
      "47157/47157 [==============================] - 2s 37us/sample - loss: -2.3541 - val_loss: -0.3139\n",
      "Epoch 19/30\n",
      "47157/47157 [==============================] - 2s 36us/sample - loss: -2.3788 - val_loss: -2.4852\n",
      "Epoch 20/30\n",
      "47157/47157 [==============================] - 2s 38us/sample - loss: -2.3966 - val_loss: -2.3999\n",
      "Epoch 21/30\n",
      "47157/47157 [==============================] - 2s 38us/sample - loss: -2.3973 - val_loss: -2.0784\n",
      "Epoch 22/30\n",
      "47157/47157 [==============================] - 2s 39us/sample - loss: -2.4106 - val_loss: -2.4164\n",
      "Epoch 23/30\n",
      "47157/47157 [==============================] - 2s 39us/sample - loss: -2.4198 - val_loss: -2.5836\n",
      "Epoch 24/30\n",
      "47157/47157 [==============================] - 2s 42us/sample - loss: -2.4359 - val_loss: -2.6160\n",
      "Epoch 25/30\n",
      "47157/47157 [==============================] - 2s 43us/sample - loss: -2.4340 - val_loss: -2.6288\n",
      "Epoch 26/30\n",
      "47157/47157 [==============================] - 2s 41us/sample - loss: -2.4192 - val_loss: -2.6898\n",
      "Epoch 27/30\n",
      "47157/47157 [==============================] - 2s 42us/sample - loss: -2.4389 - val_loss: -2.4716\n",
      "Epoch 28/30\n",
      "47157/47157 [==============================] - 2s 42us/sample - loss: -2.4714 - val_loss: -2.4407\n",
      "Epoch 29/30\n",
      "47157/47157 [==============================] - 2s 50us/sample - loss: -2.4639 - val_loss: -2.6831\n",
      "Epoch 30/30\n",
      "47157/47157 [==============================] - 2s 41us/sample - loss: -2.4963 - val_loss: -2.0847\n"
     ]
    }
   ],
   "source": [
    "hist = model.fit(X_tr, y_tr, epochs=epochs, verbose=1, validation_data=(X_te, y_te))"
   ]
  },
  {
   "cell_type": "code",
   "execution_count": 28,
   "metadata": {},
   "outputs": [
    {
     "data": {
      "text/html": [
       "<div>\n",
       "<style scoped>\n",
       "    .dataframe tbody tr th:only-of-type {\n",
       "        vertical-align: middle;\n",
       "    }\n",
       "\n",
       "    .dataframe tbody tr th {\n",
       "        vertical-align: top;\n",
       "    }\n",
       "\n",
       "    .dataframe thead th {\n",
       "        text-align: right;\n",
       "    }\n",
       "</style>\n",
       "<table border=\"1\" class=\"dataframe\">\n",
       "  <thead>\n",
       "    <tr style=\"text-align: right;\">\n",
       "      <th></th>\n",
       "      <th>hits@10 [mean]</th>\n",
       "      <th>hits@10 [std]</th>\n",
       "      <th>loss_val [mean]</th>\n",
       "      <th>loss_val [std]</th>\n",
       "      <th>rank_corr [mean]</th>\n",
       "      <th>rank_corr [std]</th>\n",
       "    </tr>\n",
       "  </thead>\n",
       "  <tbody>\n",
       "    <tr>\n",
       "      <th>normal</th>\n",
       "      <td>5.516667</td>\n",
       "      <td>0.162432</td>\n",
       "      <td>5.269432</td>\n",
       "      <td>-1.000000</td>\n",
       "      <td>0.461417</td>\n",
       "      <td>0.011046</td>\n",
       "    </tr>\n",
       "    <tr>\n",
       "      <th>Poisson</th>\n",
       "      <td>5.716667</td>\n",
       "      <td>0.179647</td>\n",
       "      <td>7.476394</td>\n",
       "      <td>0.056384</td>\n",
       "      <td>0.495745</td>\n",
       "      <td>0.010436</td>\n",
       "    </tr>\n",
       "    <tr>\n",
       "      <th>ZIP</th>\n",
       "      <td>5.416667</td>\n",
       "      <td>0.173672</td>\n",
       "      <td>6.277303</td>\n",
       "      <td>0.040061</td>\n",
       "      <td>0.493976</td>\n",
       "      <td>0.009645</td>\n",
       "    </tr>\n",
       "    <tr>\n",
       "      <th>Mixture</th>\n",
       "      <td>4.950000</td>\n",
       "      <td>0.175476</td>\n",
       "      <td>-2.469294</td>\n",
       "      <td>0.214170</td>\n",
       "      <td>0.525798</td>\n",
       "      <td>0.009373</td>\n",
       "    </tr>\n",
       "  </tbody>\n",
       "</table>\n",
       "</div>"
      ],
      "text/plain": [
       "         hits@10 [mean]  hits@10 [std]  loss_val [mean]  loss_val [std]  \\\n",
       "normal         5.516667       0.162432         5.269432       -1.000000   \n",
       "Poisson        5.716667       0.179647         7.476394        0.056384   \n",
       "ZIP            5.416667       0.173672         6.277303        0.040061   \n",
       "Mixture        4.950000       0.175476        -2.469294        0.214170   \n",
       "\n",
       "         rank_corr [mean]  rank_corr [std]  \n",
       "normal           0.461417         0.011046  \n",
       "Poisson          0.495745         0.010436  \n",
       "ZIP              0.493976         0.009645  \n",
       "Mixture          0.525798         0.009373  "
      ]
     },
     "execution_count": 28,
     "metadata": {},
     "output_type": "execute_result"
    },
    {
     "data": {
      "image/png": "[encoded data removed]",
      "text/plain": [
       "<Figure size 432x288 with 1 Axes>"
      ]
     },
     "metadata": {
      "needs_background": "light"
     },
     "output_type": "display_data"
    }
   ],
   "source": [
    "plt.plot(hist.history['loss'])\n",
    "plt.plot(hist.history['val_loss'])\n",
    "plt.legend(['loss','val_loss'])\n",
    "plt.xlabel('Epochs')\n",
    "plt.title('Training for Mixture Model')\n",
    "np.mean(hist.history['loss'])\n",
    "\n",
    "d = check_performance(model_mean)\n",
    "if (epochs > 10):\n",
    "    dd = np.mean(hist.history['val_loss'][-10:])\n",
    "    ddd = np.std(hist.history['val_loss'][-10:])\n",
    "else:\n",
    "    dd = ddd = -1.\n",
    "import pandas as pd\n",
    "df1 = pd.DataFrame(\n",
    "    {'hits@10 [mean]' : d[0], 'hits@10 [std]' : d[1],\n",
    "     'rank_corr [mean]' : d[2], 'rank_corr [std]' : d[3],\n",
    "    'loss_val [mean]' : dd, 'loss_val [std]' : ddd},\n",
    "    index=['Mixture'])\n",
    "df = df.append(df1)\n",
    "df"
   ]
  },
  {
   "cell_type": "code",
   "execution_count": 29,
   "metadata": {
    "colab": {},
    "colab_type": "code",
    "id": "Mw8lOKHlGG0V"
   },
   "outputs": [
    {
     "data": {
      "text/html": [
       "<div>\n",
       "<style scoped>\n",
       "    .dataframe tbody tr th:only-of-type {\n",
       "        vertical-align: middle;\n",
       "    }\n",
       "\n",
       "    .dataframe tbody tr th {\n",
       "        vertical-align: top;\n",
       "    }\n",
       "\n",
       "    .dataframe thead th {\n",
       "        text-align: right;\n",
       "    }\n",
       "</style>\n",
       "<table border=\"1\" class=\"dataframe\">\n",
       "  <thead>\n",
       "    <tr style=\"text-align: right;\">\n",
       "      <th></th>\n",
       "      <th>hits@10 [mean]</th>\n",
       "      <th>hits@10 [std]</th>\n",
       "      <th>loss_val [mean]</th>\n",
       "      <th>loss_val [std]</th>\n",
       "      <th>rank_corr [mean]</th>\n",
       "      <th>rank_corr [std]</th>\n",
       "    </tr>\n",
       "  </thead>\n",
       "  <tbody>\n",
       "    <tr>\n",
       "      <th>normal</th>\n",
       "      <td>5.516667</td>\n",
       "      <td>0.162432</td>\n",
       "      <td>5.269432</td>\n",
       "      <td>-1.000000</td>\n",
       "      <td>0.461417</td>\n",
       "      <td>0.011046</td>\n",
       "    </tr>\n",
       "    <tr>\n",
       "      <th>Poisson</th>\n",
       "      <td>5.716667</td>\n",
       "      <td>0.179647</td>\n",
       "      <td>7.476394</td>\n",
       "      <td>0.056384</td>\n",
       "      <td>0.495745</td>\n",
       "      <td>0.010436</td>\n",
       "    </tr>\n",
       "    <tr>\n",
       "      <th>ZIP</th>\n",
       "      <td>5.416667</td>\n",
       "      <td>0.173672</td>\n",
       "      <td>6.277303</td>\n",
       "      <td>0.040061</td>\n",
       "      <td>0.493976</td>\n",
       "      <td>0.009645</td>\n",
       "    </tr>\n",
       "    <tr>\n",
       "      <th>Mixture</th>\n",
       "      <td>4.950000</td>\n",
       "      <td>0.175476</td>\n",
       "      <td>-2.469294</td>\n",
       "      <td>0.214170</td>\n",
       "      <td>0.525798</td>\n",
       "      <td>0.009373</td>\n",
       "    </tr>\n",
       "  </tbody>\n",
       "</table>\n",
       "</div>"
      ],
      "text/plain": [
       "         hits@10 [mean]  hits@10 [std]  loss_val [mean]  loss_val [std]  \\\n",
       "normal         5.516667       0.162432         5.269432       -1.000000   \n",
       "Poisson        5.716667       0.179647         7.476394        0.056384   \n",
       "ZIP            5.416667       0.173672         6.277303        0.040061   \n",
       "Mixture        4.950000       0.175476        -2.469294        0.214170   \n",
       "\n",
       "         rank_corr [mean]  rank_corr [std]  \n",
       "normal           0.461417         0.011046  \n",
       "Poisson          0.495745         0.010436  \n",
       "ZIP              0.493976         0.009645  \n",
       "Mixture          0.525798         0.009373  "
      ]
     },
     "execution_count": 29,
     "metadata": {},
     "output_type": "execute_result"
    }
   ],
   "source": [
    "df"
   ]
  },
  {
   "cell_type": "code",
   "execution_count": null,
   "metadata": {},
   "outputs": [],
   "source": []
  }
 ],
 "metadata": {
  "accelerator": "GPU",
  "colab": {
   "collapsed_sections": [],
   "name": "count_case_study.ipynb",
   "provenance": [],
   "version": "0.3.2"
  },
  "kernelspec": {
   "display_name": "Python 3",
   "language": "python",
   "name": "python3"
  },
  "language_info": {
   "codemirror_mode": {
    "name": "ipython",
    "version": 3
   },
   "file_extension": ".py",
   "mimetype": "text/x-python",
   "name": "python",
   "nbconvert_exporter": "python",
   "pygments_lexer": "ipython3",
   "version": "3.5.2"
  }
 },
 "nbformat": 4,
 "nbformat_minor": 1
}
