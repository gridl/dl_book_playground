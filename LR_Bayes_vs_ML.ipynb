{
 "cells": [
  {
   "cell_type": "code",
   "execution_count": 1,
   "metadata": {},
   "outputs": [
    {
     "name": "stdout",
     "output_type": "stream",
     "text": [
      "Tensorflow version:  2.0.0-rc0  running in colab?:  False\n"
     ]
    }
   ],
   "source": [
    "import tensorflow as tf\n",
    "try: #If running in colab \n",
    "    import google.colab\n",
    "    IN_COLAB = True \n",
    "except:\n",
    "    IN_COLAB = False\n",
    "if (not tf.__version__.startswith('2')): #Checking if tf 2.0 is installed\n",
    "    if IN_COLAB: #If running in colab install tf 2.0\n",
    "        !pip install tensorflow-gpu==2.0.0-rc0\n",
    "        !pip install tensorflow-probability==0.8.0-rc0\n",
    "    print('Please install tensorflow 2.0 to run this notebook')\n",
    "print('Tensorflow version: ',tf.__version__, ' running in colab?: ', IN_COLAB)"
   ]
  },
  {
   "cell_type": "code",
   "execution_count": 2,
   "metadata": {},
   "outputs": [
    {
     "name": "stdout",
     "output_type": "stream",
     "text": [
      "TFP Version 0.8.0-rc0\n",
      "TF  Version 2.0.0-rc0\n"
     ]
    }
   ],
   "source": [
    "import matplotlib.pyplot as plt\n",
    "import numpy as np\n",
    "import pandas as pd\n",
    "from sklearn.model_selection import train_test_split\n",
    "import tensorflow_probability as tfp\n",
    "\n",
    "\n",
    "%matplotlib inline\n",
    "plt.style.use('default')\n",
    "\n",
    "tfd = tfp.distributions\n",
    "tfb = tfp.bijectors\n",
    "print(\"TFP Version\", tfp.__version__)\n",
    "print(\"TF  Version\",tf.__version__)\n",
    "np.random.seed(1)\n",
    "tf.random.set_seed(1)"
   ]
  },
  {
   "cell_type": "code",
   "execution_count": 3,
   "metadata": {},
   "outputs": [
    {
     "data": {
      "image/png": "[encoded data removed]",
      "text/plain": [
       "<Figure size 1152x432 with 2 Axes>"
      ]
     },
     "metadata": {
      "needs_background": "light"
     },
     "output_type": "display_data"
    }
   ],
   "source": [
    "sigma = 3\n",
    "N_train = 4\n",
    "N_test  = 100\n",
    "def get_data():\n",
    "    x=np.arange(-5,5,0.01)#x range\n",
    "    noise=np.random.normal(loc=0,scale=sigma,size=len(x))# const var\n",
    "    y=2.7*x+noise #y linear model with const var\n",
    "    y=y.reshape((len(y),1))\n",
    "    x=x.reshape((len(x),1))\n",
    "    train_idx=np.random.choice(range(0,len(x)),N_train,replace=False)# sample 4 trainpoints\n",
    "    test_range=np.delete(range(0,len(x)),train_idx)\n",
    "    test_idx=np.random.choice(test_range,N_test,replace=False)# sample 100 testpoints, without the 4 from train\n",
    "    return x[train_idx], y[train_idx], x[test_idx], y[test_idx]\n",
    "    \n",
    "x_train, y_train, x_test, y_test = get_data()\n",
    "\n",
    "plt.figure(figsize=(16,6))\n",
    "plt.subplot(1,2,1)\n",
    "plt.scatter(x_train, y_train)\n",
    "plt.title(\"train_data\")\n",
    "plt.subplot(1,2,2)\n",
    "plt.scatter(x_test, y_test)\n",
    "plt.title(\"test_data\")\n",
    "plt.show()"
   ]
  },
  {
   "cell_type": "code",
   "execution_count": 4,
   "metadata": {},
   "outputs": [],
   "source": [
    "from sklearn.linear_model import LinearRegression\n",
    "model_skl = LinearRegression()\n",
    "\n",
    "def get_nll_lin(x_train, y_train,x_test,y_test):\n",
    "    res = model_skl.fit(x_train, y_train)\n",
    "    r2 = (y_test - model_skl.predict(x_test))**2\n",
    "    nll = N_test*np.log(np.sqrt(2*np.pi*sigma**2)) + np.sum((r2/(2*sigma**2)))\n",
    "    return nll,res.coef_,res.intercept_"
   ]
  },
  {
   "cell_type": "markdown",
   "metadata": {},
   "source": [
    "### Bayes"
   ]
  },
  {
   "cell_type": "code",
   "execution_count": 5,
   "metadata": {},
   "outputs": [],
   "source": [
    "def posterior(Phi, t, alpha, beta, return_inverse=False):\n",
    "    \"\"\"Computes mean and covariance matrix of the posterior distribution.\"\"\"\n",
    "    S_N_inv = alpha * np.eye(Phi.shape[1]) + beta * Phi.T.dot(Phi)\n",
    "    S_N = np.linalg.inv(S_N_inv)\n",
    "    m_N = beta * S_N.dot(Phi.T).dot(t)\n",
    "\n",
    "    if return_inverse:\n",
    "        return m_N, S_N, S_N_inv\n",
    "    else:\n",
    "        return m_N, S_N\n",
    "\n",
    "\n",
    "def posterior_predictive(Phi_test, m_N, S_N, beta):\n",
    "    \"\"\"Computes mean and variances of the posterior predictive distribution.\"\"\"\n",
    "    y = Phi_test.dot(m_N)\n",
    "    # Only compute variances (diagonal elements of covariance matrix)\n",
    "    y_var = 1 / beta + np.sum(Phi_test.dot(S_N) * Phi_test, axis=1)\n",
    "    \n",
    "    return y, y_var\n",
    "\n",
    "def expand(x, bf, bf_args=None):\n",
    "    if bf_args is None:\n",
    "        return np.concatenate([np.ones(x.shape), bf(x)], axis=1)\n",
    "    else:\n",
    "        return np.concatenate([np.ones(x.shape)] + [bf(x, bf_arg) for bf_arg in bf_args], axis=1)\n",
    "\n",
    "def identity_basis_function(x):\n",
    "    return x"
   ]
  },
  {
   "cell_type": "code",
   "execution_count": 6,
   "metadata": {},
   "outputs": [],
   "source": [
    "def get_nll_bayes(x_train, y_train,x_test, y_test):\n",
    "    beta =  1.0 / sigma**2\n",
    "    alpha = 1.0 #Prior\n",
    "\n",
    "    # Mean and covariance matrix of posterior\n",
    "    Phi = expand(x_train, identity_basis_function) #Designmatrix\n",
    "    m, S = posterior(Phi, y_train, alpha, beta)\n",
    "    Phi_test = expand(x_test, identity_basis_function)\n",
    "    # Mean and variances of posterior predictive \n",
    "    yt, yt_var = posterior_predictive(Phi_test, m, S, beta)\n",
    "    nll = 0\n",
    "    for i in range(N_test):\n",
    "        n = tfd.Normal(loc=yt[i], scale=np.sqrt(yt_var[i])) #TODO make for all N_train at once\n",
    "        nll += n.log_prob(y_test[i])\n",
    "    return -nll,m[1],m[0]\n"
   ]
  },
  {
   "cell_type": "code",
   "execution_count": 7,
   "metadata": {},
   "outputs": [
    {
     "name": "stdout",
     "output_type": "stream",
     "text": [
      "Coefficients a_ml:  [2.54714062] Coefficients b_ml [0.53985247]  nll (per data point) 2.4814315448019544\n",
      "Coefficients a_bayes:  2.5171243658426117 Coefficients b_ml [0.49328651]  nll (per data point) tf.Tensor([2.48321624], shape=(1,), dtype=float64)\n"
     ]
    }
   ],
   "source": [
    "N_train = 100 #Large number Bayes should be similar to MaxLike\n",
    "x_train, y_train, x_test, y_test = get_data()\n",
    "\n",
    "nll,a_ml,b_ml = get_nll_lin(x_train, y_train, x_test, y_test)\n",
    "print('Coefficients a_ml: ', a_ml[0], 'Coefficients b_ml', b_ml, ' nll (per data point)', nll/N_test)\n",
    "\n",
    "nll,a_ml,b_ml = get_nll_bayes(x_train, y_train, x_test, y_test)\n",
    "print('Coefficients a_bayes: ', a_ml[0], 'Coefficients b_ml', b_ml, ' nll (per data point)', nll/N_test)"
   ]
  },
  {
   "cell_type": "code",
   "execution_count": 8,
   "metadata": {},
   "outputs": [
    {
     "name": "stdout",
     "output_type": "stream",
     "text": [
      "Coefficients a_ml:  [3.31185201] Coefficients b_ml [-0.48170139]  nll (per data point) 2.731037956960999\n",
      "Coefficients a_bayes:  1.8095932661150993 Coefficients b_ml [-0.34235386]  nll (per data point) tf.Tensor([2.99381802], shape=(1,), dtype=float64)\n"
     ]
    }
   ],
   "source": [
    "N_train = 4 #Small Bayes\n",
    "x_train, y_train, x_test, y_test = get_data()\n",
    "\n",
    "nll,a_ml,b_ml = get_nll_lin(x_train, y_train, x_test, y_test)\n",
    "print('Coefficients a_ml: ', a_ml[0], 'Coefficients b_ml', b_ml, ' nll (per data point)', nll/N_test)\n",
    "\n",
    "nll,a_ml,b_ml = get_nll_bayes(x_train, y_train, x_test, y_test)\n",
    "print('Coefficients a_bayes: ', a_ml[0], 'Coefficients b_ml', b_ml, ' nll (per data point)', nll/N_test)"
   ]
  },
  {
   "cell_type": "code",
   "execution_count": 9,
   "metadata": {},
   "outputs": [],
   "source": [
    "N_train = 4\n",
    "\n",
    "runs = 100\n",
    "nll_bayes = np.zeros(runs)\n",
    "nll_max_like = np.zeros(runs)\n",
    "for i in range(runs):\n",
    "    x_train, y_train, x_test, y_test = get_data()\n",
    "    m,_,_= get_nll_lin(x_train, y_train, x_test, y_test)\n",
    "    nll_max_like[i] = m\n",
    "    b ,_,_ = get_nll_bayes(x_train, y_train, x_test, y_test)\n",
    "    nll_bayes[i] = b"
   ]
  },
  {
   "cell_type": "code",
   "execution_count": 10,
   "metadata": {},
   "outputs": [
    {
     "name": "stdout",
     "output_type": "stream",
     "text": [
      "Means  277.52757920461846 369.22127207394334\n"
     ]
    },
    {
     "data": {
      "text/plain": [
       "(269.0087899282315, 273.9339284936441)"
      ]
     },
     "execution_count": 10,
     "metadata": {},
     "output_type": "execute_result"
    },
    {
     "data": {
      "image/png": "[encoded data removed]",
      "text/plain": [
       "<Figure size 1152x432 with 2 Axes>"
      ]
     },
     "metadata": {
      "needs_background": "light"
     },
     "output_type": "display_data"
    }
   ],
   "source": [
    "plt.figure(figsize=(16,6))\n",
    "plt.subplot(1,2,1)\n",
    "plt.hist(nll_bayes,30)\n",
    "plt.title('Bayes')\n",
    "plt.subplot(1,2,2)\n",
    "plt.hist(nll_max_like,30)\n",
    "plt.title('MaxLike')\n",
    "print('Means ',np.mean(nll_bayes),np.mean(nll_max_like))\n",
    "np.median(nll_bayes), np.median(nll_max_like)"
   ]
  }
 ],
 "metadata": {
  "kernelspec": {
   "display_name": "Python 3",
   "language": "python",
   "name": "python3"
  },
  "language_info": {
   "codemirror_mode": {
    "name": "ipython",
    "version": 3
   },
   "file_extension": ".py",
   "mimetype": "text/x-python",
   "name": "python",
   "nbconvert_exporter": "python",
   "pygments_lexer": "ipython3",
   "version": "3.6.8"
  }
 },
 "nbformat": 4,
 "nbformat_minor": 2
}
