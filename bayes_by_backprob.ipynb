{
  "cells": [
    {
      "cell_type": "markdown",
      "source": "### Linear Regression the Bayesian Way\n* The Bayes by Backprop approach",
      "metadata": {
        "pycharm": {
          "metadata": false
        }
      }
    },
    {
      "cell_type": "code",
      "execution_count": 1,
      "outputs": [],
      "source": "# Checking if running in colab and if installing the requited versions\n# Trick from: https://stackoverflow.com/questions/53581278/test-if-notebook-is-running-on-google-colab \ntry:\n  import google.colab\n  IN_COLAB \u003d True\n  !pip install tensorflow\u003d\u003d2.0.0-alpha0\n  !pip install tfp-nightly\nexcept:\n  IN_COLAB \u003d False",
      "metadata": {
        "pycharm": {
          "metadata": false,
          "name": "#%%\n",
          "is_executing": false
        }
      }
    },
    {
      "cell_type": "code",
      "execution_count": 2,
      "outputs": [
        {
          "name": "stdout",
          "text": [
            "TFB Version 0.7.0-dev20190426\nTF  Version 2.0.0-alpha0\n"
          ],
          "output_type": "stream"
        }
      ],
      "source": "import matplotlib.pyplot as plt\nimport numpy as np\nimport seaborn as sns\nimport tensorflow as tf\nimport tensorflow_probability as tfp\n\nsns.reset_defaults()\n#sns.set_style(\u0027whitegrid\u0027)\nsns.set_context(context\u003d\u0027talk\u0027,font_scale\u003d0.7)\n%matplotlib inline\ntfd \u003d tfp.distributions\nprint(\"TFB Version\", tfp.__version__)\nprint(\"TF  Version\",tf.__version__)",
      "metadata": {
        "pycharm": {
          "metadata": false,
          "name": "#%%\n",
          "is_executing": false
        }
      }
    },
    {
      "cell_type": "markdown",
      "source": "Creation of some data",
      "metadata": {
        "pycharm": {
          "metadata": false
        }
      }
    },
    {
      "cell_type": "code",
      "execution_count": 33,
      "outputs": [
        {
          "data": {
            "text/plain": "\u003cFigure size 432x288 with 1 Axes\u003e",
            "image/png": "[encoded data removed]"
          },
          "metadata": {
            "needs_background": "light"
          },
          "output_type": "display_data"
        }
      ],
      "source": "num \u003d 50\nnp.random.seed(42)\n#x \u003d np.concatenate((np.linspace(-10,-1,num), np.linspace(1,10,num))).reshape(2*num,1)\nnp.random.seed(42)\nx \u003d np.random.normal(0,1,(num,1))\ny \u003d 1 * x[:,0] - 1 + np.random.normal(0,1,num) \nplt.scatter(x,y, marker\u003d\u0027.\u0027)\nx.shape, y.shape, y.dtype\nytensor \u003d y.reshape([len(y),1])",
      "metadata": {
        "pycharm": {
          "metadata": false,
          "name": "#%%\n",
          "is_executing": false
        }
      }
    },
    {
      "cell_type": "markdown",
      "source": "### Fitting a linear model (Max Likelihood)",
      "metadata": {
        "pycharm": {
          "metadata": false
        }
      }
    },
    {
      "cell_type": "code",
      "execution_count": 34,
      "outputs": [
        {
          "name": "stdout",
          "text": [
            "Coefficients: \n [1.10307565]\nCoefficients: \n -0.9589782612132034\n"
          ],
          "output_type": "stream"
        }
      ],
      "source": "from sklearn import linear_model\nregr \u003d linear_model.LinearRegression(fit_intercept\u003dTrue)\nregr.fit(x,y)\n# The coefficients\nprint(\u0027Coefficients: \\n\u0027, regr.coef_)\nprint(\u0027Coefficients: \\n\u0027, regr.intercept_)",
      "metadata": {
        "pycharm": {
          "metadata": false,
          "name": "#%%\n",
          "is_executing": false
        }
      }
    },
    {
      "cell_type": "markdown",
      "source": "### Variatioal inference by hand\n\nThe Variational Inference involves the calculation of the KL Divergence between\n\n$$\nKL(p(q|\\theta) || P(w) \n$$\n\nFor Gaussians we can calculate this as (see Kingma Welling 2013 VAE paper in the appendix)\n\n$$\n    KL(q(\\mu_1|\\sigma_1) || N(0,1)) \u003d -\\frac{1}{2} \\left{ log(\\sigma^2) - \\mu^2 - \\sigma^2 \\right}\n$$\n",
      "metadata": {
        "pycharm": {
          "metadata": false
        }
      }
    },
    {
      "cell_type": "code",
      "execution_count": 35,
      "outputs": [
        {
          "name": "stdout",
          "text": [
            "tf.Tensor(1.3068528, shape\u003d(), dtype\u003dfloat32)\n"
          ],
          "output_type": "stream"
        },
        {
          "data": {
            "text/plain": "1.3068528194400546"
          },
          "metadata": {},
          "output_type": "execute_result",
          "execution_count": 35
        }
      ],
      "source": "mu \u003d 1.\ns  \u003d 2.\nprint(tfd.Normal(mu, s).kl_divergence(tfd.Normal(0, 1)))\n-(1. + np.log(s**2) - mu - s**2)/2.\n",
      "metadata": {
        "pycharm": {
          "metadata": false,
          "name": "#%%\n",
          "is_executing": false
        }
      }
    },
    {
      "cell_type": "code",
      "execution_count": 36,
      "outputs": [],
      "source": "# Variational parameters\n# 0 b_u \u003d  tf.Variable(0.0) # Mean of bias / intercept term\n# 1 b_r \u003d  tf.Variable(-3.0) # Rho of bias  / intercept term\n# 2 a_u \u003d  tf.Variable(0.0) # Same for intecept\n# 3 a_r \u003d  tf.Variable(-3.0)\nw \u003d tf.Variable((0,-3.0,0,-3.0)) #We need all in one array \n\n# The noise term\ne \u003d tfd.Normal(loc\u003d0., scale\u003d1.)\n\n# The Distributions of the weights and the biases\n# a_rv \u003d tfd.Normal(w[2], tf.math.softplus(w[3]))\n# b_rv \u003d tfd.Normal(w[0], tf.math.softplus(w[1]))\n\n# The priors  we need 0,1 due to KL-Divergence\npa \u003d tfd.Normal(loc\u003d0., scale\u003d1)\npb \u003d tfd.Normal(loc\u003d0., scale\u003d1)\n\nepochs \u003d 1000\n\nloss_history \u003d np.zeros(epochs)\nloss_history_mse \u003d np.zeros(epochs)\nloss_history_kl \u003d np.zeros(epochs)\nloss_history_kl2 \u003d np.zeros(epochs)\nfor i in range(epochs):\n    with tf.GradientTape() as tape: \n        # The linear regression with the reparameterization trick\n        sa \u003d tf.math.softplus(w[3])\n        sb \u003d tf.math.softplus(w[1])\n        y_hat \u003d (w[2] + e.sample() * sa) * x + w[0] + e.sample()*sb\n        loss_mse \u003d tf.reduce_sum(tf.math.square(ytensor - y_hat))\n        #KL-Divergence with Gaussian Priors \n        loss_kl \u003d -0.5*(tf.math.log(sa*sa) - sa*sa - w[2]*w[2] + tf.math.log(sb*sb) - sb*sb - w[0]*w[0])\n        #loss_kl \u003d pa.kl_divergence(a_rv) + pb.kl_divergence(b_rv) #also to MaxLike\n        loss \u003d loss_mse + loss_kl\n        loss_history[i] \u003d loss.numpy()\n        loss_history_kl[i] \u003d loss_kl.numpy()\n        loss_history_mse[i] \u003d loss_mse.numpy()\n    grads \u003d tape.gradient(loss, w)\n    #w \u003d w - 0.0001*grads # Does not work in eager\n    w \u003d tf.Variable(w - 0.0001*grads) # Gradient Descent \n    ",
      "metadata": {
        "pycharm": {
          "metadata": false,
          "name": "#%%\n",
          "is_executing": false
        }
      }
    },
    {
      "cell_type": "code",
      "execution_count": 37,
      "outputs": [
        {
          "name": "stdout",
          "text": [
            "\u003ctf.Variable \u0027Variable:0\u0027 shape\u003d(4,) dtype\u003dfloat32, numpy\u003darray([-0.95049417, -2.9281611 ,  1.0938781 , -2.9307148 ], dtype\u003dfloat32)\u003e\n",
            "b \u003d  -0.95049417   0.05211348  a \u003d  1.0938781   0.051984023\n"
          ],
          "output_type": "stream"
        },
        {
          "data": {
            "text/plain": "\u003cFigure size 432x288 with 1 Axes\u003e",
            "image/png": "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\u003d\n"
          },
          "metadata": {
            "needs_background": "light"
          },
          "output_type": "display_data"
        }
      ],
      "source": "print(w)\nplt.plot(loss_history)\nplt.plot(loss_history_mse)\nplt.plot(loss_history_kl)\nplt.ylim(0,60)\nplt.legend((\u0027total\u0027, \u0027mse\u0027, \u0027kl\u0027, \u0027kl_1\u0027))\nplt.show()\nprint(\u0027b \u003d \u0027, w[0].numpy(), \u0027 \u0027, tf.math.softplus(w[1]).numpy(), \n      \u0027 a \u003d \u0027, w[2].numpy(), \u0027 \u0027,  tf.math.softplus(w[3]).numpy())",
      "metadata": {
        "pycharm": {
          "metadata": false,
          "name": "#%%   \n",
          "is_executing": false
        }
      }
    },
    {
      "cell_type": "code",
      "execution_count": null,
      "outputs": [],
      "source": "\n",
      "metadata": {
        "pycharm": {
          "metadata": false,
          "name": "#%%\n"
        }
      }
    }
  ],
  "metadata": {
    "language_info": {
      "codemirror_mode": {
        "name": "ipython",
        "version": 2
      },
      "file_extension": ".py",
      "mimetype": "text/x-python",
      "name": "python",
      "nbconvert_exporter": "python",
      "pygments_lexer": "ipython2",
      "version": "2.7.6"
    },
    "kernelspec": {
      "name": "pycharm-617d8ce4",
      "language": "python",
      "display_name": "PyCharm (dl_book_playground)"
    },
    "stem_cell": {
      "cell_type": "raw",
      "source": "",
      "metadata": {
        "pycharm": {
          "metadata": false
        }
      }
    }
  },
  "nbformat": 4,
  "nbformat_minor": 0
}