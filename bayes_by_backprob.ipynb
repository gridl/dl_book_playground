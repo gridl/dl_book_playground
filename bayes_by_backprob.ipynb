{
  "cells": [
    {
      "cell_type": "markdown",
      "source": "### Linear Regression the Bayesian Way\n* The Bayes by Backprop approach",
      "metadata": {
        "pycharm": {
          "metadata": false
        }
      }
    },
    {
      "cell_type": "code",
      "execution_count": 1,
      "outputs": [],
      "source": "# Checking if running in colab and if installing the requited versions\n# Trick from: https://stackoverflow.com/questions/53581278/test-if-notebook-is-running-on-google-colab \ntry:\n  import google.colab\n  IN_COLAB \u003d True\n  !pip install tensorflow\u003d\u003d2.0.0-alpha0\n  !pip install tfp-nightly\nexcept:\n  IN_COLAB \u003d False",
      "metadata": {
        "pycharm": {
          "metadata": false,
          "name": "#%%\n",
          "is_executing": false
        }
      }
    },
    {
      "cell_type": "code",
      "execution_count": 2,
      "outputs": [
        {
          "name": "stdout",
          "text": [
            "TFB Version 0.7.0-dev20190426\nTF  Version 2.0.0-alpha0\n"
          ],
          "output_type": "stream"
        }
      ],
      "source": "import matplotlib.pyplot as plt\nimport numpy as np\nimport seaborn as sns\nimport tensorflow as tf\nimport tensorflow_probability as tfp\n\nsns.reset_defaults()\n#sns.set_style(\u0027whitegrid\u0027)\nsns.set_context(context\u003d\u0027talk\u0027,font_scale\u003d0.7)\n%matplotlib inline\ntfd \u003d tfp.distributions\nprint(\"TFB Version\", tfp.__version__)\nprint(\"TF  Version\",tf.__version__)",
      "metadata": {
        "pycharm": {
          "metadata": false,
          "name": "#%%\n",
          "is_executing": false
        }
      }
    },
    {
      "cell_type": "markdown",
      "source": "Creation of some data",
      "metadata": {
        "pycharm": {
          "metadata": false
        }
      }
    },
    {
      "cell_type": "code",
      "execution_count": 3,
      "outputs": [
        {
          "data": {
            "text/plain": "\u003cFigure size 432x288 with 1 Axes\u003e",
            "image/png": "[encoded data removed]"
          },
          "metadata": {
            "needs_background": "light"
          },
          "output_type": "display_data"
        }
      ],
      "source": "num \u003d 50\nnp.random.seed(42)\n#x \u003d np.concatenate((np.linspace(-10,-1,num), np.linspace(1,10,num))).reshape(2*num,1)\nnp.random.seed(42)\nx \u003d np.random.normal(0,1,(num,1))\ny \u003d 1 * x[:,0] - 1 + np.random.normal(0,1,num) \nplt.scatter(x,y, marker\u003d\u0027.\u0027)\nx.shape, y.shape, y.dtype\nytensor \u003d y.reshape([len(y),1])",
      "metadata": {
        "pycharm": {
          "metadata": false,
          "name": "#%%\n",
          "is_executing": false
        }
      }
    },
    {
      "cell_type": "markdown",
      "source": "### Fitting a linear model (Max Likelihood)",
      "metadata": {
        "pycharm": {
          "metadata": false
        }
      }
    },
    {
      "cell_type": "code",
      "execution_count": 4,
      "outputs": [
        {
          "name": "stdout",
          "text": [
            "Coefficients: \n [1.10307565]\nCoefficients: \n -0.9589782612132034\n"
          ],
          "output_type": "stream"
        }
      ],
      "source": "from sklearn import linear_model\nregr \u003d linear_model.LinearRegression(fit_intercept\u003dTrue)\nregr.fit(x,y)\n# The coefficients\nprint(\u0027Coefficients: \\n\u0027, regr.coef_)\nprint(\u0027Coefficients: \\n\u0027, regr.intercept_)",
      "metadata": {
        "pycharm": {
          "metadata": false,
          "name": "#%%\n",
          "is_executing": false
        }
      }
    },
    {
      "cell_type": "markdown",
      "source": "### Variatioal inference by hand",
      "metadata": {
        "pycharm": {
          "metadata": false
        }
      }
    },
    {
      "cell_type": "code",
      "execution_count": 13,
      "outputs": [],
      "source": "# Variational parameters\n# 0 b_u \u003d  tf.Variable(0.0) # Mean of bias / intercept term\n# 1 b_r \u003d  tf.Variable(-3.0) # Rho of bias  / intercept term\n# 2 a_u \u003d  tf.Variable(0.0) # Same for intecept\n# 3 a_r \u003d  tf.Variable(-3.0)\nw \u003d tf.Variable((0,-3.0,0,-3.0)) #We need all in one array \n\n# The noise term\ne \u003d tfd.Normal(loc\u003d0., scale\u003d1.)\n\n# The Distributions of the weights and the biases\na_rv \u003d tfd.Normal(w[2], tf.math.softplus(w[3]))\nb_rv \u003d tfd.Normal(w[0], tf.math.softplus(w[1]))\n\n# The priors\npa \u003d tfd.Normal(loc\u003d0., scale\u003d1.)\npb \u003d tfd.Normal(loc\u003d0., scale\u003d1.)\n\nepochs \u003d 400\nloss_history \u003d np.zeros(epochs)\nfor i in range(epochs):\n    with tf.GradientTape() as tape: \n        # The linear regression with the reparameterization trick\n        y_hat \u003d (w[2] + e.sample() * tf.math.softplus(w[3])) * x + w[0] + e.sample()*tf.math.softplus(w[1])\n        loss_mse \u003d tf.reduce_sum(tf.math.square(ytensor - y_hat))\n        loss_kl \u003d a_rv.kl_divergence(pa) + b_rv.kl_divergence(pb) \n        #loss_kl \u003d pa.kl_divergence(a_rv) + pb.kl_divergence(b_rv) #also to MaxLike\n        loss \u003d loss_mse + loss_kl\n        loss_history[i] \u003d loss\n    grads \u003d tape.gradient(loss, w)\n    #w \u003d w - 0.0001*grads # Does not work in eager\n    w \u003d tf.Variable(w - 0.0001*grads) # Gradient Descent \n    #print(w)\n    ",
      "metadata": {
        "pycharm": {
          "metadata": false,
          "name": "#%%\n",
          "is_executing": false
        }
      }
    },
    {
      "cell_type": "code",
      "execution_count": 15,
      "outputs": [
        {
          "name": "stdout",
          "text": [
            "\u003ctf.Variable \u0027Variable:0\u0027 shape\u003d(4,) dtype\u003dfloat32, numpy\u003darray([-0.95908344, -3.0083442 ,  1.085154  , -3.0069604 ], dtype\u003dfloat32)\u003e\n",
            "b \u003d  -0.95908344   0.048193213  a \u003d  1.085154   0.048258305\n"
          ],
          "output_type": "stream"
        },
        {
          "data": {
            "text/plain": "\u003cFigure size 432x288 with 1 Axes\u003e",
            "image/png": "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\u003d\u003d\n"
          },
          "metadata": {
            "needs_background": "light"
          },
          "output_type": "display_data"
        }
      ],
      "source": "print(w)\nplt.plot(loss_history)\nplt.show()\nprint(\u0027b \u003d \u0027, w[0].numpy(), \u0027 \u0027, tf.math.softplus(w[1]).numpy(), \n      \u0027 a \u003d \u0027, w[2].numpy(), \u0027 \u0027,  tf.math.softplus(w[3]).numpy())\n",
      "metadata": {
        "pycharm": {
          "metadata": false,
          "name": "#%%   \n",
          "is_executing": false
        }
      }
    }
  ],
  "metadata": {
    "language_info": {
      "codemirror_mode": {
        "name": "ipython",
        "version": 2
      },
      "file_extension": ".py",
      "mimetype": "text/x-python",
      "name": "python",
      "nbconvert_exporter": "python",
      "pygments_lexer": "ipython2",
      "version": "2.7.6"
    },
    "kernelspec": {
      "name": "pycharm-617d8ce4",
      "language": "python",
      "display_name": "PyCharm (dl_book_playground)"
    },
    "stem_cell": {
      "cell_type": "raw",
      "source": "",
      "metadata": {
        "pycharm": {
          "metadata": false
        }
      }
    }
  },
  "nbformat": 4,
  "nbformat_minor": 0
}