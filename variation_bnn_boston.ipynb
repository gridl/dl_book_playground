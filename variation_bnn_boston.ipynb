{
  "cells": [
    {
      "cell_type": "markdown",
      "metadata": {
        "pycharm": {}
      },
      "source": "## Variational Methods in TensorFlow Probability  \n\nIn this notebook, we focus on understanding the APIs for the different methods. \nWe do not evaluate the performance. \n"
    },
    {
      "cell_type": "code",
      "execution_count": 41,
      "outputs": [
        {
          "name": "stdout",
          "text": [
            "TFB Version 0.7.0-dev20190426\nTF  Version 2.0.0-alpha0\n"
          ],
          "output_type": "stream"
        }
      ],
      "source": "import matplotlib.pyplot as plt\nimport numpy as np\nimport seaborn as sns\nimport tensorflow as tf\nimport tensorflow_probability as tfp\n\nsns.reset_defaults()\n#sns.set_style(\u0027whitegrid\u0027)\nsns.set_context(context\u003d\u0027talk\u0027,font_scale\u003d0.7)\n\n%matplotlib inline\n\ntfd \u003d tfp.distributions\nprint(\"TFB Version\", tfp.__version__)\nprint(\"TF  Version\",tf.__version__)",
      "metadata": {
        "pycharm": {
          "metadata": false,
          "name": "#%%\n",
          "is_executing": false
        }
      }
    },
    {
      "cell_type": "markdown",
      "source": "Loading the Boston data",
      "metadata": {
        "pycharm": {
          "metadata": false,
          "name": "#%% md\n",
          "is_executing": false
        }
      }
    },
    {
      "cell_type": "code",
      "execution_count": 42,
      "metadata": {
        "collapsed": true,
        "pycharm": {
          "is_executing": false
        }
      },
      "outputs": [
        {
          "name": "stdout",
          "text": [
            "StandardScaler(copy\u003dTrue, with_mean\u003dTrue, with_std\u003dTrue)\n"
          ],
          "output_type": "stream"
        },
        {
          "data": {
            "text/plain": "((455, 13), (455,), (455,), (51,), -3.9071934, 9.93393)"
          },
          "metadata": {},
          "output_type": "execute_result",
          "execution_count": 42
        }
      ],
      "source": "from sklearn.datasets import load_boston\nboston \u003d load_boston()\nX \u003d boston.data\ny \u003d boston.target\nfrom sklearn.preprocessing import StandardScaler\nscaler \u003d StandardScaler()\nprint(scaler.fit(X))\nX \u003d scaler.transform(X)\nX \u003d np.asarray(X, np.float32)\nfrom sklearn.model_selection import train_test_split\nX_train, X_test, y_train, y_test \u003d train_test_split(X, y, test_size\u003d0.1, random_state\u003d42)\nX \u003d X_train\ny \u003d y_train\nX.shape, y.shape, y_train.shape, y_test.shape, X.min(), X.max()"
    },
    {
      "cell_type": "markdown",
      "source": "## Different approches",
      "metadata": {
        "pycharm": {
          "metadata": false,
          "name": "#%% md\n"
        }
      }
    },
    {
      "cell_type": "code",
      "execution_count": 43,
      "outputs": [],
      "source": "sgd \u003d tf.keras.optimizers.SGD(lr\u003d.01, momentum\u003d0.9, nesterov\u003dTrue)\nepochs \u003d 500\nbs \u003d 100\n",
      "metadata": {
        "pycharm": {
          "metadata": false,
          "name": "#%%\n",
          "is_executing": false
        }
      }
    },
    {
      "cell_type": "markdown",
      "source": "### No Bayesian Regularisation",
      "metadata": {
        "pycharm": {
          "metadata": false,
          "name": "#%% md\n"
        }
      }
    },
    {
      "cell_type": "code",
      "execution_count": 44,
      "outputs": [
        {
          "name": "stdout",
          "text": [
            "Loss of training set last 10 entries:  [2.01717272 2.00328738 2.00330255 2.00447599 2.01045881 1.99637964\n 2.00087338 2.01167406 2.02040887 2.00833306]\nRMSE on the test set:  3.249037\n"
          ],
          "output_type": "stream"
        }
      ],
      "source": "model \u003d tf.keras.Sequential()\nmodel.add(tf.keras.layers.Dense(10, activation \u003d \u0027tanh\u0027, input_shape\u003d(X.shape[1],)))\nmodel.add(tf.keras.layers.Dense(1,))\nmodel.compile(loss\u003d\u0027mse\u0027, optimizer\u003dsgd, metrics\u003d[\u0027mse\u0027])\nhist_no_variational \u003d model.fit(X, y, batch_size\u003dbs, epochs\u003depochs,verbose\u003dFalse)\nprint(\u0027Loss of training set last 10 entries: \u0027, np.sqrt(hist_no_variational.history[\u0027loss\u0027][-10:]))\nprint(\u0027RMSE on the test set: \u0027, np.sqrt(np.mean((model(X_test)[:,0] - y_test)**2)))",
      "metadata": {
        "pycharm": {
          "metadata": false,
          "name": "#%%\n",
          "is_executing": false
        }
      }
    },
    {
      "cell_type": "markdown",
      "source": "### Variational Layers (Dense Reparametrisation)",
      "metadata": {
        "pycharm": {
          "metadata": false,
          "name": "#%% md\n",
          "is_executing": false
        }
      }
    },
    {
      "cell_type": "code",
      "execution_count": 45,
      "outputs": [
        {
          "name": "stdout",
          "text": [
            "Loss of training set last 10 entries:  [2.45468335 2.53248191 2.46293662 2.47583806 2.45069494 2.48261253\n 2.45702365 2.48282892 2.521879   2.51532076]\nRMSE on the test set:  3.1146519944744617\nRMSE on the test set:  3.0783599764567113\nRMSE on the test set:  3.2524960686554683\nRMSE on the test set:  3.037224663589791\n"
          ],
          "output_type": "stream"
        }
      ],
      "source": "# Here we downweight the LK costs. In that case there should be no difference to the standard case\n#kernel_divergence_fn\u003dlambda q, p, _: 0.0#tfp.distributions.kl_divergence(q, p) / 510.0\nkernel_divergence_fn\u003dlambda q, p, _: tfp.distributions.kl_divergence(q, p) / (X_train.shape[0] * 1.0)\nmodel \u003d tf.keras.Sequential()\nmodel.add(tfp.layers.DenseReparameterization(10, activation \u003d \u0027tanh\u0027, kernel_divergence_fn\u003dkernel_divergence_fn,input_shape\u003d(X.shape[1],)))\nmodel.add(tfp.layers.DenseReparameterization(1,kernel_divergence_fn\u003dkernel_divergence_fn))\nmodel.compile(loss\u003d\u0027mse\u0027, optimizer\u003dsgd, metrics\u003d[\u0027mse\u0027])\nhist_scaled_DRep_variational \u003d model.fit(X, y, batch_size\u003dbs,epochs\u003depochs,verbose\u003dFalse)\nprint(\u0027Loss of training set last 10 entries: \u0027, np.sqrt(hist_scaled_DRep_variational.history[\u0027loss\u0027][-10:]))\nfor _ in range(4):\n    print(\u0027RMSE on the test set: \u0027, np.sqrt(np.mean((model.predict(X_test)[:,0] - y_test)**2)))",
      "metadata": {
        "pycharm": {
          "metadata": false,
          "name": "#%%\n",
          "is_executing": false
        }
      }
    },
    {
      "cell_type": "code",
      "execution_count": 46,
      "outputs": [
        {
          "name": "stdout",
          "text": [
            "[25.201212 34.06704  17.324883 22.633097 15.46351 ]\n[25.134434 35.165783 16.204508 22.908169 15.124758]\n"
          ],
          "output_type": "stream"
        }
      ],
      "source": "#Prediction for different runs\nprint(model.predict(X_test)[0:5,0]) #We sample from different weights\nprint(model.predict(X_test)[0:5,0])",
      "metadata": {
        "pycharm": {
          "metadata": false,
          "name": "#%%\n",
          "is_executing": false
        }
      }
    },
    {
      "cell_type": "markdown",
      "source": "### Variational Layers (Flipout)",
      "metadata": {
        "pycharm": {
          "metadata": false
        }
      }
    },
    {
      "cell_type": "code",
      "execution_count": 47,
      "outputs": [
        {
          "name": "stdout",
          "text": [
            "Loss of training set last 10 entries:  [2.30834976 2.35250243 2.343324   2.341422   2.34732543 2.29814696\n 2.33719315 2.38382258 2.39549383 2.36578912]\nRMSE on the test set:  3.23310031596255\n"
          ],
          "output_type": "stream"
        }
      ],
      "source": "### Flipout\n# Here we downweight the LK costs. In that case there should be no difference to the standard case\n#kernel_divergence_fn\u003dlambda q, p, _: 0.0#tfp.distributions.kl_divergence(q, p) / 510.0\nkernel_divergence_fn\u003dlambda q, p, _: tfp.distributions.kl_divergence(q, p) / (X_train.shape[0] * 1.0)\nmodel \u003d tf.keras.Sequential()\nmodel.add(tfp.layers.DenseFlipout(10, activation \u003d \u0027tanh\u0027, kernel_divergence_fn\u003dkernel_divergence_fn,input_shape\u003d(X.shape[1],)))\nmodel.add(tfp.layers.DenseFlipout(1,kernel_divergence_fn\u003dkernel_divergence_fn))\nmodel.compile(loss\u003d\u0027mse\u0027, optimizer\u003dsgd, metrics\u003d[\u0027mse\u0027])\nhist_scaled_flip_variational \u003d model.fit(X, y, batch_size\u003dbs,epochs\u003depochs,verbose\u003dFalse)\nprint(\u0027Loss of training set last 10 entries: \u0027, np.sqrt(hist_scaled_flip_variational.history[\u0027loss\u0027][-10:]))\nprint(\u0027RMSE on the test set: \u0027, np.sqrt(np.mean((model.predict(X_test)[:,0] - y_test)**2)))\n",
      "metadata": {
        "pycharm": {
          "metadata": false,
          "name": "#%%\n",
          "is_executing": false
        }
      }
    },
    {
      "cell_type": "markdown",
      "source": "### Variational Layers (Novel API in Dense)\nIs this the new API they will introduce, or just a hack to make a smooth presentation on the \nTF developer day?\n\nTODO work in progress",
      "metadata": {
        "pycharm": {
          "metadata": false
        }
      }
    },
    {
      "cell_type": "code",
      "execution_count": 9,
      "outputs": [],
      "source": "# In more easy code\n# def posterior_mean_field(kernel_size, bias_size\u003d0, dtype\u003dNone):\n#   n \u003d kernel_size + bias_size #Number of weights\n#   c \u003d np.log(np.expm1(1.)) #Magic number for offsetting in softpuls\n#   \n#   model \u003d tf.keras.Sequential()\n#   # Creating 2n variables as a starting point\n#   variables \u003d tfp.layers.VariableLayer(2 * n, dtype\u003ddtype, name\u003d\u0027post_weights\u0027)\n#   model.add(variables)\n#   model.add(tfp.layers.DistributionLambda(\n#       lambda t: tfd.Independent(tfd.Normal(\n#           loc\u003dt[..., :n],scale\u003d1e-5 + tf.nn.softplus(c + t[..., n:])),\n#                                 reinterpreted_batch_ndims\u003d1))\n#       )\n#   return (model)\n# \n# \n# def prior_trainable(kernel_size, bias_size\u003d0, dtype\u003dNone):\n#   n \u003d kernel_size + bias_size\n# \n#   model \u003d tf.keras.Sequential()\n#   # Creating n variables as a starting point (we only learn mu)\n#   variables \u003d tfp.layers.VariableLayer(n, dtype\u003ddtype)\n#   model.add(variables)\n#   model.add(tfp.layers.DistributionLambda(lambda t: tfd.Independent(\n#            tfd.Normal(loc\u003dt, scale\u003d1),\n#            reinterpreted_batch_ndims\u003d1)))\n#   return (model)\n# \n# \n# model \u003d tf.keras.Sequential()\n# model.add(tfp.layers.DenseVariational(10,\n#                                       make_posterior_fn\u003dposterior_mean_field,\n#                                       make_prior_fn\u003dprior_trainable,\n#                                       activation \u003d \u0027tanh\u0027, input_shape\u003d(X.shape[1],)))\n# model.add(tfp.layers.DenseVariational(1,\n#                                       make_posterior_fn\u003dposterior_mean_field,\n#                                       make_prior_fn\u003dprior_trainable,\n#                                       activation \u003d \u0027tanh\u0027, input_shape\u003d(X.shape[1],)))\n# model.compile(loss\u003d\u0027mse\u0027, optimizer\u003dsgd, metrics\u003d[\u0027mse\u0027], epochs\u003depochs, batch_size\u003dbs)\n# hist_DenseVariational\u003d model.fit(X, y, batch_size\u003dbs,epochs\u003depochs,verbose\u003dFalse)\n",
      "metadata": {
        "pycharm": {
          "metadata": false,
          "name": "#%%\n",
          "is_executing": false
        }
      }
    },
    {
      "cell_type": "markdown",
      "source": "### Finishing with a TFP layer",
      "metadata": {
        "pycharm": {
          "metadata": false,
          "name": "#%% md\n"
        }
      }
    },
    {
      "cell_type": "code",
      "execution_count": 48,
      "outputs": [
        {
          "name": "stdout",
          "text": [
            "Loss of training set last 10 entries:  [1.99331163 2.00379632 2.01588275 1.98332039 1.9858013  1.98259823\n 1.99232096 2.00058253 2.0090468  1.98341893]\n"
          ],
          "output_type": "stream"
        }
      ],
      "source": "# Distribution \n## Definition of the custom parametrized distribution\ndef my_gauss(mu):\n  return tfd.Normal(loc\u003dmu, scale\u003d1)\n\nkernel_divergence_fn\u003dlambda q, p, _: tfp.distributions.kl_divergence(q, p) / (X_train.shape[0] * 1.0)\n\ninputs \u003d tf.keras.layers.Input(shape\u003d(X.shape[1],))\nh \u003d tfp.layers.DenseFlipout(10,  activation \u003d \u0027tanh\u0027, kernel_divergence_fn\u003dkernel_divergence_fn)(inputs)\nout \u003d tfp.layers.DenseFlipout(1, kernel_divergence_fn\u003dkernel_divergence_fn)(h)\np_y \u003d tfp.layers.DistributionLambda(my_gauss)(out)\nmodel \u003d tf.keras.models.Model(inputs\u003dinputs, outputs\u003dp_y)\n\n# Do inference.\ndef negloglik(y_true, p_y):\n  return -p_y.log_prob(y_true)\n\nmodel.compile(loss\u003dnegloglik, optimizer\u003dsgd)\nhist_variational_scaled_fo_lasttfp \u003d model.fit(X, y, batch_size\u003dbs,epochs\u003depochs,verbose\u003dFalse)\nprint(\u0027Loss of training set last 10 entries: \u0027, np.sqrt(hist_variational_scaled_fo_lasttfp.history[\u0027loss\u0027][-10:]))\n",
      "metadata": {
        "pycharm": {
          "metadata": false,
          "name": "#%%\n",
          "is_executing": false
        }
      }
    },
    {
      "cell_type": "code",
      "execution_count": 51,
      "outputs": [
        {
          "name": "stdout",
          "text": [
            "Mean  [[24.009594]\n [32.8211  ]]\nRMSE on the test set:  2.671469794721395\nSdev  [[24.372652]\n [33.429905]]\n",
            "Model log at  [[-310.08273]\n [-622.7005 ]]\n"
          ],
          "output_type": "stream"
        }
      ],
      "source": "#model.predict(X_test) #Should give values but does not\nmodel_mean \u003d tf.keras.models.Model(inputs\u003dinputs, outputs\u003dp_y.mean())\nprint(\"Mean \", model_mean.predict(X_test)[0:2])\nprint(\u0027RMSE on the test set: \u0027, np.sqrt(np.mean((model_mean.predict(X_test)[:,0] - y_test)**2)))\n\n\nmodel_std \u003d tf.keras.models.Model(inputs\u003dinputs, outputs\u003dp_y.mean())\nprint(\"Sdev \",model_std.predict(X_test)[0:2])\n\nmodel_lp_at01 \u003d tf.keras.models.Model(inputs\u003dinputs, outputs\u003dp_y.log_prob(0.1))\nprint(\"Model log at \", model_lp_at01.predict(X_test)[0:2])",
      "metadata": {
        "pycharm": {
          "metadata": false,
          "name": "#%%\n",
          "is_executing": false
        }
      }
    },
    {
      "cell_type": "markdown",
      "source": "Comparison of the different methods",
      "metadata": {
        "pycharm": {
          "metadata": false
        }
      }
    },
    {
      "cell_type": "code",
      "execution_count": 50,
      "outputs": [
        {
          "data": {
            "text/plain": "(0, 20)"
          },
          "metadata": {},
          "output_type": "execute_result",
          "execution_count": 50
        },
        {
          "data": {
            "text/plain": "\u003cFigure size 432x288 with 1 Axes\u003e",
            "image/png": "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\u003d\n"
          },
          "metadata": {
            "needs_background": "light"
          },
          "output_type": "display_data"
        }
      ],
      "source": "plt.plot(hist_no_variational.history[\u0027loss\u0027])\nplt.plot(hist_scaled_flip_variational.history[\u0027loss\u0027])\nplt.plot(hist_scaled_DRep_variational.history[\u0027loss\u0027])\nplt.plot(hist_variational_scaled_fo_lasttfp.history[\u0027loss\u0027])\nplt.legend((\u0027Dense (no regularisation)\u0027, \u0027Flipout\u0027, \u0027Dense Reparametrization\u0027,\u0027Flipout (Last TFP)\u0027))\nplt.ylim(0,20)\n",
      "metadata": {
        "pycharm": {
          "metadata": false,
          "name": "#%%\n",
          "is_executing": false
        }
      }
    }
  ],
  "metadata": {
    "kernelspec": {
      "name": "pycharm-617d8ce4",
      "language": "python",
      "display_name": "PyCharm (dl_book_playground)"
    },
    "language_info": {
      "codemirror_mode": {
        "name": "ipython",
        "version": 2
      },
      "file_extension": ".py",
      "mimetype": "text/x-python",
      "name": "python",
      "nbconvert_exporter": "python",
      "pygments_lexer": "ipython2",
      "version": "2.7.6"
    },
    "stem_cell": {
      "cell_type": "raw",
      "metadata": {
        "pycharm": {
          "metadata": false
        }
      },
      "source": ""
    }
  },
  "nbformat": 4,
  "nbformat_minor": 1
}