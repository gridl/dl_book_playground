{
 "cells": [
  {
   "cell_type": "markdown",
   "metadata": {},
   "source": [
    "## Playing around with flows\n",
    "\n",
    "This notebook shows some first steps using flows."
   ]
  },
  {
   "cell_type": "code",
   "execution_count": 1,
   "metadata": {},
   "outputs": [
    {
     "name": "stdout",
     "output_type": "stream",
     "text": [
      "Tensorflow version:  2.0.0-rc0  running in colab?:  False\n"
     ]
    }
   ],
   "source": [
    "import tensorflow as tf\n",
    "try: #If running in colab \n",
    "    import google.colab\n",
    "    IN_COLAB = True \n",
    "except:\n",
    "    IN_COLAB = False\n",
    "if (not tf.__version__.startswith('2')): #Checking if tf 2.0 is installed\n",
    "    if IN_COLAB: #If running in colab install tf 2.0\n",
    "        !pip install tensorflow-gpu==2.0.0-rc0\n",
    "        !pip install tensorflow-probability==0.8.0-rc0\n",
    "    print('Please install tensorflow 2.0 to run this notebook')\n",
    "print('Tensorflow version: ',tf.__version__, ' running in colab?: ', IN_COLAB)"
   ]
  },
  {
   "cell_type": "code",
   "execution_count": 2,
   "metadata": {},
   "outputs": [
    {
     "name": "stdout",
     "output_type": "stream",
     "text": [
      "TFP Version 0.8.0-rc0\n",
      "TF  Version 2.0.0-rc0\n"
     ]
    }
   ],
   "source": [
    "import matplotlib.pyplot as plt\n",
    "import numpy as np\n",
    "import pandas as pd\n",
    "from sklearn.model_selection import train_test_split\n",
    "import tensorflow_probability as tfp\n",
    "\n",
    "\n",
    "%matplotlib inline\n",
    "plt.style.use('default')\n",
    "\n",
    "tfd = tfp.distributions\n",
    "tfb = tfp.bijectors\n",
    "print(\"TFP Version\", tfp.__version__)\n",
    "print(\"TF  Version\",tf.__version__)\n",
    "np.random.seed(42)\n",
    "tf.random.set_seed(42)"
   ]
  },
  {
   "cell_type": "code",
   "execution_count": 3,
   "metadata": {},
   "outputs": [],
   "source": [
    "if False:\n",
    "    tfk = tf.keras\n",
    "    tfkl = tf.keras.layers\n",
    "\n",
    "    n = 2000\n",
    "    x2 = np.random.randn(n).astype(dtype=np.float32) * 2.\n",
    "    x1 = np.random.randn(n).astype(dtype=np.float32) + (x2 * x2 / 4.)\n",
    "    data = np.stack([x1, x2], axis=-1)\n",
    "    # Density estimation with MADE.\n",
    "    made = tfb.AutoregressiveNetwork(params=2, hidden_units=[10, 10])\n",
    "    distribution = tfd.TransformedDistribution(\n",
    "      distribution=tfd.Normal(loc=0., scale=1.),\n",
    "      bijector=tfb.MaskedAutoregressiveFlow(\n",
    "          lambda x: tf.unstack(made(x), num=2, axis=-1)),\n",
    "      event_shape=[2])\n",
    "    # Construct and fit model.\n",
    "    x_ = tfkl.Input(shape=(2,), dtype=tf.float32)\n",
    "    log_prob_ = distribution.log_prob(x_)\n",
    "    model = tfk.Model(x_, log_prob_)\n",
    "    model.compile(optimizer=tf.optimizers.Adam(),\n",
    "                loss=lambda _, log_prob: -log_prob)\n",
    "    batch_size = 25\n",
    "    model.fit(x=data,\n",
    "            y=np.zeros((n, 0), dtype=np.float32),\n",
    "            batch_size=batch_size,\n",
    "            epochs=100,\n",
    "            steps_per_epoch=1,  # Usually `n // batch_size`.\n",
    "            shuffle=True,\n",
    "            verbose=False)\n",
    "    # Use the fitted distribution.\n",
    "    distribution.sample((3, 1))\n",
    "    distribution.log_prob(np.ones((3, 2), dtype=np.float32))"
   ]
  },
  {
   "cell_type": "markdown",
   "metadata": {},
   "source": [
    "### Change of variables numerical\n",
    "\n",
    " "
   ]
  },
  {
   "cell_type": "code",
   "execution_count": 4,
   "metadata": {},
   "outputs": [
    {
     "data": {
      "image/png": "[encoded data removed]",
      "text/plain": [
       "<Figure size 432x288 with 1 Axes>"
      ]
     },
     "metadata": {
      "needs_background": "light"
     },
     "output_type": "display_data"
    }
   ],
   "source": [
    "N = 10000\n",
    "d = tfd.Uniform(low=0, high=2)\n",
    "zs = d.sample(N)\n",
    "x = zs**2\n",
    "\n",
    "plt.hist(x, density=True, bins=30)\n",
    "plt.ylabel('density')\n",
    "plt.show()"
   ]
  },
  {
   "cell_type": "markdown",
   "metadata": {},
   "source": [
    "### The Bijector package tfp.bijectors\n",
    "\n",
    "Let's take the square as a bijector\n",
    "\n",
    "z -- f(z)=z^2 --> x"
   ]
  },
  {
   "cell_type": "code",
   "execution_count": 5,
   "metadata": {},
   "outputs": [
    {
     "data": {
      "text/plain": [
       "<tf.Tensor: id=33, shape=(), dtype=float32, numpy=2.0>"
      ]
     },
     "execution_count": 5,
     "metadata": {},
     "output_type": "execute_result"
    }
   ],
   "source": [
    "f = tfb.Square() # This is a bijector\n",
    "f.forward(2.0) #4\n",
    "f.inverse(4.0) #2"
   ]
  },
  {
   "cell_type": "markdown",
   "metadata": {},
   "source": [
    "Let's use the uniform distribution as a base transformation "
   ]
  },
  {
   "cell_type": "code",
   "execution_count": 6,
   "metadata": {},
   "outputs": [],
   "source": [
    "base_dist = tfd.Uniform(0.0,2.0)\n",
    "mydist = tfd.TransformedDistribution(distribution=base_dist, bijector=f)"
   ]
  },
  {
   "cell_type": "code",
   "execution_count": 7,
   "metadata": {},
   "outputs": [
    {
     "data": {
      "text/plain": [
       "<tf.Tensor: id=80, shape=(), dtype=float32, numpy=0.14433756>"
      ]
     },
     "execution_count": 7,
     "metadata": {},
     "output_type": "execute_result"
    }
   ],
   "source": [
    "mydist.prob(3)"
   ]
  },
  {
   "cell_type": "code",
   "execution_count": 8,
   "metadata": {},
   "outputs": [
    {
     "data": {
      "text/plain": [
       "(0, 1)"
      ]
     },
     "execution_count": 8,
     "metadata": {},
     "output_type": "execute_result"
    },
    {
     "data": {
      "image/png": "[encoded data removed]",
      "text/plain": [
       "<Figure size 432x288 with 1 Axes>"
      ]
     },
     "metadata": {
      "needs_background": "light"
     },
     "output_type": "display_data"
    }
   ],
   "source": [
    "xs = np.linspace(0.001, 5,1000)\n",
    "ps = mydist.prob(xs)\n",
    "plt.plot(xs,ps)\n",
    "plt.xlabel('x')\n",
    "plt.ylabel('p(x)')\n",
    "plt.ylim(0,1)"
   ]
  },
  {
   "cell_type": "markdown",
   "metadata": {},
   "source": [
    "### Using several bijectors"
   ]
  },
  {
   "cell_type": "code",
   "execution_count": 9,
   "metadata": {},
   "outputs": [
    {
     "data": {
      "text/plain": [
       "<tf.Tensor: id=148, shape=(), dtype=float32, numpy=16.0>"
      ]
     },
     "execution_count": 9,
     "metadata": {},
     "output_type": "execute_result"
    }
   ],
   "source": [
    "chain = tfb.Chain([tfb.Square(), tfb.Square()], name=\"x4\")\n",
    "chain.forward(2.0)"
   ]
  },
  {
   "cell_type": "markdown",
   "metadata": {},
   "source": [
    "### Training Bijectors\n",
    "\n",
    "An extremly simple example, to go from a $N(0,1)$ Gaussian to a $N(5.0,0.2)$ Gaussian. Let's sample some training data of our traget distribution:"
   ]
  },
  {
   "cell_type": "code",
   "execution_count": 117,
   "metadata": {},
   "outputs": [
    {
     "data": {
      "text/plain": [
       "(1000, 1)"
      ]
     },
     "execution_count": 117,
     "metadata": {},
     "output_type": "execute_result"
    },
    {
     "data": {
      "image/png": "[encoded data removed]",
      "text/plain": [
       "<Figure size 432x288 with 1 Axes>"
      ]
     },
     "metadata": {
      "needs_background": "light"
     },
     "output_type": "display_data"
    }
   ],
   "source": [
    "N = 1000\n",
    "X = tfd.Normal(loc=5,scale=0.2).sample(1000)\n",
    "X = X.numpy().reshape([N,1])\n",
    "plt.hist(X,30)\n",
    "X.shape"
   ]
  },
  {
   "cell_type": "markdown",
   "metadata": {},
   "source": [
    "Building the flow using an Affine transformation. Simply shift and scale something."
   ]
  },
  {
   "cell_type": "code",
   "execution_count": 118,
   "metadata": {},
   "outputs": [],
   "source": [
    "#Making a distribution using the flow and a N(0,1)\n",
    "shift = tf.Variable(0.0)\n",
    "scale=tf.Variable(1.0)\n",
    "bijector = tfb.AffineScalar(shift=shift, scale=scale)\n",
    "dist = tfd.TransformedDistribution(distribution=tfd.Normal(loc=0,scale=1),bijector=bijector)"
   ]
  },
  {
   "cell_type": "code",
   "execution_count": 119,
   "metadata": {},
   "outputs": [
    {
     "data": {
      "text/plain": [
       "<tf.Tensor: id=11888878, shape=(), dtype=float32, numpy=13.350883>"
      ]
     },
     "execution_count": 119,
     "metadata": {},
     "output_type": "execute_result"
    }
   ],
   "source": [
    "-tf.reduce_mean(dist.log_prob(X)) #The NLL"
   ]
  },
  {
   "cell_type": "markdown",
   "metadata": {},
   "source": [
    "### Training in eager mode"
   ]
  },
  {
   "cell_type": "code",
   "execution_count": 120,
   "metadata": {},
   "outputs": [
    {
     "name": "stdout",
     "output_type": "stream",
     "text": [
      "0   13.350883 303.7178604602814  shift  0.099999934  scale  1.1\n",
      "100   1.9068459 0.5031766891479492  shift  3.977317  scale  2.443628\n",
      "200   0.16280347 0.5105490684509277  shift  4.9811068  scale  0.36111793\n",
      "300   -0.15560193 0.47665882110595703  shift  4.9820414  scale  0.20721465\n",
      "400   -0.15560779 0.4687938690185547  shift  4.982067  scale  0.20710315\n",
      "500   -0.15560779 0.47071194648742676  shift  4.9820676  scale  0.20710143\n",
      "600   -0.15560772 0.4700429439544678  shift  4.982067  scale  0.20710145\n",
      "700   -0.1556077 0.4746968746185303  shift  4.9820676  scale  0.20710145\n",
      "800   -0.15560772 0.47537899017333984  shift  4.982067  scale  0.20710145\n",
      "900   -0.1556077 0.47272419929504395  shift  4.9820676  scale  0.20710145\n"
     ]
    }
   ],
   "source": [
    "optimizer = tf.keras.optimizers.Adam(learning_rate=1e-1) #quite high lr for normalizing flows.\n",
    "\n",
    "for i in range(1000):\n",
    "    with tf.GradientTape() as tape:\n",
    "        loss = -tf.reduce_mean(dist.log_prob(X)) \n",
    "        gradients = tape.gradient(loss, dist.trainable_variables)\n",
    "    optimizer.apply_gradients(zip(gradients, dist.trainable_variables))\n",
    "    if (i % 100 == 0):\n",
    "        print(i, \" \",loss.numpy(), (time()-start), \" shift \", shift.numpy(), \" scale \", scale.numpy())\n",
    "        start = time()"
   ]
  },
  {
   "cell_type": "code",
   "execution_count": 121,
   "metadata": {},
   "outputs": [
    {
     "data": {
      "text/plain": [
       "(<tf.Variable 'Variable:0' shape=() dtype=float32, numpy=0.20710145>,\n",
       " <tf.Variable 'Variable:0' shape=() dtype=float32, numpy=4.982067>)"
      ]
     },
     "execution_count": 121,
     "metadata": {},
     "output_type": "execute_result"
    },
    {
     "data": {
      "image/png": "[encoded data removed]",
      "text/plain": [
       "<Figure size 432x288 with 1 Axes>"
      ]
     },
     "metadata": {
      "needs_background": "light"
     },
     "output_type": "display_data"
    }
   ],
   "source": [
    "XX = dist.sample(1000)\n",
    "XX = XX.numpy().reshape([N,1])\n",
    "plt.hist(XX,30)\n",
    "dist.trainable_variables"
   ]
  },
  {
   "cell_type": "markdown",
   "metadata": {},
   "source": [
    "# ====== Below is Keras Code which is not really working (yet) ===="
   ]
  },
  {
   "cell_type": "markdown",
   "metadata": {},
   "source": [
    "### Defining a trainable keras model using the "
   ]
  },
  {
   "cell_type": "code",
   "execution_count": 11,
   "metadata": {
    "scrolled": true
   },
   "outputs": [],
   "source": [
    "class Affine(tf.keras.models.Model):\n",
    "\n",
    "    def __init__(self, **kwargs): #** additional arguments for the super class\n",
    "        super().__init__(**kwargs)\n",
    "        # Defining the flow\n",
    "        bijectors=[]\n",
    "        for i in range(2): #Number of repeats\n",
    "            bijectors.append(tfb.AffineScalar(shift=tf.Variable(0.0), scale=tf.Variable(1.0)))\n",
    "            bijectors.append(LeakyReLU(tf.Variable(0.5)))\n",
    "        bijector = tfb.Chain(bijectors)\n",
    "        dist = tfd.TransformedDistribution(distribution=tfd.Normal(loc=0,scale=1),bijector=bijector)\n",
    "        self.flow = dist\n",
    "        \n",
    "    def call(self, *inputs): \n",
    "        return self.flow.bijector.forward(*inputs)\n",
    "\n",
    "    def getFlow(self, num):\n",
    "        return self.flow.sample(num)"
   ]
  },
  {
   "cell_type": "code",
   "execution_count": 12,
   "metadata": {},
   "outputs": [
    {
     "name": "stdout",
     "output_type": "stream",
     "text": [
      "Model: \"affine\"\n",
      "_________________________________________________________________\n",
      "Layer (type)                 Output Shape              Param #   \n",
      "=================================================================\n",
      "Total params: 0\n",
      "Trainable params: 0\n",
      "Non-trainable params: 0\n",
      "_________________________________________________________________\n"
     ]
    }
   ],
   "source": [
    "model = Affine()\n",
    "# model.summary() #Yields an error. The model needs called before it is build.\n",
    "_ = model(X) \n",
    "model.summary()"
   ]
  },
  {
   "cell_type": "markdown",
   "metadata": {},
   "source": [
    "### Defining a trainable keras model using the functional API"
   ]
  },
  {
   "cell_type": "code",
   "execution_count": 50,
   "metadata": {},
   "outputs": [],
   "source": [
    "x_ = tf.keras.Input(shape=(1,), dtype=tf.float32)\n",
    "log_prob_ = dist.log_prob(x_)\n",
    "model = tf.keras.Model(x_, log_prob_)\n",
    "#The loss is called with the arguments: y_true, y_pred (see tf.losses.Loss())\n",
    "#In our case y_pred is log(z)  \n",
    "model.compile(optimizer=tf.optimizers.Adam(), loss=lambda _, log_prob: -log_prob) \n",
    "_ = model(X) \n",
    "#model.summary() no trainable weights"
   ]
  },
  {
   "cell_type": "code",
   "execution_count": 51,
   "metadata": {},
   "outputs": [
    {
     "name": "stdout",
     "output_type": "stream",
     "text": [
      "Train on 1000 samples\n",
      "WARNING:tensorflow:The list of trainable weights is empty. Make sure that you are not setting model.trainable to False before compiling the model.\n",
      "1000/1000 [==============================] - 0s 164us/sample - loss: -25.1077\n"
     ]
    },
    {
     "data": {
      "text/plain": [
       "<tensorflow.python.keras.callbacks.History at 0x7f6036f99c18>"
      ]
     },
     "execution_count": 51,
     "metadata": {},
     "output_type": "execute_result"
    }
   ],
   "source": [
    "model.fit(x=X,\n",
    "            y=np.zeros((N, 0), dtype=np.float32),\n",
    "            batch_size=128,\n",
    "            shuffle=True,\n",
    "            verbose=True,\n",
    "            epochs=1)"
   ]
  },
  {
   "cell_type": "code",
   "execution_count": 1,
   "metadata": {},
   "outputs": [
    {
     "ename": "NameError",
     "evalue": "name 'tfb' is not defined",
     "output_type": "error",
     "traceback": [
      "\u001b[0;31m---------------------------------------------------------------------------\u001b[0m",
      "\u001b[0;31mNameError\u001b[0m                                 Traceback (most recent call last)",
      "\u001b[0;32m<ipython-input-1-8115acd3daca>\u001b[0m in \u001b[0;36m<module>\u001b[0;34m\u001b[0m\n\u001b[1;32m      1\u001b[0m \u001b[0;31m# quite easy to interpret - multiplying by alpha causes a contraction in volume.\u001b[0m\u001b[0;34m\u001b[0m\u001b[0;34m\u001b[0m\u001b[0;34m\u001b[0m\u001b[0m\n\u001b[0;32m----> 2\u001b[0;31m \u001b[0;32mclass\u001b[0m \u001b[0mLeakyReLU\u001b[0m\u001b[0;34m(\u001b[0m\u001b[0mtfb\u001b[0m\u001b[0;34m.\u001b[0m\u001b[0mBijector\u001b[0m\u001b[0;34m)\u001b[0m\u001b[0;34m:\u001b[0m\u001b[0;34m\u001b[0m\u001b[0;34m\u001b[0m\u001b[0m\n\u001b[0m\u001b[1;32m      3\u001b[0m     \u001b[0;32mdef\u001b[0m \u001b[0m__init__\u001b[0m\u001b[0;34m(\u001b[0m\u001b[0mself\u001b[0m\u001b[0;34m,\u001b[0m \u001b[0malpha\u001b[0m\u001b[0;34m=\u001b[0m\u001b[0;36m0.5\u001b[0m\u001b[0;34m,\u001b[0m \u001b[0mbeta\u001b[0m\u001b[0;34m=\u001b[0m\u001b[0;36m1.1\u001b[0m\u001b[0;34m,\u001b[0m\u001b[0mvalidate_args\u001b[0m\u001b[0;34m=\u001b[0m\u001b[0;32mFalse\u001b[0m\u001b[0;34m,\u001b[0m \u001b[0mname\u001b[0m\u001b[0;34m=\u001b[0m\u001b[0;34m\"leaky_relu\"\u001b[0m\u001b[0;34m)\u001b[0m\u001b[0;34m:\u001b[0m\u001b[0;34m\u001b[0m\u001b[0;34m\u001b[0m\u001b[0m\n\u001b[1;32m      4\u001b[0m         \u001b[0msuper\u001b[0m\u001b[0;34m(\u001b[0m\u001b[0mLeakyReLU\u001b[0m\u001b[0;34m,\u001b[0m \u001b[0mself\u001b[0m\u001b[0;34m)\u001b[0m\u001b[0;34m.\u001b[0m\u001b[0m__init__\u001b[0m\u001b[0;34m(\u001b[0m\u001b[0mforward_min_event_ndims\u001b[0m\u001b[0;34m=\u001b[0m\u001b[0;36m0\u001b[0m\u001b[0;34m)\u001b[0m\u001b[0;34m\u001b[0m\u001b[0;34m\u001b[0m\u001b[0m\n\u001b[1;32m      5\u001b[0m         \u001b[0mself\u001b[0m\u001b[0;34m.\u001b[0m\u001b[0malpha\u001b[0m \u001b[0;34m=\u001b[0m \u001b[0malpha\u001b[0m\u001b[0;34m\u001b[0m\u001b[0;34m\u001b[0m\u001b[0m\n",
      "\u001b[0;31mNameError\u001b[0m: name 'tfb' is not defined"
     ]
    }
   ],
   "source": [
    "# quite easy to interpret - multiplying by alpha causes a contraction in volume.\n",
    "class LeakyReLU(tfb.Bijector):\n",
    "    def __init__(self, alpha=0.5, beta=1.1,validate_args=False, name=\"leaky_relu\"):\n",
    "        super(LeakyReLU, self).__init__(forward_min_event_ndims=0)\n",
    "        self.alpha = alpha\n",
    "        self.beta = beta\n",
    "\n",
    "    def _forward(self, z):\n",
    "        return tf.where(tf.greater_equal(z, 0), self.beta*z, self.alpha * z)\n",
    "\n",
    "    def _inverse(self, x):\n",
    "        return tf.where(tf.greater_equal(x, 0), x/self.beta, x / self.alpha * x)\n",
    "\n",
    "    def _inverse_log_det_jacobian(self, x):\n",
    "        I = tf.ones_like(x)\n",
    "        J_inv = tf.where(tf.greater_equal(x, 0), 1.0 / self.beta * I, 1.0 / self.alpha * I)\n",
    "        # abs is actually redundant here, since this det Jacobian is > 0\n",
    "        log_abs_det_J_inv = tf.math.log(tf.abs(J_inv))\n",
    "        return tf.reduce_sum(log_abs_det_J_inv, axis=0)"
   ]
  },
  {
   "cell_type": "code",
   "execution_count": null,
   "metadata": {},
   "outputs": [],
   "source": []
  }
 ],
 "metadata": {
  "kernelspec": {
   "display_name": "Python 3",
   "language": "python",
   "name": "python3"
  },
  "language_info": {
   "codemirror_mode": {
    "name": "ipython",
    "version": 3
   },
   "file_extension": ".py",
   "mimetype": "text/x-python",
   "name": "python",
   "nbconvert_exporter": "python",
   "pygments_lexer": "ipython3",
   "version": "3.6.8"
  }
 },
 "nbformat": 4,
 "nbformat_minor": 2
}
