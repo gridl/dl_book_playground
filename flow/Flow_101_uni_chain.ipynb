{
 "cells": [
  {
   "cell_type": "markdown",
   "metadata": {},
   "source": [
    "## Playing around with flows\n",
    "\n",
    "This notebook shows some first steps using flows."
   ]
  },
  {
   "cell_type": "code",
   "execution_count": 2,
   "metadata": {},
   "outputs": [
    {
     "name": "stdout",
     "output_type": "stream",
     "text": [
      "Tensorflow version:  2.0.0-rc0  running in colab?:  False\n"
     ]
    }
   ],
   "source": [
    "import tensorflow as tf\n",
    "try: #If running in colab \n",
    "    import google.colab\n",
    "    IN_COLAB = True \n",
    "except:\n",
    "    IN_COLAB = False\n",
    "if (not tf.__version__.startswith('2')): #Checking if tf 2.0 is installed\n",
    "    if IN_COLAB: #If running in colab install tf 2.0\n",
    "        !pip install tensorflow-gpu==2.0.0-rc0\n",
    "        !pip install tensorflow-probability==0.8.0-rc0\n",
    "    print('Please install tensorflow 2.0 to run this notebook')\n",
    "print('Tensorflow version: ',tf.__version__, ' running in colab?: ', IN_COLAB)"
   ]
  },
  {
   "cell_type": "code",
   "execution_count": 3,
   "metadata": {},
   "outputs": [
    {
     "name": "stdout",
     "output_type": "stream",
     "text": [
      "TFP Version 0.8.0-rc0\n",
      "TF  Version 2.0.0-rc0\n"
     ]
    }
   ],
   "source": [
    "import matplotlib.pyplot as plt\n",
    "import numpy as np\n",
    "import pandas as pd\n",
    "from sklearn.model_selection import train_test_split\n",
    "import tensorflow_probability as tfp\n",
    "\n",
    "\n",
    "%matplotlib inline\n",
    "plt.style.use('default')\n",
    "\n",
    "tfd = tfp.distributions\n",
    "tfb = tfp.bijectors\n",
    "print(\"TFP Version\", tfp.__version__)\n",
    "print(\"TF  Version\",tf.__version__)\n",
    "np.random.seed(42)\n",
    "tf.random.set_seed(42)"
   ]
  },
  {
   "cell_type": "markdown",
   "metadata": {},
   "source": [
    "### Change of variables numerical\n",
    "\n",
    " "
   ]
  },
  {
   "cell_type": "code",
   "execution_count": 4,
   "metadata": {},
   "outputs": [
    {
     "data": {
      "image/png": "[encoded data removed]",
      "text/plain": [
       "<Figure size 432x288 with 1 Axes>"
      ]
     },
     "metadata": {
      "needs_background": "light"
     },
     "output_type": "display_data"
    }
   ],
   "source": [
    "N = 10000\n",
    "d = tfd.Uniform(low=0, high=2)\n",
    "zs = d.sample(N)\n",
    "x = zs**2\n",
    "\n",
    "plt.hist(x, density=True, bins=30)\n",
    "plt.ylabel('density')\n",
    "plt.show()"
   ]
  },
  {
   "cell_type": "markdown",
   "metadata": {},
   "source": [
    "### The Bijector package tfp.bijectors\n",
    "\n",
    "Let's take the square as a bijector\n",
    "\n",
    "z -- f(z)=z^2 --> x"
   ]
  },
  {
   "cell_type": "code",
   "execution_count": 5,
   "metadata": {},
   "outputs": [
    {
     "data": {
      "text/plain": [
       "<tf.Tensor: id=33, shape=(), dtype=float32, numpy=2.0>"
      ]
     },
     "execution_count": 5,
     "metadata": {},
     "output_type": "execute_result"
    }
   ],
   "source": [
    "f = tfb.Square() # This is a bijector\n",
    "f.forward(2.0) #4\n",
    "f.inverse(4.0) #2"
   ]
  },
  {
   "cell_type": "markdown",
   "metadata": {},
   "source": [
    "Let's use the uniform distribution as a base transformation "
   ]
  },
  {
   "cell_type": "code",
   "execution_count": 6,
   "metadata": {},
   "outputs": [],
   "source": [
    "base_dist = tfd.Uniform(0.0,2.0)\n",
    "mydist = tfd.TransformedDistribution(distribution=base_dist, bijector=f)"
   ]
  },
  {
   "cell_type": "code",
   "execution_count": 7,
   "metadata": {},
   "outputs": [
    {
     "data": {
      "text/plain": [
       "<tf.Tensor: id=80, shape=(), dtype=float32, numpy=0.14433756>"
      ]
     },
     "execution_count": 7,
     "metadata": {},
     "output_type": "execute_result"
    }
   ],
   "source": [
    "mydist.prob(3)"
   ]
  },
  {
   "cell_type": "code",
   "execution_count": 8,
   "metadata": {},
   "outputs": [
    {
     "data": {
      "text/plain": [
       "(0, 1)"
      ]
     },
     "execution_count": 8,
     "metadata": {},
     "output_type": "execute_result"
    },
    {
     "data": {
      "image/png": "[encoded data removed]",
      "text/plain": [
       "<Figure size 432x288 with 1 Axes>"
      ]
     },
     "metadata": {
      "needs_background": "light"
     },
     "output_type": "display_data"
    }
   ],
   "source": [
    "xs = np.linspace(0.001, 5,1000)\n",
    "ps = mydist.prob(xs)\n",
    "plt.plot(xs,ps)\n",
    "plt.xlabel('x')\n",
    "plt.ylabel('p(x)')\n",
    "plt.ylim(0,1)"
   ]
  },
  {
   "cell_type": "markdown",
   "metadata": {},
   "source": [
    "## Using several bijectors"
   ]
  },
  {
   "cell_type": "code",
   "execution_count": 9,
   "metadata": {},
   "outputs": [
    {
     "data": {
      "text/plain": [
       "<tf.Tensor: id=148, shape=(), dtype=float32, numpy=16.0>"
      ]
     },
     "execution_count": 9,
     "metadata": {},
     "output_type": "execute_result"
    }
   ],
   "source": [
    "chain = tfb.Chain([tfb.Square(), tfb.Square()], name=\"x4\")\n",
    "chain.forward(2.0)"
   ]
  },
  {
   "cell_type": "markdown",
   "metadata": {},
   "source": [
    "# Training Bijectors\n",
    "\n",
    "An extremly simple example, to go from a $N(0,1)$ Gaussian to a $N(5.0,0.2)$ Gaussian. \n",
    "\n",
    "#### Training Data\n",
    "Let's sample some training data of our traget distribution:"
   ]
  },
  {
   "cell_type": "code",
   "execution_count": 49,
   "metadata": {},
   "outputs": [
    {
     "data": {
      "text/plain": [
       "(1000,)"
      ]
     },
     "execution_count": 49,
     "metadata": {},
     "output_type": "execute_result"
    },
    {
     "data": {
      "image/png": "[encoded data removed]",
      "text/plain": [
       "<Figure size 432x288 with 1 Axes>"
      ]
     },
     "metadata": {
      "needs_background": "light"
     },
     "output_type": "display_data"
    }
   ],
   "source": [
    "N = 1000\n",
    "X1 = tfd.Normal(loc=-.5,scale=0.5).sample(N//2)\n",
    "X2 = tfd.Normal(loc=.7,scale=0.1).sample(N//2)\n",
    "X1 = X1.numpy().reshape([N//2,1])\n",
    "X2 = X2.numpy().reshape([N//2,1])\n",
    "X = np.append(X1,X2)\n",
    "X = np.abs(X) + 0.1\n",
    "plt.hist(X,30)\n",
    "X.shape"
   ]
  },
  {
   "cell_type": "markdown",
   "metadata": {},
   "source": [
    "#### The simplest flow \n",
    "\n",
    "\n",
    "Building the flow using an Affine transformation in 1-D. Simply shift ($b$) and scale ($a$).\n",
    "\n",
    "$$\n",
    "    x = a \\cdot z + b\n",
    "$$\n"
   ]
  },
  {
   "cell_type": "code",
   "execution_count": 83,
   "metadata": {},
   "outputs": [
    {
     "data": {
      "text/plain": [
       "((<tf.Variable 'sc_0:0' shape=() dtype=float32, numpy=1.0>,\n",
       "  <tf.Variable 's_0:0' shape=() dtype=float32, numpy=0.0>,\n",
       "  <tf.Variable 'sc_1:0' shape=() dtype=float32, numpy=1.0>,\n",
       "  <tf.Variable 's_1:0' shape=() dtype=float32, numpy=0.1>),\n",
       " <tf.Tensor: id=1424103, shape=(), dtype=float32, numpy=nan>)"
      ]
     },
     "execution_count": 83,
     "metadata": {},
     "output_type": "execute_result"
    }
   ],
   "source": [
    "#Making a distribution using the flow and a N(0,1)\n",
    "bijectors = []\n",
    "for i in range(2):\n",
    "    bijectors.append(tfb.AffineScalar(shift=tf.Variable(0.0+i/10.0,name=\"s_{}\".format(i)), scale=tf.Variable(1.0,name=\"sc_{}\".format(i))))\n",
    "    if i < 2:\n",
    "        bijectors.append(tfb.Softplus())\n",
    "    \n",
    "bijector = tfb.Chain(bijectors, name=\"x4\")\n",
    "\n",
    "\n",
    "dist = tfd.TransformedDistribution(distribution=tfd.Normal(loc=0,scale=1),bijector=bijector)\n",
    "dist.trainable_variables,-tf.reduce_mean(dist.log_prob(X))"
   ]
  },
  {
   "cell_type": "code",
   "execution_count": 95,
   "metadata": {},
   "outputs": [
    {
     "data": {
      "text/plain": [
       "1618.1779919126539"
      ]
     },
     "execution_count": 95,
     "metadata": {},
     "output_type": "execute_result"
    }
   ],
   "source": [
    "np.exp(np.exp(2))"
   ]
  },
  {
   "cell_type": "code",
   "execution_count": 104,
   "metadata": {},
   "outputs": [
    {
     "data": {
      "text/plain": [
       "((<tf.Variable 'Variable:0' shape=() dtype=float32, numpy=0.1>,\n",
       "  <tf.Variable 'Variable:0' shape=() dtype=float32, numpy=0.0>,\n",
       "  <tf.Variable 'Variable:0' shape=() dtype=float32, numpy=0.1>,\n",
       "  <tf.Variable 'Variable:0' shape=() dtype=float32, numpy=0.0>,\n",
       "  <tf.Variable 'Variable:0' shape=() dtype=float32, numpy=0.1>,\n",
       "  <tf.Variable 'Variable:0' shape=() dtype=float32, numpy=0.0>),\n",
       " <tf.Tensor: id=1926777, shape=(), dtype=float32, numpy=420.85828>)"
      ]
     },
     "execution_count": 104,
     "metadata": {},
     "output_type": "execute_result"
    }
   ],
   "source": [
    "b1 = tfb.AffineScalar(shift=tf.Variable(0.0), scale=tf.Variable(0.1))\n",
    "b2 = tfb.AffineScalar(shift=tf.Variable(0.0), scale=tf.Variable(0.1))\n",
    "b3 = tfb.AffineScalar(shift=tf.Variable(0.0), scale=tf.Variable(0.1))\n",
    "b4 = tfb.AffineScalar(shift=tf.Variable(0.0), scale=tf.Variable(0.1))\n",
    "b5 = tfb.AffineScalar(shift=tf.Variable(0.0), scale=tf.Variable(1.0))\n",
    "b6 = tfb.AffineScalar(shift=tf.Variable(0.0), scale=tf.Variable(1.0))\n",
    "\n",
    "chain = tfb.Chain([b1, tfb.Exp(), b2,tfb.Exp(), b3], name=\"x4\")\n",
    "dist = tfd.TransformedDistribution(distribution=tfd.Normal(loc=0,scale=1),bijector=chain)\n",
    "dist.trainable_variables,-tf.reduce_mean(dist.log_prob(X))"
   ]
  },
  {
   "cell_type": "code",
   "execution_count": null,
   "metadata": {},
   "outputs": [],
   "source": []
  },
  {
   "cell_type": "markdown",
   "metadata": {},
   "source": [
    "### Training in eager mode\n",
    "\n",
    "What shall be the result? \n",
    "\n",
    "$z \\sim N(0,1) \\overbrace{\\longrightarrow}^{f(z) = a\\cdot z + b} x \\sim N(5,0.2)$. \n",
    "\n",
    "Hence, $b = 5$ and $a = 0.2$"
   ]
  },
  {
   "cell_type": "code",
   "execution_count": 107,
   "metadata": {},
   "outputs": [
    {
     "name": "stdout",
     "output_type": "stream",
     "text": [
      "0 NLL  89.11435  shift (a)  -1.2008388  scale (b)  1.4753207\n",
      "100 NLL  72.35605  shift (a)  -1.2008388  scale (b)  1.4753207\n",
      "200 NLL  60.39625  shift (a)  -1.2008388  scale (b)  1.4753207\n",
      "300 NLL  51.47332  shift (a)  -1.2008388  scale (b)  1.4753207\n",
      "400 NLL  44.56962  shift (a)  -1.2008388  scale (b)  1.4753207\n",
      "500 NLL  39.075794  shift (a)  -1.2008388  scale (b)  1.4753207\n",
      "600 NLL  34.604908  shift (a)  -1.2008388  scale (b)  1.4753207\n",
      "700 NLL  30.8995  shift (a)  -1.2008388  scale (b)  1.4753207\n",
      "800 NLL  27.781591  shift (a)  -1.2008388  scale (b)  1.4753207\n",
      "900 NLL  25.124386  shift (a)  -1.2008388  scale (b)  1.4753207\n"
     ]
    }
   ],
   "source": [
    "optimizer = tf.keras.optimizers.Adam(learning_rate=1e-4) #quite high lr for normalizing flows.\n",
    "\n",
    "for i in range(1000):\n",
    "    with tf.GradientTape() as tape:\n",
    "        loss = -tf.reduce_mean(dist.log_prob(X)) \n",
    "        gradients = tape.gradient(loss, dist.trainable_variables)\n",
    "    optimizer.apply_gradients(zip(gradients, dist.trainable_variables))\n",
    "    if (i % 100 == 0):\n",
    "        print(i, \"NLL \",loss.numpy(), \" shift (a) \", shift1.numpy(), \" scale (b) \", scale1.numpy())"
   ]
  },
  {
   "cell_type": "code",
   "execution_count": 108,
   "metadata": {},
   "outputs": [
    {
     "data": {
      "text/plain": [
       "(<tf.Variable 'Variable:0' shape=() dtype=float32, numpy=0.2088291>,\n",
       " <tf.Variable 'Variable:0' shape=() dtype=float32, numpy=-0.13768265>,\n",
       " <tf.Variable 'Variable:0' shape=() dtype=float32, numpy=0.23332375>,\n",
       " <tf.Variable 'Variable:0' shape=() dtype=float32, numpy=0.123467036>,\n",
       " <tf.Variable 'Variable:0' shape=() dtype=float32, numpy=0.22294506>,\n",
       " <tf.Variable 'Variable:0' shape=() dtype=float32, numpy=0.1503837>)"
      ]
     },
     "execution_count": 108,
     "metadata": {},
     "output_type": "execute_result"
    },
    {
     "data": {
      "image/png": "[encoded data removed]",
      "text/plain": [
       "<Figure size 432x288 with 1 Axes>"
      ]
     },
     "metadata": {
      "needs_background": "light"
     },
     "output_type": "display_data"
    }
   ],
   "source": [
    "XX = dist.sample(10000)\n",
    "XX = XX.numpy().reshape([10000,1])\n",
    "plt.hist(XX,30)\n",
    "dist.trainable_variables"
   ]
  },
  {
   "cell_type": "code",
   "execution_count": 55,
   "metadata": {},
   "outputs": [
    {
     "ename": "NotImplementedError",
     "evalue": "mean is not implemented for non-affine bijectors",
     "output_type": "error",
     "traceback": [
      "\u001b[0;31m---------------------------------------------------------------------------\u001b[0m",
      "\u001b[0;31mNotImplementedError\u001b[0m                       Traceback (most recent call last)",
      "\u001b[0;32m<ipython-input-55-bd392b047a28>\u001b[0m in \u001b[0;36m<module>\u001b[0;34m\u001b[0m\n\u001b[0;32m----> 1\u001b[0;31m \u001b[0mdist\u001b[0m\u001b[0;34m.\u001b[0m\u001b[0mmean\u001b[0m\u001b[0;34m(\u001b[0m\u001b[0;34m)\u001b[0m\u001b[0;31m#dist.stddev() not implemented for transformed model\u001b[0m\u001b[0;34m\u001b[0m\u001b[0;34m\u001b[0m\u001b[0m\n\u001b[0m",
      "\u001b[0;32m/usr/local/lib/python3.6/dist-packages/tensorflow_probability/python/distributions/distribution.py\u001b[0m in \u001b[0;36mmean\u001b[0;34m(self, name, **kwargs)\u001b[0m\n\u001b[1;32m   1067\u001b[0m     \u001b[0;34m\"\"\"Mean.\"\"\"\u001b[0m\u001b[0;34m\u001b[0m\u001b[0;34m\u001b[0m\u001b[0m\n\u001b[1;32m   1068\u001b[0m     \u001b[0;32mwith\u001b[0m \u001b[0mself\u001b[0m\u001b[0;34m.\u001b[0m\u001b[0m_name_and_control_scope\u001b[0m\u001b[0;34m(\u001b[0m\u001b[0mname\u001b[0m\u001b[0;34m)\u001b[0m\u001b[0;34m:\u001b[0m\u001b[0;34m\u001b[0m\u001b[0;34m\u001b[0m\u001b[0m\n\u001b[0;32m-> 1069\u001b[0;31m       \u001b[0;32mreturn\u001b[0m \u001b[0mself\u001b[0m\u001b[0;34m.\u001b[0m\u001b[0m_mean\u001b[0m\u001b[0;34m(\u001b[0m\u001b[0;34m**\u001b[0m\u001b[0mkwargs\u001b[0m\u001b[0;34m)\u001b[0m\u001b[0;34m\u001b[0m\u001b[0;34m\u001b[0m\u001b[0m\n\u001b[0m\u001b[1;32m   1070\u001b[0m \u001b[0;34m\u001b[0m\u001b[0m\n\u001b[1;32m   1071\u001b[0m   \u001b[0;32mdef\u001b[0m \u001b[0m_quantile\u001b[0m\u001b[0;34m(\u001b[0m\u001b[0mself\u001b[0m\u001b[0;34m,\u001b[0m \u001b[0mvalue\u001b[0m\u001b[0;34m,\u001b[0m \u001b[0;34m**\u001b[0m\u001b[0mkwargs\u001b[0m\u001b[0;34m)\u001b[0m\u001b[0;34m:\u001b[0m\u001b[0;34m\u001b[0m\u001b[0;34m\u001b[0m\u001b[0m\n",
      "\u001b[0;32m/usr/local/lib/python3.6/dist-packages/tensorflow_probability/python/distributions/transformed_distribution.py\u001b[0m in \u001b[0;36m_mean\u001b[0;34m(self, **kwargs)\u001b[0m\n\u001b[1;32m    518\u001b[0m   \u001b[0;32mdef\u001b[0m \u001b[0m_mean\u001b[0m\u001b[0;34m(\u001b[0m\u001b[0mself\u001b[0m\u001b[0;34m,\u001b[0m \u001b[0;34m**\u001b[0m\u001b[0mkwargs\u001b[0m\u001b[0;34m)\u001b[0m\u001b[0;34m:\u001b[0m\u001b[0;34m\u001b[0m\u001b[0;34m\u001b[0m\u001b[0m\n\u001b[1;32m    519\u001b[0m     \u001b[0;32mif\u001b[0m \u001b[0;32mnot\u001b[0m \u001b[0mself\u001b[0m\u001b[0;34m.\u001b[0m\u001b[0mbijector\u001b[0m\u001b[0;34m.\u001b[0m\u001b[0mis_constant_jacobian\u001b[0m\u001b[0;34m:\u001b[0m\u001b[0;34m\u001b[0m\u001b[0;34m\u001b[0m\u001b[0m\n\u001b[0;32m--> 520\u001b[0;31m       raise NotImplementedError(\"mean is not implemented for non-affine \"\n\u001b[0m\u001b[1;32m    521\u001b[0m                                 \"bijectors\")\n\u001b[1;32m    522\u001b[0m \u001b[0;34m\u001b[0m\u001b[0m\n",
      "\u001b[0;31mNotImplementedError\u001b[0m: mean is not implemented for non-affine bijectors"
     ]
    }
   ],
   "source": [
    "dist.mean()#dist.stddev() not implemented for transformed model"
   ]
  },
  {
   "cell_type": "code",
   "execution_count": null,
   "metadata": {},
   "outputs": [],
   "source": []
  }
 ],
 "metadata": {
  "kernelspec": {
   "display_name": "Python 3",
   "language": "python",
   "name": "python3"
  },
  "language_info": {
   "codemirror_mode": {
    "name": "ipython",
    "version": 3
   },
   "file_extension": ".py",
   "mimetype": "text/x-python",
   "name": "python",
   "nbconvert_exporter": "python",
   "pygments_lexer": "ipython3",
   "version": "3.6.8"
  }
 },
 "nbformat": 4,
 "nbformat_minor": 2
}
