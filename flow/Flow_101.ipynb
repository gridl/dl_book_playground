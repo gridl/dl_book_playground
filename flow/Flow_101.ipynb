{
 "cells": [
  {
   "cell_type": "markdown",
   "metadata": {},
   "source": [
    "## Playing around with flows\n",
    "\n",
    "This notebook shows some first steps using flows."
   ]
  },
  {
   "cell_type": "code",
   "execution_count": 1,
   "metadata": {},
   "outputs": [
    {
     "name": "stdout",
     "output_type": "stream",
     "text": [
      "Tensorflow version:  2.0.0-rc0  running in colab?:  False\n"
     ]
    }
   ],
   "source": [
    "import tensorflow as tf\n",
    "try: #If running in colab \n",
    "    import google.colab\n",
    "    IN_COLAB = True \n",
    "except:\n",
    "    IN_COLAB = False\n",
    "if (not tf.__version__.startswith('2')): #Checking if tf 2.0 is installed\n",
    "    if IN_COLAB: #If running in colab install tf 2.0\n",
    "        !pip install tensorflow-gpu==2.0.0-rc0\n",
    "        !pip install tensorflow-probability==0.8.0-rc0\n",
    "    print('Please install tensorflow 2.0 to run this notebook')\n",
    "print('Tensorflow version: ',tf.__version__, ' running in colab?: ', IN_COLAB)"
   ]
  },
  {
   "cell_type": "code",
   "execution_count": 2,
   "metadata": {},
   "outputs": [
    {
     "name": "stdout",
     "output_type": "stream",
     "text": [
      "TFP Version 0.8.0-rc0\n",
      "TF  Version 2.0.0-rc0\n"
     ]
    }
   ],
   "source": [
    "import matplotlib.pyplot as plt\n",
    "import numpy as np\n",
    "import pandas as pd\n",
    "from sklearn.model_selection import train_test_split\n",
    "import tensorflow_probability as tfp\n",
    "\n",
    "\n",
    "%matplotlib inline\n",
    "plt.style.use('default')\n",
    "\n",
    "tfd = tfp.distributions\n",
    "tfb = tfp.bijectors\n",
    "print(\"TFP Version\", tfp.__version__)\n",
    "print(\"TF  Version\",tf.__version__)\n",
    "np.random.seed(42)\n",
    "tf.random.set_seed(42)"
   ]
  },
  {
   "cell_type": "code",
   "execution_count": 3,
   "metadata": {},
   "outputs": [],
   "source": [
    "if False:\n",
    "    tfk = tf.keras\n",
    "    tfkl = tf.keras.layers\n",
    "\n",
    "    n = 2000\n",
    "    x2 = np.random.randn(n).astype(dtype=np.float32) * 2.\n",
    "    x1 = np.random.randn(n).astype(dtype=np.float32) + (x2 * x2 / 4.)\n",
    "    data = np.stack([x1, x2], axis=-1)\n",
    "    # Density estimation with MADE.\n",
    "    made = tfb.AutoregressiveNetwork(params=2, hidden_units=[10, 10])\n",
    "    distribution = tfd.TransformedDistribution(\n",
    "      distribution=tfd.Normal(loc=0., scale=1.),\n",
    "      bijector=tfb.MaskedAutoregressiveFlow(\n",
    "          lambda x: tf.unstack(made(x), num=2, axis=-1)),\n",
    "      event_shape=[2])\n",
    "    # Construct and fit model.\n",
    "    x_ = tfkl.Input(shape=(2,), dtype=tf.float32)\n",
    "    log_prob_ = distribution.log_prob(x_)\n",
    "    model = tfk.Model(x_, log_prob_)\n",
    "    model.compile(optimizer=tf.optimizers.Adam(),\n",
    "                loss=lambda _, log_prob: -log_prob)\n",
    "    batch_size = 25\n",
    "    model.fit(x=data,\n",
    "            y=np.zeros((n, 0), dtype=np.float32),\n",
    "            batch_size=batch_size,\n",
    "            epochs=100,\n",
    "            steps_per_epoch=1,  # Usually `n // batch_size`.\n",
    "            shuffle=True,\n",
    "            verbose=False)\n",
    "    # Use the fitted distribution.\n",
    "    distribution.sample((3, 1))\n",
    "    distribution.log_prob(np.ones((3, 2), dtype=np.float32))"
   ]
  },
  {
   "cell_type": "markdown",
   "metadata": {},
   "source": [
    "### Change of variables numerical\n",
    "\n",
    " "
   ]
  },
  {
   "cell_type": "code",
   "execution_count": 4,
   "metadata": {},
   "outputs": [
    {
     "data": {
      "image/png": "[encoded data removed]",
      "text/plain": [
       "<Figure size 432x288 with 1 Axes>"
      ]
     },
     "metadata": {
      "needs_background": "light"
     },
     "output_type": "display_data"
    }
   ],
   "source": [
    "N = 10000\n",
    "d = tfd.Uniform(low=0, high=2)\n",
    "zs = d.sample(N)\n",
    "x = zs**2\n",
    "\n",
    "plt.hist(x, density=True, bins=30)\n",
    "plt.ylabel('density')\n",
    "plt.show()"
   ]
  },
  {
   "cell_type": "markdown",
   "metadata": {},
   "source": [
    "### The Bijector package tfp.bijectors\n",
    "\n",
    "Let's take the square as a bijector\n",
    "\n",
    "z -- f(z)=z^2 --> x"
   ]
  },
  {
   "cell_type": "code",
   "execution_count": 5,
   "metadata": {},
   "outputs": [
    {
     "data": {
      "text/plain": [
       "<tf.Tensor: id=33, shape=(), dtype=float32, numpy=2.0>"
      ]
     },
     "execution_count": 5,
     "metadata": {},
     "output_type": "execute_result"
    }
   ],
   "source": [
    "f = tfb.Square() # This is a bijector\n",
    "f.forward(2.0) #4\n",
    "f.inverse(4.0) #2"
   ]
  },
  {
   "cell_type": "markdown",
   "metadata": {},
   "source": [
    "Let's use the uniform distribution as a base transformation "
   ]
  },
  {
   "cell_type": "code",
   "execution_count": 6,
   "metadata": {},
   "outputs": [],
   "source": [
    "base_dist = tfd.Uniform(0.0,2.0)\n",
    "mydist = tfd.TransformedDistribution(distribution=base_dist, bijector=f)"
   ]
  },
  {
   "cell_type": "code",
   "execution_count": 7,
   "metadata": {},
   "outputs": [
    {
     "data": {
      "text/plain": [
       "<tf.Tensor: id=80, shape=(), dtype=float32, numpy=0.14433756>"
      ]
     },
     "execution_count": 7,
     "metadata": {},
     "output_type": "execute_result"
    }
   ],
   "source": [
    "mydist.prob(3)"
   ]
  },
  {
   "cell_type": "code",
   "execution_count": 8,
   "metadata": {},
   "outputs": [
    {
     "data": {
      "text/plain": [
       "(0, 1)"
      ]
     },
     "execution_count": 8,
     "metadata": {},
     "output_type": "execute_result"
    },
    {
     "data": {
      "image/png": "[encoded data removed]",
      "text/plain": [
       "<Figure size 432x288 with 1 Axes>"
      ]
     },
     "metadata": {
      "needs_background": "light"
     },
     "output_type": "display_data"
    }
   ],
   "source": [
    "xs = np.linspace(0.001, 5,1000)\n",
    "ps = mydist.prob(xs)\n",
    "plt.plot(xs,ps)\n",
    "plt.xlabel('x')\n",
    "plt.ylabel('p(x)')\n",
    "plt.ylim(0,1)"
   ]
  },
  {
   "cell_type": "markdown",
   "metadata": {},
   "source": [
    "### Using several bijectors"
   ]
  },
  {
   "cell_type": "code",
   "execution_count": 9,
   "metadata": {},
   "outputs": [
    {
     "data": {
      "text/plain": [
       "<tf.Tensor: id=148, shape=(), dtype=float32, numpy=16.0>"
      ]
     },
     "execution_count": 9,
     "metadata": {},
     "output_type": "execute_result"
    }
   ],
   "source": [
    "chain = tfb.Chain([tfb.Square(), tfb.Square()], name=\"x4\")\n",
    "chain.forward(2.0)"
   ]
  },
  {
   "cell_type": "markdown",
   "metadata": {},
   "source": [
    "### Training Bijectors\n",
    "\n",
    "An extremly simple example, to go from a $N(0,1)$ Gaussian to a $N(5.0,0.2)$ Gaussian. Let's sample some training data of our traget distribution:"
   ]
  },
  {
   "cell_type": "code",
   "execution_count": 10,
   "metadata": {},
   "outputs": [
    {
     "data": {
      "text/plain": [
       "(1000, 1)"
      ]
     },
     "execution_count": 10,
     "metadata": {},
     "output_type": "execute_result"
    },
    {
     "data": {
      "image/png": "[encoded data removed]",
      "text/plain": [
       "<Figure size 432x288 with 1 Axes>"
      ]
     },
     "metadata": {
      "needs_background": "light"
     },
     "output_type": "display_data"
    }
   ],
   "source": [
    "N = 1000\n",
    "X = tfd.Normal(loc=5,scale=0.2).sample(1000)\n",
    "X = X.numpy().reshape([N,1])\n",
    "plt.hist(X,30)\n",
    "X.shape"
   ]
  },
  {
   "cell_type": "markdown",
   "metadata": {},
   "source": [
    "Building the flow using an Affine transformation. Simply shift and scale something."
   ]
  },
  {
   "cell_type": "code",
   "execution_count": 11,
   "metadata": {},
   "outputs": [],
   "source": [
    "#Making a distribution using the flow and a N(0,1)\n",
    "shift = tf.Variable(0.0)\n",
    "scale=tf.Variable(1.0)\n",
    "bijector = tfb.AffineScalar(shift=shift, scale=scale)\n",
    "dist = tfd.TransformedDistribution(distribution=tfd.Normal(loc=0,scale=1),bijector=bijector)"
   ]
  },
  {
   "cell_type": "code",
   "execution_count": 12,
   "metadata": {},
   "outputs": [
    {
     "data": {
      "text/plain": [
       "<tf.Tensor: id=239, shape=(), dtype=float32, numpy=13.397392>"
      ]
     },
     "execution_count": 12,
     "metadata": {},
     "output_type": "execute_result"
    }
   ],
   "source": [
    "-tf.reduce_mean(dist.log_prob(X)) #The NLL"
   ]
  },
  {
   "cell_type": "markdown",
   "metadata": {},
   "source": [
    "### Training in eager mode"
   ]
  },
  {
   "cell_type": "code",
   "execution_count": 13,
   "metadata": {},
   "outputs": [
    {
     "name": "stdout",
     "output_type": "stream",
     "text": [
      "0   13.397392  shift  0.099999934  scale  1.1\n",
      "100   1.9093274  shift  3.9791694  scale  2.4480221\n",
      "200   0.20094235  shift  4.991875  scale  0.38849914\n",
      "300   -0.20008655  shift  4.9917817  scale  0.19733803\n",
      "400   -0.20009406  shift  4.99176  scale  0.19808854\n",
      "500   -0.20009404  shift  4.9917603  scale  0.19809017\n",
      "600   -0.20009401  shift  4.99176  scale  0.19809018\n",
      "700   -0.20009407  shift  4.99176  scale  0.1980902\n",
      "800   -0.20009401  shift  4.9917603  scale  0.1980902\n",
      "900   -0.20009401  shift  4.99176  scale  0.19809018\n"
     ]
    }
   ],
   "source": [
    "optimizer = tf.keras.optimizers.Adam(learning_rate=1e-1) #quite high lr for normalizing flows.\n",
    "\n",
    "for i in range(1000):\n",
    "    with tf.GradientTape() as tape:\n",
    "        loss = -tf.reduce_mean(dist.log_prob(X)) \n",
    "        gradients = tape.gradient(loss, dist.trainable_variables)\n",
    "    optimizer.apply_gradients(zip(gradients, dist.trainable_variables))\n",
    "    if (i % 100 == 0):\n",
    "        print(i, \" \",loss.numpy(), \" shift \", shift.numpy(), \" scale \", scale.numpy())"
   ]
  },
  {
   "cell_type": "code",
   "execution_count": 14,
   "metadata": {},
   "outputs": [
    {
     "data": {
      "text/plain": [
       "(<tf.Variable 'Variable:0' shape=() dtype=float32, numpy=0.1980902>,\n",
       " <tf.Variable 'Variable:0' shape=() dtype=float32, numpy=4.99176>)"
      ]
     },
     "execution_count": 14,
     "metadata": {},
     "output_type": "execute_result"
    },
    {
     "data": {
      "image/png": "[encoded data removed]",
      "text/plain": [
       "<Figure size 432x288 with 1 Axes>"
      ]
     },
     "metadata": {
      "needs_background": "light"
     },
     "output_type": "display_data"
    }
   ],
   "source": [
    "XX = dist.sample(1000)\n",
    "XX = XX.numpy().reshape([N,1])\n",
    "plt.hist(XX,30)\n",
    "dist.trainable_variables"
   ]
  }
 ],
 "metadata": {
  "kernelspec": {
   "display_name": "Python 3",
   "language": "python",
   "name": "python3"
  },
  "language_info": {
   "codemirror_mode": {
    "name": "ipython",
    "version": 3
   },
   "file_extension": ".py",
   "mimetype": "text/x-python",
   "name": "python",
   "nbconvert_exporter": "python",
   "pygments_lexer": "ipython3",
   "version": "3.6.8"
  }
 },
 "nbformat": 4,
 "nbformat_minor": 2
}
