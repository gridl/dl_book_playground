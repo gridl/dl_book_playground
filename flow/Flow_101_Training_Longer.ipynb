{
 "cells": [
  {
   "cell_type": "markdown",
   "metadata": {},
   "source": [
    "## Playing around with flows\n",
    "\n",
    "This notebook shows some first steps using flows."
   ]
  },
  {
   "cell_type": "code",
   "execution_count": 2,
   "metadata": {},
   "outputs": [
    {
     "name": "stdout",
     "output_type": "stream",
     "text": [
      "Tensorflow version:  2.0.0-rc0  running in colab?:  False\n"
     ]
    }
   ],
   "source": [
    "import tensorflow as tf\n",
    "try: #If running in colab \n",
    "    import google.colab\n",
    "    IN_COLAB = True \n",
    "except:\n",
    "    IN_COLAB = False\n",
    "if (not tf.__version__.startswith('2')): #Checking if tf 2.0 is installed\n",
    "    if IN_COLAB: #If running in colab install tf 2.0\n",
    "        !pip install tensorflow-gpu==2.0.0-rc0\n",
    "        !pip install tensorflow-probability==0.8.0-rc0\n",
    "    print('Please install tensorflow 2.0 to run this notebook')\n",
    "print('Tensorflow version: ',tf.__version__, ' running in colab?: ', IN_COLAB)"
   ]
  },
  {
   "cell_type": "code",
   "execution_count": 3,
   "metadata": {},
   "outputs": [
    {
     "name": "stdout",
     "output_type": "stream",
     "text": [
      "TFP Version 0.8.0-rc0\n",
      "TF  Version 2.0.0-rc0\n"
     ]
    }
   ],
   "source": [
    "import matplotlib.pyplot as plt\n",
    "import numpy as np\n",
    "import pandas as pd\n",
    "from sklearn.model_selection import train_test_split\n",
    "import tensorflow_probability as tfp\n",
    "\n",
    "\n",
    "%matplotlib inline\n",
    "plt.style.use('default')\n",
    "\n",
    "tfd = tfp.distributions\n",
    "tfb = tfp.bijectors\n",
    "print(\"TFP Version\", tfp.__version__)\n",
    "print(\"TF  Version\",tf.__version__)\n",
    "np.random.seed(42)\n",
    "tf.random.set_seed(42)"
   ]
  },
  {
   "cell_type": "markdown",
   "metadata": {},
   "source": [
    "### Learning Flows with TF 2.0\n",
    "\n",
    "Let's create a flow using parameters, which can be learned. We use masked Autoregressive flows for that. "
   ]
  },
  {
   "cell_type": "code",
   "execution_count": 53,
   "metadata": {},
   "outputs": [
    {
     "data": {
      "text/plain": [
       "(1000, 2)"
      ]
     },
     "execution_count": 53,
     "metadata": {},
     "output_type": "execute_result"
    },
    {
     "data": {
      "image/png": "[encoded data removed]",
      "text/plain": [
       "<Figure size 432x288 with 1 Axes>"
      ]
     },
     "metadata": {
      "needs_background": "light"
     },
     "output_type": "display_data"
    }
   ],
   "source": [
    "DTYPE=tf.float32\n",
    "from sklearn import cluster, datasets, mixture\n",
    "from sklearn.preprocessing import StandardScaler\n",
    "n_samples = 1000\n",
    "\n",
    "def makeData(n_samples):\n",
    "#     noisy_moons = datasets.make_moons(n_samples=n_samples, noise=.05, random_state=42)\n",
    "#     X, _ = noisy_moons\n",
    "#     X = StandardScaler().fit_transform(X)\n",
    "\n",
    "    X1 = np.random.uniform(0,3,n_samples)\n",
    "    X2 = np.sin(X1) + np.random.normal(0,0.1,n_samples)\n",
    "    X = np.vstack((X1,X2)).T\n",
    "    X = np.array(X, dtype='float32')\n",
    "    return X\n",
    "\n",
    "X = makeData(n_samples)   \n",
    "plt.scatter(X[:, 0], X[:, 1], s=10, color='red')\n",
    "X.shape"
   ]
  },
  {
   "cell_type": "markdown",
   "metadata": {},
   "source": [
    "We build our own model. As suggested in: https://www.tensorflow.org/beta/tutorials/quickstart/advanced we wrap the model into a Keras model class, by subclassing `tf.keras.models.Model`."
   ]
  },
  {
   "cell_type": "code",
   "execution_count": 54,
   "metadata": {},
   "outputs": [
    {
     "name": "stdout",
     "output_type": "stream",
     "text": [
      "(1000, 2)\n",
      "Model: \"maf_5\"\n",
      "_________________________________________________________________\n",
      "Layer (type)                 Output Shape              Param #   \n",
      "=================================================================\n",
      "Total params: 266,244\n",
      "Trainable params: 266,244\n",
      "Non-trainable params: 0\n",
      "_________________________________________________________________\n"
     ]
    }
   ],
   "source": [
    "# See also https://github.com/tensorflow/probability/blob/master/tensorflow_probability/python/bijectors/real_nvp.py\n",
    "from pylab import *\n",
    "import numpy as np\n",
    "import pandas as pd\n",
    "import tensorflow as tf\n",
    "import tensorflow_probability as tfp\n",
    "tfb = tfp.bijectors\n",
    "tfd = tfp.distributions\n",
    "\n",
    "class MAF(tf.keras.models.Model):\n",
    "\n",
    "    def __init__(self, *, output_dim, num_masked, **kwargs): #** additional arguments for the super class\n",
    "        super().__init__(**kwargs)\n",
    "        self.output_dim = output_dim\n",
    "        self.num_masked = num_masked\n",
    "        self.shift_and_log_scale_fn = tfb.masked_autoregressive_default_template(\n",
    "            hidden_layers=[512, 512])        # Defining the bijector\n",
    "        num_bijectors = 4\n",
    "        bijectors=[]\n",
    "        for i in range(num_bijectors):\n",
    "            bijectors.append(tfb.MaskedAutoregressiveFlow(shift_and_log_scale_fn=self.shift_and_log_scale_fn))\n",
    "            bijectors.append(tfb.Permute(permutation=[1, 0]))\n",
    "        # Discard the last Permute layer.\n",
    "        bijector = tfb.Chain(list(reversed(bijectors[:-1])))\n",
    "        \n",
    "        # Defining the flow\n",
    "        self.flow = tfd.TransformedDistribution(\n",
    "            distribution=tfd.MultivariateNormalDiag(loc=[0., 0.]),\n",
    "            bijector=bijector)\n",
    "\n",
    "    def call(self, *inputs): #inputs is a list or \n",
    "        #_ = self.flow.bijector.forward(*inputs) #Need to be called to \"build\" the graph\n",
    "        #return self.flow #Needs to be outputted to later access the Transformed distribution\n",
    "        return self.flow.bijector.forward(*inputs)\n",
    "    \n",
    "    def getFlow(self, num):\n",
    "        return self.flow.sample(num)\n",
    "\n",
    "print(X.shape)\n",
    "model = MAF(output_dim=2, num_masked=1)\n",
    "#model.summary() #Yields an error. The model needs called before it is build.\n",
    "_ = model(X) \n",
    "model.summary()"
   ]
  },
  {
   "cell_type": "code",
   "execution_count": 55,
   "metadata": {},
   "outputs": [],
   "source": [
    "optimizer = tf.keras.optimizers.Adam(learning_rate=0.0001)\n",
    "\n",
    "@tf.function #Adding the tf.function makes it about 10 times faster!!!\n",
    "def train_step(X):\n",
    "    with tf.GradientTape() as tape:\n",
    "        predictions = model(X)\n",
    "        loss = -tf.reduce_mean(model.flow.log_prob(X)) \n",
    "    gradients = tape.gradient(loss, model.trainable_variables)\n",
    "    optimizer.apply_gradients(zip(gradients, model.trainable_variables))\n",
    "    return loss      "
   ]
  },
  {
   "cell_type": "code",
   "execution_count": 59,
   "metadata": {},
   "outputs": [
    {
     "name": "stdout",
     "output_type": "stream",
     "text": [
      "0   0.6177458 0.03506970405578613\n"
     ]
    },
    {
     "data": {
      "image/png": "[encoded data removed]",
      "text/plain": [
       "<Figure size 432x288 with 1 Axes>"
      ]
     },
     "metadata": {
      "needs_background": "light"
     },
     "output_type": "display_data"
    },
    {
     "name": "stdout",
     "output_type": "stream",
     "text": [
      "50   0.72946465 1.1508066654205322\n",
      "100   0.6113794 0.9378097057342529\n",
      "150   0.78533834 0.9229567050933838\n",
      "200   0.69161856 0.9275696277618408\n",
      "250   0.6985788 0.9201364517211914\n",
      "300   0.7445887 0.9887456893920898\n",
      "350   0.7411807 0.934725284576416\n",
      "400   0.7559019 0.9777662754058838\n",
      "450   0.6979367 0.9679450988769531\n",
      "500   0.7895513 0.9143803119659424\n",
      "550   1.2899504 0.9398636817932129\n",
      "600   0.8056587 1.029780387878418\n",
      "650   0.855181 0.9447722434997559\n",
      "700   0.761386 0.9810061454772949\n",
      "750   0.95291245 0.9349863529205322\n",
      "800   0.52370334 0.9250445365905762\n",
      "850   0.7354379 0.9239416122436523\n",
      "900   0.78309286 0.9240458011627197\n",
      "950   0.72531265 0.9186325073242188\n",
      "1000   0.6627995 0.931922435760498\n"
     ]
    },
    {
     "data": {
      "image/png": "[encoded data removed]",
      "text/plain": [
       "<Figure size 432x288 with 1 Axes>"
      ]
     },
     "metadata": {
      "needs_background": "light"
     },
     "output_type": "display_data"
    },
    {
     "name": "stdout",
     "output_type": "stream",
     "text": [
      "1050   0.8339695 1.2021639347076416\n",
      "1100   0.6838823 1.0599093437194824\n",
      "1150   0.79888153 1.0681500434875488\n",
      "1200   0.68165153 1.0957012176513672\n",
      "1250   0.72311205 1.159299373626709\n",
      "1300   0.7679623 1.132244348526001\n",
      "1350   0.7662075 1.0380043983459473\n",
      "1400   0.80467725 1.09071946144104\n",
      "1450   0.7365117 1.0116615295410156\n",
      "1500   0.61684453 1.0031251907348633\n",
      "1550   0.625681 0.9897871017456055\n",
      "1600   0.7277914 1.0255787372589111\n",
      "1650   0.671818 0.9353189468383789\n",
      "1700   0.8642663 0.9594392776489258\n",
      "1750   0.6302102 0.9483168125152588\n",
      "1800   0.836492 0.9178853034973145\n",
      "1850   0.70543647 1.0023045539855957\n",
      "1900   0.72041506 0.9641678333282471\n",
      "1950   0.7628765 1.0121955871582031\n",
      "2000   0.71518403 0.9286549091339111\n"
     ]
    },
    {
     "data": {
      "image/png": "[encoded data removed]",
      "text/plain": [
       "<Figure size 432x288 with 1 Axes>"
      ]
     },
     "metadata": {
      "needs_background": "light"
     },
     "output_type": "display_data"
    },
    {
     "name": "stdout",
     "output_type": "stream",
     "text": [
      "2050   0.77053255 1.1744844913482666\n",
      "2100   0.7604271 0.9591336250305176\n",
      "2150   0.81708634 0.9315991401672363\n",
      "2200   0.61446345 0.9867315292358398\n",
      "2250   0.82495797 0.9307327270507812\n",
      "2300   0.7521038 0.9346270561218262\n",
      "2350   0.63545823 1.0160143375396729\n",
      "2400   0.8378133 1.080409049987793\n",
      "2450   0.60359395 1.0401654243469238\n",
      "2500   0.8050543 0.9369344711303711\n",
      "2550   0.8790858 0.9206957817077637\n",
      "2600   0.7004904 0.9413361549377441\n",
      "2650   0.6691463 0.9373862743377686\n",
      "2700   1.0507091 0.9453325271606445\n",
      "2750   0.6233322 0.9758844375610352\n",
      "2800   0.59585476 0.920219898223877\n",
      "2850   0.7161083 0.9295687675476074\n",
      "2900   0.77815545 0.934546947479248\n",
      "2950   0.93014175 0.9788210391998291\n",
      "3000   0.7583654 1.0035159587860107\n"
     ]
    },
    {
     "data": {
      "image/png": "[encoded data removed]",
      "text/plain": [
       "<Figure size 432x288 with 1 Axes>"
      ]
     },
     "metadata": {
      "needs_background": "light"
     },
     "output_type": "display_data"
    },
    {
     "name": "stdout",
     "output_type": "stream",
     "text": [
      "3050   0.8004292 1.1958105564117432\n",
      "3100   0.6780572 1.0417931079864502\n",
      "3150   0.7436441 0.9911551475524902\n",
      "3200   0.68305093 0.9931623935699463\n",
      "3250   0.76439667 1.026573657989502\n",
      "3300   0.7506408 1.011418104171753\n",
      "3350   0.68502545 0.9878566265106201\n",
      "3400   0.8736085 1.0152904987335205\n",
      "3450   0.7859794 1.0402123928070068\n",
      "3500   0.6601942 0.9527325630187988\n",
      "3550   0.7016457 1.01479172706604\n",
      "3600   1.3104521 0.9886212348937988\n",
      "3650   0.56286144 0.9462604522705078\n",
      "3700   0.44159278 0.9560079574584961\n",
      "3750   0.6706088 0.9356751441955566\n",
      "3800   0.6570528 1.0115058422088623\n",
      "3850   0.48390353 0.9744923114776611\n",
      "3900   0.6306172 1.0219089984893799\n",
      "3950   0.79945695 0.9804537296295166\n",
      "4000   1.1453422 1.024451494216919\n"
     ]
    },
    {
     "data": {
      "image/png": "[encoded data removed]",
      "text/plain": [
       "<Figure size 432x288 with 1 Axes>"
      ]
     },
     "metadata": {
      "needs_background": "light"
     },
     "output_type": "display_data"
    },
    {
     "name": "stdout",
     "output_type": "stream",
     "text": [
      "4050   0.74860144 1.2272796630859375\n",
      "4100   0.69409513 1.0160212516784668\n",
      "4150   0.67481923 1.047837495803833\n",
      "4200   0.6121702 1.023946762084961\n",
      "4250   0.69106513 1.031616449356079\n",
      "4300   0.71243775 1.0402061939239502\n",
      "4350   0.65908885 1.0728766918182373\n",
      "4400   0.64643914 1.0423614978790283\n",
      "4450   0.6433994 1.0169305801391602\n",
      "4500   0.9096761 1.0387394428253174\n",
      "4550   0.7388169 1.074280023574829\n",
      "4600   0.7086038 1.0388123989105225\n",
      "4650   0.7383057 1.0431697368621826\n",
      "4700   0.50930583 1.0559353828430176\n",
      "4750   0.77218735 1.0058274269104004\n",
      "4800   0.4398584 1.0896308422088623\n",
      "4850   1.1236666 1.0228667259216309\n",
      "4900   0.6716629 0.9898293018341064\n",
      "4950   0.6356156 1.0897045135498047\n",
      "5000   0.53606933 1.0995726585388184\n"
     ]
    },
    {
     "data": {
      "image/png": "[encoded data removed]",
      "text/plain": [
       "<Figure size 432x288 with 1 Axes>"
      ]
     },
     "metadata": {
      "needs_background": "light"
     },
     "output_type": "display_data"
    }
   ],
   "source": [
    "from time import time\n",
    "start = time()\n",
    "for i in range(5001):\n",
    "    loss = train_step(makeData(100))\n",
    "    if (i % 50 == 0):\n",
    "        print(i, \" \",loss.numpy(), (time()-start))\n",
    "        start = time()\n",
    "    if (i % 1000 == 0):   \n",
    "        XF = model.flow.sample(100) \n",
    "        plt.scatter(XF[:, 0], XF[:, 1], s=5, color='blue')\n",
    "        plt.show()"
   ]
  },
  {
   "cell_type": "code",
   "execution_count": 63,
   "metadata": {},
   "outputs": [
    {
     "data": {
      "text/plain": [
       "<matplotlib.collections.PathCollection at 0x7f64486aaac8>"
      ]
     },
     "execution_count": 63,
     "metadata": {},
     "output_type": "execute_result"
    },
    {
     "data": {
      "image/png": "[encoded data removed]",
      "text/plain": [
       "<Figure size 432x288 with 1 Axes>"
      ]
     },
     "metadata": {
      "needs_background": "light"
     },
     "output_type": "display_data"
    }
   ],
   "source": [
    "XF = model.flow.sample(500) \n",
    "plt.scatter(XF[:, 0], XF[:, 1], s=5, color='blue')"
   ]
  },
  {
   "cell_type": "code",
   "execution_count": null,
   "metadata": {},
   "outputs": [],
   "source": []
  }
 ],
 "metadata": {
  "kernelspec": {
   "display_name": "Python 3",
   "language": "python",
   "name": "python3"
  },
  "language_info": {
   "codemirror_mode": {
    "name": "ipython",
    "version": 3
   },
   "file_extension": ".py",
   "mimetype": "text/x-python",
   "name": "python",
   "nbconvert_exporter": "python",
   "pygments_lexer": "ipython3",
   "version": "3.6.8"
  }
 },
 "nbformat": 4,
 "nbformat_minor": 2
}
