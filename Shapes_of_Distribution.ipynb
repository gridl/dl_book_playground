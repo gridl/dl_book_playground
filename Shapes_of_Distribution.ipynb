{
 "cells": [
  {
   "cell_type": "markdown",
   "metadata": {},
   "source": [
    "The aim of this notebook is to understand the three different shapes of TFP. The **event** shape, describing the \"dimesionality\" of x in $p(x)$. The **batch** shape, a batch of independent distributions, and the **sample** shape, describing a sample from that distributions.\n",
    "\n",
    "### Links\n",
    "See also:  \n",
    "\n",
    "* https://github.com/tensorflow/probability/blob/master/tensorflow_probability/examples/jupyter_notebooks/Understanding_TensorFlow_Distributions_Shapes.ipynb\n",
    "* https://www.tensorflow.org/probability/api_docs/python/tfp/distributions/Distribution\n",
    "\n"
   ]
  },
  {
   "cell_type": "code",
   "execution_count": 83,
   "metadata": {},
   "outputs": [
    {
     "name": "stdout",
     "output_type": "stream",
     "text": [
      "TFB Version 0.7.0-dev\n",
      "TF  Version 2.0.0-alpha0\n"
     ]
    }
   ],
   "source": [
    "import matplotlib.pyplot as plt\n",
    "import numpy as np\n",
    "import seaborn as sns\n",
    "\n",
    "import tensorflow as tf\n",
    "import tensorflow_probability as tfp\n",
    "\n",
    "sns.reset_defaults()\n",
    "#sns.set_style('whitegrid')\n",
    "sns.set_context(context='talk',font_scale=0.7)\n",
    "\n",
    "%matplotlib inline\n",
    "\n",
    "tfd = tfp.distributions\n",
    "print(\"TFB Version\", tfp.__version__)\n",
    "print(\"TF  Version\",tf.__version__)"
   ]
  },
  {
   "cell_type": "markdown",
   "metadata": {},
   "source": [
    "### Event Shape\n",
    "    \n",
    "Shape of a single draw (event) of a distribution. E.g. the shape of $x$ in $p(x)$. For a one dimensional x it is empty, there is no event_shape. "
   ]
  },
  {
   "cell_type": "code",
   "execution_count": 84,
   "metadata": {},
   "outputs": [
    {
     "data": {
      "text/plain": [
       "<tfp.distributions.Uniform 'Uniform/' batch_shape=() event_shape=() dtype=float32>"
      ]
     },
     "execution_count": 84,
     "metadata": {},
     "output_type": "execute_result"
    }
   ],
   "source": [
    "n1 = tfd.Uniform(1,2)\n",
    "n1"
   ]
  },
  {
   "cell_type": "code",
   "execution_count": 85,
   "metadata": {},
   "outputs": [
    {
     "data": {
      "text/plain": [
       "(<tfp.distributions.MultivariateNormalDiag 'MultivariateNormalDiag/' batch_shape=(1,) event_shape=(3,) dtype=float32>,\n",
       " <tf.Tensor: id=1931, shape=(1, 3), dtype=float32, numpy=array([[1., 2., 3.]], dtype=float32)>)"
      ]
     },
     "execution_count": 85,
     "metadata": {},
     "output_type": "execute_result"
    }
   ],
   "source": [
    "multivariate_normal = tfd.MultivariateNormalDiag(loc=[1., 2., 3.], scale_identity_multiplier=[1.])\n",
    "multivariate_normal,multivariate_normal.mean()\n"
   ]
  },
  {
   "cell_type": "markdown",
   "metadata": {},
   "source": [
    "### Batch Shape\n",
    "Batch shape describes independent, not identically distributed draws, aka a \"batch\" of distributions."
   ]
  },
  {
   "cell_type": "code",
   "execution_count": 86,
   "metadata": {},
   "outputs": [
    {
     "data": {
      "text/plain": [
       "<tfp.distributions.Uniform 'Uniform/' batch_shape=(2,) event_shape=() dtype=float32>"
      ]
     },
     "execution_count": 86,
     "metadata": {},
     "output_type": "execute_result"
    }
   ],
   "source": [
    "n2 = tfd.Uniform([1.,2.],2) #We have 2 independent distributions\n",
    "n2"
   ]
  },
  {
   "cell_type": "code",
   "execution_count": 87,
   "metadata": {},
   "outputs": [
    {
     "name": "stdout",
     "output_type": "stream",
     "text": [
      "tfp.distributions.MultivariateNormalDiag(\"MultivariateNormalDiag/\", batch_shape=(2,), event_shape=(3,), dtype=float32)\n"
     ]
    },
    {
     "data": {
      "text/plain": [
       "(<tf.Tensor: id=2038, shape=(2, 3), dtype=float32, numpy=\n",
       " array([[1., 2., 3.],\n",
       "        [1., 2., 3.]], dtype=float32)>,\n",
       " <tf.Tensor: id=1948, shape=(2, 3), dtype=float32, numpy=\n",
       " array([[1., 2., 3.],\n",
       "        [1., 2., 3.]], dtype=float32)>)"
      ]
     },
     "execution_count": 87,
     "metadata": {},
     "output_type": "execute_result"
    }
   ],
   "source": [
    "two_multivariate_normals = tfd.MultivariateNormalDiag(loc=[[1., 2., 3.],[1., 2., 3.]], scale_identity_multiplier=[1.,2.])\n",
    "print(two_multivariate_normals)\n",
    "\n",
    "# Using broadcasting\n",
    "two_multivariate_normals2 = tfd.MultivariateNormalDiag(loc=[1., 2., 3.], scale_identity_multiplier=[1.,2])\n",
    "two_multivariate_normals2.mean(),two_multivariate_normals.mean()\n"
   ]
  },
  {
   "cell_type": "markdown",
   "metadata": {},
   "source": [
    "### Sample Shape\n",
    "\n",
    "We iid sample for the distribution(s) described by the batch and event shape"
   ]
  },
  {
   "cell_type": "code",
   "execution_count": 88,
   "metadata": {},
   "outputs": [
    {
     "data": {
      "text/plain": [
       "(array([[1.6436319, 1.4246452, 1.2373348]], dtype=float32),\n",
       " TensorShape([1, 3]))"
      ]
     },
     "execution_count": 88,
     "metadata": {},
     "output_type": "execute_result"
    }
   ],
   "source": [
    "n1.sample([1,3]).numpy(),n1.sample([1,3]).shape"
   ]
  },
  {
   "cell_type": "code",
   "execution_count": 89,
   "metadata": {},
   "outputs": [
    {
     "data": {
      "text/plain": [
       "(TensorShape([1, 3, 2]),\n",
       " <tfp.distributions.Uniform 'Uniform/' batch_shape=(2,) event_shape=() dtype=float32>)"
      ]
     },
     "execution_count": 89,
     "metadata": {},
     "output_type": "execute_result"
    }
   ],
   "source": [
    "n2.sample([1,3]).shape, n2"
   ]
  },
  {
   "cell_type": "markdown",
   "metadata": {},
   "source": [
    "## Manipulating the shape\n",
    "\n",
    "### Independent Distributions\n",
    "The Independent distribution is used to treat a collection of independent, not-necessarily-identical (aka a batch of) distributions as a single distribution. The use case IMO is you sample data-points."
   ]
  },
  {
   "cell_type": "code",
   "execution_count": 100,
   "metadata": {},
   "outputs": [],
   "source": [
    "y = [1.1,2.2,3.3]\n",
    "y_true = np.asarray([1.,2.,3.],dtype=np.float32)"
   ]
  },
  {
   "cell_type": "code",
   "execution_count": 101,
   "metadata": {},
   "outputs": [],
   "source": [
    "n3 = tfd.Normal(loc=y,scale=0.5)"
   ]
  },
  {
   "cell_type": "code",
   "execution_count": 115,
   "metadata": {},
   "outputs": [
    {
     "data": {
      "text/plain": [
       "<tf.Tensor: id=2186, shape=(3,), dtype=float32, numpy=array([-0.24579135, -0.30579138, -0.40579128], dtype=float32)>"
      ]
     },
     "execution_count": 115,
     "metadata": {},
     "output_type": "execute_result"
    }
   ],
   "source": [
    "n3.log_prob(y_true) #Three number"
   ]
  },
  {
   "cell_type": "markdown",
   "metadata": {},
   "source": [
    "Reinterpreting the batch dimensions. If we want a (single) batch dimension be intrepreted as event dimension we call set `reinterpreted_batch_ndims=1`. There if more than one batch dimension than: \"The reinterpreted_batch_ndims parameter controls the number of batch dims which are absorbed as event dims\". Taken from: https://github.com/tensorflow/probability/blob/master/tensorflow_probability/g3doc/api_docs/python/tfp/distributions/Independent.md\n",
    "\n"
   ]
  },
  {
   "cell_type": "code",
   "execution_count": 116,
   "metadata": {},
   "outputs": [
    {
     "data": {
      "text/plain": [
       "<tfp.distributions.Independent 'IndependentNormal/' batch_shape=() event_shape=(3,) dtype=float32>"
      ]
     },
     "execution_count": 116,
     "metadata": {},
     "output_type": "execute_result"
    }
   ],
   "source": [
    "n3e = tfd.Independent(\n",
    "    tfd.Normal(loc=y,scale=0.5),\n",
    "    reinterpreted_batch_ndims=1 \n",
    ")\n",
    "n3e"
   ]
  },
  {
   "cell_type": "code",
   "execution_count": 119,
   "metadata": {},
   "outputs": [
    {
     "data": {
      "text/plain": [
       "<tf.Tensor: id=2230, shape=(), dtype=float32, numpy=-0.957374>"
      ]
     },
     "execution_count": 119,
     "metadata": {},
     "output_type": "execute_result"
    }
   ],
   "source": [
    "n3e.log_prob(y_true) #A single number the sum of all three log-likelihoods from above"
   ]
  }
 ],
 "metadata": {
  "kernelspec": {
   "display_name": "Python 3",
   "language": "python",
   "name": "python3"
  },
  "language_info": {
   "codemirror_mode": {
    "name": "ipython",
    "version": 3
   },
   "file_extension": ".py",
   "mimetype": "text/x-python",
   "name": "python",
   "nbconvert_exporter": "python",
   "pygments_lexer": "ipython3",
   "version": "3.5.2"
  }
 },
 "nbformat": 4,
 "nbformat_minor": 2
}
