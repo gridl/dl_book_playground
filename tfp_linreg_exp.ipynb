{
  "nbformat": 4,
  "nbformat_minor": 0,
  "metadata": {
    "colab": {
      "name": "tfp_linreg_exp.ipynb",
      "version": "0.3.2",
      "provenance": []
    },
    "kernelspec": {
      "name": "python3",
      "display_name": "Python 3"
    }
  },
  "cells": [
    {
      "cell_type": "code",
      "metadata": {
        "id": "RrcZFioS3PE_",
        "colab_type": "code",
        "outputId": "8de0195e-b72e-4701-df09-4fe59f2a2b44",
        "colab": {
          "base_uri": "https://localhost:8080/",
          "height": 452
        }
      },
      "source": [
        "!pip install tensorflow-gpu==2.0.0-alpha0\n",
        "!pip install tfp-nightly"
      ],
      "execution_count": 1,
      "outputs": [
        {
          "output_type": "stream",
          "text": [
            "Requirement already satisfied: tensorflow-gpu==2.0.0-alpha0 in /usr/local/lib/python3.6/dist-packages (2.0.0a0)\n",
            "Requirement already satisfied: google-pasta>=0.1.2 in /usr/local/lib/python3.6/dist-packages (from tensorflow-gpu==2.0.0-alpha0) (0.1.6)\n",
            "Requirement already satisfied: tf-estimator-nightly<1.14.0.dev2019030116,>=1.14.0.dev2019030115 in /usr/local/lib/python3.6/dist-packages (from tensorflow-gpu==2.0.0-alpha0) (1.14.0.dev2019030115)\n",
            "Requirement already satisfied: protobuf>=3.6.1 in /usr/local/lib/python3.6/dist-packages (from tensorflow-gpu==2.0.0-alpha0) (3.7.1)\n",
            "Requirement already satisfied: tb-nightly<1.14.0a20190302,>=1.14.0a20190301 in /usr/local/lib/python3.6/dist-packages (from tensorflow-gpu==2.0.0-alpha0) (1.14.0a20190301)\n",
            "Requirement already satisfied: astor>=0.6.0 in /usr/local/lib/python3.6/dist-packages (from tensorflow-gpu==2.0.0-alpha0) (0.7.1)\n",
            "Requirement already satisfied: gast>=0.2.0 in /usr/local/lib/python3.6/dist-packages (from tensorflow-gpu==2.0.0-alpha0) (0.2.2)\n",
            "Requirement already satisfied: termcolor>=1.1.0 in /usr/local/lib/python3.6/dist-packages (from tensorflow-gpu==2.0.0-alpha0) (1.1.0)\n",
            "Requirement already satisfied: grpcio>=1.8.6 in /usr/local/lib/python3.6/dist-packages (from tensorflow-gpu==2.0.0-alpha0) (1.15.0)\n",
            "Requirement already satisfied: numpy<2.0,>=1.14.5 in /usr/local/lib/python3.6/dist-packages (from tensorflow-gpu==2.0.0-alpha0) (1.16.3)\n",
            "Requirement already satisfied: wheel>=0.26 in /usr/local/lib/python3.6/dist-packages (from tensorflow-gpu==2.0.0-alpha0) (0.33.1)\n",
            "Requirement already satisfied: six>=1.10.0 in /usr/local/lib/python3.6/dist-packages (from tensorflow-gpu==2.0.0-alpha0) (1.12.0)\n",
            "Requirement already satisfied: absl-py>=0.7.0 in /usr/local/lib/python3.6/dist-packages (from tensorflow-gpu==2.0.0-alpha0) (0.7.1)\n",
            "Requirement already satisfied: keras-applications>=1.0.6 in /usr/local/lib/python3.6/dist-packages (from tensorflow-gpu==2.0.0-alpha0) (1.0.7)\n",
            "Requirement already satisfied: keras-preprocessing>=1.0.5 in /usr/local/lib/python3.6/dist-packages (from tensorflow-gpu==2.0.0-alpha0) (1.0.9)\n",
            "Requirement already satisfied: setuptools in /usr/local/lib/python3.6/dist-packages (from protobuf>=3.6.1->tensorflow-gpu==2.0.0-alpha0) (41.0.1)\n",
            "Requirement already satisfied: markdown>=2.6.8 in /usr/local/lib/python3.6/dist-packages (from tb-nightly<1.14.0a20190302,>=1.14.0a20190301->tensorflow-gpu==2.0.0-alpha0) (3.1)\n",
            "Requirement already satisfied: werkzeug>=0.11.15 in /usr/local/lib/python3.6/dist-packages (from tb-nightly<1.14.0a20190302,>=1.14.0a20190301->tensorflow-gpu==2.0.0-alpha0) (0.15.2)\n",
            "Requirement already satisfied: h5py in /usr/local/lib/python3.6/dist-packages (from keras-applications>=1.0.6->tensorflow-gpu==2.0.0-alpha0) (2.8.0)\n",
            "Requirement already satisfied: tfp-nightly in /usr/local/lib/python3.6/dist-packages (0.7.0.dev20190513)\n",
            "Requirement already satisfied: decorator in /usr/local/lib/python3.6/dist-packages (from tfp-nightly) (4.4.0)\n",
            "Requirement already satisfied: numpy>=1.13.3 in /usr/local/lib/python3.6/dist-packages (from tfp-nightly) (1.16.3)\n",
            "Requirement already satisfied: cloudpickle>=0.6.1 in /usr/local/lib/python3.6/dist-packages (from tfp-nightly) (0.6.1)\n",
            "Requirement already satisfied: six>=1.10.0 in /usr/local/lib/python3.6/dist-packages (from tfp-nightly) (1.12.0)\n"
          ],
          "name": "stdout"
        }
      ]
    },
    {
      "cell_type": "code",
      "metadata": {
        "id": "y6LqwiGH3T5h",
        "colab_type": "code",
        "colab": {}
      },
      "source": [
        "import matplotlib.pyplot as plt\n",
        "import numpy as np\n",
        "\n",
        "import tensorflow as tf\n",
        "\n",
        "import tensorflow_probability as tfp\n",
        "tfd = tfp.distributions\n",
        "\n",
        "%matplotlib inline\n",
        "\n"
      ],
      "execution_count": 0,
      "outputs": []
    },
    {
      "cell_type": "markdown",
      "metadata": {
        "id": "h9U8BM3OkFtu",
        "colab_type": "text"
      },
      "source": [
        "### additional material\n",
        "\n",
        "https://www.youtube.com/watch?v=BrwKURU-wpk  \n",
        "\n",
        "https://medium.com/tensorflow/regression-with-probabilistic-layers-in-tensorflow-probability-e46ff5d37baf"
      ]
    },
    {
      "cell_type": "code",
      "metadata": {
        "id": "DOs4MmfP3T9N",
        "colab_type": "code",
        "outputId": "07026e91-ed9f-4756-b6e1-b517e21b5aea",
        "colab": {
          "base_uri": "https://localhost:8080/",
          "height": 34
        }
      },
      "source": [
        "if tf.test.gpu_device_name() != '/device:GPU:0':\n",
        "  print('WARNING: GPU device not found.')\n",
        "else:\n",
        "  print('SUCCESS: Found GPU: {}'.format(tf.test.gpu_device_name()))"
      ],
      "execution_count": 101,
      "outputs": [
        {
          "output_type": "stream",
          "text": [
            "WARNING: GPU device not found.\n"
          ],
          "name": "stdout"
        }
      ]
    },
    {
      "cell_type": "code",
      "metadata": {
        "id": "Xg7yfde83T_7",
        "colab_type": "code",
        "colab": {}
      },
      "source": [
        ""
      ],
      "execution_count": 0,
      "outputs": []
    },
    {
      "cell_type": "code",
      "metadata": {
        "id": "WhIKy0CehDRe",
        "colab_type": "code",
        "colab": {}
      },
      "source": [
        "lala=tfd.Normal(loc=5,scale=6)"
      ],
      "execution_count": 0,
      "outputs": []
    },
    {
      "cell_type": "code",
      "metadata": {
        "id": "b9ggzkuFhbex",
        "colab_type": "code",
        "colab": {
          "base_uri": "https://localhost:8080/",
          "height": 34
        },
        "outputId": "a9ee7c33-5c77-4bfd-f91e-63671ceb1758"
      },
      "source": [
        "lala.log_prob(np.array([3,5,7]))"
      ],
      "execution_count": 116,
      "outputs": [
        {
          "output_type": "execute_result",
          "data": {
            "text/plain": [
              "<tf.Tensor: id=782172, shape=(3,), dtype=float32, numpy=array([-2.7662537, -2.7106981, -2.7662537], dtype=float32)>"
            ]
          },
          "metadata": {
            "tags": []
          },
          "execution_count": 116
        }
      ]
    },
    {
      "cell_type": "code",
      "metadata": {
        "id": "oXq8qQYy3UCs",
        "colab_type": "code",
        "colab": {}
      },
      "source": [
        "\n",
        "w0 = 0.125\n",
        "b0 = 5.\n",
        "x_range = [-20, 60]\n",
        "\n",
        "def load_dataset(n=150, n_tst=150):\n",
        "  np.random.seed(43)\n",
        "  def s(x):\n",
        "    g = (x - x_range[0]) / (x_range[1] - x_range[0])\n",
        "    return 3 * (0.25 + g**2.)\n",
        "  x = (x_range[1] - x_range[0]) * np.random.rand(n) + x_range[0]\n",
        "  eps = np.random.randn(n) * s(x)\n",
        "  y = (w0 * x * (1. + np.sin(x)) + b0) + eps\n",
        "  x = x[..., np.newaxis]\n",
        "  x_tst = np.linspace(*x_range, num=n_tst).astype(np.float32)\n",
        "  x_tst = x_tst[..., np.newaxis]\n",
        "  return y, x, x_tst\n",
        "\n",
        "y, x, x_tst = load_dataset()"
      ],
      "execution_count": 0,
      "outputs": []
    },
    {
      "cell_type": "code",
      "metadata": {
        "id": "izw0ckJF4xYE",
        "colab_type": "code",
        "outputId": "ab0a215d-737c-4cfe-ca2a-0ba0265697d3",
        "colab": {
          "base_uri": "https://localhost:8080/",
          "height": 69
        }
      },
      "source": [
        "print(x.shape)\n",
        "print(y.shape)\n",
        "print(x_tst.shape)"
      ],
      "execution_count": 118,
      "outputs": [
        {
          "output_type": "stream",
          "text": [
            "(150, 1)\n",
            "(150,)\n",
            "(150, 1)\n"
          ],
          "name": "stdout"
        }
      ]
    },
    {
      "cell_type": "code",
      "metadata": {
        "id": "WH5EUbuT49H0",
        "colab_type": "code",
        "colab": {}
      },
      "source": [
        "#x sind randmon zahlen zwischen -20 und 60\n",
        "#x test ist der range in 150 schrtten von -20 +60 \n",
        "#y = (w0 * x * (1. + np.sin(x)) + b0) + eps"
      ],
      "execution_count": 0,
      "outputs": []
    },
    {
      "cell_type": "code",
      "metadata": {
        "id": "gHWXuf-g3UH5",
        "colab_type": "code",
        "outputId": "c53a1177-3a35-4d60-e9ff-a8a88bf07911",
        "colab": {
          "base_uri": "https://localhost:8080/",
          "height": 287
        }
      },
      "source": [
        "plt.scatter(x,y)"
      ],
      "execution_count": 120,
      "outputs": [
        {
          "output_type": "execute_result",
          "data": {
            "text/plain": [
              "<matplotlib.collections.PathCollection at 0x7f6f671c7390>"
            ]
          },
          "metadata": {
            "tags": []
          },
          "execution_count": 120
        },
        {
          "output_type": "display_data",
          "data": {
            "image/png": "[encoded data removed]",
            "text/plain": [
              "<Figure size 432x288 with 1 Axes>"
            ]
          },
          "metadata": {
            "tags": []
          }
        }
      ]
    },
    {
      "cell_type": "markdown",
      "metadata": {
        "id": "HjtX4nbdifcI",
        "colab_type": "text"
      },
      "source": [
        "### ML Estimator\n"
      ]
    },
    {
      "cell_type": "code",
      "metadata": {
        "id": "sdLi1V-7iAfN",
        "colab_type": "code",
        "colab": {
          "base_uri": "https://localhost:8080/",
          "height": 86
        },
        "outputId": "16a3bb0e-2fe8-40a0-f503-921ff96b65dd"
      },
      "source": [
        "from sklearn import linear_model\n",
        "regr = linear_model.LinearRegression(fit_intercept=True)\n",
        "regr.fit(x,y)\n",
        "# The coefficients\n",
        "a_ml = regr.coef_\n",
        "b_ml = regr.intercept_\n",
        "print('Coefficients: \\n', a_ml)\n",
        "print('Coefficients: \\n', b_ml)"
      ],
      "execution_count": 121,
      "outputs": [
        {
          "output_type": "stream",
          "text": [
            "Coefficients: \n",
            " [0.13523116]\n",
            "Coefficients: \n",
            " 5.128420601457348\n"
          ],
          "name": "stdout"
        }
      ]
    },
    {
      "cell_type": "code",
      "metadata": {
        "id": "UFDgqnFijP0s",
        "colab_type": "code",
        "colab": {
          "base_uri": "https://localhost:8080/",
          "height": 207
        },
        "outputId": "09abaa6c-c01a-4206-e9f8-145d6d48e063"
      },
      "source": [
        "#Build model.\n",
        "model = tf.keras.Sequential()\n",
        "model.add(tf.keras.layers.Dense(1,input_shape=(1,)))\n",
        "model.compile(loss='mse', optimizer=\"adam\", metrics=['accuracy'])\n",
        "model.summary()\n",
        "model.fit(x,y,batch_size=150,epochs=12000,verbose=0)"
      ],
      "execution_count": 122,
      "outputs": [
        {
          "output_type": "stream",
          "text": [
            "Model: \"sequential_4\"\n",
            "_________________________________________________________________\n",
            "Layer (type)                 Output Shape              Param #   \n",
            "=================================================================\n",
            "dense_3 (Dense)              (None, 1)                 2         \n",
            "=================================================================\n",
            "Total params: 2\n",
            "Trainable params: 2\n",
            "Non-trainable params: 0\n",
            "_________________________________________________________________\n"
          ],
          "name": "stdout"
        },
        {
          "output_type": "execute_result",
          "data": {
            "text/plain": [
              "<tensorflow.python.keras.callbacks.History at 0x7f6f67184c50>"
            ]
          },
          "metadata": {
            "tags": []
          },
          "execution_count": 122
        }
      ]
    },
    {
      "cell_type": "code",
      "metadata": {
        "id": "xDOJ45drjPxo",
        "colab_type": "code",
        "colab": {
          "base_uri": "https://localhost:8080/",
          "height": 34
        },
        "outputId": "f0600741-7824-487f-f644-54339960f5f3"
      },
      "source": [
        "model.get_weights()"
      ],
      "execution_count": 123,
      "outputs": [
        {
          "output_type": "execute_result",
          "data": {
            "text/plain": [
              "[array([[0.13523157]], dtype=float32), array([5.128403], dtype=float32)]"
            ]
          },
          "metadata": {
            "tags": []
          },
          "execution_count": 123
        }
      ]
    },
    {
      "cell_type": "code",
      "metadata": {
        "id": "gv4_woKn7hUa",
        "colab_type": "code",
        "colab": {
          "base_uri": "https://localhost:8080/",
          "height": 287
        },
        "outputId": "6fa5bbff-ec98-4a86-b294-6115825e2c8a"
      },
      "source": [
        "plt.scatter(x,y,color=\"red\") #observerd \n",
        "plt.scatter(x_tst,model.predict(x_tst),color=\"black\") #pred\n",
        "#plt.scatter(x_tst,model.predict(x_tst)-2,color=\"blue\") \n",
        "#plt.scatter(x_tst,model.predict(x_tst)+2,color=\"blue\") "
      ],
      "execution_count": 125,
      "outputs": [
        {
          "output_type": "execute_result",
          "data": {
            "text/plain": [
              "<matplotlib.collections.PathCollection at 0x7f6f62c662e8>"
            ]
          },
          "metadata": {
            "tags": []
          },
          "execution_count": 125
        },
        {
          "output_type": "display_data",
          "data": {
            "image/png": "[encoded data removed]",
            "text/plain": [
              "<Figure size 432x288 with 1 Axes>"
            ]
          },
          "metadata": {
            "tags": []
          }
        }
      ]
    },
    {
      "cell_type": "code",
      "metadata": {
        "id": "lqe0NAeT8kG8",
        "colab_type": "code",
        "colab": {
          "base_uri": "https://localhost:8080/",
          "height": 121
        },
        "outputId": "91dc1982-13a8-4964-a6f5-9ac2e8d8231b"
      },
      "source": [
        "print(model.predict(x_tst)[0:3])\n",
        "np.random.normal(loc=model.predict(x_tst)[0:3],scale=1)"
      ],
      "execution_count": 126,
      "outputs": [
        {
          "output_type": "stream",
          "text": [
            "[[2.4237719]\n",
            " [2.4963794]\n",
            " [2.568987 ]]\n"
          ],
          "name": "stdout"
        },
        {
          "output_type": "execute_result",
          "data": {
            "text/plain": [
              "array([[0.72796333],\n",
              "       [3.81016884],\n",
              "       [2.74953276]])"
            ]
          },
          "metadata": {
            "tags": []
          },
          "execution_count": 126
        }
      ]
    },
    {
      "cell_type": "markdown",
      "metadata": {
        "id": "yNkv3LCkGLu5",
        "colab_type": "text"
      },
      "source": [
        "## No UnC but dist as output with constant variance"
      ]
    },
    {
      "cell_type": "code",
      "metadata": {
        "id": "23a6DUlokJ-7",
        "colab_type": "code",
        "colab": {}
      },
      "source": [
        "negloglik = lambda y, rv_y: -rv_y.log_prob(y)#define negative loglike"
      ],
      "execution_count": 0,
      "outputs": []
    },
    {
      "cell_type": "code",
      "metadata": {
        "id": "j9uUFSqM3ULL",
        "colab_type": "code",
        "outputId": "2a2ffbda-aea5-4df3-afa5-d8e097328657",
        "colab": {
          "base_uri": "https://localhost:8080/",
          "height": 242
        }
      },
      "source": [
        "#Build model.\n",
        "model = tf.keras.Sequential()\n",
        "model.add(tf.keras.layers.Dense(1,input_shape=(1,)))\n",
        "model.add(tfp.layers.DistributionLambda(lambda t1: tfd.Normal(loc=t1, scale=1)))\n",
        "model.summary()\n",
        "# Do inference.\n",
        "model.compile(optimizer=tf.optimizers.Adam(learning_rate=0.01), loss=negloglik)\n",
        "model.fit(x, y, epochs=1000, verbose=0)\n",
        "#model.summary()"
      ],
      "execution_count": 127,
      "outputs": [
        {
          "output_type": "stream",
          "text": [
            "Model: \"sequential_5\"\n",
            "_________________________________________________________________\n",
            "Layer (type)                 Output Shape              Param #   \n",
            "=================================================================\n",
            "dense_4 (Dense)              (None, 1)                 2         \n",
            "_________________________________________________________________\n",
            "distribution_lambda_13 (Dist ((None, 1), (None, 1))    0         \n",
            "=================================================================\n",
            "Total params: 2\n",
            "Trainable params: 2\n",
            "Non-trainable params: 0\n",
            "_________________________________________________________________\n"
          ],
          "name": "stdout"
        },
        {
          "output_type": "execute_result",
          "data": {
            "text/plain": [
              "<tensorflow.python.keras.callbacks.History at 0x7f6f62c32e80>"
            ]
          },
          "metadata": {
            "tags": []
          },
          "execution_count": 127
        }
      ]
    },
    {
      "cell_type": "code",
      "metadata": {
        "id": "VOgP6ke-3UNo",
        "colab_type": "code",
        "colab": {
          "base_uri": "https://localhost:8080/",
          "height": 34
        },
        "outputId": "34843986-7f02-47fe-9384-ac7621d166c8"
      },
      "source": [
        "model.get_weights()"
      ],
      "execution_count": 128,
      "outputs": [
        {
          "output_type": "execute_result",
          "data": {
            "text/plain": [
              "[array([[0.13519734]], dtype=float32), array([5.134271], dtype=float32)]"
            ]
          },
          "metadata": {
            "tags": []
          },
          "execution_count": 128
        }
      ]
    },
    {
      "cell_type": "code",
      "metadata": {
        "id": "lk9H4PgNlRI5",
        "colab_type": "code",
        "colab": {}
      },
      "source": [
        "#model.predict(x_tst[0:3])\n",
        "#model"
      ],
      "execution_count": 0,
      "outputs": []
    },
    {
      "cell_type": "code",
      "metadata": {
        "id": "W0vExhOVm9NP",
        "colab_type": "code",
        "colab": {
          "base_uri": "https://localhost:8080/",
          "height": 224
        },
        "outputId": "17a63fce-4c4d-489c-ae84-21742e503a67"
      },
      "source": [
        "print(model(x_tst[0:3]).stddev())\n",
        "print(model(x_tst[0:3]).mean())\n",
        "print(model(x_tst[0:3]).sample())\n"
      ],
      "execution_count": 134,
      "outputs": [
        {
          "output_type": "stream",
          "text": [
            "tf.Tensor(\n",
            "[[1.]\n",
            " [1.]\n",
            " [1.]], shape=(3, 1), dtype=float32)\n",
            "tf.Tensor(\n",
            "[[2.4303243]\n",
            " [2.5029135]\n",
            " [2.5755026]], shape=(3, 1), dtype=float32)\n",
            "tf.Tensor(\n",
            "[[1.2758113]\n",
            " [1.3413293]\n",
            " [2.4421542]], shape=(3, 1), dtype=float32)\n"
          ],
          "name": "stdout"
        }
      ]
    },
    {
      "cell_type": "code",
      "metadata": {
        "id": "qDQ033_vldLp",
        "colab_type": "code",
        "colab": {
          "base_uri": "https://localhost:8080/",
          "height": 287
        },
        "outputId": "73cb39a9-1e42-4db3-8c21-26b04d32f838"
      },
      "source": [
        "plt.scatter(x,y,color=\"red\") \n",
        "plt.scatter(x_tst,model(x_tst).mean(),color=\"black\")\n",
        "plt.scatter(x_tst,model(x_tst).mean()+2*model(x_tst).stddev(),color=\"blue\")\n",
        "plt.scatter(x_tst,model(x_tst).mean()-2*model(x_tst).stddev(),color=\"blue\")"
      ],
      "execution_count": 135,
      "outputs": [
        {
          "output_type": "execute_result",
          "data": {
            "text/plain": [
              "<matplotlib.collections.PathCollection at 0x7f6f5f06ab70>"
            ]
          },
          "metadata": {
            "tags": []
          },
          "execution_count": 135
        },
        {
          "output_type": "display_data",
          "data": {
            "image/png": "[encoded data removed]",
            "text/plain": [
              "<Figure size 432x288 with 1 Axes>"
            ]
          },
          "metadata": {
            "tags": []
          }
        }
      ]
    },
    {
      "cell_type": "code",
      "metadata": {
        "id": "RoRFKeNC81wU",
        "colab_type": "code",
        "colab": {}
      },
      "source": [
        "#plt.scatter(x,y,color=\"red\") #observerd \n",
        "##for i in range(0,1):\n",
        "##  plt.scatter(x_tst,model(x_tst).sample())\n",
        "#plt.scatter(x_tst,model(x_tst).mean(),color=\"black\")\n",
        "#plt.scatter(x_tst,model(x_tst).mean()+2*model(x_tst).stddev(),color=\"blue\")\n",
        "#plt.scatter(x_tst,model(x_tst).mean()-2*model(x_tst).stddev(),color=\"blue\")"
      ],
      "execution_count": 0,
      "outputs": []
    },
    {
      "cell_type": "code",
      "metadata": {
        "id": "yZoDooVJTXXK",
        "colab_type": "code",
        "colab": {}
      },
      "source": [
        "#model(x_tst).prob(5).numpy()#prob for x test 5 to habe the value 5"
      ],
      "execution_count": 0,
      "outputs": []
    },
    {
      "cell_type": "markdown",
      "metadata": {
        "id": "tkw-L_QrKPri",
        "colab_type": "text"
      },
      "source": [
        "### Case 2: Aleatoric Uncertainty"
      ]
    },
    {
      "cell_type": "code",
      "metadata": {
        "id": "Ifujx8aXr9bP",
        "colab_type": "code",
        "colab": {}
      },
      "source": [
        "#x=np.arange(-10,10,1)\n",
        "#y1= tf.math.softplus(0.05*y)\n",
        "#y2=np.log(1 + np.exp(x))\n",
        "#plt.scatter(x,y1)\n",
        "##plt.scatter(x,y2)"
      ],
      "execution_count": 0,
      "outputs": []
    },
    {
      "cell_type": "code",
      "metadata": {
        "id": "0Z1PFDcX8GNB",
        "colab_type": "code",
        "outputId": "c1b5c53a-b86e-49a6-ae22-ffb03bc40259",
        "colab": {
          "base_uri": "https://localhost:8080/",
          "height": 224
        }
      },
      "source": [
        "\n",
        "#Build model.\n",
        "model = tf.keras.Sequential()\n",
        "model.add(tf.keras.layers.Dense(2,input_shape=(1,)))\n",
        "model.add(tfp.layers.DistributionLambda(lambda t: tfd.Normal(loc=t[:, 0:1],\n",
        "                                                              scale=1e-3 + tf.math.softplus(0.05 * t[:,1:2]))))\n",
        "### neu ist das softplus nun wird var mit modelliert)\n",
        "model.summary()\n",
        "# Do inference.\n",
        "model.compile(optimizer=tf.optimizers.Adam(learning_rate=0.01), loss=negloglik)\n",
        "\n",
        "\n"
      ],
      "execution_count": 136,
      "outputs": [
        {
          "output_type": "stream",
          "text": [
            "Model: \"sequential_6\"\n",
            "_________________________________________________________________\n",
            "Layer (type)                 Output Shape              Param #   \n",
            "=================================================================\n",
            "dense_5 (Dense)              (None, 2)                 4         \n",
            "_________________________________________________________________\n",
            "distribution_lambda_14 (Dist ((None, 1), (None, 1))    0         \n",
            "=================================================================\n",
            "Total params: 4\n",
            "Trainable params: 4\n",
            "Non-trainable params: 0\n",
            "_________________________________________________________________\n"
          ],
          "name": "stdout"
        }
      ]
    },
    {
      "cell_type": "code",
      "metadata": {
        "id": "gBADUdiOLZmz",
        "colab_type": "code",
        "colab": {}
      },
      "source": [
        "model.fit(x, y, epochs=2000, verbose=False);\n"
      ],
      "execution_count": 0,
      "outputs": []
    },
    {
      "cell_type": "code",
      "metadata": {
        "id": "6JFwMeDoLiHu",
        "colab_type": "code",
        "outputId": "61c8bfbc-aa9e-4207-9c42-c8e0c3439d02",
        "colab": {
          "base_uri": "https://localhost:8080/",
          "height": 52
        }
      },
      "source": [
        "model.get_weights()"
      ],
      "execution_count": 138,
      "outputs": [
        {
          "output_type": "execute_result",
          "data": {
            "text/plain": [
              "[array([[0.12696989, 1.0305393 ]], dtype=float32),\n",
              " array([ 5.215166, 23.667416], dtype=float32)]"
            ]
          },
          "metadata": {
            "tags": []
          },
          "execution_count": 138
        }
      ]
    },
    {
      "cell_type": "code",
      "metadata": {
        "id": "prgOkWvn_90E",
        "colab_type": "code",
        "colab": {
          "base_uri": "https://localhost:8080/",
          "height": 52
        },
        "outputId": "54ca96ed-6d6b-4933-a221-70dfbcf21f7f"
      },
      "source": [
        "print(model(x_tst[0:1]).mean())\n",
        "print(model(x_tst[0:1]).stddev())"
      ],
      "execution_count": 139,
      "outputs": [
        {
          "output_type": "stream",
          "text": [
            "tf.Tensor([[2.6757684]], shape=(1, 1), dtype=float32)\n",
            "tf.Tensor([[0.7734798]], shape=(1, 1), dtype=float32)\n"
          ],
          "name": "stdout"
        }
      ]
    },
    {
      "cell_type": "code",
      "metadata": {
        "id": "AbbtHqfJABjL",
        "colab_type": "code",
        "colab": {
          "base_uri": "https://localhost:8080/",
          "height": 52
        },
        "outputId": "62cbc546-6bb5-493c-9e79-2ceedd5d1a83"
      },
      "source": [
        "print(x_tst[0:1]*0.12251923+5.202958)\n",
        "print(tf.math.softplus(0.05*(x_tst[0:1]*1.0129702 +16.956917)))"
      ],
      "execution_count": 25,
      "outputs": [
        {
          "output_type": "stream",
          "text": [
            "[[2.7525735]]\n",
            "tf.Tensor([[0.6139894]], shape=(1, 1), dtype=float32)\n"
          ],
          "name": "stdout"
        }
      ]
    },
    {
      "cell_type": "code",
      "metadata": {
        "id": "Yq-n1AzSL3si",
        "colab_type": "code",
        "outputId": "45264f17-55f1-4fd4-ddfc-fc3adf09d392",
        "colab": {
          "base_uri": "https://localhost:8080/",
          "height": 287
        }
      },
      "source": [
        "plt.scatter(x,y,color=\"red\") #observerd \n",
        "#for i in range(0,3):\n",
        " # plt.scatter(x_tst,model(x_tst).sample())\n",
        "plt.scatter(x_tst,model(x_tst).mean(),color=\"black\")\n",
        "plt.scatter(x_tst,model(x_tst).mean()+2*model(x_tst).stddev(),color=\"blue\")\n",
        "plt.scatter(x_tst,model(x_tst).mean()-2*model(x_tst).stddev(),color=\"blue\")"
      ],
      "execution_count": 142,
      "outputs": [
        {
          "output_type": "execute_result",
          "data": {
            "text/plain": [
              "<matplotlib.collections.PathCollection at 0x7f6f67c07eb8>"
            ]
          },
          "metadata": {
            "tags": []
          },
          "execution_count": 142
        },
        {
          "output_type": "display_data",
          "data": {
            "image/png": "[encoded data removed]",
            "text/plain": [
              "<Figure size 432x288 with 1 Axes>"
            ]
          },
          "metadata": {
            "tags": []
          }
        }
      ]
    },
    {
      "cell_type": "markdown",
      "metadata": {
        "id": "VPhGEcffMISf",
        "colab_type": "text"
      },
      "source": [
        "### Case 3: Epistemic Uncertainty"
      ]
    },
    {
      "cell_type": "code",
      "metadata": {
        "id": "Ij52iLkSGQqA",
        "colab_type": "code",
        "colab": {
          "base_uri": "https://localhost:8080/",
          "height": 228
        },
        "outputId": "f616519f-b11c-43ea-e3da-60461aaaa1d5"
      },
      "source": [
        "#Build model.\n",
        "model = tf.keras.Sequential()\n",
        "model.add(tfp.layers.DenseFlipout(1,\n",
        "                                  bias_posterior_fn=tfp.layers.util.default_mean_field_normal_fn(),\n",
        "                                  bias_prior_fn=tfp.layers.default_multivariate_normal_fn,\n",
        "                                  input_shape=(1,),))\n",
        "model.add(tfp.layers.DistributionLambda(lambda t: tfd.Normal(loc=t,scale=1)))\n",
        "#model.add(tf.keras.layers.Dense(1))\n",
        "#weights haben nun eine dist und output ist auch eine dist mit konst sd=1\n",
        "model.summary()\n",
        "# Do inference.\n",
        "model.compile(optimizer=tf.optimizers.Adam(learning_rate=0.01), loss=negloglik)\n",
        "\n",
        "\n"
      ],
      "execution_count": 143,
      "outputs": [
        {
          "output_type": "stream",
          "text": [
            "Model: \"sequential_7\"\n",
            "_________________________________________________________________\n",
            "Layer (type)                 Output Shape              Param #   \n",
            "=================================================================\n",
            "dense_flipout_10 (DenseFlipo (None, 1)                 4         \n",
            "_________________________________________________________________\n",
            "distribution_lambda_15 (Dist ((None, 1), (None, 1))    0         \n",
            "=================================================================\n",
            "Total params: 4\n",
            "Trainable params: 4\n",
            "Non-trainable params: 0\n",
            "_________________________________________________________________\n"
          ],
          "name": "stdout"
        }
      ]
    },
    {
      "cell_type": "code",
      "metadata": {
        "id": "rxCaL0FcGTN-",
        "colab_type": "code",
        "colab": {
          "base_uri": "https://localhost:8080/",
          "height": 34
        },
        "outputId": "96582900-e86d-4550-bb1d-a10fef86c31a"
      },
      "source": [
        "model.fit(x, y, epochs=1000, verbose=0)\n"
      ],
      "execution_count": 144,
      "outputs": [
        {
          "output_type": "execute_result",
          "data": {
            "text/plain": [
              "<tensorflow.python.keras.callbacks.History at 0x7f6f5ab2bb00>"
            ]
          },
          "metadata": {
            "tags": []
          },
          "execution_count": 144
        }
      ]
    },
    {
      "cell_type": "code",
      "metadata": {
        "id": "jx40gvsfUzAU",
        "colab_type": "code",
        "colab": {
          "base_uri": "https://localhost:8080/",
          "height": 87
        },
        "outputId": "93cef268-6cf4-42cf-ffc3-1ff521cd7424"
      },
      "source": [
        "model.get_weights()"
      ],
      "execution_count": 145,
      "outputs": [
        {
          "output_type": "execute_result",
          "data": {
            "text/plain": [
              "[array([[0.20571642]], dtype=float32),\n",
              " array([[-3.3906093]], dtype=float32),\n",
              " array([1.8839672], dtype=float32),\n",
              " array([-0.0242087], dtype=float32)]"
            ]
          },
          "metadata": {
            "tags": []
          },
          "execution_count": 145
        }
      ]
    },
    {
      "cell_type": "code",
      "metadata": {
        "id": "IbGDqcFMWM-5",
        "colab_type": "code",
        "colab": {
          "base_uri": "https://localhost:8080/",
          "height": 167
        },
        "outputId": "d8bf9085-c567-48d4-cdc4-10a34f754165"
      },
      "source": [
        "model(x_tst).mean().numpy()"
      ],
      "execution_count": 151,
      "outputs": [
        {
          "output_type": "error",
          "ename": "AttributeError",
          "evalue": "ignored",
          "traceback": [
            "\u001b[0;31m---------------------------------------------------------------------------\u001b[0m",
            "\u001b[0;31mAttributeError\u001b[0m                            Traceback (most recent call last)",
            "\u001b[0;32m<ipython-input-151-47ab95ea2206>\u001b[0m in \u001b[0;36m<module>\u001b[0;34m()\u001b[0m\n\u001b[0;32m----> 1\u001b[0;31m \u001b[0mmodel\u001b[0m\u001b[0;34m(\u001b[0m\u001b[0mx_tst\u001b[0m\u001b[0;34m)\u001b[0m\u001b[0;34m.\u001b[0m\u001b[0mmean\u001b[0m\u001b[0;34m(\u001b[0m\u001b[0;34m)\u001b[0m\u001b[0;34m.\u001b[0m\u001b[0mnumpy\u001b[0m\u001b[0;34m(\u001b[0m\u001b[0;34m)\u001b[0m\u001b[0;34m\u001b[0m\u001b[0;34m\u001b[0m\u001b[0m\n\u001b[0m",
            "\u001b[0;31mAttributeError\u001b[0m: 'Tensor' object has no attribute 'numpy'"
          ]
        }
      ]
    },
    {
      "cell_type": "code",
      "metadata": {
        "id": "tI58pzgMXwo-",
        "colab_type": "code",
        "colab": {
          "base_uri": "https://localhost:8080/",
          "height": 263
        },
        "outputId": "5597a56d-d30e-4eec-f74f-089f19dabd5c"
      },
      "source": [
        "from tensorflow.keras.layers import Input, Dense\n",
        "from tensorflow.keras.models import Model\n",
        "\n",
        "\n",
        "\n",
        "\n",
        "# This returns a tensor\n",
        "inputs = Input(shape=(1,))\n",
        "\n",
        "# a layer instance is callable on a tensor, and returns a tensor\n",
        "xx = tfp.layers.DenseFlipout(1,bias_posterior_fn=tfp.layers.util.default_mean_field_normal_fn(),\n",
        "                           bias_prior_fn=tfp.layers.default_multivariate_normal_fn)(inputs)\n",
        "\n",
        "predictions = tfp.layers.DistributionLambda(lambda t: tfd.Normal(loc=t,scale=1.))(xx)\n",
        "\n",
        "\n",
        "model = Model(inputs=inputs, outputs=predictions)\n",
        "model.summary()\n",
        "# Do inference.\n",
        "model.compile(optimizer=tf.optimizers.Adam(learning_rate=0.01), loss=negloglik)"
      ],
      "execution_count": 147,
      "outputs": [
        {
          "output_type": "stream",
          "text": [
            "Model: \"model_17\"\n",
            "_________________________________________________________________\n",
            "Layer (type)                 Output Shape              Param #   \n",
            "=================================================================\n",
            "input_10 (InputLayer)        [(None, 1)]               0         \n",
            "_________________________________________________________________\n",
            "dense_flipout_11 (DenseFlipo (None, 1)                 4         \n",
            "_________________________________________________________________\n",
            "distribution_lambda_16 (Dist ((None, 1), (None, 1))    0         \n",
            "=================================================================\n",
            "Total params: 4\n",
            "Trainable params: 4\n",
            "Non-trainable params: 0\n",
            "_________________________________________________________________\n"
          ],
          "name": "stdout"
        }
      ]
    },
    {
      "cell_type": "code",
      "metadata": {
        "id": "LQIK8-rIXw3E",
        "colab_type": "code",
        "colab": {
          "base_uri": "https://localhost:8080/",
          "height": 34
        },
        "outputId": "b25f3106-fbae-46c0-b653-3eb5cbeff1ae"
      },
      "source": [
        "model.fit(x, y,batch_size=32 ,epochs=7000, verbose=0)\n"
      ],
      "execution_count": 148,
      "outputs": [
        {
          "output_type": "execute_result",
          "data": {
            "text/plain": [
              "<tensorflow.python.keras.callbacks.History at 0x7f6f578554a8>"
            ]
          },
          "metadata": {
            "tags": []
          },
          "execution_count": 148
        }
      ]
    },
    {
      "cell_type": "code",
      "metadata": {
        "id": "5SbH5yObXwzj",
        "colab_type": "code",
        "colab": {
          "base_uri": "https://localhost:8080/",
          "height": 86
        },
        "outputId": "b945a799-2e75-4347-f16c-9818c48707ee"
      },
      "source": [
        "model.get_weights()"
      ],
      "execution_count": 149,
      "outputs": [
        {
          "output_type": "execute_result",
          "data": {
            "text/plain": [
              "[array([[0.20507409]], dtype=float32),\n",
              " array([[-3.4954696]], dtype=float32),\n",
              " array([1.8992219], dtype=float32),\n",
              " array([-0.06210498], dtype=float32)]"
            ]
          },
          "metadata": {
            "tags": []
          },
          "execution_count": 149
        }
      ]
    },
    {
      "cell_type": "code",
      "metadata": {
        "id": "o1HH0oJuavCw",
        "colab_type": "code",
        "colab": {}
      },
      "source": [
        "model_mean = tf.keras.models.Model(inputs=inputs, outputs=predictions.mean())\n",
        "model_std = tf.keras.models.Model(inputs=inputs, outputs=predictions.stddev())"
      ],
      "execution_count": 0,
      "outputs": []
    },
    {
      "cell_type": "code",
      "metadata": {
        "id": "Xh7ds6b4cPyw",
        "colab_type": "code",
        "colab": {
          "base_uri": "https://localhost:8080/",
          "height": 86
        },
        "outputId": "465e62b7-4bc8-4bff-e0aa-e36387865404"
      },
      "source": [
        "model_mean.get_weights()"
      ],
      "execution_count": 153,
      "outputs": [
        {
          "output_type": "execute_result",
          "data": {
            "text/plain": [
              "[array([[0.20507409]], dtype=float32),\n",
              " array([[-3.4954696]], dtype=float32),\n",
              " array([1.8992219], dtype=float32),\n",
              " array([-0.06210498], dtype=float32)]"
            ]
          },
          "metadata": {
            "tags": []
          },
          "execution_count": 153
        }
      ]
    },
    {
      "cell_type": "code",
      "metadata": {
        "id": "5exA7qqfY5U5",
        "colab_type": "code",
        "colab": {
          "base_uri": "https://localhost:8080/",
          "height": 104
        },
        "outputId": "498ef3c0-8bc6-4905-a455-3b6391224cf1"
      },
      "source": [
        "for i in range(0,5):\n",
        "  print(model_mean.predict(x_tst[0:1]))"
      ],
      "execution_count": 154,
      "outputs": [
        {
          "output_type": "stream",
          "text": [
            "[[-0.9541004]]\n",
            "[[-2.3474586]]\n",
            "[[-2.9268923]]\n",
            "[[-2.2047527]]\n",
            "[[-1.1495533]]\n"
          ],
          "name": "stdout"
        }
      ]
    },
    {
      "cell_type": "code",
      "metadata": {
        "id": "0T4r0Pr7ROEL",
        "colab_type": "code",
        "colab": {
          "base_uri": "https://localhost:8080/",
          "height": 269
        },
        "outputId": "94599966-d680-4926-ecef-88b30e61c0a0"
      },
      "source": [
        "plt.scatter(x,y,color=\"red\") #observerd \n",
        "for i in range(0,100):\n",
        "  plt.scatter(x_tst,model_mean.predict(x_tst),color=\"black\")\n",
        "#plt.scatter(x_tst,model(x_tst).mean(),color=\"black\")\n",
        "#plt.scatter(x_tst,model(x_tst).mean()+2*model(x_tst).stddev(),color=\"blue\")\n",
        "#plt.scatter(x_tst,model(x_tst).mean()-2*model(x_tst).stddev(),color=\"blue\")"
      ],
      "execution_count": 159,
      "outputs": [
        {
          "output_type": "display_data",
          "data": {
            "image/png": "[encoded data removed]",
            "text/plain": [
              "<Figure size 432x288 with 1 Axes>"
            ]
          },
          "metadata": {
            "tags": []
          }
        }
      ]
    },
    {
      "cell_type": "code",
      "metadata": {
        "id": "YXc_sZHRet-g",
        "colab_type": "code",
        "colab": {
          "base_uri": "https://localhost:8080/",
          "height": 287
        },
        "outputId": "c8651bc8-6fab-4752-cd00-b355ce8ff474"
      },
      "source": [
        "plt.scatter(x_tst,model_mean.predict(x_tst),color=\"black\")\n",
        "#plt.scatter(x_tst,model_mean.predict(x_tst)+2*model_std.predict(x_tst),color=\"blue\")\n",
        "#plt.scatter(x_tst,model_mean.predict(x_tst)-2*model_std.predict(x_tst),color=\"blue\")"
      ],
      "execution_count": 156,
      "outputs": [
        {
          "output_type": "execute_result",
          "data": {
            "text/plain": [
              "<matplotlib.collections.PathCollection at 0x7f6f51c1ee10>"
            ]
          },
          "metadata": {
            "tags": []
          },
          "execution_count": 156
        },
        {
          "output_type": "display_data",
          "data": {
            "image/png": "[encoded data removed]",
            "text/plain": [
              "<Figure size 432x288 with 1 Axes>"
            ]
          },
          "metadata": {
            "tags": []
          }
        }
      ]
    },
    {
      "cell_type": "code",
      "metadata": {
        "id": "Xo8BxRP4ROIC",
        "colab_type": "code",
        "colab": {}
      },
      "source": [
        "### end"
      ],
      "execution_count": 0,
      "outputs": []
    },
    {
      "cell_type": "code",
      "metadata": {
        "id": "EbS4V9V0ROBC",
        "colab_type": "code",
        "colab": {}
      },
      "source": [
        ""
      ],
      "execution_count": 0,
      "outputs": []
    },
    {
      "cell_type": "code",
      "metadata": {
        "id": "fZCzpX1bGTLE",
        "colab_type": "code",
        "colab": {}
      },
      "source": [
        ""
      ],
      "execution_count": 0,
      "outputs": []
    },
    {
      "cell_type": "code",
      "metadata": {
        "cellView": "both",
        "colab_type": "code",
        "id": "VwzbWw3_CQ2z",
        "colab": {}
      },
      "source": [
        "# Specify the surrogate posterior over `keras.layers.Dense` `kernel` and `bias`.\n",
        "def posterior_mean_field(kernel_size, bias_size=0, dtype=None):\n",
        "  n = kernel_size + bias_size\n",
        "  c = np.log(np.expm1(1.))\n",
        "  return tf.keras.Sequential([\n",
        "      tfp.layers.VariableLayer(n*2, dtype=dtype),\n",
        "      tfp.layers.DistributionLambda(lambda t: tfd.Independent(\n",
        "          tfd.Normal(loc=t[..., :n],\n",
        "                     scale=1e-5 + tf.nn.softplus(c + t[..., n:])),\n",
        "          reinterpreted_batch_ndims=1)),\n",
        "  ])"
      ],
      "execution_count": 0,
      "outputs": []
    },
    {
      "cell_type": "code",
      "metadata": {
        "cellView": "both",
        "colab_type": "code",
        "id": "aAQhyK9Y_lm1",
        "colab": {}
      },
      "source": [
        "# Specify the surrogate posterior over `keras.layers.Dense` `kernel` and `bias`.\n",
        "def prior_trainable(kernel_size, bias_size=0, dtype=None):\n",
        "  n = kernel_size + bias_size\n",
        "  return tf.keras.Sequential([\n",
        "      tfp.layers.VariableLayer(n, dtype=dtype),\n",
        "      tfp.layers.DistributionLambda(lambda t: tfd.Independent(\n",
        "          tfd.Normal(loc=t, scale=1),\n",
        "          reinterpreted_batch_ndims=1)),\n",
        "  ])"
      ],
      "execution_count": 0,
      "outputs": []
    },
    {
      "cell_type": "code",
      "metadata": {
        "colab_type": "code",
        "id": "XI7ZCFzSnrWN",
        "outputId": "b06927bf-0d6f-4666-ec9f-df66f225c1d8",
        "colab": {
          "base_uri": "https://localhost:8080/",
          "height": 237
        }
      },
      "source": [
        "# Build model.\n",
        "model = tf.keras.Sequential([\n",
        "tfp.layers.DenseVariational(1, posterior_mean_field, prior_trainable,input_shape=(1,),activation=\"relu\"),\n",
        "  #tfp.layers.DenseVariational(10, posterior_mean_field, prior_trainable),\n",
        "  #tfp.layers.DenseVariational(1, posterior_mean_field, prior_trainable),\n",
        "  #tfp.layers.DistributionLambda(lambda t: tfd.Normal(loc=t, scale=1)),\n",
        "])\n",
        "\n",
        "# Do inference.\n",
        "model.summary()\n",
        "model.compile(optimizer=tf.optimizers.Adam(learning_rate=0.01), loss=negloglik)\n"
      ],
      "execution_count": 92,
      "outputs": [
        {
          "output_type": "error",
          "ename": "NameError",
          "evalue": "ignored",
          "traceback": [
            "\u001b[0;31m---------------------------------------------------------------------------\u001b[0m",
            "\u001b[0;31mNameError\u001b[0m                                 Traceback (most recent call last)",
            "\u001b[0;32m<ipython-input-92-0f0bccef87e9>\u001b[0m in \u001b[0;36m<module>\u001b[0;34m()\u001b[0m\n\u001b[1;32m      1\u001b[0m model = tf.keras.Sequential([\n\u001b[0;32m----> 2\u001b[0;31m \u001b[0mtfp\u001b[0m\u001b[0;34m.\u001b[0m\u001b[0mlayers\u001b[0m\u001b[0;34m.\u001b[0m\u001b[0mDenseVariational\u001b[0m\u001b[0;34m(\u001b[0m\u001b[0;36m1\u001b[0m\u001b[0;34m,\u001b[0m \u001b[0mposterior_mean_field\u001b[0m\u001b[0;34m,\u001b[0m \u001b[0mprior_trainable\u001b[0m\u001b[0;34m,\u001b[0m\u001b[0minput_shape\u001b[0m\u001b[0;34m=\u001b[0m\u001b[0;34m(\u001b[0m\u001b[0;36m1\u001b[0m\u001b[0;34m,\u001b[0m\u001b[0;34m)\u001b[0m\u001b[0;34m,\u001b[0m\u001b[0mactivation\u001b[0m\u001b[0;34m=\u001b[0m\u001b[0;34m\"relu\"\u001b[0m\u001b[0;34m)\u001b[0m\u001b[0;34m,\u001b[0m\u001b[0;34m\u001b[0m\u001b[0;34m\u001b[0m\u001b[0m\n\u001b[0m\u001b[1;32m      3\u001b[0m   \u001b[0;31m#tfp.layers.DenseVariational(10, posterior_mean_field, prior_trainable),\u001b[0m\u001b[0;34m\u001b[0m\u001b[0;34m\u001b[0m\u001b[0;34m\u001b[0m\u001b[0m\n\u001b[1;32m      4\u001b[0m   \u001b[0;31m#tfp.layers.DenseVariational(1, posterior_mean_field, prior_trainable),\u001b[0m\u001b[0;34m\u001b[0m\u001b[0;34m\u001b[0m\u001b[0;34m\u001b[0m\u001b[0m\n\u001b[1;32m      5\u001b[0m   \u001b[0;31m#tfp.layers.DistributionLambda(lambda t: tfd.Normal(loc=t, scale=1)),\u001b[0m\u001b[0;34m\u001b[0m\u001b[0;34m\u001b[0m\u001b[0;34m\u001b[0m\u001b[0m\n",
            "\u001b[0;31mNameError\u001b[0m: name 'posterior_mean_field' is not defined"
          ]
        }
      ]
    },
    {
      "cell_type": "code",
      "metadata": {
        "id": "ADhKzRmywoDy",
        "colab_type": "code",
        "colab": {}
      },
      "source": [
        "#from IPython.display import SVG\n",
        "#SVG(model_to_dot(model,show_shapes=True).create(prog='dot', format='svg'))\n",
        "#from keras.utils.vis_utils import model_to_dot\n",
        "#"
      ],
      "execution_count": 0,
      "outputs": []
    },
    {
      "cell_type": "code",
      "metadata": {
        "id": "j_Sj1WQYOw6W",
        "colab_type": "code",
        "colab": {
          "base_uri": "https://localhost:8080/",
          "height": 34
        },
        "outputId": "229621c3-6588-42ca-9285-f8096b249d2b"
      },
      "source": [
        "model(x_tst[0:1]).stddev()"
      ],
      "execution_count": 207,
      "outputs": [
        {
          "output_type": "execute_result",
          "data": {
            "text/plain": [
              "<tf.Tensor: id=1055749, shape=(1, 1), dtype=float32, numpy=array([[1.]], dtype=float32)>"
            ]
          },
          "metadata": {
            "tags": []
          },
          "execution_count": 207
        }
      ]
    },
    {
      "cell_type": "code",
      "metadata": {
        "id": "MsNuyxvGMTEW",
        "colab_type": "code",
        "colab": {}
      },
      "source": [
        "model.fit(x, y, epochs=1000, verbose=False);\n",
        "\n"
      ],
      "execution_count": 0,
      "outputs": []
    },
    {
      "cell_type": "code",
      "metadata": {
        "id": "zyOc7lHLMkZl",
        "colab_type": "code",
        "outputId": "dc84f13b-c937-4103-8ff5-d88bc5b00d7e",
        "colab": {
          "base_uri": "https://localhost:8080/",
          "height": 52
        }
      },
      "source": [
        "# Profit.\n",
        "[print(np.squeeze(w.numpy())) for w in model.weights];\n",
        "#yhat = model(x_tst)\n",
        "#assert isinstance(yhat, tfd.Distribution)"
      ],
      "execution_count": 0,
      "outputs": [
        {
          "output_type": "stream",
          "text": [
            "[ 0.15286246  4.7040496  -3.66455    -0.52826744]\n",
            "[0.13826916 4.6131687 ]\n"
          ],
          "name": "stdout"
        }
      ]
    },
    {
      "cell_type": "code",
      "metadata": {
        "id": "2ma_lBuRMrpP",
        "colab_type": "code",
        "outputId": "53625af7-e944-492f-ee92-7376fa8c6f24",
        "colab": {
          "base_uri": "https://localhost:8080/",
          "height": 52
        }
      },
      "source": [
        "model.get_weights()#mitelwert von steigung und intercept und noch dazue die standartabweichung beide sind normalverteilt"
      ],
      "execution_count": 0,
      "outputs": [
        {
          "output_type": "execute_result",
          "data": {
            "text/plain": [
              "[array([ 0.15286246,  4.7040496 , -3.66455   , -0.52826744], dtype=float32),\n",
              " array([0.13826916, 4.6131687 ], dtype=float32)]"
            ]
          },
          "metadata": {
            "tags": []
          },
          "execution_count": 101
        }
      ]
    },
    {
      "cell_type": "code",
      "metadata": {
        "id": "DPM47lCKOPbv",
        "colab_type": "code",
        "colab": {}
      },
      "source": [
        "#model(x_tst).mean()"
      ],
      "execution_count": 0,
      "outputs": []
    },
    {
      "cell_type": "code",
      "metadata": {
        "id": "a-PFCgeJOW5m",
        "colab_type": "code",
        "colab": {}
      },
      "source": [
        "#model(x_tst).stddev()"
      ],
      "execution_count": 0,
      "outputs": []
    },
    {
      "cell_type": "code",
      "metadata": {
        "id": "B4JAh9ljNBUE",
        "colab_type": "code",
        "outputId": "3308084c-84a1-4d29-f942-a8ea6716171e",
        "colab": {
          "base_uri": "https://localhost:8080/",
          "height": 269
        }
      },
      "source": [
        "plt.scatter(x,y,color=\"red\") #observerd \n",
        "#for i in range(0,3):\n",
        "  #plt.scatter(x_tst,model(x_tst).sample())\n",
        "for i in range(0,3):\n",
        "  plt.scatter(x_tst,model(x_tst).mean(),color=\"black\")\n",
        "  #plt.scatter(x_tst,model(x_tst).mean()+2*model(x_tst).stddev(),color=\"blue\")\n",
        "  #plt.scatter(x_tst,model(x_tst).mean()-2*model(x_tst).stddev(),color=\"blue\")"
      ],
      "execution_count": 0,
      "outputs": [
        {
          "output_type": "display_data",
          "data": {
            "image/png": "[encoded data removed]",
            "text/plain": [
              "<Figure size 432x288 with 1 Axes>"
            ]
          },
          "metadata": {
            "tags": []
          }
        }
      ]
    },
    {
      "cell_type": "code",
      "metadata": {
        "id": "pWpY1OgpPadD",
        "colab_type": "code",
        "colab": {}
      },
      "source": [
        "#model(x_tst).mean()"
      ],
      "execution_count": 0,
      "outputs": []
    },
    {
      "cell_type": "markdown",
      "metadata": {
        "id": "hHnVP1Y2O1Ug",
        "colab_type": "text"
      },
      "source": [
        "### Case 4: Aleatoric & Epistemic Uncertainty"
      ]
    },
    {
      "cell_type": "code",
      "metadata": {
        "colab_type": "code",
        "id": "GcRC3uwcft6l",
        "outputId": "ed5e442b-29df-43d4-c6f9-8f1ff46a2105",
        "colab": {
          "base_uri": "https://localhost:8080/",
          "height": 225
        }
      },
      "source": [
        "# Build model.\n",
        "model = tf.keras.Sequential([\n",
        "  tfp.layers.DenseVariational(2, posterior_mean_field, prior_trainable,input_shape=(1,)),\n",
        "  tfp.layers.DistributionLambda(\n",
        "      lambda t: tfd.Normal(loc=t[..., :1],\n",
        "                           scale=1e-3 + tf.math.softplus(0.01 * t[...,1:]))),\n",
        "])\n",
        "\n",
        "# Do inference.\n",
        "model.summary()\n",
        "model.compile(optimizer=tf.optimizers.Adam(learning_rate=0.01), loss=negloglik)\n"
      ],
      "execution_count": 0,
      "outputs": [
        {
          "output_type": "stream",
          "text": [
            "Model: \"sequential_31\"\n",
            "_________________________________________________________________\n",
            "Layer (type)                 Output Shape              Param #   \n",
            "=================================================================\n",
            "dense_variational_18 (DenseV (None, 2)                 12        \n",
            "_________________________________________________________________\n",
            "distribution_lambda_31 (Dist ((None, 1), (None, 1))    0         \n",
            "=================================================================\n",
            "Total params: 12\n",
            "Trainable params: 12\n",
            "Non-trainable params: 0\n",
            "_________________________________________________________________\n"
          ],
          "name": "stdout"
        }
      ]
    },
    {
      "cell_type": "code",
      "metadata": {
        "id": "RJHYyc7DQJkx",
        "colab_type": "code",
        "colab": {}
      },
      "source": [
        "model.fit(x, y, epochs=1000, verbose=False);\n"
      ],
      "execution_count": 0,
      "outputs": []
    },
    {
      "cell_type": "code",
      "metadata": {
        "id": "daefIhE0Ruaj",
        "colab_type": "code",
        "outputId": "cfb4d42f-3e25-40f5-98f4-47fa83aebaf0",
        "colab": {
          "base_uri": "https://localhost:8080/",
          "height": 69
        }
      },
      "source": [
        "\n",
        "# Profit.\n",
        "[print(np.squeeze(w.numpy())) for w in model.weights];\n",
        "#yhat = model(x_tst)\n",
        "#assert isinstance(yhat, tfd.Distribution)"
      ],
      "execution_count": 0,
      "outputs": [
        {
          "output_type": "stream",
          "text": [
            "[ 0.12944002  2.4189117   5.1540465   2.7859828  -3.2581356  -0.65550274\n",
            " -0.56626487 -0.02603184]\n",
            "[0.14465801 2.3947232  5.172522   2.651446  ]\n"
          ],
          "name": "stdout"
        }
      ]
    },
    {
      "cell_type": "code",
      "metadata": {
        "id": "F_6QszTkRwUb",
        "colab_type": "code",
        "outputId": "abc567d9-5858-4bd1-c90c-c3b5841f2c71",
        "colab": {
          "base_uri": "https://localhost:8080/",
          "height": 287
        }
      },
      "source": [
        "plt.scatter(x,y,color=\"red\") #observerd \n",
        "#for i in range(0,3):\n",
        "  #plt.scatter(x_tst,model(x_tst).sample())\n",
        "for i in range(0,5):\n",
        "  plt.scatter(x_tst,model(x_tst).mean(),color=\"black\")\n",
        "plt.scatter(x_tst,model(x_tst).mean()+2*model(x_tst).stddev(),color=\"blue\")\n",
        "plt.scatter(x_tst,model(x_tst).mean()-2*model(x_tst).stddev(),color=\"blue\")"
      ],
      "execution_count": 0,
      "outputs": [
        {
          "output_type": "execute_result",
          "data": {
            "text/plain": [
              "<matplotlib.collections.PathCollection at 0x7f549c127e10>"
            ]
          },
          "metadata": {
            "tags": []
          },
          "execution_count": 164
        },
        {
          "output_type": "display_data",
          "data": {
            "image/png": "[encoded data removed]",
            "text/plain": [
              "<Figure size 432x288 with 1 Axes>"
            ]
          },
          "metadata": {
            "tags": []
          }
        }
      ]
    },
    {
      "cell_type": "code",
      "metadata": {
        "id": "UTWf2TAdS3dW",
        "colab_type": "code",
        "outputId": "a303e152-4ffd-4756-e63e-6f353dd821aa",
        "colab": {
          "base_uri": "https://localhost:8080/",
          "height": 2635
        }
      },
      "source": [
        "model(x_tst).prob(5)"
      ],
      "execution_count": 0,
      "outputs": [
        {
          "output_type": "execute_result",
          "data": {
            "text/plain": [
              "<tf.Tensor: id=482737, shape=(150, 1), dtype=float32, numpy=\n",
              "array([[0.04425406],\n",
              "       [0.05308542],\n",
              "       [0.06296034],\n",
              "       [0.07387467],\n",
              "       [0.08580549],\n",
              "       [0.09871055],\n",
              "       [0.11252999],\n",
              "       [0.12718761],\n",
              "       [0.14259255],\n",
              "       [0.15864196],\n",
              "       [0.17522314],\n",
              "       [0.19221663],\n",
              "       [0.20949847],\n",
              "       [0.22694321],\n",
              "       [0.24442582],\n",
              "       [0.26182547],\n",
              "       [0.27902502],\n",
              "       [0.2959148 ],\n",
              "       [0.31239295],\n",
              "       [0.32836694],\n",
              "       [0.3437542 ],\n",
              "       [0.35848224],\n",
              "       [0.37248957],\n",
              "       [0.38572463],\n",
              "       [0.3981473 ],\n",
              "       [0.40972653],\n",
              "       [0.42044085],\n",
              "       [0.43027762],\n",
              "       [0.4392323 ],\n",
              "       [0.4473077 ],\n",
              "       [0.45451325],\n",
              "       [0.46086413],\n",
              "       [0.46638042],\n",
              "       [0.47108632],\n",
              "       [0.47501034],\n",
              "       [0.47818303],\n",
              "       [0.48063767],\n",
              "       [0.48240882],\n",
              "       [0.48353267],\n",
              "       [0.48404598],\n",
              "       [0.48398572],\n",
              "       [0.48338884],\n",
              "       [0.48229215],\n",
              "       [0.4807313 ],\n",
              "       [0.4787419 ],\n",
              "       [0.47635806],\n",
              "       [0.4736126 ],\n",
              "       [0.4705375 ],\n",
              "       [0.467163  ],\n",
              "       [0.46351802],\n",
              "       [0.4596302 ],\n",
              "       [0.45552552],\n",
              "       [0.4512285 ],\n",
              "       [0.44676217],\n",
              "       [0.44214833],\n",
              "       [0.43740705],\n",
              "       [0.43255728],\n",
              "       [0.42761642],\n",
              "       [0.42260087],\n",
              "       [0.41752547],\n",
              "       [0.41240427],\n",
              "       [0.40724987],\n",
              "       [0.4020739 ],\n",
              "       [0.396887  ],\n",
              "       [0.39169925],\n",
              "       [0.38651913],\n",
              "       [0.38135493],\n",
              "       [0.37621373],\n",
              "       [0.37110227],\n",
              "       [0.36602628],\n",
              "       [0.36099103],\n",
              "       [0.35600114],\n",
              "       [0.35106093],\n",
              "       [0.34617385],\n",
              "       [0.34134316],\n",
              "       [0.33657157],\n",
              "       [0.33186153],\n",
              "       [0.32721493],\n",
              "       [0.3226336 ],\n",
              "       [0.3181188 ],\n",
              "       [0.31367177],\n",
              "       [0.3092933 ],\n",
              "       [0.3049841 ],\n",
              "       [0.30074453],\n",
              "       [0.2965749 ],\n",
              "       [0.2924753 ],\n",
              "       [0.2884457 ],\n",
              "       [0.28448588],\n",
              "       [0.2805955 ],\n",
              "       [0.27677417],\n",
              "       [0.27302134],\n",
              "       [0.2693365 ],\n",
              "       [0.2657189 ],\n",
              "       [0.2621678 ],\n",
              "       [0.2586824 ],\n",
              "       [0.2552618 ],\n",
              "       [0.2519052 ],\n",
              "       [0.24861166],\n",
              "       [0.24538016],\n",
              "       [0.24220975],\n",
              "       [0.2390994 ],\n",
              "       [0.23604819],\n",
              "       [0.2330549 ],\n",
              "       [0.23011869],\n",
              "       [0.22723837],\n",
              "       [0.22441293],\n",
              "       [0.22164136],\n",
              "       [0.21892259],\n",
              "       [0.21625555],\n",
              "       [0.21363924],\n",
              "       [0.21107264],\n",
              "       [0.20855466],\n",
              "       [0.2060844 ],\n",
              "       [0.20366077],\n",
              "       [0.20128284],\n",
              "       [0.19894966],\n",
              "       [0.19666019],\n",
              "       [0.19441357],\n",
              "       [0.19220884],\n",
              "       [0.19004512],\n",
              "       [0.18792146],\n",
              "       [0.18583703],\n",
              "       [0.18379098],\n",
              "       [0.18178241],\n",
              "       [0.17981052],\n",
              "       [0.17787454],\n",
              "       [0.17597358],\n",
              "       [0.17410697],\n",
              "       [0.17227392],\n",
              "       [0.17047366],\n",
              "       [0.16870546],\n",
              "       [0.16696864],\n",
              "       [0.1652625 ],\n",
              "       [0.16358632],\n",
              "       [0.16193947],\n",
              "       [0.16032128],\n",
              "       [0.15873116],\n",
              "       [0.15716845],\n",
              "       [0.15563253],\n",
              "       [0.15412287],\n",
              "       [0.15263887],\n",
              "       [0.15117994],\n",
              "       [0.14974552],\n",
              "       [0.14833516],\n",
              "       [0.14694826],\n",
              "       [0.14558434],\n",
              "       [0.1442429 ],\n",
              "       [0.14292341],\n",
              "       [0.14162548],\n",
              "       [0.14034855]], dtype=float32)>"
            ]
          },
          "metadata": {
            "tags": []
          },
          "execution_count": 168
        }
      ]
    },
    {
      "cell_type": "code",
      "metadata": {
        "id": "yvTUtlOuS9ql",
        "colab_type": "code",
        "colab": {}
      },
      "source": [
        ""
      ],
      "execution_count": 0,
      "outputs": []
    },
    {
      "cell_type": "code",
      "metadata": {
        "id": "iEmGgx5vGRF8",
        "colab_type": "code",
        "colab": {}
      },
      "source": [
        ""
      ],
      "execution_count": 0,
      "outputs": []
    },
    {
      "cell_type": "code",
      "metadata": {
        "id": "r5afQ2k3GRJb",
        "colab_type": "code",
        "colab": {}
      },
      "source": [
        ""
      ],
      "execution_count": 0,
      "outputs": []
    }
  ]
}